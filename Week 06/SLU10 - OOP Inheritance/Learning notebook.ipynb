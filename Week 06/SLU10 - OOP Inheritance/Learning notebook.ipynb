{
 "cells": [
  {
   "cell_type": "markdown",
   "metadata": {},
   "source": [
    "# SLU10 | Object Oriented Programming - Inheritance\n",
    "***"
   ]
  },
  {
   "cell_type": "markdown",
   "metadata": {},
   "source": [
    "### Table of contents\n",
    "\n",
    "\n",
    "[PART 1 | First things first... What is inheritance?](#PART-1-|-First-things-first...-What-is-inheritance?)  \n",
    "&emsp;[1.1. Simple (Single) Inheritance](#1.1.-Simple-(Single)-Inheritance)  \n",
    "&emsp;&emsp;[1.1.1. Parent Classes](#1.1.1.-Parent-Classes)   \n",
    "&emsp;&emsp;[1.1.2. Child Classes](#1.1.2.-Child-Classes)  \n",
    "&emsp;&emsp;[1.1.3. Syntax and the `<object>` base class](#1.1.3.-Syntax-and-the-<object>-base-class)  \n",
    "&emsp;[1.2. Multiple Inheritance](#1.2.-Multiple-Inheritance)  \n",
    "&emsp;[1.3. Multilevel Inheritance](#1.3.-Multilevel-Inheritance)  \n",
    "&emsp;[1.4. Class relations](#1.4.-Class-relations)  \n",
    "\n",
    "[PART 2 | Second things second... Some useful functions!](#PART-2-|-Second-things-second...-Some-useful-functions!)  \n",
    "&emsp;[2.1. Overriding](#2.1.-Overriding)  \n",
    "&emsp;[2.2. The `super()` function:](#2.2.-The-super()-function:)  \n",
    "&emsp;[2.3. The `isinstance()` function](#2.3.-The-isinstance()-function)  \n",
    "\n",
    "[PART 3 | Last but not least... Multiple and Multilevel Inheritance (again)](#PART-3-|-Last-but-not-least...-Multiple-and-Multilevel-Inheritance-(again))  \n",
    "&emsp;[3.1. Structure and relations](#3.1.-Structure-and-relations)  \n",
    "&emsp;[3.2. The super() law & *method resolution* order](#3.2.-The-super()-law-&-method-resolution-order)  \n",
    "&emsp;&emsp;[3.2.1. Behavior in multiple inheritance](#3.2.1.-Behavior-in-multiple-inheritance)  \n",
    "&emsp;&emsp;[3.2.2. Behavior in multilevel inheritance](#3.2.2.-Behavior-in-multilevel-inheritance)  "
   ]
  },
  {
   "cell_type": "markdown",
   "metadata": {},
   "source": [
    "Welcome to your **6th** week! 🥳🥳🥳  \n",
    "Congratulations on your work so far, we know it's not easy but in the end, when you look back, you'll know it was worth it.\n",
    "<br><br>\n",
    "The topics for this week are the following:\n",
    "+ Parent and Child classes;\n",
    "+ Simple (Single) Inheritance;\n",
    "+ Multiple Inheritance;\n",
    "+ Multilevel Inheritance;\n",
    "+ Overriding;\n",
    "+ The `super()` function;\n",
    "+ The `isinstance()` function ⚠️ (and the difference with `type()` function);\n",
    "\n",
    "Soooo, let's do it! 💪💪🏻💪🏼💪🏽💪🏾💪🏿"
   ]
  },
  {
   "cell_type": "markdown",
   "metadata": {},
   "source": [
    "<img src=\"./assets/linux_servers.jpg\" width=\"500\"/>"
   ]
  },
  {
   "cell_type": "markdown",
   "metadata": {},
   "source": [
    "## PART 1 | First things first... What is inheritance?"
   ]
  },
  {
   "cell_type": "markdown",
   "metadata": {},
   "source": [
    "Generally speaking, **inheritance** is the mechanism of deriving new classes from existing ones. This way we get a hierarchy of classes.\n",
    "<br><br>\n",
    "If we think in terms of biology, we can think of a child inheriting certain traits from their parents. For instance, a child can inherit a parent's height, eye color or even share their parent's last name.\n",
    "<br><br>\n",
    "Inheritance allows programmers to create classes that are built upon existing classes, and this makes it possible that a class created through inheritance inherits the attributes and methods of the parent class, making possible the reuse of its code (**a.k.a reusability**)"
   ]
  },
  {
   "cell_type": "markdown",
   "metadata": {},
   "source": [
    "***"
   ]
  },
  {
   "cell_type": "markdown",
   "metadata": {},
   "source": [
    "## 1.1. Simple (Single) Inheritance"
   ]
  },
  {
   "cell_type": "markdown",
   "metadata": {},
   "source": [
    "Here, the main objective is **Reusability**\n",
    "<br><br>\n",
    "Object-oriented programming creates **reusable patterns of code** to curtail redundancy in development projects. And one way that OOP achieves recyclable code is through **inheritance**, simply when one subclass can leverage code from another base class.\n",
    "<br><br>\n",
    "This way we can jump into these new concepts of:"
   ]
  },
  {
   "cell_type": "markdown",
   "metadata": {},
   "source": [
    "### 1.1.1. Parent Classes"
   ]
  },
  {
   "cell_type": "markdown",
   "metadata": {},
   "source": [
    "Parent or **base classes** create a pattern out of which child or **subclasses** can be based on, they allow us to create child classes through inheritance without having to write the same code everytime.\n",
    "<br><br>\n",
    "Important to stress that **any class can be made into a parent class**, so they are each fully functional classes in their own right, not just templates.\n",
    "<br><br>\n",
    "Let us start creating some **Robots**!\n",
    "<br><br>\n",
    "As you have seen before, start by calling the `__init__()` constructor method, which will be populated with `first_name` and `last_name` class variables."
   ]
  },
  {
   "cell_type": "code",
   "execution_count": 1,
   "metadata": {},
   "outputs": [],
   "source": [
    "# Start our Robot Class\n",
    "\n",
    "class Robot:\n",
    "    \n",
    "    def __init__(self, last_name):\n",
    "        self.first_name = \"Robot\"\n",
    "        self.last_name = last_name"
   ]
  },
  {
   "cell_type": "markdown",
   "metadata": {},
   "source": [
    "NOTE: It's not mandatory for a class to have an `__init__` method because its absence doesn't make the class abstract. Such a class is still valid and you'll still be able to instantiate it. However, in that case you'll not be able to initialize the instance's attributes automatically because towards an instantiation Python will just call a default constructor that doesn't have this ability. So, the result would be an instance of a class without attributes (which you would need to set up manually if you needed... something that doesn’t make much sense considering the available “tools”). There may be specific situations where you would define a class without the `__init__` method, but they are the exception."
   ]
  },
  {
   "cell_type": "markdown",
   "metadata": {},
   "source": [
    "As we know that every robot we will create has a first name **_Robot_**, because we have initialized our `first_name` variable with the string `\"Robot\"`.\n",
    "<br><br>\n",
    "Creating a base class follows the same methodology seen in previous SLU's, except we are now thinking about what methods the subclasses will be able to make use of, once we create those.\n",
    "<br><br>\n",
    "To finish our Parent Class let's add some more methods, for instance a `greeting` and `identify` method."
   ]
  },
  {
   "cell_type": "code",
   "execution_count": 2,
   "metadata": {},
   "outputs": [],
   "source": [
    "# Re-writing our Robot class\n",
    "\n",
    "class Robot:\n",
    "    \n",
    "    def __init__(self, last_name, robot_type=\"generalist\"):\n",
    "        self.first_name = \"Robot\"\n",
    "        self.last_name = last_name        \n",
    "        \n",
    "        # Adding a robot_type varible, so it'll be possible to identify them after\n",
    "        self.robot_type = robot_type\n",
    "        \n",
    "        \n",
    "    def greeting(self):\n",
    "        print(\"Hi Human,\")\n",
    "        print(\"My name is \" + self.first_name + \" \" + self.last_name)\n",
    "        print(\"Nice to meet you. :)\")\n",
    "        \n",
    "        \n",
    "    def identify(self):\n",
    "        print(\"\")\n",
    "        print(\"I am a \" + self.robot_type + \" Robot!\")\n",
    "        print(\"How can I help you?\")"
   ]
  },
  {
   "cell_type": "markdown",
   "metadata": {},
   "source": [
    "After constructing our `Robot` class we can now create a robot called **Tom**:"
   ]
  },
  {
   "cell_type": "markdown",
   "metadata": {},
   "source": [
    "#### Inherited `__init()__` method"
   ]
  },
  {
   "cell_type": "code",
   "execution_count": 3,
   "metadata": {},
   "outputs": [
    {
     "name": "stdout",
     "output_type": "stream",
     "text": [
      "Hi Human,\n",
      "My name is Robot Tom\n",
      "Nice to meet you. :)\n",
      "\n",
      "I am a generalist Robot!\n",
      "How can I help you?\n"
     ]
    }
   ],
   "source": [
    "tom = Robot(last_name=\"Tom\")\n",
    "\n",
    "tom.greeting()\n",
    "tom.identify()"
   ]
  },
  {
   "cell_type": "markdown",
   "metadata": {},
   "source": [
    "### 1.1.2. Child Classes"
   ]
  },
  {
   "cell_type": "markdown",
   "metadata": {},
   "source": [
    "Child or **subclasses** are classes that will inherit from the parent class. That means that each child class will be able to make use of the methods and variables of the parent class.\n",
    "<br><br>\n",
    "The first line of a child class looks a little different than non-child classes as you must **pass** the parent class into the child class as a parameter."
   ]
  },
  {
   "cell_type": "code",
   "execution_count": 4,
   "metadata": {},
   "outputs": [],
   "source": [
    "# Start our Docbot Class\n",
    "\n",
    "class Docbot(Robot):\n",
    "    pass"
   ]
  },
  {
   "cell_type": "markdown",
   "metadata": {},
   "source": [
    "<img src=\"./assets/oop_diagram_new_1.png\" width=\"500\"/>"
   ]
  },
  {
   "cell_type": "code",
   "execution_count": 5,
   "metadata": {},
   "outputs": [
    {
     "name": "stdout",
     "output_type": "stream",
     "text": [
      "Hi Human,\n",
      "My name is Robot Jerry\n",
      "Nice to meet you. :)\n",
      "\n",
      "I am a Medical Robot!\n",
      "How can I help you?\n"
     ]
    }
   ],
   "source": [
    "jerry = Docbot(last_name=\"Jerry\", robot_type=\"Medical\")\n",
    "\n",
    "jerry.greeting()\n",
    "jerry.identify()"
   ]
  },
  {
   "cell_type": "markdown",
   "metadata": {},
   "source": [
    "<img src=\"./assets/inheritance_behaviors.jpg\" width=\"500\"/>"
   ]
  },
  {
   "cell_type": "markdown",
   "metadata": {},
   "source": [
    "There is no need for adding a new `__init__()` method as inheritance takes care of importing every parents method and traits into the new child class!\n",
    "<br><br>\n",
    "Let's take a look:"
   ]
  },
  {
   "cell_type": "code",
   "execution_count": 6,
   "metadata": {},
   "outputs": [
    {
     "data": {
      "text/plain": [
       "'Robot Jerry'"
      ]
     },
     "execution_count": 6,
     "metadata": {},
     "output_type": "execute_result"
    }
   ],
   "source": [
    "jerry.first_name + ' ' + jerry.last_name"
   ]
  },
  {
   "cell_type": "markdown",
   "metadata": {},
   "source": [
    "### 1.1.3. Syntax and the `<object>` base class"
   ]
  },
  {
   "cell_type": "markdown",
   "metadata": {},
   "source": [
    "As you may noticed, in SLU09 you defined classes without the need for parenthesis in the class definition line. Now, as you just saw, when inheritance is required, the parent class is passed to the sub-class as a parameter between parentheses in the sub-class definition line. (This is actually the same syntax used in parameter function definition which makes sense since it is the same abstract action, only this time inheritance exclusively related). This fact may lead to the conclusion that SLU09’s classes don’t inherit “anything from anywhere” however this is not correct.\n",
    "\n",
    "This is the time to tell you that the expressions used to define classes in SLU09 are actually a Python 3.x simplification. Without getting too deep into version history, just keep in mind that in Python 3 the expression:\n",
    "\n",
    "`class Robot:`\n",
    "\n",
    "is actually equivalent to\n",
    "\n",
    "`class Robot():`\n",
    "\n",
    "and to\n",
    "\n",
    "`class Robot(object):`\n",
    "\n",
    ", which by the way is the expression that is formally executed! 💡\n",
    "\n",
    "So, the classes that you defined in SLU09 actually inherit from a default **`<object>`** class, which is called the “**base class**”. It just doesn’t need to be explicit. 😉\n",
    "\n",
    "In Python 2.x (from 2.2 onwards) the previous equivalence sequence is not true, because there are two “styles” of classes:\n",
    "\n",
    "- A \"first style” that doesn’t have `<object>` as its base class (defined with `class Robot:`)\n",
    "- A \"second style” that inherits from the `<object>` base class (defined with `class Robot(object):`)\n",
    "\n",
    "There are significant differences at implementation and operational levels between this two \"styles\" of classes. As the community understood that `<object>` based classes were preferred \"99.99%\" of the time over \"non `<object>` based classes\" (easy speculation), the \"second style\" became the class standard and the language was simplified allowing the creation of classes that inherit from the `<object>` base class with the most simple expression possible, which is basically the reason you didn’t need to use parenthesis in SLU09.\n",
    "\n",
    "There are ways to prove this `<object>` base class existence, but we will leave it to the end of this SLU so it can be fully integrated in the learning workflow."
   ]
  },
  {
   "cell_type": "markdown",
   "metadata": {},
   "source": [
    "####  New subclass methods"
   ]
  },
  {
   "cell_type": "markdown",
   "metadata": {},
   "source": [
    "It's always possible to add new methods to the new child class. An example of adding it would be the following:"
   ]
  },
  {
   "cell_type": "code",
   "execution_count": 7,
   "metadata": {},
   "outputs": [],
   "source": [
    "# Re-writing our Docbot class\n",
    "\n",
    "class Docbot(Robot):\n",
    "    \n",
    "    def health_check(self):\n",
    "        print(\"You're healthy as a horse! Keep on doing the prep course :)\")"
   ]
  },
  {
   "cell_type": "markdown",
   "metadata": {},
   "source": [
    "<img src=\"./assets/oop_diagram_new_2.png\" width=\"500\"/>"
   ]
  },
  {
   "cell_type": "code",
   "execution_count": 8,
   "metadata": {},
   "outputs": [
    {
     "name": "stdout",
     "output_type": "stream",
     "text": [
      "You're healthy as a horse! Keep on doing the prep course :)\n"
     ]
    }
   ],
   "source": [
    "jerry = Docbot(last_name=\"Jerry\", robot_type=\"Medical\")\n",
    "\n",
    "jerry.health_check()"
   ]
  },
  {
   "cell_type": "markdown",
   "metadata": {},
   "source": [
    "#### Another example\n",
    "\n",
    "NOTE: Don't mind the definition of n as a global variable. This is a particular case in which it was necessary in order to make an upcoming code sample to work"
   ]
  },
  {
   "cell_type": "code",
   "execution_count": 9,
   "metadata": {},
   "outputs": [],
   "source": [
    "import random\n",
    "\n",
    "n = random.randint(1, 100)\n",
    "\n",
    "# Start new Teachbot Class\n",
    "\n",
    "class Teachbot(Robot):\n",
    "    \n",
    "    def grade_exam(self):\n",
    "        if (n >= 50) & (n < 90):\n",
    "            print(\"Let's check your grade: %s%% | Congratulations, you passed!\" % n)\n",
    "        elif n >= 90:\n",
    "            print(\"Let's check your grade: %s%% | Top of the class!\" % n)\n",
    "        else:\n",
    "            print(\"Let's check your grade: %s%% | Unfortunately, you'll have to take the exam again.\" % n)"
   ]
  },
  {
   "cell_type": "markdown",
   "metadata": {},
   "source": [
    "<img src=\"./assets/oop_diagram_new_3.png\" width=\"700\"/>"
   ]
  },
  {
   "cell_type": "code",
   "execution_count": 10,
   "metadata": {},
   "outputs": [
    {
     "name": "stdout",
     "output_type": "stream",
     "text": [
      "Hi Human,\n",
      "My name is Robot Nibbles\n",
      "Nice to meet you. :)\n",
      "\n",
      "I am a Educational Robot!\n",
      "How can I help you?\n",
      "Let's check your grade: 97% | Top of the class!\n"
     ]
    }
   ],
   "source": [
    "nibbles = Teachbot(last_name=\"Nibbles\", robot_type=\"Educational\")\n",
    "\n",
    "nibbles.greeting()\n",
    "nibbles.identify()\n",
    "\n",
    "nibbles.grade_exam()"
   ]
  },
  {
   "cell_type": "markdown",
   "metadata": {},
   "source": [
    "## 1.2. Multiple Inheritance"
   ]
  },
  {
   "cell_type": "markdown",
   "metadata": {},
   "source": [
    "This type of inheritance is when a class can inherit attributes and methods from **more than one parent class**. This way redundancy is reduced, although complexity, as well as ambiguity, can increase a certain amount.\n",
    "<br><br>\n",
    "This is a very powerful property of inheritance and comes very handy when your projects start to scale but remains of **great importance to think and plan before your code**. Let's go deeper..."
   ]
  },
  {
   "cell_type": "code",
   "execution_count": 11,
   "metadata": {},
   "outputs": [],
   "source": [
    "import datetime as dt\n",
    "\n",
    "# One parent class\n",
    "class Clock():\n",
    "    def check_time(self):\n",
    "        # current date and time\n",
    "        now = dt.datetime.now()\n",
    "        \n",
    "        time = now.strftime(\"%H:%M:%S\")\n",
    "        print(\"time:\", time)\n",
    "       \n",
    "    \n",
    "# Another parent class       \n",
    "class Calendar():\n",
    "    def check_day(self):\n",
    "        # current date and time\n",
    "        now = dt.datetime.now()\n",
    "        \n",
    "        day = now.strftime(\"%m/%d/%Y\")\n",
    "        print(\"day:\", day)\n",
    "\n",
    "        \n",
    "# The child class        \n",
    "class Schedule(Clock, Calendar):\n",
    "    def check_event(self):\n",
    "        super().check_time()\n",
    "        super().check_day()\n",
    "        print(\"event: It is your study session!\")\n",
    "        \n",
    "        \n",
    "# We'll learning about the `super()` function soon..."
   ]
  },
  {
   "cell_type": "markdown",
   "metadata": {},
   "source": [
    "<img src=\"./assets/oop_diagram_new_4.png\" width=\"700\"/>"
   ]
  },
  {
   "cell_type": "code",
   "execution_count": 12,
   "metadata": {},
   "outputs": [],
   "source": [
    "my_agenda = Schedule()"
   ]
  },
  {
   "cell_type": "code",
   "execution_count": 13,
   "metadata": {},
   "outputs": [
    {
     "name": "stdout",
     "output_type": "stream",
     "text": [
      "What day is it?\n",
      "day: 05/05/2023\n"
     ]
    }
   ],
   "source": [
    "print(\"What day is it?\")\n",
    "my_agenda.check_day()"
   ]
  },
  {
   "cell_type": "code",
   "execution_count": 14,
   "metadata": {},
   "outputs": [
    {
     "name": "stdout",
     "output_type": "stream",
     "text": [
      "What time is it?\n",
      "time: 18:51:27\n"
     ]
    }
   ],
   "source": [
    "print(\"What time is it?\")\n",
    "my_agenda.check_time()"
   ]
  },
  {
   "cell_type": "code",
   "execution_count": 15,
   "metadata": {},
   "outputs": [
    {
     "name": "stdout",
     "output_type": "stream",
     "text": [
      "time: 18:51:27\n",
      "day: 05/05/2023\n",
      "event: It is your study session!\n"
     ]
    }
   ],
   "source": [
    "my_agenda.check_event()"
   ]
  },
  {
   "cell_type": "markdown",
   "metadata": {},
   "source": [
    "## 1.3. Multilevel Inheritance"
   ]
  },
  {
   "cell_type": "markdown",
   "metadata": {},
   "source": [
    "We also have another example of inheritance, when you have a **GrandParent** class, **Parent** class and **Child** class (a little diferent from multiple inheritance), in other words, we have more than one level of inheritance.\n",
    "<br><br>\n",
    "The lower levels **can always access** the method created in the upper level classes.\n",
    "<br><br>\n",
    "One more example!"
   ]
  },
  {
   "cell_type": "code",
   "execution_count": 16,
   "metadata": {},
   "outputs": [],
   "source": [
    "# Our upper level (GrandParent) class\n",
    "class Continent:        \n",
    "    def main_land(self):\n",
    "        print(\"Europe\")\n",
    " \n",
    " \n",
    "# Country class inherited from Continent class as our mid level (Parent) class\n",
    "class Country(Continent):\n",
    "    def home_land(self):\n",
    "        print(\"Portugal\")\n",
    " \n",
    " \n",
    "# Capital class inherited from Country class as our lower level (Child) class\n",
    "class Capital(Country):\n",
    "    def metropolis(self):        \n",
    "        print(\"Lisbon\")\n",
    "        self.home_land()"
   ]
  },
  {
   "cell_type": "markdown",
   "metadata": {},
   "source": [
    "<img src=\"./assets/oop_diagram_new_5.png\" width=\"500\"/>"
   ]
  },
  {
   "cell_type": "code",
   "execution_count": 17,
   "metadata": {},
   "outputs": [
    {
     "name": "stdout",
     "output_type": "stream",
     "text": [
      "Lisbon\n",
      "Portugal\n",
      "Europe\n"
     ]
    }
   ],
   "source": [
    "our_land = Capital()\n",
    "\n",
    "our_land.metropolis()\n",
    "our_land.main_land()"
   ]
  },
  {
   "cell_type": "markdown",
   "metadata": {},
   "source": [
    "## 1.4. Class relations"
   ]
  },
  {
   "cell_type": "markdown",
   "metadata": {},
   "source": [
    "Remember our **Robot Tom**?\n",
    "Now let's see what happens if we call a **child class method**, from the **parent class object**:"
   ]
  },
  {
   "cell_type": "code",
   "execution_count": 18,
   "metadata": {},
   "outputs": [
    {
     "ename": "AttributeError",
     "evalue": "'Robot' object has no attribute 'grade_exam'",
     "output_type": "error",
     "traceback": [
      "\u001b[0;31m---------------------------------------------------------------------------\u001b[0m",
      "\u001b[0;31mAttributeError\u001b[0m                            Traceback (most recent call last)",
      "Input \u001b[0;32mIn [18]\u001b[0m, in \u001b[0;36m<cell line: 1>\u001b[0;34m()\u001b[0m\n\u001b[0;32m----> 1\u001b[0m \u001b[43mtom\u001b[49m\u001b[38;5;241;43m.\u001b[39;49m\u001b[43mgrade_exam\u001b[49m()\n",
      "\u001b[0;31mAttributeError\u001b[0m: 'Robot' object has no attribute 'grade_exam'"
     ]
    }
   ],
   "source": [
    "tom.grade_exam()"
   ]
  },
  {
   "cell_type": "markdown",
   "metadata": {},
   "source": [
    "`'Robot' object has no attribute 'grade_exam'`, rigth?"
   ]
  },
  {
   "cell_type": "markdown",
   "metadata": {},
   "source": [
    "And what about calling a method from the **other child class**?"
   ]
  },
  {
   "cell_type": "code",
   "execution_count": 19,
   "metadata": {},
   "outputs": [
    {
     "ename": "AttributeError",
     "evalue": "'Robot' object has no attribute 'health_check'",
     "output_type": "error",
     "traceback": [
      "\u001b[0;31m---------------------------------------------------------------------------\u001b[0m",
      "\u001b[0;31mAttributeError\u001b[0m                            Traceback (most recent call last)",
      "Input \u001b[0;32mIn [19]\u001b[0m, in \u001b[0;36m<cell line: 1>\u001b[0;34m()\u001b[0m\n\u001b[0;32m----> 1\u001b[0m \u001b[43mtom\u001b[49m\u001b[38;5;241;43m.\u001b[39;49m\u001b[43mhealth_check\u001b[49m()\n",
      "\u001b[0;31mAttributeError\u001b[0m: 'Robot' object has no attribute 'health_check'"
     ]
    }
   ],
   "source": [
    "tom.health_check()"
   ]
  },
  {
   "cell_type": "markdown",
   "metadata": {},
   "source": [
    "`'Robot' object has no attribute 'health_check'`, of course..."
   ]
  },
  {
   "cell_type": "markdown",
   "metadata": {},
   "source": [
    "And if we try this? Let's see..."
   ]
  },
  {
   "cell_type": "code",
   "execution_count": 20,
   "metadata": {},
   "outputs": [
    {
     "ename": "AttributeError",
     "evalue": "'Teachbot' object has no attribute 'health_check'",
     "output_type": "error",
     "traceback": [
      "\u001b[0;31m---------------------------------------------------------------------------\u001b[0m",
      "\u001b[0;31mAttributeError\u001b[0m                            Traceback (most recent call last)",
      "Input \u001b[0;32mIn [20]\u001b[0m, in \u001b[0;36m<cell line: 1>\u001b[0;34m()\u001b[0m\n\u001b[0;32m----> 1\u001b[0m \u001b[43mnibbles\u001b[49m\u001b[38;5;241;43m.\u001b[39;49m\u001b[43mhealth_check\u001b[49m()\n",
      "\u001b[0;31mAttributeError\u001b[0m: 'Teachbot' object has no attribute 'health_check'"
     ]
    }
   ],
   "source": [
    "nibbles.health_check()"
   ]
  },
  {
   "cell_type": "markdown",
   "metadata": {},
   "source": [
    "`'Teachbot' object has no attribute 'health_check'`, sure?"
   ]
  },
  {
   "cell_type": "markdown",
   "metadata": {},
   "source": [
    "Can we do more one last try?"
   ]
  },
  {
   "cell_type": "code",
   "execution_count": 21,
   "metadata": {},
   "outputs": [
    {
     "ename": "AttributeError",
     "evalue": "'Docbot' object has no attribute 'grade_exam'",
     "output_type": "error",
     "traceback": [
      "\u001b[0;31m---------------------------------------------------------------------------\u001b[0m",
      "\u001b[0;31mAttributeError\u001b[0m                            Traceback (most recent call last)",
      "Input \u001b[0;32mIn [21]\u001b[0m, in \u001b[0;36m<cell line: 1>\u001b[0;34m()\u001b[0m\n\u001b[0;32m----> 1\u001b[0m \u001b[43mjerry\u001b[49m\u001b[38;5;241;43m.\u001b[39;49m\u001b[43mgrade_exam\u001b[49m()\n",
      "\u001b[0;31mAttributeError\u001b[0m: 'Docbot' object has no attribute 'grade_exam'"
     ]
    }
   ],
   "source": [
    "jerry.grade_exam()"
   ]
  },
  {
   "cell_type": "markdown",
   "metadata": {},
   "source": [
    "So... `'Docbot' object has no attribute 'grade_exam'`, see?"
   ]
  },
  {
   "cell_type": "markdown",
   "metadata": {},
   "source": [
    "As you can see, these methods calls are **not possible**. \n",
    "\n",
    "It can be rather logical if you, again, think in terms of biology.\n",
    "<br>**Parents can't inherit their childs traits!** So our `Robot` **Tom** has neither `grade_exam()` or `health_check()` methods.\n",
    "\n",
    "Also, children beside inheriting parents traits **can have their own, unique, characteristics**. \n",
    "<br>In this case **Nibbles** doesn't have a `health_check()` method and **Jerry** doesn't have the `grade_exam()` method.\n"
   ]
  },
  {
   "cell_type": "markdown",
   "metadata": {},
   "source": [
    "So everything we did until now can be translated in the following diagram:\n",
    "\n",
    "<img src=\"./assets/oop_diagram_new_3.png\" width=\"700\"/>"
   ]
  },
  {
   "cell_type": "markdown",
   "metadata": {},
   "source": [
    "***"
   ]
  },
  {
   "cell_type": "markdown",
   "metadata": {},
   "source": [
    "## PART 2 | Second things second... Some useful functions!"
   ]
  },
  {
   "cell_type": "markdown",
   "metadata": {},
   "source": [
    "To help us with all these stuffs about **parent** or `base` classes\n",
    "<br>⚠️🚨 **spoiler alert: _we can also call it_ `superclass`** 🚨 ⚠️\n",
    "\n",
    "and **child** or `subclasses`, python has some built-in features like:\n",
    "\n",
    "+ `super()` function;\n",
    "+ `isinstance()` function;\n",
    "\n",
    "but, let's start talkig about an amazing methodology called..."
   ]
  },
  {
   "cell_type": "markdown",
   "metadata": {},
   "source": [
    "## 2.1. Overriding"
   ]
  },
  {
   "cell_type": "markdown",
   "metadata": {},
   "source": [
    "It's the property of a class to **change the implementation of a method provided by one** of its base\\parent\\super classes.\n",
    "\n",
    "This programming methodology allow us to use the methods from the parent class, **avoiding duplicated code**, and at the same time **enhance or customize part of it**. Method overriding is thus the sweet part of the inheritance mechanism.\n",
    "\n",
    "Let's start with a simple example:"
   ]
  },
  {
   "cell_type": "code",
   "execution_count": 22,
   "metadata": {},
   "outputs": [],
   "source": [
    "# Our superclass\n",
    "class Darth():\n",
    "    def __init__(self):\n",
    "        self.d_age = 45\n",
    "        \n",
    "    def get_age(self):\n",
    "        print('This is Vader, Darth Vader.')\n",
    "        print('Darth Vader is:', self.d_age)\n",
    "        \n",
    "        \n",
    "        \n",
    "# Our subclass     \n",
    "class Luke(Darth):\n",
    "    def get_age(self):\n",
    "        print('Luke Skywalker is:', (self.d_age - 22))\n",
    "        "
   ]
  },
  {
   "cell_type": "markdown",
   "metadata": {},
   "source": [
    "<img src=\"./assets/oop_diagram_new_6.png\" width=\"500\"/>"
   ]
  },
  {
   "cell_type": "code",
   "execution_count": 23,
   "metadata": {},
   "outputs": [
    {
     "name": "stdout",
     "output_type": "stream",
     "text": [
      "This is Vader, Darth Vader.\n",
      "Darth Vader is: 45\n",
      "---------\n",
      "Luke Skywalker is: 23\n"
     ]
    }
   ],
   "source": [
    "d = Darth()\n",
    "d.get_age()\n",
    "\n",
    "print('---------')\n",
    "\n",
    "l = Luke()\n",
    "l.get_age()"
   ]
  },
  {
   "cell_type": "markdown",
   "metadata": {},
   "source": [
    "By simply defining a method in the child class with **the same name as the method in the parent class** we were able to **override it. Completely!** \n",
    "\n",
    "And that part is indeed important as sometimes you don't want to completely override the original method but, instead, want to **extend it or develop particular things needed for your child class**."
   ]
  },
  {
   "cell_type": "markdown",
   "metadata": {},
   "source": [
    "### Extending your existing method"
   ]
  },
  {
   "cell_type": "markdown",
   "metadata": {},
   "source": [
    "For the next example, consider you have `Logger` as your parent class, as it represents a kind of text printing device, with a basic `log()` method that just prints your messages:"
   ]
  },
  {
   "cell_type": "code",
   "execution_count": 24,
   "metadata": {},
   "outputs": [
    {
     "name": "stdout",
     "output_type": "stream",
     "text": [
      "Hello World! :)\n"
     ]
    }
   ],
   "source": [
    "# Our base class\n",
    "class Logger():\n",
    "    def log(self, message):\n",
    "        print(message)\n",
    "        \n",
    "our_logger = Logger()\n",
    "our_logger.log(message=\"Hello World! :)\")"
   ]
  },
  {
   "cell_type": "markdown",
   "metadata": {},
   "source": [
    "After this small piece of messaging device turns out we need a more enhanced device! The objective is to timestamp our message, before printing it, so we created the `TimestampLogger`.\n",
    "\n",
    "Let's just create a child class for the new device, defining the same `log()` method of our original class but now append the timestamp of the message as a prefix."
   ]
  },
  {
   "cell_type": "code",
   "execution_count": 25,
   "metadata": {},
   "outputs": [],
   "source": [
    "import datetime as dt\n",
    "\n",
    "# Our (parent) superclass\n",
    "class Logger():\n",
    "    def log(self, message):\n",
    "        print(message)\n",
    "\n",
    "        \n",
    "# Our (child) subclass        \n",
    "class TimestampLogger(Logger):\n",
    "    def log(self, message):\n",
    "        message = \"{ts} {msg}\".format(ts=dt.datetime.now().isoformat('|', 'seconds'),\n",
    "                                      msg=message)"
   ]
  },
  {
   "cell_type": "code",
   "execution_count": 26,
   "metadata": {},
   "outputs": [],
   "source": [
    "our_time_stamper_logger = TimestampLogger()\n",
    "our_time_stamper_logger.log(message = 'Hello World!')"
   ]
  },
  {
   "cell_type": "markdown",
   "metadata": {},
   "source": [
    "At this stage creating an object using the child class will **not return anything** as the new `log()` method **completely overrides** the same method of the parent class.\n",
    "\n",
    "Instead, we need to call the **parent** `log` method from the **child** `log` method:"
   ]
  },
  {
   "cell_type": "code",
   "execution_count": 27,
   "metadata": {},
   "outputs": [],
   "source": [
    "import datetime as dt\n",
    "\n",
    "\n",
    "# Our superclass\n",
    "class Logger():\n",
    "    def log(self, message):\n",
    "        print(message)\n",
    "\n",
    "        \n",
    "# Re-writing our subclass           \n",
    "class TimestampLogger(Logger):\n",
    "    def log(self, message):\n",
    "        message = \"{ts} {msg}\".format(ts=dt.datetime.now().isoformat('|', 'seconds'),\n",
    "                                      msg=message)\n",
    "        Logger.log(self, message)"
   ]
  },
  {
   "cell_type": "code",
   "execution_count": 28,
   "metadata": {},
   "outputs": [
    {
     "name": "stdout",
     "output_type": "stream",
     "text": [
      "2023-05-05|18:52:05 Hello World!\n"
     ]
    }
   ],
   "source": [
    "our_time_stamper_logger = TimestampLogger()\n",
    "our_time_stamper_logger.log(message = 'Hello World!')"
   ]
  },
  {
   "cell_type": "markdown",
   "metadata": {},
   "source": [
    "## 2.2. The `super()` function:"
   ]
  },
  {
   "cell_type": "markdown",
   "metadata": {},
   "source": [
    "This awesome function is a built-in feature that, alone, returns a temporary object of the parent class that then allows you to call that parent class's methods.\n",
    "\n",
    "The `super()` function makes class inheritance more manageable and extensible. \n",
    "<br>The function returns a temporary object that **allows reference to a parent class by the keyword** super.\n",
    "\n",
    "The `super()` function has two major use cases:\n",
    "\n",
    "+ To avoid the usage of the super (parent) class explicitly.\n",
    "+ To enable multiple inheritances (we will address this topic later)\n",
    "\n",
    "<img src=\"./assets/super_function.svg\" width=\"500\"/>\n",
    "\n",
    "\n",
    "💡 **Regarding our example it is always a better practice to call the `super().log(self, message)` instead of the `Logger.log(self, message)`** 💡\n",
    "\n",
    "So, let's re-write this..."
   ]
  },
  {
   "cell_type": "code",
   "execution_count": 29,
   "metadata": {},
   "outputs": [],
   "source": [
    "import datetime as dt\n",
    "\n",
    "# Re-writing our subclass       \n",
    "class TimestampLogger(Logger):\n",
    "    def log(self, message):\n",
    "        message = \"{ts} {msg}\".format(ts=dt.datetime.now().isoformat('|', 'seconds'),\n",
    "                                      msg=message)\n",
    "        super().log(message)"
   ]
  },
  {
   "cell_type": "code",
   "execution_count": 30,
   "metadata": {},
   "outputs": [
    {
     "name": "stdout",
     "output_type": "stream",
     "text": [
      "Hello World!\n",
      "---------\n",
      "2023-05-05|18:52:05 Hello World!\n"
     ]
    }
   ],
   "source": [
    "my_base_obj = Logger()\n",
    "my_base_obj.log(message = 'Hello World!')\n",
    "\n",
    "print('---------')\n",
    "\n",
    "my_new_obj = TimestampLogger()\n",
    "my_new_obj.log(message = 'Hello World!')"
   ]
  },
  {
   "cell_type": "markdown",
   "metadata": {},
   "source": [
    "Although at this time it looks like the two previous examples were exactly the same, the `super()` function has much more to it, specially when we get into **Multiple Inheritance**."
   ]
  },
  {
   "cell_type": "markdown",
   "metadata": {},
   "source": [
    "### Extending base `__init__()` method with `super()`"
   ]
  },
  {
   "cell_type": "markdown",
   "metadata": {},
   "source": [
    "Python subclasses don't inherit their \"superclass(es)\" (parent(s)) `__init__` method(s) automatically. So, if you need them, you'll need to explicitly get them. Luckily, you can now use what you've just learned about the `super()` method not only to get the superclass(es) `__init__` method(s) but also to extend it!\n",
    "\n",
    "Take a look at this sample code:"
   ]
  },
  {
   "cell_type": "code",
   "execution_count": 31,
   "metadata": {},
   "outputs": [],
   "source": [
    "# Our superclass\n",
    "class Logger():\n",
    "    def __init__(self):\n",
    "        self.logger_brand = \"DATAQ\"\n",
    "        self.logger_year = 2018\n",
    "    \n",
    "    def log(self, message):\n",
    "        print(message)\n",
    "        \n",
    "        \n",
    "# Our subclass        \n",
    "class TimestampLogger(Logger):\n",
    "    def __init__(self):\n",
    "        super().__init__()\n",
    "        self.logger_year = 2020\n",
    "        self.logger_timezone = \"Western European Summer Time (GMT+1)\"\n",
    "    \n",
    "    def log(self, message):\n",
    "        message = \"{ts} {msg}\".format(ts=datetime.datetime.now().isoformat('|', 'seconds'),\n",
    "                                      msg=message)\n",
    "        super().log(message)  "
   ]
  },
  {
   "cell_type": "code",
   "execution_count": 32,
   "metadata": {},
   "outputs": [
    {
     "name": "stdout",
     "output_type": "stream",
     "text": [
      "Device brand: DATAQ\n",
      "Device year: 2020\n",
      "Device default time zone: Western European Summer Time (GMT+1)\n"
     ]
    }
   ],
   "source": [
    "my_parent_obj = Logger()\n",
    "my_child_obj = TimestampLogger()\n",
    "\n",
    "print(\"Device brand:\", my_child_obj.logger_brand)\n",
    "print(\"Device year:\", my_child_obj.logger_year)\n",
    "print(\"Device default time zone:\", my_child_obj.logger_timezone)"
   ]
  },
  {
   "cell_type": "markdown",
   "metadata": {},
   "source": [
    "Notice that we are able to call the parent's `__init__()` method to the new child class while just keeping the original `logger_brand`, changing the `logger_year` of the new device and adding a new attribute `logger_timezone` !"
   ]
  },
  {
   "cell_type": "markdown",
   "metadata": {},
   "source": [
    "## 2.3. The `isinstance()` function"
   ]
  },
  {
   "cell_type": "markdown",
   "metadata": {},
   "source": [
    "So, `isinstance()` is a built-in python function that returns a Boolean stating whether some object is **an instance** or subclass of this class. For example, we can check whether **tom** (_remember Tom?_) is a `Robot` in general, if the object is an instance of that class."
   ]
  },
  {
   "cell_type": "code",
   "execution_count": 33,
   "metadata": {},
   "outputs": [
    {
     "data": {
      "text/plain": [
       "True"
      ]
     },
     "execution_count": 33,
     "metadata": {},
     "output_type": "execute_result"
    }
   ],
   "source": [
    "isinstance(tom, Robot)"
   ]
  },
  {
   "cell_type": "markdown",
   "metadata": {},
   "source": [
    "or if, maybe, **tom** is in fact a `Docbot` robot:"
   ]
  },
  {
   "cell_type": "code",
   "execution_count": 34,
   "metadata": {},
   "outputs": [
    {
     "data": {
      "text/plain": [
       "False"
      ]
     },
     "execution_count": 34,
     "metadata": {},
     "output_type": "execute_result"
    }
   ],
   "source": [
    "isinstance(tom, Docbot)"
   ]
  },
  {
   "cell_type": "markdown",
   "metadata": {},
   "source": [
    "And what about **jerry**?"
   ]
  },
  {
   "cell_type": "code",
   "execution_count": 35,
   "metadata": {},
   "outputs": [
    {
     "name": "stdout",
     "output_type": "stream",
     "text": [
      "True\n",
      "True\n"
     ]
    }
   ],
   "source": [
    "print(isinstance(jerry, Robot))\n",
    "print(isinstance(jerry, Docbot))"
   ]
  },
  {
   "cell_type": "markdown",
   "metadata": {},
   "source": [
    "By the way, you could already see `isinstance()` in previous exercises 👀\n",
    "<br>when we checked whether a **variable** was an `integer` or a `string`, using **`isinstance(var, str)`** or **`isinstance(var, int)`**. "
   ]
  },
  {
   "cell_type": "markdown",
   "metadata": {},
   "source": [
    "This function is composed by two arguments, `isistance(object, class)`\n",
    "<br>*the first argument is the object to be checked\n",
    "<br>the second argument is the target class*\n",
    "<br>and the function will checks if the **object** is an instance or subclass of the **class**.\n",
    "\n",
    "During the development of python classes, parent and child, it is essential to know which objects belong to which class or superclass. The `isinstance()` performs this function and hence helps the programmer along the way. \n",
    "\n",
    "Let's now also try it out with the `Logger()` example:"
   ]
  },
  {
   "cell_type": "code",
   "execution_count": 36,
   "metadata": {},
   "outputs": [
    {
     "name": "stdout",
     "output_type": "stream",
     "text": [
      "Is object my_parent_obj an instance of Logger()? True\n",
      "Is object my_parent_obj an instance of TimestampLogger()? False\n"
     ]
    }
   ],
   "source": [
    "print(\"Is object my_parent_obj an instance of Logger()?\", (isinstance(my_parent_obj, Logger)))\n",
    "\n",
    "print(\"Is object my_parent_obj an instance of TimestampLogger()?\", (isinstance(my_parent_obj, TimestampLogger)))"
   ]
  },
  {
   "cell_type": "code",
   "execution_count": 37,
   "metadata": {},
   "outputs": [
    {
     "name": "stdout",
     "output_type": "stream",
     "text": [
      "Is object my_child_obj an instance of Logger()? True\n",
      "Is object my_child_obj an instance of TimestampLogger()? True\n"
     ]
    }
   ],
   "source": [
    "print(\"Is object my_child_obj an instance of Logger()?\", (isinstance(my_child_obj, Logger)))\n",
    "\n",
    "print(\"Is object my_child_obj an instance of TimestampLogger()?\", (isinstance(my_child_obj, TimestampLogger)))"
   ]
  },
  {
   "cell_type": "markdown",
   "metadata": {},
   "source": [
    "### Difference between `isinstance()` and `type()` functions"
   ]
  },
  {
   "cell_type": "markdown",
   "metadata": {},
   "source": [
    "The `isinstance()` function checks **wether some object is an instance of some class or its subclass**, while `type()` checks **whether the object has some particular type** and only yeld True **when you use the exact same type object on both sides**.\n",
    "\n",
    "**What is the difference?** Well, we can see that when dealing with `subclasses`. Let's return to our dear robots now:"
   ]
  },
  {
   "cell_type": "code",
   "execution_count": 38,
   "metadata": {},
   "outputs": [
    {
     "name": "stdout",
     "output_type": "stream",
     "text": [
      "Is Jerry an instance of Robot class? True\n",
      "Is Jerry an instance of Docbot class? True\n",
      "---------\n",
      "Is Jerry's type Robot? False\n",
      "Is Jerry's type Docbot? True\n"
     ]
    }
   ],
   "source": [
    "print(\"Is Jerry an instance of Robot class?\", isinstance(jerry, Robot))\n",
    "print(\"Is Jerry an instance of Docbot class?\", isinstance(jerry, Docbot))\n",
    "print('---------')\n",
    "print(\"Is Jerry's type Robot?\", type(jerry) is Robot)\n",
    "print(\"Is Jerry's type Docbot?\", type(jerry) is Docbot)"
   ]
  },
  {
   "cell_type": "markdown",
   "metadata": {},
   "source": [
    "As you can see, **jerry** is both an instance of `Robot` and `Docbot` classes but because `Docbot` is a child of `Robot` class, Jerry's type is `Docbot` and not `Robot`."
   ]
  },
  {
   "cell_type": "markdown",
   "metadata": {},
   "source": [
    "<img src=\"./assets/inheritance.jpg\" width=\"400\"/>\n",
    "\n",
    "***"
   ]
  },
  {
   "cell_type": "markdown",
   "metadata": {},
   "source": [
    "## PART 3 | Last but not least... Multiple and Multilevel Inheritance (again)"
   ]
  },
  {
   "cell_type": "markdown",
   "metadata": {},
   "source": [
    "## 3.1. Structure and relations"
   ]
  },
  {
   "cell_type": "markdown",
   "metadata": {},
   "source": [
    "Let's check the diagram of our `Multiple` example, do you still remember, right?\n",
    "\n",
    "<img src=\"./assets/oop_diagram_new_5.png\" width=\"500\"/>\n",
    "\n",
    "In the next example, the methods of all classes will have **the same name so the result will be indeed different!** Let's check!"
   ]
  },
  {
   "cell_type": "code",
   "execution_count": 39,
   "metadata": {},
   "outputs": [],
   "source": [
    "import datetime as dt\n",
    "\n",
    "# One parent class\n",
    "class Clock():\n",
    "    def check(self):\n",
    "        # current date and time\n",
    "        now = dt.datetime.now()\n",
    "        \n",
    "        time = now.strftime(\"%H:%M:%S\")\n",
    "        print(\"time:\", time)\n",
    "       \n",
    "    \n",
    "# Another parent class       \n",
    "class Calendar():\n",
    "    def check(self):\n",
    "        # current date and time\n",
    "        now = dt.datetime.now()\n",
    "        \n",
    "        day = now.strftime(\"%m/%d/%Y\")\n",
    "        print(\"day:\", day)\n",
    "\n",
    "        \n",
    "# The child class        \n",
    "class Schedule(Clock, Calendar):\n",
    "    def check(self):\n",
    "        super().check()\n",
    "        super().check()\n",
    "        print(\"event: It is your study session!\")"
   ]
  },
  {
   "cell_type": "code",
   "execution_count": 40,
   "metadata": {},
   "outputs": [
    {
     "name": "stdout",
     "output_type": "stream",
     "text": [
      "time: 18:52:06\n",
      "time: 18:52:06\n",
      "event: It is your study session!\n"
     ]
    }
   ],
   "source": [
    "our_agenda = Schedule()\n",
    "our_agenda.check()"
   ]
  },
  {
   "cell_type": "markdown",
   "metadata": {},
   "source": [
    "As we can see, the `super()` function only **\"gets\"** the `check()` method **from the first class** (`Clock`) and is unable to **\"get\"** the second class (`Calendar`) `check()` method."
   ]
  },
  {
   "cell_type": "markdown",
   "metadata": {},
   "source": [
    "And... if we use another example? Let's check what happens with our `Multilevel` inheritance example. Take a look at the diagram:"
   ]
  },
  {
   "cell_type": "markdown",
   "metadata": {},
   "source": [
    "<img src=\"./assets/oop_diagram_new_8.png\" width=\"500\"/>"
   ]
  },
  {
   "cell_type": "markdown",
   "metadata": {},
   "source": [
    "On this type of inheritance, the `super()` method refers to **all directly vertical** parent classes.\n",
    "\n",
    "In the example, the **vertical parent classes** of the `Capital` are the `Country` and `Continent` classes. Given so, we can use `super()` to call methods from the `Continent` class directly from the `Capital` class:"
   ]
  },
  {
   "cell_type": "code",
   "execution_count": 41,
   "metadata": {},
   "outputs": [],
   "source": [
    "# Our upper level (GrandParent) class\n",
    "class Continent:        \n",
    "    def main_land(self):\n",
    "        print(\"Europe\")\n",
    " \n",
    " \n",
    "# Country class inherited from Continent class as our mid level (Parent) class\n",
    "class Country(Continent):\n",
    "    def home_land(self):\n",
    "        print(\"Portugal\")\n",
    " \n",
    " \n",
    "# Re-writed Capital class inherited from Country class as our lower level (Child) class\n",
    "class Capital(Country):\n",
    "    def metropolis(self):        \n",
    "        print(\"Lisbon\")\n",
    "        super().home_land()\n",
    "        super().main_land()\n",
    "        "
   ]
  },
  {
   "cell_type": "markdown",
   "metadata": {},
   "source": [
    "Watch what happens when we try to call the `main_land()` method within the `metropolis()` using the `super()` function:"
   ]
  },
  {
   "cell_type": "code",
   "execution_count": 42,
   "metadata": {},
   "outputs": [
    {
     "name": "stdout",
     "output_type": "stream",
     "text": [
      "Lisbon\n",
      "Portugal\n",
      "Europe\n"
     ]
    }
   ],
   "source": [
    "our_new_land = Capital()\n",
    "our_new_land.metropolis()"
   ]
  },
  {
   "cell_type": "markdown",
   "metadata": {},
   "source": [
    "## 3.2. The super() law & *method resolution* order"
   ]
  },
  {
   "cell_type": "markdown",
   "metadata": {},
   "source": [
    "As you already know (\"Overriding\") the order of definition of parent classes in child classes controls the methods definition, meaning \"The last one standing!\"\n",
    "\n",
    "But what about super() methods with the same name in (let's say) multiple multilevel inheritance? 😵"
   ]
  },
  {
   "cell_type": "markdown",
   "metadata": {},
   "source": [
    "<img src=\"./assets/road-challenge.jpg\" width=\"350\"/>"
   ]
  },
  {
   "cell_type": "markdown",
   "metadata": {},
   "source": [
    "## 3.2.1. Behavior in multiple inheritance"
   ]
  },
  {
   "cell_type": "markdown",
   "metadata": {},
   "source": [
    "Let's break it down and start with multiple inheritance to make things simpler. The answer is exactly the same: The \"super() behavior is ruled by the order of \"assignment\" of the parent classes. You just need to be careful because when \"overriding\", the last definition stands, but in multiple inherence the first parent class assigned is the one that takes the \"super() status\".\n",
    "\n",
    "Never the less the problem here is to keep track of the definitions order in complex and/or extensive codes. For this reason, our advice is very simple: **Methods concerning different parent classes should have different names**!\n",
    "\n",
    "However, if uniformity is your religion you may need a conversation with the \"**[Method Resolution Order](https://www.python.org/download/releases/2.3/mro/)**\" (**MRO**).\n"
   ]
  },
  {
   "cell_type": "markdown",
   "metadata": {},
   "source": [
    "<img src=\"./assets/We_need_to_have_a_talk.jpg\" width=\"250\"/>"
   ]
  },
  {
   "cell_type": "markdown",
   "metadata": {},
   "source": [
    "The `__mro__` is a built-in method that tells Python the search order for inherited methods and attributes, (something particularly useful in this framework), and returns that \"class order\" as a tuple.\n",
    "\n",
    "First, let's try it on the *first parent class*:"
   ]
  },
  {
   "cell_type": "code",
   "execution_count": 43,
   "metadata": {},
   "outputs": [
    {
     "data": {
      "text/plain": [
       "(__main__.Continent, object)"
      ]
     },
     "execution_count": 43,
     "metadata": {},
     "output_type": "execute_result"
    }
   ],
   "source": [
    "Continent.__mro__"
   ]
  },
  {
   "cell_type": "markdown",
   "metadata": {},
   "source": [
    "Does anything look familiar? Exactly, the so called *first parent class* is not the \"beginning of it\" (1.1.3.), the `object` base class is! 😉\n",
    "\n",
    "Note that even being a \"top\" class, the \"Continent's MRO\" indicates that Python will search methods and attributes for this class in itself first (`__main__.Continent`) and in the `object` base class second.\n",
    "\n",
    "You can also try it in the other classes, for instance:"
   ]
  },
  {
   "cell_type": "code",
   "execution_count": 44,
   "metadata": {},
   "outputs": [
    {
     "data": {
      "text/plain": [
       "(__main__.Capital, __main__.Country, __main__.Continent, object)"
      ]
     },
     "execution_count": 44,
     "metadata": {},
     "output_type": "execute_result"
    }
   ],
   "source": [
    "Capital.__mro__"
   ]
  },
  {
   "cell_type": "markdown",
   "metadata": {},
   "source": [
    "The order in which the classes are presented is the MRO for the Continent class. This example is very simple because it's not multiple inheritance, but it basically means you don't need to spend hours trying to figure out the method's execution order in complex `super()` class relations that involve methods with the same name! It's all in this beautiful method that you can simply call to unlock all the resolution order secrets 💡\n",
    "\n",
    "Finally, if you wish to manipulate the MRO of a class in multiple inheritance, just change the order of the parent classes \"assignment\" to the child classes, until the `__mro__` method returns you the sequence you need for your code to be correct. So, assuming that both `parent_class_1` and `parent_class_2` have a method called `method()`:\n",
    "\n",
    "- `super().method()` declaration in `class child_class(parent_class_1, parent_class_2)` would mean `parent_class_1.method()`\n",
    "- `super().method()` declaration in `class child_class(parent_class_2, parent_class_1)` would mean `parent_class_2.method()`\n",
    "\n",
    "This can be verified directly with the `__mro__` method:"
   ]
  },
  {
   "cell_type": "code",
   "execution_count": 45,
   "metadata": {},
   "outputs": [],
   "source": [
    "class parent_class_1:\n",
    "    pass\n",
    "\n",
    "class parent_class_2:\n",
    "    pass"
   ]
  },
  {
   "cell_type": "code",
   "execution_count": 46,
   "metadata": {},
   "outputs": [
    {
     "name": "stdout",
     "output_type": "stream",
     "text": [
      "child_class MRO 1:\n"
     ]
    },
    {
     "data": {
      "text/plain": [
       "(__main__.child_class,\n",
       " __main__.parent_class_1,\n",
       " __main__.parent_class_2,\n",
       " object)"
      ]
     },
     "execution_count": 46,
     "metadata": {},
     "output_type": "execute_result"
    }
   ],
   "source": [
    "class child_class(parent_class_1, parent_class_2):\n",
    "    pass\n",
    "\n",
    "print(\"child_class MRO 1:\")\n",
    "child_class.__mro__"
   ]
  },
  {
   "cell_type": "code",
   "execution_count": 47,
   "metadata": {},
   "outputs": [
    {
     "name": "stdout",
     "output_type": "stream",
     "text": [
      "child_class MRO 2:\n"
     ]
    },
    {
     "data": {
      "text/plain": [
       "(__main__.child_class,\n",
       " __main__.parent_class_2,\n",
       " __main__.parent_class_1,\n",
       " object)"
      ]
     },
     "execution_count": 47,
     "metadata": {},
     "output_type": "execute_result"
    }
   ],
   "source": [
    "class child_class(parent_class_2, parent_class_1):\n",
    "    pass\n",
    "\n",
    "print(\"child_class MRO 2:\")\n",
    "child_class.__mro__"
   ]
  },
  {
   "cell_type": "markdown",
   "metadata": {},
   "source": [
    "## 3.2.2. Behavior in multilevel inheritance"
   ]
  },
  {
   "cell_type": "markdown",
   "metadata": {},
   "source": [
    "The behavior of the super() method in multilevel inheritance cases with methods that have the same name in different classes (levels) still respects the parent classes \"assignment\" order, but in this case this may be a problem if you wish to call the method from a non-sequential (previous) class in the hierarchy!\n",
    "\n",
    "Take the following example:"
   ]
  },
  {
   "cell_type": "code",
   "execution_count": 48,
   "metadata": {},
   "outputs": [
    {
     "name": "stdout",
     "output_type": "stream",
     "text": [
      "Level 2\n"
     ]
    }
   ],
   "source": [
    "class Class_1:\n",
    "    def level(self):\n",
    "        print(\"Level 1\")\n",
    "    \n",
    "class Class_2(Class_1):\n",
    "    def level(self):\n",
    "        print(\"Level 2\")\n",
    "\n",
    "class Class_3(Class_2):\n",
    "    def level(self):\n",
    "        super().level()\n",
    "\n",
    "instance = Class_3()\n",
    "\n",
    "instance.level()"
   ]
  },
  {
   "cell_type": "markdown",
   "metadata": {},
   "source": [
    "As expected, the `super().level()` method in Class_3 calls the `level(self)` method in its parent class Class_2. What about if we wish to call Class_1's `level(self)` method with the `super()` method?"
   ]
  },
  {
   "cell_type": "markdown",
   "metadata": {},
   "source": [
    "Well... Before pointing you in the right \"super() solution\" way, we think is better for the time being to leave you a less elegant, but more \"keep out of trouble\" solution which is explicitly call the class method you want:"
   ]
  },
  {
   "cell_type": "code",
   "execution_count": 49,
   "metadata": {},
   "outputs": [
    {
     "name": "stdout",
     "output_type": "stream",
     "text": [
      "Level 1\n"
     ]
    }
   ],
   "source": [
    "class Class_3(Class_2):\n",
    "    def level(self):\n",
    "        Class_1().level()\n",
    "\n",
    "instance = Class_3()\n",
    "\n",
    "instance.level()"
   ]
  },
  {
   "cell_type": "markdown",
   "metadata": {},
   "source": [
    "Now, one real pythonic way of solving this problem is using the hierarchy chain itself to reach the desired class method (level). We can achieve this with the replacing `super().level()` with `super(Class_2, self).level()`.\n",
    "\n",
    "\"What??? 🤬\" (Go head free your thoughts... You are among friends 😉)\n",
    "\n",
    "Here's the code:"
   ]
  },
  {
   "cell_type": "code",
   "execution_count": 50,
   "metadata": {},
   "outputs": [
    {
     "name": "stdout",
     "output_type": "stream",
     "text": [
      "Level 1\n"
     ]
    }
   ],
   "source": [
    "class Class_3(Class_2):\n",
    "    def level(self):\n",
    "        super(Class_2, self).level()\n",
    "\n",
    "instance = Class_3()\n",
    "\n",
    "instance.level()"
   ]
  },
  {
   "cell_type": "markdown",
   "metadata": {},
   "source": [
    "So, \"the instructors I thought were nice people waited until this moment to tell me that the super() method actually takes arguments!?\"\n",
    "\n",
    "That is correct and the reason we try to make this learning experience as sequential as possible. This was the moment you faced a problem that those arguments solve, so you didn't need to know it sooner. The other reason is that the super() method and multilevel inheritance can get pretty \"heavy\" at first so it's better to take things slow.\n",
    "\n",
    "The two parameters that the super() method takes are the subclass and the an object that is an instance of that subclass. The expression `super()` you've been using is a Python 3 simplification that actually means super(*this class*, *self*), and that's the reason you didn't need to explicitly define them so far.\n",
    "\n",
    "In this logic, if the we pass Class_2 as the sub class, super() is going to start searching for a matching method (in this case, .level) at one level above, i.e. Class_1!\n",
    "\n",
    "If you understood this last challenge, the road is becoming clearer and you're ready for deeper dives into Python inheritance. 😉"
   ]
  },
  {
   "cell_type": "markdown",
   "metadata": {},
   "source": [
    "<img src=\"./assets/road-challenge-solved.jpg\" width=\"350\"/>"
   ]
  },
  {
   "cell_type": "markdown",
   "metadata": {},
   "source": [
    "NOTE: Although this solution is more elegant (because it's also based on the `super()` method), you still have to explicitly perform the \"super() jump\" to the target class method when you face this ambiguous methods designation context, as there is no implicit way for the Python interpreter to guess what class you are aiming at..."
   ]
  },
  {
   "cell_type": "markdown",
   "metadata": {},
   "source": [
    "And that's it all for today!\n",
    "\n",
    "+ Take a little break; 😴💤\n",
    "+ Recover your energy; 🔋⚡\n",
    "+ Grab a cup of `insert here your favorite drink`; ☕🍺🍷🥤🍵\n",
    "+ And go to the exercise notebook. 📓✏️\n",
    "\n",
    "\n",
    "I bet you will rock it! 😁😁😁"
   ]
  },
  {
   "cell_type": "markdown",
   "metadata": {},
   "source": [
    "***\n",
    "### Inheritance, look back to what we've learned so far:\n",
    "+ Parent and Child classes;\n",
    "+ Simple/Single Inheritance **(Parent --> Child)**;\n",
    "+ Multiple Inheritance **(Mother + Father --> Child)**;\n",
    "+ Multilevel Inheritance **(GrandParent --> Parent --> Child)**;\n",
    "+ Overriding;\n",
    "+ `isinstance()` function (and the diference with `type()` function);\n",
    "+ `super()` function;"
   ]
  }
 ],
 "metadata": {
  "kernelspec": {
   "display_name": "Python 3 (ipykernel)",
   "language": "python",
   "name": "python3"
  },
  "language_info": {
   "codemirror_mode": {
    "name": "ipython",
    "version": 3
   },
   "file_extension": ".py",
   "mimetype": "text/x-python",
   "name": "python",
   "nbconvert_exporter": "python",
   "pygments_lexer": "ipython3",
   "version": "3.8.16"
  }
 },
 "nbformat": 4,
 "nbformat_minor": 4
}
