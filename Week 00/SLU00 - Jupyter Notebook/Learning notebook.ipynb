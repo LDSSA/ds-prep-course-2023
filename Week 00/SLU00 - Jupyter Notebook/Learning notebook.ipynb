{
 "cells": [
  {
   "cell_type": "markdown",
   "metadata": {},
   "source": [
    "# SLU00 - Jupyter Notebook: Learning notebook\n",
    "\n",
    "### Table of contents\n",
    "[1. How to use Jupyter notebooks](#1.-How-to-use-Jupyter-notebooks)   \n",
    "[2. Notebook kernel](#2.-Notebook-kernel)   \n",
    "&emsp;[2.1 Running cells](#2.1-Running-cells)   \n",
    "[3. Shortcuts](#3.-Shortcuts)   \n",
    "&emsp;[3.1 Markdown cells](#3.1-Markdown-cells)   \n",
    "&emsp;[3.2 More useful shortcuts](#3.2-More-useful-shortcuts)"
   ]
  },
  {
   "cell_type": "markdown",
   "metadata": {},
   "source": [
    "## 1. How to use Jupyter notebooks\n",
    "\n",
    "Let's begin by defining 3 sections of the Jupyter interface: in the following image, you can see the Menu bar in blue, the Toolbar in orange and a Code cell in yellow:\n",
    "\n",
    "<img src=\"media/jupyter_8.PNG\"/>\n",
    "\n",
    "You can see a code cell just below this cell as well:"
   ]
  },
  {
   "cell_type": "code",
   "execution_count": null,
   "metadata": {},
   "outputs": [],
   "source": []
  },
  {
   "cell_type": "markdown",
   "metadata": {},
   "source": [
    "In case you are wondering why this cell is different, the cells where I'm teaching you the concepts are called markdown cells. We will understand what they are in a later stage in this SLU. For now, focus on reading them and applying the concepts in the code cells.\n",
    "\n",
    "Go ahead and type `print(\"hello world\")` in the code cell below  and click on \"Run\" in the Toolbar. "
   ]
  },
  {
   "cell_type": "code",
   "execution_count": 1,
   "metadata": {},
   "outputs": [],
   "source": [
    "# Tip: Just copy and paste the print statement.\n",
    "# BTW, this is a code cell, but the lines starting with the hash symbol # are comments - they are ignored.\n",
    "# For instance, the code below will not be executed because it is commented.\n",
    "#print('just ignore me')"
   ]
  },
  {
   "cell_type": "code",
   "execution_count": null,
   "metadata": {},
   "outputs": [],
   "source": []
  },
  {
   "cell_type": "markdown",
   "metadata": {},
   "source": [
    "The output should look like this:\n",
    "\n",
    "<img src=\"media/jupyter_1.PNG\"/>\n",
    "\n",
    "Congratulations! You've just ran your first jupyter notebook cell. Let's hope this is the first of many to come!\n",
    "\n",
    "If you're wondering what's the [4] in the image, it's the sequential execution number. It means that this was the fourth cell that was run in my notebook. You should have a [1] or [2] in your current notebook. Notice that running the same cell twice will also update the sequential number. Reselect the cell (by clicking on it) and click on \"Run\" in the Toolbar to see it being updated.\n",
    "\n",
    "Also, you do not have to run each cell one by one. Go ahead and type `print(\"I'm a professional programmer now\")` in the second code cell above and instead of clicking on \"Run\" in the Toolbar, click on \"Cell\" in the Menu bar and then click  on \"Run All\". This will run all the cells in the notebook, it doesn't matter how many cells you have.\n",
    "\n",
    "You can also swap cell positions by clicking on the `up` or `down` arrows in the toolbar. Give it a try and swap the two cells above.\n",
    "\n",
    "But to be honest, I have never even used the `Run`command while I was in the academy. I would always restart the notebook and then run all cells.\n",
    "To understand why, let me introduce you to a new concept: the notebook kernel."
   ]
  },
  {
   "cell_type": "markdown",
   "metadata": {},
   "source": [
    "## 2. Notebook kernel\n",
    "\n",
    "The notebook kernel is the “computational engine” that executes the code contained in the jupyter notebook document. \n",
    "Since you chose to create the notebook with Python 3, the kernel executes Python code. There are kernels for other languages but in the prep course and in the academy, we will only be using Python 3.\n",
    "When you open a jupyter notebook document, the associated kernel is automatically launched. When the notebook is executed, the kernel performs the computation and produces the results. Depending on the type of computations, the kernel may consume significant CPU and RAM. However, for the prep course and the academy, you should be more than fine with 8GB of RAM."
   ]
  },
  {
   "cell_type": "markdown",
   "metadata": {},
   "source": [
    "Now, what does this have to do with restarting the notebook before running all cells? We'll almost there! Look at this example:\n",
    "\n",
    "<img src=\"media/jupyter_2.PNG\"/>\n",
    "\n",
    "For the purpose of this example, just imagine that I'm storing the value 1 in a variable named `a`, the value 2 in a variable named `b` and the value 3 in a variable named `c`. And in the end, I'm printing them. It's straightforward, right?\n",
    "\n",
    "(What is a variable you ask? It is like a box to store things. We can store for instance numbers or text and later open the box - call the variable - and see what is inside.)"
   ]
  },
  {
   "cell_type": "markdown",
   "metadata": {},
   "source": [
    "Now, imagine that for some reason I later decide that I don't want to store the value 2 in variable `b`, in fact, I don't want to create the variable `b` at all. So, I delete that cell (you can do the same by clicking `Edit` -> `Delete Cells` in the Menu bar). Next to it is an option \"Undo Delete Cells\" in case you delete the wrong cell). I then decide to run all cells again. This is what I get: \n",
    "\n",
    "<img src=\"media/jupyter_3.PNG\"/>"
   ]
  },
  {
   "cell_type": "markdown",
   "metadata": {},
   "source": [
    "This looks strange right? There is no `b` defined in my notebook, but it seems that the notebook somehow \"remembers\" that `b` used to store the value 2. Let's go ahead and print only `b`:\n",
    "\n",
    "<img src=\"media/jupyter_4.PNG\"/>"
   ]
  },
  {
   "cell_type": "markdown",
   "metadata": {},
   "source": [
    "So, our suspicions are true! The lesson here is that the jupyter kernel stored the information \"b = 2\" in memory and deleting the cell that previously had this instruction **does not** erase this information from memory. So, if we really don't want this information to be stored in memory, what can we do?\n",
    "\n",
    "As I've told you before, this is why I restart the notebook before running all cells. Restarting the notebook will erase everything from the kernel memory and when you run all cells again **only** the current code cells will be considered. \n",
    "Let's try this! On the Menu bar select `Kernel` and then `Restart & Run All`. You should see something like this:\n",
    "\n",
    "<img src=\"media/jupyter_5.PNG\"/>"
   ]
  },
  {
   "cell_type": "markdown",
   "metadata": {},
   "source": [
    "So now we have an error saying that `b` is not defined, which sounds about right since `b` is not defined anywhere in our notebook! This may seem like a simple detail and I'm sure some of you are thinking \"this is stupid and I would never do this\" but trust me: along the prep course or the academy this is a very common mistake to do and you can end up spending a lot of time in bugs that will trace back to this issue. \n",
    "\n",
    "Try this out on your own in the cells below (remember that to delete a cell you need to click `Edit` in the Menu bar and then `Delete Cells`):"
   ]
  },
  {
   "cell_type": "code",
   "execution_count": 2,
   "metadata": {},
   "outputs": [],
   "source": [
    "a = 1"
   ]
  },
  {
   "cell_type": "code",
   "execution_count": 3,
   "metadata": {},
   "outputs": [],
   "source": [
    "b = 2"
   ]
  },
  {
   "cell_type": "code",
   "execution_count": 4,
   "metadata": {},
   "outputs": [],
   "source": [
    "c = 3"
   ]
  },
  {
   "cell_type": "code",
   "execution_count": 5,
   "metadata": {},
   "outputs": [
    {
     "name": "stdout",
     "output_type": "stream",
     "text": [
      "1 2 3\n"
     ]
    }
   ],
   "source": [
    "print(a, b, c)"
   ]
  },
  {
   "cell_type": "markdown",
   "metadata": {},
   "source": [
    "### 2.1 Running cells\n",
    "When cells with code are running, a star appears next to them. Most of the code in this course will run in the blink of an eye, so you might not notice the star unless you create the programmer's nightmare, the infinite loop (which you can consider something like a rite of passage &#128540; ). With more computationally intensive code, such as fitting a data science model, it will become noticeable.\n",
    "\n",
    "The code cell below was intentionally constructed to run for longer so that you can see the star. Try it out!"
   ]
  },
  {
   "cell_type": "code",
   "execution_count": 6,
   "metadata": {},
   "outputs": [],
   "source": [
    "import time\n",
    "time.sleep(5)"
   ]
  },
  {
   "cell_type": "markdown",
   "metadata": {},
   "source": [
    "Another indication that something in the notebook is running is the dot in the top right corner that turns black:\n",
    "\n",
    "<img src=\"media/jupyter_10.jpg\">\n",
    "\n",
    "If you ever need to stop a running notebook, use `Kernel` -> `Interrupt`."
   ]
  },
  {
   "cell_type": "markdown",
   "metadata": {},
   "source": [
    "## 3. Shortcuts\n",
    "\n",
    "Last but not least, I'll teach you about some shortcuts that will greatly improve your productivity in jupyter notebooks. Up until now we've been using the edit mode of jupyter notebooks. A cell is in edit mode if it has the little green bar on the left side:\n",
    "\n",
    "<img src=\"media/jupyter_6.PNG\"/>\n",
    "\n",
    "When you click on a cell or press `Enter` while the cell is selected, it goes into edit mode. However, if you press `Esc` or click outside of the gray area of the cell, you will see that the green bar turns blue - the cell will be in command mode:\n",
    "\n",
    "<img src=\"media/jupyter_7.PNG\"/>\n",
    "\n",
    "Try it for yourself in the cell below:"
   ]
  },
  {
   "cell_type": "code",
   "execution_count": 7,
   "metadata": {},
   "outputs": [],
   "source": [
    "a = 1"
   ]
  },
  {
   "cell_type": "markdown",
   "metadata": {},
   "source": [
    "You have just learned the first two shortcuts - `Enter` and `Esc` - for switching between edit and command mode. While in command mode, you can use many more shortcuts that will make your life easier! \n",
    "\n",
    "- With the keyboard arrows `up` and `down` you can select different cells in your notebook. \n",
    "- Typing `A` will insert a cell above the cell that is selected and typing `B` will insert a cell below the cell that is selected. \n",
    "- Typing `D` two times in fast succession will delete the cell that is selected.\n",
    "- Using `Shift` and then the keyboard arrows `up` and `down` will select various code cells.\n",
    "- You can then type `Shift`+`M` to merge the cells."
   ]
  },
  {
   "cell_type": "markdown",
   "metadata": {},
   "source": [
    "### 3.1 Markdown cells\n",
    "If you type `M` the cell will change to markdown and typing `Y` will change the cell back to code. (You can see more options for cell types in `Cell` -> `Cell Type`).\n",
    "\n",
    "Markdown cells are cells that accept text with a specific syntax. They can be used to teach concepts (as I've been doing in this notebook) but during the academy I mostly used them to store information that was too important to go into a comment. Try it for yourself: change the cell below to markdown and copy paste the following text, then run the cell:\n",
    "\n",
    "\\# This is how you can create a header in markdown\n",
    "\n",
    "\\## This is a smaller header\n",
    "\n",
    "And to create a list:\n",
    "\n",
    "\\- Banana\n",
    "\n",
    "\\- Papaya\n",
    "\n",
    "\\- Orange"
   ]
  },
  {
   "cell_type": "code",
   "execution_count": null,
   "metadata": {},
   "outputs": [],
   "source": []
  },
  {
   "cell_type": "markdown",
   "metadata": {},
   "source": [
    "Now you've learned how to to create a header and a list using markdown cells! Check out this [guide](https://www.markdownguide.org/) to learn more about markdown syntax."
   ]
  },
  {
   "cell_type": "markdown",
   "metadata": {},
   "source": [
    "###  3.2 More useful shortcuts\n",
    "There are three shortcuts that come in handy for executing your code. The first one is `Ctrl`+`Enter` which will run the current cell. The next one is `Shift`+`Enter` which will run the current cell and move the focus to the cell below. In case you are executing the last cell in the notebook, a new cell will be created. And the last one, `Alt`+`Enter`, executes the current cell and creates a new cell under it so that you can easily continue coding. These will save you a lot of clicks on the Toolbar! \n",
    "\n",
    "Two other shortcuts that you will be using a lot: `Home` and `End`. They will take you to the top of the notebook (e.g. to see the table of contents) and to the bottom (e.g. to access the last cell of the exercise notebook to check out the information about grading and portal submission). Try it out! Notice that jumping to the top or bottom of the notebook does not affect the currently selected cell - it remains selected. If you'd like to go back to it, press the `up` or `down` arrow. This will select the cell above or below the current cell and move the focus back to where you came from.\n",
    "\n",
    "If you'd like to see all available shortcuts, press `H`.\n",
    "\n",
    "Sadly, my most used command `Restart & Run All` doesn't have a shortcut. What I've done, since I was using it so many times, was defining it myself. You can do that as well (and remember that this is just a personal tip) by clicking `Help` in the Menu bar and selecting `Edit Keyboard Shortcuts`. Search for the `restart kernel and run all cells` command and type `Ctrl-R` in the `add shortcut` field. Then click `OK` in the bottom right corner of the window. This way you can just press `Ctrl`+`R` instead of doing it manually.\n",
    "\n",
    "We've reached the end! Try to practice the shortcuts in this notebook and in the exercise notebook. If you have any doubts, ask on Slack! Good luck."
   ]
  }
 ],
 "metadata": {
  "kernelspec": {
   "display_name": "Python 3 (ipykernel)",
   "language": "python",
   "name": "python3"
  },
  "language_info": {
   "codemirror_mode": {
    "name": "ipython",
    "version": 3
   },
   "file_extension": ".py",
   "mimetype": "text/x-python",
   "name": "python",
   "nbconvert_exporter": "python",
   "pygments_lexer": "ipython3",
   "version": "3.8.15"
  }
 },
 "nbformat": 4,
 "nbformat_minor": 2
}
