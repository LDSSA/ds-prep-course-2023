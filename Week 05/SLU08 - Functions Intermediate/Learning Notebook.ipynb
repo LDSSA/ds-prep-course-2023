{
 "cells": [
  {
   "cell_type": "markdown",
   "metadata": {},
   "source": [
    "# SLU08 - Functions Intermediate\n",
    "\n",
    "Please make sure that you've checked out the README for the important points about why we have this Learning Unit and welcome! 😈 \n",
    "\n",
    "The field of [software engineering](https://en.wikipedia.org/wiki/Software_engineering) is all about writing code in a systematic and structured way and writing functions is the most fundamental tool we have to achieve this. There are some features of the Python programming language that directly affect how you write functions and, thus, how you engineer your software. **Scope** and **positional/keyword function arguments** are two of the most important of these features.\n",
    "\n",
    "Also, like any programming language, Python has a set of **built-in** functions that have already been written and are ready for use. We'll go through a few of them and tell you how to find more.\n",
    "\n",
    "Then we'll look at more sophisticated ways to **return** function outputs.\n",
    "\n",
    "And lastly, an important part of writing code is **documenting** what it does. Without it, you wouldn't have at your disposal all the beautiful [Python documentation](https://docs.python.org/3.8/index.html)."
   ]
  },
  {
   "cell_type": "markdown",
   "metadata": {},
   "source": [
    "### Table of contents\n",
    "[1. Function arguments](#1.-Function-arguments)   \n",
    "&emsp;[1.1 Positional arguments](#1.1-Positional-arguments)   \n",
    "&emsp;[1.2 Keyword arguments](#1.2-Keyword-arguments)   \n",
    "&emsp;[1.3 Using positional and keyword arguments at the same time](#1.3-Using-positional-and-keyword-arguments-at-the-same-time)   \n",
    "&emsp;[1.4 Default arguments](#1.4-Default-arguments)   \n",
    "&emsp;[1.5 Positional-only and keyword-only parameters](#1.5-Positional-only-and-keyword-only-parameters)   \n",
    "[2. Scopes and namespaces](#2.-Scopes-and-namespaces)   \n",
    "&emsp;[2.1 Interaction between scopes](#2.1-Interaction-between-scopes)   \n",
    "&emsp;&emsp;[2.2.1 Mutability](#2.2.1-Mutability)   \n",
    "&emsp;&emsp;[2.2.2 Functions and immutable variables](#2.2.2-Functions-and-immutable-variables)   \n",
    "&emsp;&emsp;[2.2.3 Functions and mutable variables](#2.2.3-Functions-and-mutable-variables)   \n",
    "[3. Built-in functions](#3.-Built-in-functions)   \n",
    "[4. Return statements](#4.-Return-statements)   \n",
    "&emsp;[4.1 Combining flow-control with a return statement](#4.1-Combining-flow-control-with-a-return-statement)   \n",
    "&emsp;[4.2 Returning more than one variable](#4.2-Returning-more-than-one-variable)   \n",
    "[5. Best practices](#5.-Best-practices)   \n",
    "&emsp;[5.1 Comments](#5.1-Comments)   \n",
    "&emsp;[5.2 Docstrings](#5.2-Docstrings)   \n",
    "&emsp;[5.3 Function annotations](#5.3-Function-annotations)   "
   ]
  },
  {
   "cell_type": "markdown",
   "metadata": {},
   "source": [
    "![Advanced Functions](media/this-isnt-your-everyday-functions-this-is-advanced-functions.jpeg)"
   ]
  },
  {
   "cell_type": "markdown",
   "metadata": {},
   "source": [
    "## 1. Function arguments\n",
    "\n",
    "Recall from the previous unit the difference between function parameters and function arguments. Both names refer to the variables defined in the function header. We talk about function **parameters** when **defining** a function and about function **arguments** when **calling** a function.\n",
    "\n",
    "Now we learn another distinction: the arguments can be **positional** or **keyword**. This distinction is made when we are calling the function, therefore we refer to arguments, not parameters. \n",
    "\n",
    "### 1.1 Positional arguments\n",
    "Consider the function below:"
   ]
  },
  {
   "cell_type": "code",
   "execution_count": 1,
   "metadata": {},
   "outputs": [],
   "source": [
    "def divide(a, b):\n",
    "    return a / b"
   ]
  },
  {
   "cell_type": "markdown",
   "metadata": {},
   "source": [
    "Here we call this function with positional arguments:"
   ]
  },
  {
   "cell_type": "code",
   "execution_count": 2,
   "metadata": {
    "scrolled": true
   },
   "outputs": [
    {
     "data": {
      "text/plain": [
       "1.5"
      ]
     },
     "execution_count": 2,
     "metadata": {},
     "output_type": "execute_result"
    }
   ],
   "source": [
    "divide(3, 2)"
   ]
  },
  {
   "cell_type": "markdown",
   "metadata": {},
   "source": [
    "The values we passed to the function are assigned based on their position - the first value is assigned to `a` and the second value to `b`.\n",
    "\n",
    "When you have a longer function with lots of arguments, this can start to become a problem. Say you've got a function like this:"
   ]
  },
  {
   "cell_type": "code",
   "execution_count": 3,
   "metadata": {},
   "outputs": [],
   "source": [
    "def lots_of_args(a, b, c, d, denom):\n",
    "    return (a + b + c + d) / denom"
   ]
  },
  {
   "cell_type": "markdown",
   "metadata": {},
   "source": [
    "You need to look up the position of all the arguments and keep the correct order. To call this function while setting `c = 5`, `a = 1`, `b = 2`, `denom = 8`, `d = 0` using positional arguments you would have to code:"
   ]
  },
  {
   "cell_type": "code",
   "execution_count": 4,
   "metadata": {},
   "outputs": [
    {
     "data": {
      "text/plain": [
       "1.0"
      ]
     },
     "execution_count": 4,
     "metadata": {},
     "output_type": "execute_result"
    }
   ],
   "source": [
    "lots_of_args(1, 2, 5, 0, 8)"
   ]
  },
  {
   "cell_type": "markdown",
   "metadata": {},
   "source": [
    "However, some days and 50 lines later, you need to use this function again. You call the function with arguments as `c = 100`, `a = 12`, `b = 23`, `denom = 10`, `d = 0`"
   ]
  },
  {
   "cell_type": "code",
   "execution_count": 5,
   "metadata": {},
   "outputs": [
    {
     "ename": "ZeroDivisionError",
     "evalue": "division by zero",
     "output_type": "error",
     "traceback": [
      "\u001b[0;31m---------------------------------------------------------------------------\u001b[0m",
      "\u001b[0;31mZeroDivisionError\u001b[0m                         Traceback (most recent call last)",
      "Input \u001b[0;32mIn [5]\u001b[0m, in \u001b[0;36m<cell line: 1>\u001b[0;34m()\u001b[0m\n\u001b[0;32m----> 1\u001b[0m \u001b[43mlots_of_args\u001b[49m\u001b[43m(\u001b[49m\u001b[38;5;241;43m12\u001b[39;49m\u001b[43m,\u001b[49m\u001b[43m \u001b[49m\u001b[38;5;241;43m23\u001b[39;49m\u001b[43m,\u001b[49m\u001b[43m \u001b[49m\u001b[38;5;241;43m100\u001b[39;49m\u001b[43m,\u001b[49m\u001b[43m \u001b[49m\u001b[38;5;241;43m10\u001b[39;49m\u001b[43m,\u001b[49m\u001b[43m \u001b[49m\u001b[38;5;241;43m0\u001b[39;49m\u001b[43m)\u001b[49m\n",
      "Input \u001b[0;32mIn [3]\u001b[0m, in \u001b[0;36mlots_of_args\u001b[0;34m(a, b, c, d, denom)\u001b[0m\n\u001b[1;32m      1\u001b[0m \u001b[38;5;28;01mdef\u001b[39;00m \u001b[38;5;21mlots_of_args\u001b[39m(a, b, c, d, denom):\n\u001b[0;32m----> 2\u001b[0m     \u001b[38;5;28;01mreturn\u001b[39;00m \u001b[43m(\u001b[49m\u001b[43ma\u001b[49m\u001b[43m \u001b[49m\u001b[38;5;241;43m+\u001b[39;49m\u001b[43m \u001b[49m\u001b[43mb\u001b[49m\u001b[43m \u001b[49m\u001b[38;5;241;43m+\u001b[39;49m\u001b[43m \u001b[49m\u001b[43mc\u001b[49m\u001b[43m \u001b[49m\u001b[38;5;241;43m+\u001b[39;49m\u001b[43m \u001b[49m\u001b[43md\u001b[49m\u001b[43m)\u001b[49m\u001b[43m \u001b[49m\u001b[38;5;241;43m/\u001b[39;49m\u001b[43m \u001b[49m\u001b[43mdenom\u001b[49m\n",
      "\u001b[0;31mZeroDivisionError\u001b[0m: division by zero"
     ]
    }
   ],
   "source": [
    "lots_of_args(12, 23, 100, 10, 0)"
   ]
  },
  {
   "cell_type": "markdown",
   "metadata": {},
   "source": [
    "Wait, a zero division error? But you wanted to use `denom = 10`. Looks like you didn't get the order right. Since you defined the function a few days earlier, it might take a while to look it up and find the problem.\n",
    "\n",
    "If we want to be engineers and keep our code organized, we need to learn how to do this better so we don't produce broken code. How can we prevent these types of errors when we have so many variables?"
   ]
  },
  {
   "cell_type": "markdown",
   "metadata": {},
   "source": [
    "### 1.2 Keyword arguments\n",
    "\n",
    "The answer is keyword arguments (kwargs). Instead of passing just the values, we pass the name of each argument with the assigned value."
   ]
  },
  {
   "cell_type": "code",
   "execution_count": 6,
   "metadata": {},
   "outputs": [
    {
     "data": {
      "text/plain": [
       "13.5"
      ]
     },
     "execution_count": 6,
     "metadata": {},
     "output_type": "execute_result"
    }
   ],
   "source": [
    "lots_of_args(a = 12, b = 23, c = 100, d = 0, denom = 10)"
   ]
  },
  {
   "cell_type": "markdown",
   "metadata": {},
   "source": [
    "This makes it easier to avoid mixing the inputs.\n",
    "\n",
    "You don't even need to keep the order as it was defined at function definition (even though, for readability purposes, it is recommended).\n",
    "\n",
    "Take a look at the example below where swapping the 1st and 2nd arguments returns the same output:"
   ]
  },
  {
   "cell_type": "code",
   "execution_count": 7,
   "metadata": {},
   "outputs": [
    {
     "data": {
      "text/plain": [
       "13.5"
      ]
     },
     "execution_count": 7,
     "metadata": {},
     "output_type": "execute_result"
    }
   ],
   "source": [
    "lots_of_args(b = 23, a = 12, c = 100, d = 0, denom = 10)"
   ]
  },
  {
   "cell_type": "markdown",
   "metadata": {},
   "source": [
    "Notice that the decision between using positional or keyword arguments was made at calling time - we didn't have to change anything in the function definition."
   ]
  },
  {
   "cell_type": "markdown",
   "metadata": {},
   "source": [
    "### 1.3 Using positional and keyword arguments at the same time\n",
    "We can even choose to pass some arguments as positional and others as keyword. In such cases, we must remember that..."
   ]
  },
  {
   "cell_type": "code",
   "execution_count": 8,
   "metadata": {},
   "outputs": [
    {
     "ename": "SyntaxError",
     "evalue": "positional argument follows keyword argument (4097235765.py, line 2)",
     "output_type": "error",
     "traceback": [
      "\u001b[0;36m  Input \u001b[0;32mIn [8]\u001b[0;36m\u001b[0m\n\u001b[0;31m    lots_of_args(a = 12, 23, c = 100, d = 0, denom = 10)\u001b[0m\n\u001b[0m                         ^\u001b[0m\n\u001b[0;31mSyntaxError\u001b[0m\u001b[0;31m:\u001b[0m positional argument follows keyword argument\n"
     ]
    }
   ],
   "source": [
    "# ... the positional arguments must be first, or else\n",
    "lots_of_args(a = 12, 23, c = 100, d = 0, denom = 10)"
   ]
  },
  {
   "cell_type": "markdown",
   "metadata": {},
   "source": [
    "Positional arguments always come first, based on the order in which the parameters appear in the function definition. Let's try again:"
   ]
  },
  {
   "cell_type": "code",
   "execution_count": 9,
   "metadata": {},
   "outputs": [
    {
     "ename": "TypeError",
     "evalue": "lots_of_args() got multiple values for argument 'a'",
     "output_type": "error",
     "traceback": [
      "\u001b[0;31m---------------------------------------------------------------------------\u001b[0m",
      "\u001b[0;31mTypeError\u001b[0m                                 Traceback (most recent call last)",
      "Input \u001b[0;32mIn [9]\u001b[0m, in \u001b[0;36m<cell line: 1>\u001b[0;34m()\u001b[0m\n\u001b[0;32m----> 1\u001b[0m \u001b[43mlots_of_args\u001b[49m\u001b[43m(\u001b[49m\u001b[38;5;241;43m23\u001b[39;49m\u001b[43m,\u001b[49m\u001b[43m \u001b[49m\u001b[43ma\u001b[49m\u001b[43m \u001b[49m\u001b[38;5;241;43m=\u001b[39;49m\u001b[43m \u001b[49m\u001b[38;5;241;43m12\u001b[39;49m\u001b[43m,\u001b[49m\u001b[43m \u001b[49m\u001b[43mc\u001b[49m\u001b[43m \u001b[49m\u001b[38;5;241;43m=\u001b[39;49m\u001b[43m \u001b[49m\u001b[38;5;241;43m100\u001b[39;49m\u001b[43m,\u001b[49m\u001b[43m \u001b[49m\u001b[43md\u001b[49m\u001b[43m \u001b[49m\u001b[38;5;241;43m=\u001b[39;49m\u001b[43m \u001b[49m\u001b[38;5;241;43m0\u001b[39;49m\u001b[43m,\u001b[49m\u001b[43m \u001b[49m\u001b[43mdenom\u001b[49m\u001b[43m \u001b[49m\u001b[38;5;241;43m=\u001b[39;49m\u001b[43m \u001b[49m\u001b[38;5;241;43m10\u001b[39;49m\u001b[43m)\u001b[49m\n",
      "\u001b[0;31mTypeError\u001b[0m: lots_of_args() got multiple values for argument 'a'"
     ]
    }
   ],
   "source": [
    "lots_of_args(23, a = 12, c = 100, d = 0, denom = 10)"
   ]
  },
  {
   "cell_type": "markdown",
   "metadata": {},
   "source": [
    "No, not ok. Python assumed from the position that the first argument is `a` (the first parameter of the function). But then we tried to pass a value for `a` again as the second argument, therefore the complaint.\n",
    "\n",
    "Another try:"
   ]
  },
  {
   "cell_type": "code",
   "execution_count": 10,
   "metadata": {},
   "outputs": [
    {
     "data": {
      "text/plain": [
       "13.5"
      ]
     },
     "execution_count": 10,
     "metadata": {},
     "output_type": "execute_result"
    }
   ],
   "source": [
    "lots_of_args(12, c = 100, d = 0, denom = 10, b = 23)"
   ]
  },
  {
   "cell_type": "markdown",
   "metadata": {},
   "source": [
    "Yes, it worked! Let's resume the rules:\n",
    "\n",
    "- positional arguments first, in the order they were defined in the function\n",
    "- keyword arguments after positional arguments, in arbitrary order\n",
    "\n",
    "Here are some of the options we have for passing the arguments as both positional and keyword:\n",
    "\n",
    "`lots_of_args(a = 12, b = 23, c = 100, d = 0, denom = 10)`\n",
    "\n",
    "`lots_of_args(12, b = 23, c = 100, d = 0, denom = 10)`\n",
    "\n",
    "`lots_of_args(12, 23, c = 100, d = 0, denom = 10)`\n",
    "\n",
    "`lots_of_args(12, 23, 100, d = 0, denom = 10)`\n",
    "\n",
    "`lots_of_args(12, 23, 100, 0, denom = 10)`\n"
   ]
  },
  {
   "cell_type": "markdown",
   "metadata": {},
   "source": [
    "### 1.4 Default arguments\n",
    "\n",
    "We have already talked about this in the previous SLU, so we should know this by now. Nonetheless, it's always good to recap really important things.\n",
    "\n",
    "Default arguments allow us to do two very powerful things:\n",
    "\n",
    "- allow arguments to get a default value\n",
    "- make the function easier to use\n",
    "\n",
    "Say we want to allow the function `lots_of_args` to assume a denominator (`denom`) equal to 10 by default.\n",
    "You could implement the following:"
   ]
  },
  {
   "cell_type": "code",
   "execution_count": 11,
   "metadata": {},
   "outputs": [],
   "source": [
    "def lots_of_args(a, b, c, d, denom=10):\n",
    "    return (a + b + c + d) / denom"
   ]
  },
  {
   "cell_type": "markdown",
   "metadata": {},
   "source": [
    "You only have to make sure that the default arguments are last in the argument list, otherwise"
   ]
  },
  {
   "cell_type": "code",
   "execution_count": 12,
   "metadata": {},
   "outputs": [
    {
     "ename": "SyntaxError",
     "evalue": "non-default argument follows default argument (3938663824.py, line 1)",
     "output_type": "error",
     "traceback": [
      "\u001b[0;36m  Input \u001b[0;32mIn [12]\u001b[0;36m\u001b[0m\n\u001b[0;31m    def lots_of_args(a, b, c, d=5, denom):\u001b[0m\n\u001b[0m                     ^\u001b[0m\n\u001b[0;31mSyntaxError\u001b[0m\u001b[0;31m:\u001b[0m non-default argument follows default argument\n"
     ]
    }
   ],
   "source": [
    "def lots_of_args(a, b, c, d=5, denom):\n",
    "    return (a + b + c + d) / denom"
   ]
  },
  {
   "cell_type": "markdown",
   "metadata": {},
   "source": [
    "Going back to the example where the `denom` defaults to 10, you now allow your users to..."
   ]
  },
  {
   "cell_type": "code",
   "execution_count": 13,
   "metadata": {},
   "outputs": [
    {
     "data": {
      "text/plain": [
       "13.5"
      ]
     },
     "execution_count": 13,
     "metadata": {},
     "output_type": "execute_result"
    }
   ],
   "source": [
    "# provide only 4 arguments, skipping ´denom´ (i.e., assuming its default value)\n",
    "# note: you could also explicitly define the arguments (as kwargs) in the function calling\n",
    "lots_of_args(12, 23, 100, 0)"
   ]
  },
  {
   "cell_type": "code",
   "execution_count": 14,
   "metadata": {},
   "outputs": [
    {
     "data": {
      "text/plain": [
       "27.0"
      ]
     },
     "execution_count": 14,
     "metadata": {},
     "output_type": "execute_result"
    }
   ],
   "source": [
    "# assume a value for ´denom´ different from its default\n",
    "# note: you could also explicitly define the arguments (as kwargs) in the function calling\n",
    "lots_of_args(12, 23, 100, 0, 5)"
   ]
  },
  {
   "cell_type": "markdown",
   "metadata": {},
   "source": [
    "Defining default values comes in very handy in specific contexts. Say, for example, that you are writing a translation function and 99% of your users translate from English to Portuguese:"
   ]
  },
  {
   "cell_type": "code",
   "execution_count": 15,
   "metadata": {},
   "outputs": [],
   "source": [
    "def translate(text, source_lang='en', dest_lang='pt'):\n",
    "    return 'translating ' + text + ' now!'"
   ]
  },
  {
   "cell_type": "markdown",
   "metadata": {},
   "source": [
    "This way, only 1% of your users need to provide the `source_lang` and `dest_lang` arguments.\n",
    "That's how powerful are default arguments."
   ]
  },
  {
   "cell_type": "markdown",
   "metadata": {},
   "source": [
    "### 1.5 Positional-only and keyword-only parameters\n",
    "\n",
    "Since this version of Python, version 3.8, you can restrict function parameters to be positional-only using the [`/` syntax](https://docs.python.org/3/whatsnew/3.8.html#positional-only-parameters). Likewise, there is syntax to restrict parameters to be keyword-only.\n",
    "\n",
    "Going back to our multi-parameter function, we could define the first two parameters as positional-only and the last two as keyword-only:"
   ]
  },
  {
   "cell_type": "code",
   "execution_count": 16,
   "metadata": {},
   "outputs": [],
   "source": [
    "def lots_of_args(a, b, /, c, *, d, denom):\n",
    "    return (a + b + c + d) / denom"
   ]
  },
  {
   "cell_type": "markdown",
   "metadata": {},
   "source": [
    "Now we have far fewer options to call the function. Below are two of them."
   ]
  },
  {
   "cell_type": "code",
   "execution_count": 17,
   "metadata": {},
   "outputs": [
    {
     "data": {
      "text/plain": [
       "13.5"
      ]
     },
     "execution_count": 17,
     "metadata": {},
     "output_type": "execute_result"
    }
   ],
   "source": [
    "lots_of_args(12, 23, c = 100, d = 0, denom = 10)"
   ]
  },
  {
   "cell_type": "code",
   "execution_count": 18,
   "metadata": {},
   "outputs": [
    {
     "data": {
      "text/plain": [
       "13.5"
      ]
     },
     "execution_count": 18,
     "metadata": {},
     "output_type": "execute_result"
    }
   ],
   "source": [
    "lots_of_args(12, 23, 100, denom = 10, d = 0)"
   ]
  },
  {
   "cell_type": "markdown",
   "metadata": {},
   "source": [
    "## 2. Scopes and namespaces\n",
    "\n",
    "A scope is what it sounds like - a space, extent or range where Python variables exist. You can imagine it also as a world or bubble where each variable lives. Some scopes are inside other scopes. In general, from an inner scope, you can see the variables in the outer scopes, but not the other way round.\n",
    "\n",
    "Let's look at an example, taking our `lots_of_args` function from above. This function has five parameters - five variables that are used to do some calculation in the function. You know from previous SLUs that in order to be able to call a variable, you have to define it first. We have defined five variables in our function, `a`, `b`, `c`, `d`, and `denom`. We have also assigned values to them when calling the function. Let's try to call one of these variables now:"
   ]
  },
  {
   "cell_type": "code",
   "execution_count": 19,
   "metadata": {},
   "outputs": [
    {
     "ename": "NameError",
     "evalue": "name 'a' is not defined",
     "output_type": "error",
     "traceback": [
      "\u001b[0;31m---------------------------------------------------------------------------\u001b[0m",
      "\u001b[0;31mNameError\u001b[0m                                 Traceback (most recent call last)",
      "Input \u001b[0;32mIn [19]\u001b[0m, in \u001b[0;36m<cell line: 1>\u001b[0;34m()\u001b[0m\n\u001b[0;32m----> 1\u001b[0m \u001b[43ma\u001b[49m\n",
      "\u001b[0;31mNameError\u001b[0m: name 'a' is not defined"
     ]
    }
   ],
   "source": [
    "a"
   ]
  },
  {
   "cell_type": "markdown",
   "metadata": {},
   "source": [
    "What happened? A `NameError`. In other words, this variable does not exist. You say it does? You are partially right - it exists in the **scope** of the `lots_of_args` function, but it does not exist outside of it.\n",
    "\n",
    "A scope is always associated with a **namespace** - a list of all names and corresponding objects that are known to Python inside this scope. A namespace is created together with the scope. When Python starts, the namespace of all built-in functions is created. When a function starts, the function namespace is created and when the function returns, the namespace is forgotten. \n",
    "\n",
    "In this example, this Jupyter notebook is one scope (world/bubble) and inside of it are the scopes of each function we have defined until now. The scopes of the three functions are independent of each other. Above the scope of the Jupyter notebook, the current global scope, is the scope of the built-in functions."
   ]
  },
  {
   "cell_type": "markdown",
   "metadata": {},
   "source": [
    "<img alt=\"current_scopes\" src=\"media/current_scopes.png\" width=\"400\">"
   ]
  },
  {
   "cell_type": "markdown",
   "metadata": {},
   "source": [
    "Whenever we call a variable, Python will first look for it in the namespace of the current **local scope** (Jupyter notebook right now, the function scope while running a function).\n",
    "\n",
    "If it does not find a variable with such a name, it will look in the **enclosing scope** (one scope higher - built-in Python functions coming from the Jupyter notebook scope, the Jupyter notebook scope coming from the function scope).\n",
    "\n",
    "This continues until reaching the **outermost scope**. If the variable name is not found until then, Python throws a `NameError`."
   ]
  },
  {
   "cell_type": "markdown",
   "metadata": {},
   "source": [
    "<img alt=\"not_on_the_list\" src=\"media/not_on_the_list.jpg\" width=\"400\">"
   ]
  },
  {
   "cell_type": "markdown",
   "metadata": {},
   "source": [
    "The same search procedure applies to any other Python name, like function names. At any time during code execution, there are several nested scopes whose namespaces are directly accessible:\n",
    "- the innermost scope, which is where the currently executed code lives, contains the local names and is searched first\n",
    "- the scopes of any enclosing functions, which are searched starting with the nearest enclosing scope, contain non-local, but also non-global names\n",
    "- the next-to-last scope, also called the global scope, contains the current module’s global names\n",
    "- the outermost scope is the namespace containing built-in names and is searched last"
   ]
  },
  {
   "cell_type": "markdown",
   "metadata": {},
   "source": [
    "### 2.1 Interaction between scopes\n",
    "Now let's take a look at something that will blow your mind:"
   ]
  },
  {
   "cell_type": "code",
   "execution_count": 20,
   "metadata": {},
   "outputs": [],
   "source": [
    "outside = 1\n",
    "\n",
    "def fun():\n",
    "    inside = 2\n",
    "    return outside + inside"
   ]
  },
  {
   "cell_type": "markdown",
   "metadata": {},
   "source": [
    "We are using two variables inside the function, but defining one inside the function and the other one level up, in the global scope. What do you think will happen when we call the function?"
   ]
  },
  {
   "cell_type": "code",
   "execution_count": 21,
   "metadata": {},
   "outputs": [
    {
     "data": {
      "text/plain": [
       "3"
      ]
     },
     "execution_count": 21,
     "metadata": {},
     "output_type": "execute_result"
    }
   ],
   "source": [
    "fun()"
   ]
  },
  {
   "cell_type": "markdown",
   "metadata": {},
   "source": [
    "It works, because as you remember, the variables from higher scopes are visible. However, **YOU SHOULD NOT DO THIS!** 🙏 If you change or remove the `outside` variable in the next version of your code, you will run into trouble.\n",
    "\n",
    "The correct way to handle this is to **pass the variable as an argument**:"
   ]
  },
  {
   "cell_type": "code",
   "execution_count": 22,
   "metadata": {},
   "outputs": [],
   "source": [
    "outside = 1\n",
    "\n",
    "def fun(outside):\n",
    "    inside = 2\n",
    "    return outside + inside"
   ]
  },
  {
   "cell_type": "markdown",
   "metadata": {},
   "source": [
    "Yes, the parameter can have the same name because it is defined in another scope. It works as expected:"
   ]
  },
  {
   "cell_type": "code",
   "execution_count": 23,
   "metadata": {},
   "outputs": [
    {
     "data": {
      "text/plain": [
       "3"
      ]
     },
     "execution_count": 23,
     "metadata": {},
     "output_type": "execute_result"
    }
   ],
   "source": [
    "fun(outside)"
   ]
  },
  {
   "cell_type": "markdown",
   "metadata": {},
   "source": [
    "### 2.2 Scopes and mutability\n",
    "Don't be scared, this section is not about mutants. It is about mutable and immutable Python variables. You have heard about mutability in SLU04 - Data Structures. You know that dictionaries and lists are mutable, so their elements can be changed, while tuples are immutable. The difference runs deeper. Let's review the mutability concept first and then we look at how it influences variable behaviour in functions.\n",
    "\n",
    "### 2.2.1 Mutability\n",
    "Variables of **immutable** data types, such as integers, strings, and tuples, are always newly created on assignment. Here we assign a new integer variable:"
   ]
  },
  {
   "cell_type": "code",
   "execution_count": 24,
   "metadata": {},
   "outputs": [],
   "source": [
    "var_1 = 1"
   ]
  },
  {
   "cell_type": "markdown",
   "metadata": {},
   "source": [
    "Each variable has a unique id, let's see it:"
   ]
  },
  {
   "cell_type": "code",
   "execution_count": 25,
   "metadata": {},
   "outputs": [
    {
     "data": {
      "text/plain": [
       "11530912"
      ]
     },
     "execution_count": 25,
     "metadata": {},
     "output_type": "execute_result"
    }
   ],
   "source": [
    "id(var_1)"
   ]
  },
  {
   "cell_type": "markdown",
   "metadata": {},
   "source": [
    "The variable is created and assigned a unique id. Here we assign it again:"
   ]
  },
  {
   "cell_type": "code",
   "execution_count": 26,
   "metadata": {},
   "outputs": [],
   "source": [
    "var_1 = 10"
   ]
  },
  {
   "cell_type": "markdown",
   "metadata": {},
   "source": [
    "Now the previous `var_1` was destroyed and another one was created. This variable has the same name, but a different id:"
   ]
  },
  {
   "cell_type": "code",
   "execution_count": 27,
   "metadata": {},
   "outputs": [
    {
     "data": {
      "text/plain": [
       "11531200"
      ]
     },
     "execution_count": 27,
     "metadata": {},
     "output_type": "execute_result"
    }
   ],
   "source": [
    "id(var_1)"
   ]
  },
  {
   "cell_type": "markdown",
   "metadata": {},
   "source": [
    "<img alt=\"annihilation\" src=\"media/annihilation.jpg\" width=\"300\">"
   ]
  },
  {
   "cell_type": "markdown",
   "metadata": {},
   "source": [
    "Variables of mutable data types, such as dictionaries and lists, are created only once in each scope. Once they are created, they continue existing. Simply changing the variable name does not change the variable identity, it will just have two different names. Observe this:"
   ]
  },
  {
   "cell_type": "code",
   "execution_count": 28,
   "metadata": {},
   "outputs": [
    {
     "data": {
      "text/plain": [
       "139637647191744"
      ]
     },
     "execution_count": 28,
     "metadata": {},
     "output_type": "execute_result"
    }
   ],
   "source": [
    "var_2=[1,2,3]\n",
    "id(var_2)"
   ]
  },
  {
   "cell_type": "markdown",
   "metadata": {},
   "source": [
    "Now let's assign `var_2` to another variable, `var_3` and check the id:"
   ]
  },
  {
   "cell_type": "code",
   "execution_count": 29,
   "metadata": {},
   "outputs": [
    {
     "data": {
      "text/plain": [
       "139637647191744"
      ]
     },
     "execution_count": 29,
     "metadata": {},
     "output_type": "execute_result"
    }
   ],
   "source": [
    "var_3=var_2\n",
    "id(var_3)"
   ]
  },
  {
   "cell_type": "markdown",
   "metadata": {},
   "source": [
    "See? `var_2` and `var_3` have the same id - the variable has two different names. It's like when parents cannot agree on a child's name, so they give them two names, and each parent calls the child a different name.\n",
    "\n",
    "Now we extend the list in `var_2`:"
   ]
  },
  {
   "cell_type": "code",
   "execution_count": 30,
   "metadata": {},
   "outputs": [
    {
     "data": {
      "text/plain": [
       "[1, 2, 3, 4]"
      ]
     },
     "execution_count": 30,
     "metadata": {},
     "output_type": "execute_result"
    }
   ],
   "source": [
    "var_2.append(4)\n",
    "var_2"
   ]
  },
  {
   "cell_type": "markdown",
   "metadata": {},
   "source": [
    "What do you think happened to `var_3`?"
   ]
  },
  {
   "cell_type": "code",
   "execution_count": 31,
   "metadata": {},
   "outputs": [
    {
     "data": {
      "text/plain": [
       "[1, 2, 3, 4]"
      ]
     },
     "execution_count": 31,
     "metadata": {},
     "output_type": "execute_result"
    }
   ],
   "source": [
    "var_3"
   ]
  },
  {
   "cell_type": "markdown",
   "metadata": {},
   "source": [
    "Is your head exploding yet? Hold on, it gets worse. This behaviour has consequences on the behaviour of variables throughout scopes, and consequently in functions. It can produce unexpected results if you don't count on it.\n",
    "\n",
    "\n",
    "### 2.2.2 Functions and immutable variables\n",
    "Let's see a few examples. In the first example, we define an immutable variable outside of a function and try to use it inside the function."
   ]
  },
  {
   "cell_type": "code",
   "execution_count": 32,
   "metadata": {},
   "outputs": [
    {
     "data": {
      "text/plain": [
       "3"
      ]
     },
     "execution_count": 32,
     "metadata": {},
     "output_type": "execute_result"
    }
   ],
   "source": [
    "i1 = 1\n",
    "\n",
    "def test_fun_1():\n",
    "    i2 = 2\n",
    "    return i1 + i2\n",
    "\n",
    "test_fun_1()"
   ]
  },
  {
   "cell_type": "markdown",
   "metadata": {},
   "source": [
    "We have tried this before and we know it works - we can access the value of a variable from a higher scope. \n",
    "\n",
    "Now a different example - we'll try to modify the outer variable inside the function."
   ]
  },
  {
   "cell_type": "code",
   "execution_count": 33,
   "metadata": {},
   "outputs": [
    {
     "ename": "UnboundLocalError",
     "evalue": "local variable 'i1' referenced before assignment",
     "output_type": "error",
     "traceback": [
      "\u001b[0;31m---------------------------------------------------------------------------\u001b[0m",
      "\u001b[0;31mUnboundLocalError\u001b[0m                         Traceback (most recent call last)",
      "Input \u001b[0;32mIn [33]\u001b[0m, in \u001b[0;36m<cell line: 8>\u001b[0;34m()\u001b[0m\n\u001b[1;32m      5\u001b[0m     i1 \u001b[38;5;241m=\u001b[39m i1 \u001b[38;5;241m+\u001b[39m \u001b[38;5;241m1\u001b[39m          \u001b[38;5;66;03m# increase the value of i1 by 1\u001b[39;00m\n\u001b[1;32m      6\u001b[0m     \u001b[38;5;28;01mreturn\u001b[39;00m i1 \u001b[38;5;241m+\u001b[39m i2\n\u001b[0;32m----> 8\u001b[0m \u001b[43mtest_fun_2\u001b[49m\u001b[43m(\u001b[49m\u001b[43m)\u001b[49m\n",
      "Input \u001b[0;32mIn [33]\u001b[0m, in \u001b[0;36mtest_fun_2\u001b[0;34m()\u001b[0m\n\u001b[1;32m      3\u001b[0m \u001b[38;5;28;01mdef\u001b[39;00m \u001b[38;5;21mtest_fun_2\u001b[39m():\n\u001b[1;32m      4\u001b[0m     i2 \u001b[38;5;241m=\u001b[39m \u001b[38;5;241m2\u001b[39m\n\u001b[0;32m----> 5\u001b[0m     i1 \u001b[38;5;241m=\u001b[39m \u001b[43mi1\u001b[49m \u001b[38;5;241m+\u001b[39m \u001b[38;5;241m1\u001b[39m          \u001b[38;5;66;03m# increase the value of i1 by 1\u001b[39;00m\n\u001b[1;32m      6\u001b[0m     \u001b[38;5;28;01mreturn\u001b[39;00m i1 \u001b[38;5;241m+\u001b[39m i2\n",
      "\u001b[0;31mUnboundLocalError\u001b[0m: local variable 'i1' referenced before assignment"
     ]
    }
   ],
   "source": [
    "i1 = 1\n",
    "\n",
    "def test_fun_2():\n",
    "    i2 = 2\n",
    "    i1 = i1 + 1          # increase the value of i1 by 1\n",
    "    return i1 + i2\n",
    "\n",
    "test_fun_2()"
   ]
  },
  {
   "cell_type": "markdown",
   "metadata": {},
   "source": [
    "This does not work. As you know, immutable variables are always newly created on assignment, so Python tries to create `i1` again inside the function, but at the same time it tries to use the value of `i1` (reference it) on the right side of the assignment - an impossible situation. The result is a complaint about a non-existent variable.\n",
    "\n",
    "<img alt=\"trap\" src=\"media/trap.jpeg\" width=\"400\">\n",
    "\n",
    "How can we make this work? We first need to create the `i1` variable, then reference it. The `i1` variable inside the function has nothing to do with the one outside of it."
   ]
  },
  {
   "cell_type": "code",
   "execution_count": 34,
   "metadata": {},
   "outputs": [
    {
     "data": {
      "text/plain": [
       "4"
      ]
     },
     "execution_count": 34,
     "metadata": {},
     "output_type": "execute_result"
    }
   ],
   "source": [
    "i1 = 1\n",
    "\n",
    "def test_fun_2():\n",
    "    i2 = 2\n",
    "    i1 = 1               # create i1\n",
    "    i1 = i1 + 1          # increase the value of i1 by 1\n",
    "    return i1 + i2\n",
    "\n",
    "test_fun_2()"
   ]
  },
  {
   "cell_type": "markdown",
   "metadata": {},
   "source": [
    "If you want to use the value of the outer `i1` inside the function, pass it as a variable:"
   ]
  },
  {
   "cell_type": "code",
   "execution_count": 35,
   "metadata": {},
   "outputs": [
    {
     "data": {
      "text/plain": [
       "4"
      ]
     },
     "execution_count": 35,
     "metadata": {},
     "output_type": "execute_result"
    }
   ],
   "source": [
    "i1 = 1\n",
    "\n",
    "def test_fun_3(i1):\n",
    "    i2 = 2\n",
    "    i1 = i1 + 1          # increase the value of i1 by 1\n",
    "    return i1 + i2\n",
    "\n",
    "test_fun_3(i1)"
   ]
  },
  {
   "cell_type": "markdown",
   "metadata": {},
   "source": [
    "Ok, what is the **takeaway message**? You can reuse the names of immutable variables inside functions, but you have to create them first in the function scope to avoid trouble. Depending on your goal, you can pass an outer variable as an argument or create another variable inside the function.\n",
    "\n",
    "### 2.2.3 Functions and mutable variables\n",
    "Let's move on to mutable variables. We will define a list outside of the function and try to use it inside."
   ]
  },
  {
   "cell_type": "code",
   "execution_count": 36,
   "metadata": {},
   "outputs": [
    {
     "name": "stdout",
     "output_type": "stream",
     "text": [
      "[1, 2, 3]\n",
      "[1, 2, 3, 4]\n"
     ]
    }
   ],
   "source": [
    "m1 = [1,2,3]\n",
    "\n",
    "def test_fun_4():\n",
    "    print(m1)\n",
    "    m1.append(4)        # extend the list\n",
    "    \n",
    "test_fun_4()    \n",
    "print(m1)"
   ]
  },
  {
   "cell_type": "markdown",
   "metadata": {},
   "source": [
    "This time, the function has no trouble finding the variable and modifying it - mutable variables are not newly created whenever we want to modify them, they continue existing since their creation. The variable `m1` inside the function is the same variable as the one outside. Print the variable id if you don't believe it. :)\n",
    "\n",
    "Let's call the function again:"
   ]
  },
  {
   "cell_type": "code",
   "execution_count": 37,
   "metadata": {},
   "outputs": [
    {
     "name": "stdout",
     "output_type": "stream",
     "text": [
      "[1, 2, 3, 4]\n",
      "[1, 2, 3, 4, 4]\n"
     ]
    }
   ],
   "source": [
    "test_fun_4()    \n",
    "print(m1)"
   ]
  },
  {
   "cell_type": "markdown",
   "metadata": {},
   "source": [
    "The list was extended by another element! This time we pass the list as an argument to the function and give it a different name:"
   ]
  },
  {
   "cell_type": "code",
   "execution_count": 38,
   "metadata": {},
   "outputs": [
    {
     "name": "stdout",
     "output_type": "stream",
     "text": [
      "[1, 2, 3]\n",
      "[1, 2, 3, 4]\n",
      "[1, 2, 3, 4]\n"
     ]
    }
   ],
   "source": [
    "m1 = [1,2,3]\n",
    "\n",
    "def test_fun_5(m2):\n",
    "    print(m2)\n",
    "    m2.append(4)        # extend the list\n",
    "    print(m2)\n",
    "    \n",
    "test_fun_5(m1)    \n",
    "print(m1)"
   ]
  },
  {
   "cell_type": "markdown",
   "metadata": {},
   "source": [
    "It makes no difference, it is still the same variable. Of course, calling the function again will extend the list by another element."
   ]
  },
  {
   "cell_type": "code",
   "execution_count": 39,
   "metadata": {},
   "outputs": [
    {
     "name": "stdout",
     "output_type": "stream",
     "text": [
      "[1, 2, 3, 4]\n",
      "[1, 2, 3, 4, 4]\n",
      "[1, 2, 3, 4, 4]\n"
     ]
    }
   ],
   "source": [
    "test_fun_5(m1)    \n",
    "print(m1)"
   ]
  },
  {
   "cell_type": "markdown",
   "metadata": {},
   "source": [
    "If you don't want to change the list inside the function, you can make a copy of it - either inside the function or pass it as an argument."
   ]
  },
  {
   "cell_type": "code",
   "execution_count": 40,
   "metadata": {},
   "outputs": [
    {
     "name": "stdout",
     "output_type": "stream",
     "text": [
      "[1, 2, 3]\n",
      "[1, 2, 3, 4]\n",
      "[1, 2, 3]\n"
     ]
    }
   ],
   "source": [
    "m1 = [1,2,3]                 # initialize list\n",
    "\n",
    "test_fun_5(m1.copy())        # pass a copy of it into the function\n",
    "print(m1)"
   ]
  },
  {
   "cell_type": "markdown",
   "metadata": {},
   "source": [
    "Now we define another `m1` list variable inside the function."
   ]
  },
  {
   "cell_type": "code",
   "execution_count": 41,
   "metadata": {},
   "outputs": [
    {
     "name": "stdout",
     "output_type": "stream",
     "text": [
      "[4, 5, 6]\n",
      "[1, 2, 3]\n"
     ]
    }
   ],
   "source": [
    "m1 = [1,2,3]\n",
    "\n",
    "def test_fun_6():\n",
    "    m1=[4,5,6]\n",
    "    print(m1)\n",
    "    m1.append(4)        # extend the list\n",
    "    \n",
    "test_fun_6()\n",
    "print(m1)"
   ]
  },
  {
   "cell_type": "markdown",
   "metadata": {},
   "source": [
    "Now, the `m1` inside the function is a different variable than the one outside. It was created on the function call and stopped existing when the function has run, together with the function's namespace. Repeating the function call confirms this:"
   ]
  },
  {
   "cell_type": "code",
   "execution_count": 42,
   "metadata": {},
   "outputs": [
    {
     "name": "stdout",
     "output_type": "stream",
     "text": [
      "[4, 5, 6]\n",
      "[1, 2, 3]\n"
     ]
    }
   ],
   "source": [
    "test_fun_6()    \n",
    "print(m1)"
   ]
  },
  {
   "cell_type": "markdown",
   "metadata": {},
   "source": [
    "There are two **takeaway messages** here:\n",
    "- control your inputs - your input might have changed inside a function without you noticing\n",
    "- make a copy if you don't want to change mutable variables inside a function"
   ]
  },
  {
   "cell_type": "markdown",
   "metadata": {},
   "source": [
    "<img alt=\"living_dangerously\" src=\"media/living_dangerously.jpg\" width=\"400\">"
   ]
  },
  {
   "cell_type": "markdown",
   "metadata": {},
   "source": [
    "## 3. Built-in functions\n",
    "\n",
    "The Python standard library provides you with quite a few built-in functions. A library is a collection of modules, which themselves are a collection of reusable code. You will learn about modules in SLU14 in Week 08. The names of the built-in functions are in the outermost scope, so they are accessible from anywhere. You can see the official documentation for built-in functions here:\n",
    "\n",
    "https://docs.python.org/3.8/library/functions.html\n",
    "\n",
    "They are simple, but powerful, and allow you to do things like this:"
   ]
  },
  {
   "cell_type": "code",
   "execution_count": 43,
   "metadata": {},
   "outputs": [
    {
     "data": {
      "text/plain": [
       "6"
      ]
     },
     "execution_count": 43,
     "metadata": {},
     "output_type": "execute_result"
    }
   ],
   "source": [
    "# using the built-in sum\n",
    "sum([1, 2, 3])"
   ]
  },
  {
   "cell_type": "code",
   "execution_count": 44,
   "metadata": {},
   "outputs": [
    {
     "data": {
      "text/plain": [
       "(1, 1)"
      ]
     },
     "execution_count": 44,
     "metadata": {},
     "output_type": "execute_result"
    }
   ],
   "source": [
    "# using the built-in abs to get the absolute value of a number\n",
    "abs(-1), abs(1)"
   ]
  },
  {
   "cell_type": "code",
   "execution_count": 45,
   "metadata": {},
   "outputs": [
    {
     "name": "stdout",
     "output_type": "stream",
     "text": [
      "hello world\n"
     ]
    }
   ],
   "source": [
    "# print is one that you've already been using for a while:\n",
    "print('hello world')"
   ]
  },
  {
   "cell_type": "code",
   "execution_count": 46,
   "metadata": {},
   "outputs": [
    {
     "data": {
      "text/plain": [
       "100"
      ]
     },
     "execution_count": 46,
     "metadata": {},
     "output_type": "execute_result"
    }
   ],
   "source": [
    "# get the max of a list\n",
    "max([1, 2, 3, 100, 8])"
   ]
  },
  {
   "cell_type": "markdown",
   "metadata": {},
   "source": [
    "There are many other built-in functions that are not part of the standard library, but are stored in other libraries or modules. The usual way to make them available for use is to `import` them. You have seen examples of importing in the first cells of the Exercise notebooks. You will learn all the details about it in SLU14 - Modules & Packages."
   ]
  },
  {
   "cell_type": "markdown",
   "metadata": {},
   "source": [
    "## 4. Return statements\n",
    "Up to now, we've been using functions returning nothing at all or just one result. It is possible to write more complicated return statements to make the function return more variables or to return different results based on some condition.\n",
    "\n",
    "### 4.1 Combining flow-control with a return statement\n",
    "\n",
    "You may want to return different values depending on some criteria. Take the following example:"
   ]
  },
  {
   "cell_type": "code",
   "execution_count": 47,
   "metadata": {},
   "outputs": [],
   "source": [
    "def is_greater_than_10(number):\n",
    "    if number > 10:\n",
    "        return True\n",
    "    else:\n",
    "        return False"
   ]
  },
  {
   "cell_type": "markdown",
   "metadata": {},
   "source": [
    "Then you are able to do this:"
   ]
  },
  {
   "cell_type": "code",
   "execution_count": 48,
   "metadata": {},
   "outputs": [
    {
     "data": {
      "text/plain": [
       "False"
      ]
     },
     "execution_count": 48,
     "metadata": {},
     "output_type": "execute_result"
    }
   ],
   "source": [
    "is_greater_than_10(1)"
   ]
  },
  {
   "cell_type": "code",
   "execution_count": 49,
   "metadata": {},
   "outputs": [
    {
     "data": {
      "text/plain": [
       "True"
      ]
     },
     "execution_count": 49,
     "metadata": {},
     "output_type": "execute_result"
    }
   ],
   "source": [
    "is_greater_than_10(11)"
   ]
  },
  {
   "cell_type": "markdown",
   "metadata": {},
   "source": [
    "There's a shorter way to write this function:"
   ]
  },
  {
   "cell_type": "code",
   "execution_count": 50,
   "metadata": {},
   "outputs": [],
   "source": [
    "def is_greater_than_10_shortcut(number):\n",
    "    return number > 10"
   ]
  },
  {
   "cell_type": "code",
   "execution_count": 51,
   "metadata": {},
   "outputs": [
    {
     "data": {
      "text/plain": [
       "False"
      ]
     },
     "execution_count": 51,
     "metadata": {},
     "output_type": "execute_result"
    }
   ],
   "source": [
    "is_greater_than_10_shortcut(1)"
   ]
  },
  {
   "cell_type": "code",
   "execution_count": 52,
   "metadata": {},
   "outputs": [
    {
     "data": {
      "text/plain": [
       "True"
      ]
     },
     "execution_count": 52,
     "metadata": {},
     "output_type": "execute_result"
    }
   ],
   "source": [
    "is_greater_than_10_shortcut(11)"
   ]
  },
  {
   "cell_type": "markdown",
   "metadata": {},
   "source": [
    "Think about why it works!"
   ]
  },
  {
   "cell_type": "markdown",
   "metadata": {},
   "source": [
    "### 4.2 Returning more than one variable\n",
    "\n",
    "A function can also return more than one variable:"
   ]
  },
  {
   "cell_type": "code",
   "execution_count": 53,
   "metadata": {},
   "outputs": [],
   "source": [
    "def return_all_sums(a, b, c):\n",
    "    sum_ab = a + b\n",
    "    sum_ac = a + c\n",
    "    sum_bc = b + c\n",
    "    \n",
    "    return sum_ab, sum_ac, sum_bc"
   ]
  },
  {
   "cell_type": "markdown",
   "metadata": {},
   "source": [
    "This function returns a tuple containing the three sums. You can put the result into three variables like this:"
   ]
  },
  {
   "cell_type": "code",
   "execution_count": 54,
   "metadata": {},
   "outputs": [
    {
     "name": "stdout",
     "output_type": "stream",
     "text": [
      "6 8 12\n"
     ]
    }
   ],
   "source": [
    "a,b,c = return_all_sums(1, 5, 7)\n",
    "\n",
    "print(a,b,c)"
   ]
  },
  {
   "cell_type": "markdown",
   "metadata": {},
   "source": [
    "Or into one tuple variable like this:"
   ]
  },
  {
   "cell_type": "code",
   "execution_count": 55,
   "metadata": {},
   "outputs": [
    {
     "name": "stdout",
     "output_type": "stream",
     "text": [
      "(6, 8, 12)\n"
     ]
    }
   ],
   "source": [
    "sum_tuple = return_all_sums(1, 5, 7)\n",
    "print(sum_tuple)"
   ]
  },
  {
   "cell_type": "markdown",
   "metadata": {},
   "source": [
    "You can't, however, assign the outputs to only 2 variables (i.e., higher than 1 but lower than the total number of outputs) as Python would not know where to store what."
   ]
  },
  {
   "cell_type": "code",
   "execution_count": 56,
   "metadata": {},
   "outputs": [
    {
     "ename": "ValueError",
     "evalue": "too many values to unpack (expected 2)",
     "output_type": "error",
     "traceback": [
      "\u001b[0;31m---------------------------------------------------------------------------\u001b[0m",
      "\u001b[0;31mValueError\u001b[0m                                Traceback (most recent call last)",
      "Input \u001b[0;32mIn [56]\u001b[0m, in \u001b[0;36m<cell line: 1>\u001b[0;34m()\u001b[0m\n\u001b[0;32m----> 1\u001b[0m a, b \u001b[38;5;241m=\u001b[39m return_all_sums(\u001b[38;5;241m1\u001b[39m, \u001b[38;5;241m5\u001b[39m, \u001b[38;5;241m7\u001b[39m)\n\u001b[1;32m      2\u001b[0m a, b\n",
      "\u001b[0;31mValueError\u001b[0m: too many values to unpack (expected 2)"
     ]
    }
   ],
   "source": [
    "a, b = return_all_sums(1, 5, 7)\n",
    "a, b"
   ]
  },
  {
   "cell_type": "markdown",
   "metadata": {},
   "source": [
    "## 5. Best practices\n",
    "\n",
    "This section is about the best practices for documenting and writing functions. These topics will give you a general idea of what to do once you start developing in the real world. They are also usable throughout any programming language.\n",
    "\n",
    "### 5.1 Comments\n",
    "\n",
    "Everyone likes comments and everyone knows that they are important. Leaving comments in the code allows others to understand our thought process and allows you to return to the code after some days and still understand what the hell you were trying to do at that time. I know it sounds troublesome and you think that you will remember what you were doing, but trust me when I say this: \n",
    "\n",
    "&emsp;&emsp;&emsp;**You won't remember everything so you might as well add some comments**\n",
    "\n",
    "What to comment and how to comment are never-ending discussions and different people have different opinions. Just make sure, pretty please 🙏, that you comment and document what you don't know. I can't stress this enough - **you don't know how many times people had to rewrite code and redo everything just because they forgot what it does.**"
   ]
  },
  {
   "cell_type": "markdown",
   "metadata": {},
   "source": [
    "Initially, and after reading all these warnings your thought process will likely be\n",
    "\n",
    "![Comments everywhere](media/comments-comments-everywhere.jpeg)\n",
    "\n",
    "But **be careful!** If you start commenting everything like in the function `adding_function` below, the important comments will be lost in the noise."
   ]
  },
  {
   "cell_type": "code",
   "execution_count": 57,
   "metadata": {},
   "outputs": [],
   "source": [
    "# Example of too many comments\n",
    "def adding_function(int_1, int_2):\n",
    "    # This function adds two integers \n",
    "    #    -> as the name and parameters already suggest, useless comment\n",
    "    \n",
    "    # Adding variables a+b \n",
    "    #    -> useless as well, any person who sees this knows that it's an adding operation\n",
    "    result = int_1 + int_2\n",
    "    \n",
    "    #returns the result of the sum made above \n",
    "    #    -> we know already 😂 \n",
    "    return result\n",
    "\n",
    "# In this case the code is very self-descriptive, so it may not need any comments really"
   ]
  },
  {
   "cell_type": "markdown",
   "metadata": {},
   "source": [
    "This will be hard at first as you need to find a balance between over-commenting and commenting what is needed. Your variables should also be descriptive of what you are trying to achieve."
   ]
  },
  {
   "cell_type": "code",
   "execution_count": 58,
   "metadata": {},
   "outputs": [],
   "source": [
    "import re\n",
    "\n",
    "def sanitize_string(string):\n",
    "    \n",
    "    if type(string) is not str:\n",
    "        # No need for a comment, you understand by the print and condition \n",
    "        # what is happening here\n",
    "        print(\"Not a string!\")\n",
    "        return\n",
    "    \n",
    "    # Wow, what the *!$% is this next piece of code doing? \n",
    "    #  -> Maybe I should document this for other people and myself in the future!\n",
    "    \n",
    "    # regex, removes any character that is not a space, number or letter\n",
    "    clean_string = re.sub('[^A-Za-z0-9 ]+', '', string)\n",
    "    \n",
    "    # this you probably know, but if you don't -> comment! \n",
    "    # It lowercases the string\n",
    "    return clean_string.lower()"
   ]
  },
  {
   "cell_type": "code",
   "execution_count": 59,
   "metadata": {},
   "outputs": [
    {
     "data": {
      "text/plain": [
       "'hello world'"
      ]
     },
     "execution_count": 59,
     "metadata": {},
     "output_type": "execute_result"
    }
   ],
   "source": [
    "weird_string = \"^*ººHe'?llo Woç.,-rld!\"\n",
    "sanitize_string(weird_string)"
   ]
  },
  {
   "cell_type": "code",
   "execution_count": 60,
   "metadata": {},
   "outputs": [
    {
     "name": "stdout",
     "output_type": "stream",
     "text": [
      "Not a string!\n"
     ]
    }
   ],
   "source": [
    "sanitize_string(2)"
   ]
  },
  {
   "cell_type": "markdown",
   "metadata": {},
   "source": [
    "<img alt=\"perfectly_balanced\" src=\"media/perfectly_balanced.jpeg\" width=\"400\">"
   ]
  },
  {
   "cell_type": "markdown",
   "metadata": {},
   "source": [
    "Commenting is completely up to the programmer. It's **your responsibility** to know what you are doing and to make sure that the people who are reading your code understand what you were doing at the time of writing!\n",
    "\n",
    "* Use clear, descriptive variables\n",
    "* Use clear, descriptive function names - `function_one` doesn't add any information on what it does\n",
    "* If you are making any assumptions inside the code - document it\n",
    "* If you are fixing an edge case (i.e. a very specific problem/condition of your solution) - document it\n",
    "* If you feel that it's not clear what you have done - leave a comment\n",
    "* Don't add comments to every line of the program describing every single thing you do, most of them probably won't add any value"
   ]
  },
  {
   "cell_type": "markdown",
   "metadata": {},
   "source": [
    "### 5.2 Docstrings\n",
    "\n",
    "Python documentation strings - docstrings - are a way of providing a convenient and consistent way of writing a description of any type of function, class, or method (you will learn about the last two later on). There are several ways of writing docstrings. I'll introduce you to a specific one, but in general, they all tend to rotate around the same idea which is - **document and comment your function!**\n",
    "\n",
    "Usually every function should state its purpose and give a general description of what it receives (parameters) and what it returns. Moreover, some IDEs - like VSCode - already come with this option, so usually if you write `\"\"\"` and press `Enter` after the function header, a docstring will be created for you to fill in.\n",
    "\n",
    "Example from an IDE - you type `\"\"\"` ..."
   ]
  },
  {
   "cell_type": "markdown",
   "metadata": {},
   "source": [
    "<img alt=\"docstring_1\" src=\"media/docstring_01.png\" width=\"600\">"
   ]
  },
  {
   "cell_type": "markdown",
   "metadata": {},
   "source": [
    "... and press `Enter`:"
   ]
  },
  {
   "cell_type": "markdown",
   "metadata": {},
   "source": [
    "<img alt=\"docstring_2\" src=\"media/docstring_02.png\" width=\"600\">"
   ]
  },
  {
   "cell_type": "markdown",
   "metadata": {},
   "source": [
    "Pretty cool right?! There is really no excuse to not employ docstrings! \n",
    "\n",
    "**Note:** You may need to activate this feature in your IDE. For VSCode, you might need to install this plugin: https://marketplace.visualstudio.com/items?itemName=njpwerner.autodocstring. Check out the video example for how to do this.\n",
    "\n",
    "Using the function `sanitize_string` as an example:"
   ]
  },
  {
   "cell_type": "code",
   "execution_count": 61,
   "metadata": {},
   "outputs": [],
   "source": [
    "def sanitize_string(string):\n",
    "    \"\"\"\n",
    "    Cleans a string by removing any characters that are not spaces, numbers or letters. Returns it in lowercase.\n",
    "    \n",
    "    :param string: string to be cleaned\n",
    "    :return: sanitized string\n",
    "    \"\"\"\n",
    "    if type(string) is not str:\n",
    "        print(\"Not a string!\")\n",
    "        return\n",
    "    \n",
    "    # removes any character that is not a space, number or letter\n",
    "    clean_string = re.sub('[^A-Za-z0-9 ]+', '', string)\n",
    "    \n",
    "    return clean_string.lower()"
   ]
  },
  {
   "cell_type": "markdown",
   "metadata": {},
   "source": [
    "The first line is a concise summary of what the function does. It should start with a capital letter and end with a period. \n",
    "\n",
    "The second line is blank.\n",
    "\n",
    "Then follow the calling conventions - parameter description and any expected side effects.\n",
    "\n",
    "Another good reason for using docstrings is that you can convert them into a documentation webpage using tools like [Sphinx](https://www.sphinx-doc.org/en/master/). For a real-life example, the [Numpy documentation page](https://numpy.org/doc/stable/reference/) (a really valuable tool for data scientists!) was created automatically by using Sphinx with docstrings!"
   ]
  },
  {
   "cell_type": "markdown",
   "metadata": {},
   "source": [
    "### 5.3 Function annotations\n",
    "Function annotations are completely optional. They indicate the data types of the parameters and of the return variables. They can be used by other libraries to provide more helpful error messages and perform type checking. Here is our function with annotations (in the function header):"
   ]
  },
  {
   "cell_type": "code",
   "execution_count": 62,
   "metadata": {},
   "outputs": [],
   "source": [
    "def sanitize_string(string: str) -> str:   \n",
    "                   #notice that the colon comes after the annotation for the return data type\n",
    "    \"\"\"\n",
    "    Cleans a string by removing any characters that are not spaces, numbers or letters. Returns it in lowercase.\n",
    "    \n",
    "    :param string: string to be cleaned\n",
    "    :return: sanitized string\n",
    "    \"\"\"\n",
    "    if type(string) is not str:\n",
    "        print(\"Not a string!\")\n",
    "        return\n",
    "    \n",
    "    # removes any character that is not a space, number or letter\n",
    "    clean_string = re.sub('[^A-Za-z0-9 ]+', '', string)\n",
    "    \n",
    "    return clean_string.lower()"
   ]
  },
  {
   "cell_type": "markdown",
   "metadata": {},
   "source": [
    "That's all about documentation, thank you for reading, have an appreciation meme!"
   ]
  },
  {
   "cell_type": "markdown",
   "metadata": {},
   "source": [
    "<img alt=\"love_python\" src=\"media/program_python.png\" width=\"400\">"
   ]
  },
  {
   "cell_type": "markdown",
   "metadata": {},
   "source": [
    "You did it! We know this is a lot of information about **Functions** but you will get the hang of it with practice. Don't be afraid of failing and trying again, coming back to this whenever you need a revision."
   ]
  },
  {
   "cell_type": "markdown",
   "metadata": {},
   "source": [
    "![Advanced Functions](media/you_got_this.jpeg)"
   ]
  },
  {
   "cell_type": "markdown",
   "metadata": {},
   "source": [
    "### Further reading\n",
    "An advanced example about scopes from the official Python tutorial to blow your mind a bit more: https://docs.python.org/3/tutorial/classes.html#scopes-and-namespaces-example"
   ]
  }
 ],
 "metadata": {
  "kernelspec": {
   "display_name": "Python 3 (ipykernel)",
   "language": "python",
   "name": "python3"
  },
  "language_info": {
   "codemirror_mode": {
    "name": "ipython",
    "version": 3
   },
   "file_extension": ".py",
   "mimetype": "text/x-python",
   "name": "python",
   "nbconvert_exporter": "python",
   "pygments_lexer": "ipython3",
   "version": "3.8.16"
  }
 },
 "nbformat": 4,
 "nbformat_minor": 4
}
