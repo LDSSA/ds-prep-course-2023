{
 "cells": [
  {
   "cell_type": "markdown",
   "id": "66c9f9db",
   "metadata": {
    "nbgrader": {
     "grade": false,
     "grade_id": "cell-4148f12107f9167b",
     "locked": true,
     "schema_version": 3,
     "solution": false,
     "task": false
    }
   },
   "source": [
    "## SLU08 - Functions Intermediate: Exercise notebook"
   ]
  },
  {
   "cell_type": "code",
   "execution_count": 1,
   "id": "1ba83d66",
   "metadata": {
    "nbgrader": {
     "grade": false,
     "grade_id": "cell-4240e9d448c79abd",
     "locked": true,
     "schema_version": 3,
     "solution": false,
     "task": false
    }
   },
   "outputs": [],
   "source": [
    "# Make sure to run this cell or the grading won't work!\n",
    "\n",
    "import math\n",
    "import hashlib\n",
    "import inspect\n",
    "import numpy as np\n",
    "from random import randint\n",
    "from utils import check_call"
   ]
  },
  {
   "cell_type": "markdown",
   "id": "536269bb",
   "metadata": {
    "nbgrader": {
     "grade": false,
     "grade_id": "cell-2bbc03f40e36e1e2",
     "locked": true,
     "schema_version": 3,
     "solution": false,
     "task": false
    }
   },
   "source": [
    "### Exercise 1 (ungraded)\n",
    "\n",
    "Open your favorite text editor and write an answer to the following questions in your own words:\n",
    "\n",
    "1. Explain what are scopes.\n",
    "1. Explain what are namespaces.\n",
    "1. Explain what is local scope.\n",
    "1. Explain what is global scope."
   ]
  },
  {
   "cell_type": "markdown",
   "id": "7f8a92a9",
   "metadata": {},
   "source": [
    "YOUR ANSWER HERE"
   ]
  },
  {
   "cell_type": "markdown",
   "id": "48745737",
   "metadata": {
    "nbgrader": {
     "grade": false,
     "grade_id": "cell-10af449a88fddca1",
     "locked": true,
     "schema_version": 3,
     "solution": false,
     "task": false
    }
   },
   "source": [
    "### Exercise 2\n",
    "Consider the code in the cell below and identify the scopes of the variables."
   ]
  },
  {
   "cell_type": "code",
   "execution_count": 2,
   "id": "5cb32a20",
   "metadata": {
    "nbgrader": {
     "grade": false,
     "grade_id": "cell-62d6e502974d3b00",
     "locked": true,
     "schema_version": 3,
     "solution": false,
     "task": false
    }
   },
   "outputs": [],
   "source": [
    "def hello_world():\n",
    "    a_var = 10\n",
    "    return a_var\n",
    "\n",
    "another_var = 100"
   ]
  },
  {
   "cell_type": "code",
   "execution_count": 3,
   "id": "af08360b",
   "metadata": {
    "nbgrader": {
     "grade": false,
     "grade_id": "cell-954725562970a8a3",
     "locked": false,
     "schema_version": 3,
     "solution": true,
     "task": false
    }
   },
   "outputs": [],
   "source": [
    "# assign the string values of 'local' or 'global' to each answer\n",
    "# a_var_scope = \n",
    "# another_var_scope = \n",
    "\n",
    "### BEGIN SOLUTION\n",
    "a_var_scope = 'local'\n",
    "another_var_scope = 'global'\n",
    "### END SOLUTION`"
   ]
  },
  {
   "cell_type": "code",
   "execution_count": 4,
   "id": "24ed0585",
   "metadata": {
    "nbgrader": {
     "grade": true,
     "grade_id": "cell-5beb29cb41412c43",
     "locked": true,
     "points": 2,
     "schema_version": 3,
     "solution": false,
     "task": false
    }
   },
   "outputs": [
    {
     "name": "stdout",
     "output_type": "stream",
     "text": [
      "Very good, your answer is correct!\n"
     ]
    }
   ],
   "source": [
    "assert hashlib.sha256(a_var_scope.encode()).hexdigest() == '25bf8e1a2393f1108d37029b3df5593236c755742ec93465bbafa9b290bddcf6', 'Incorrect answer for a_var_scope, try again!'\n",
    "assert hashlib.sha256(another_var_scope.encode()).hexdigest() == '8001c27439650c5c5a6b4ed94163b5ddeb4476362c71380e613fa20dfffcef50', 'Incorrect answer for another_var_scope, try again!'\n",
    "print('Very good, your answer is correct!')"
   ]
  },
  {
   "cell_type": "markdown",
   "id": "466836ec",
   "metadata": {
    "nbgrader": {
     "grade": false,
     "grade_id": "cell-0962e053143af5e9",
     "locked": true,
     "schema_version": 3,
     "solution": false,
     "task": false
    }
   },
   "source": [
    "### Exercise 3\n",
    "Consider the code below and find out what will be printed by the four `print` statements. Think about it without running the code."
   ]
  },
  {
   "cell_type": "markdown",
   "id": "46df0b67",
   "metadata": {
    "nbgrader": {
     "grade": false,
     "grade_id": "cell-4bfb6b407e350992",
     "locked": true,
     "schema_version": 3,
     "solution": false,
     "task": false
    }
   },
   "source": [
    "```python\n",
    "def parallel_universe():\n",
    "    a = 10\n",
    "    print(a) # first print\n",
    "\n",
    "    def hello_universe():\n",
    "        print(a) # second print\n",
    "\n",
    "    def good_morning_sunshine(a):\n",
    "        print(a) # third print\n",
    "        a = 50\n",
    "    \n",
    "    hello_universe()\n",
    "    good_morning_sunshine(a)\n",
    "\n",
    "a = 200\n",
    "parallel_universe()\n",
    "print(a)  # fourth print\n",
    "```"
   ]
  },
  {
   "cell_type": "code",
   "execution_count": 5,
   "id": "88c7953c",
   "metadata": {
    "nbgrader": {
     "grade": false,
     "grade_id": "cell-f108f9b2b1624025",
     "locked": false,
     "schema_version": 3,
     "solution": true,
     "task": false
    }
   },
   "outputs": [],
   "source": [
    "# Assign the output of the corresponding print statement to these variables:\n",
    "# print_1 = \n",
    "# print_2 = \n",
    "# print_3 = \n",
    "# print_4 = \n",
    "\n",
    "### BEGIN SOLUTION\n",
    "print_1 = 10\n",
    "print_2 = 10\n",
    "print_3 = 10\n",
    "print_4 = 200\n",
    "\n",
    "### END SOLUTION"
   ]
  },
  {
   "cell_type": "code",
   "execution_count": 6,
   "id": "df42f1f3",
   "metadata": {
    "nbgrader": {
     "grade": true,
     "grade_id": "cell-6f0bede927d6d49f",
     "locked": true,
     "points": 3,
     "schema_version": 3,
     "solution": false,
     "task": false
    }
   },
   "outputs": [
    {
     "name": "stdout",
     "output_type": "stream",
     "text": [
      "Very good, your answer is correct!\n"
     ]
    }
   ],
   "source": [
    "assert hashlib.sha256(str(print_1).encode()).hexdigest() == '4a44dc15364204a80fe80e9039455cc1608281820fe2b24f1e5233ade6af1dd5', 'print_1 is not correct.'\n",
    "assert hashlib.sha256(str(print_2*2).encode()).hexdigest() == 'f5ca38f748a1d6eaf726b8a42fb575c3c71f1864a8143301782de13da2d9202b', 'print_2 is not correct.'\n",
    "assert hashlib.sha256(str(print_3*3).encode()).hexdigest() == '624b60c58c9d8bfb6ff1886c2fd605d2adeb6ea4da576068201b6c6958ce93f4', 'print_3 is not correct.'\n",
    "assert hashlib.sha256(str(print_4*4).encode()).hexdigest() == '1a1cf797fabe7f95836fabeca626907c77b3e6c9aff7c2290b396a238c69362e', 'print_4 is not correct.'\n",
    "print('Very good, your answer is correct!')"
   ]
  },
  {
   "cell_type": "markdown",
   "id": "4578b0b7",
   "metadata": {
    "nbgrader": {
     "grade": false,
     "grade_id": "cell-976d3df09068946a",
     "locked": true,
     "schema_version": 3,
     "solution": false,
     "task": false
    }
   },
   "source": [
    "### Exercise 4 (ungraded)\n",
    "Consider the code below. This code does not work. Think about why and write down you answer in the cell below."
   ]
  },
  {
   "cell_type": "markdown",
   "id": "a5daa43c",
   "metadata": {
    "nbgrader": {
     "grade": false,
     "grade_id": "cell-bdc3f99859e53dcd",
     "locked": true,
     "schema_version": 3,
     "solution": false,
     "task": false
    }
   },
   "source": [
    "```python\n",
    "outside_var = 100\n",
    "\n",
    "def hello_world_complicated():\n",
    "    print(outside_var) # first print\n",
    "    a_var = 10\n",
    "    outside_var = 200\n",
    "    print(outside_var) # second print\n",
    "\n",
    "hello_world_complicated()\n",
    "```"
   ]
  },
  {
   "cell_type": "markdown",
   "id": "e814bb27",
   "metadata": {},
   "source": [
    "YOUR ANSWER HERE"
   ]
  },
  {
   "cell_type": "markdown",
   "id": "61843c36",
   "metadata": {
    "nbgrader": {
     "grade": false,
     "grade_id": "cell-75805d6a7bea1c78",
     "locked": true,
     "schema_version": 3,
     "solution": false,
     "task": false
    }
   },
   "source": [
    "### Exercise 5\n",
    "\n",
    "Now you'll see first hand how local and global scope can clash (and potentially create problems).\n",
    "\n",
    "Consider the code below. Without running the code, think about what will be the values of the variables `my_value_1` and `my_value_2`. Fill in the values of both lists in your answer."
   ]
  },
  {
   "cell_type": "markdown",
   "id": "8454ff08",
   "metadata": {
    "nbgrader": {
     "grade": false,
     "grade_id": "cell-21d792706bea5527",
     "locked": true,
     "schema_version": 3,
     "solution": false,
     "task": false
    }
   },
   "source": [
    "```python\n",
    "a_list = [1, 2, 3]\n",
    "\n",
    "def hello():\n",
    "    another_list = a_list\n",
    "    another_list.append(4)\n",
    "    \n",
    "my_value_1 = a_list + [5]\n",
    "hello()\n",
    "my_value_2 = a_list\n",
    "```"
   ]
  },
  {
   "cell_type": "code",
   "execution_count": 7,
   "id": "251313be",
   "metadata": {
    "nbgrader": {
     "grade": false,
     "grade_id": "cell-eb4e9cfc837086c7",
     "locked": false,
     "schema_version": 3,
     "solution": true,
     "task": false
    }
   },
   "outputs": [],
   "source": [
    "# fill in the values of the list variables \n",
    "my_value_1 = [] \n",
    "my_value_2 = []\n",
    "\n",
    "### BEGIN SOLUTION\n",
    "my_value_1 = [1, 2, 3, 5]\n",
    "my_value_2 = [1, 2, 3, 4]\n",
    "### END SOLUTION"
   ]
  },
  {
   "cell_type": "code",
   "execution_count": 8,
   "id": "86be09d7",
   "metadata": {
    "nbgrader": {
     "grade": true,
     "grade_id": "cell-6938960a9a0f275f",
     "locked": true,
     "points": 4,
     "schema_version": 3,
     "solution": false,
     "task": false
    }
   },
   "outputs": [
    {
     "name": "stdout",
     "output_type": "stream",
     "text": [
      "Very good, your answer is correct!\n"
     ]
    }
   ],
   "source": [
    "assert isinstance(my_value_1,list)\n",
    "assert hashlib.sha256(str(len(my_value_1)).encode()).hexdigest() == '4b227777d4dd1fc61c6f884f48641d02b4d121d3fd328cb08b5531fcacdabf8a', 'The length of the list my_value_1 is not correct.'\n",
    "assert hashlib.sha256(str(min(my_value_1)).encode()).hexdigest() == '6b86b273ff34fce19d6b804eff5a3f5747ada4eaa22f1d49c01e52ddb7875b4b', 'The values in the list my_value_1 are not correct.'\n",
    "assert hashlib.sha256(str(max(my_value_1)).encode()).hexdigest() == 'ef2d127de37b942baad06145e54b0c619a1f22327b2ebbcfbec78f5564afe39d', 'The values in the list my_value_1 are not correct.'\n",
    "assert hashlib.sha256(str(sum(my_value_1)).encode()).hexdigest() == '4fc82b26aecb47d2868c4efbe3581732a3e7cbcc6c2efb32062c08170a05eeb8', 'The values in the list my_value_1 are not correct.'\n",
    "assert hashlib.sha256(str(np.mean(my_value_1)).encode()).hexdigest() == '73af98c887a3fd39bb0bf46ca51699e9c8c250db05a7452ee522614ff657b886', 'The values in the list my_value_1 are not correct.'\n",
    "assert isinstance(my_value_2,list)\n",
    "assert hashlib.sha256(str(len(my_value_2)).encode()).hexdigest() == '4b227777d4dd1fc61c6f884f48641d02b4d121d3fd328cb08b5531fcacdabf8a', 'The length of the list my_value_2 is not correct.'\n",
    "assert hashlib.sha256(str(min(my_value_2)).encode()).hexdigest() == '6b86b273ff34fce19d6b804eff5a3f5747ada4eaa22f1d49c01e52ddb7875b4b', 'The values in the list my_value_2 are not correct.'\n",
    "assert hashlib.sha256(str(max(my_value_2)).encode()).hexdigest() == '4b227777d4dd1fc61c6f884f48641d02b4d121d3fd328cb08b5531fcacdabf8a', 'The values in the list my_value_2 are not correct.'\n",
    "assert hashlib.sha256(str(sum(my_value_2)).encode()).hexdigest() == '4a44dc15364204a80fe80e9039455cc1608281820fe2b24f1e5233ade6af1dd5', 'The values in the list my_value_2 are not correct.'\n",
    "assert hashlib.sha256(str(np.mean(my_value_2)).encode()).hexdigest() == 'b8736b999909049671d0ea075a42b308a5fbe2df1854899123fe09eb0ee9de61', 'The values in the list my_value_2 are not correct.'\n",
    "\n",
    "print('Very good, your answer is correct!')"
   ]
  },
  {
   "cell_type": "markdown",
   "id": "0dd7c01f",
   "metadata": {
    "nbgrader": {
     "grade": false,
     "grade_id": "cell-7c144dac9d889360",
     "locked": true,
     "schema_version": 3,
     "solution": false,
     "task": false
    }
   },
   "source": [
    "### Exercise 6.1\n",
    "Create a function with the following specifications:\n",
    "- Create a function called `use_global_scope` that takes two arguments\n",
    "- The first argument is called `multiply_by` and should be an integer\n",
    "- The second argument is called `a_number` and is a number\n",
    "- The function should return the value of `a_number` multiplied by `multiply_by`\n",
    "- If `multiply_by` is not an integer, the function returns `None`"
   ]
  },
  {
   "cell_type": "code",
   "execution_count": 9,
   "id": "ee6ff04d",
   "metadata": {
    "nbgrader": {
     "grade": false,
     "grade_id": "cell-677ed0e5bc6a02ac",
     "locked": false,
     "schema_version": 3,
     "solution": true,
     "task": false
    }
   },
   "outputs": [],
   "source": [
    "### BEGIN SOLUTION\n",
    "\n",
    "def use_global_scope(multiply_by, a_number):\n",
    "    if type(multiply_by) is not int:\n",
    "        return None\n",
    "    \n",
    "    return multiply_by * a_number\n",
    "### END SOLUTION"
   ]
  },
  {
   "cell_type": "code",
   "execution_count": 10,
   "id": "9ccb7487",
   "metadata": {
    "nbgrader": {
     "grade": true,
     "grade_id": "cell-eb4e97d47bbb5aa8",
     "locked": true,
     "points": 4,
     "schema_version": 3,
     "solution": false,
     "task": false
    }
   },
   "outputs": [
    {
     "name": "stdout",
     "output_type": "stream",
     "text": [
      "Very good, your answer is correct!\n"
     ]
    }
   ],
   "source": [
    "# check function source\n",
    "sig = inspect.signature(use_global_scope)\n",
    "source = inspect.getsource(use_global_scope)\n",
    "source_lines = source.split('\\n')\n",
    "params = sig.parameters\n",
    "\n",
    "# check function name\n",
    "assert ' '.join(source_lines[0].split('(')[0].split())=='def use_global_scope', 'The function name is not correct.' \n",
    "\n",
    "# check function parameters\n",
    "assert len(params) == 2, 'The function should take two parameters.'\n",
    "assert list(params.keys())[0] == 'multiply_by', 'The name of the first parameter is not correct.'\n",
    "assert list(params.keys())[1] == 'a_number', 'The name of the second parameter is not correct.'\n",
    "\n",
    "# test function\n",
    "i1=randint(0,100)\n",
    "i2=randint(0,100)\n",
    "assert use_global_scope(i1,i2) == i1*i2, 'The function is not multiplying correctly.'\n",
    "i1=randint(0,100)\n",
    "i2=randint(0,100)/4\n",
    "assert use_global_scope(i1,i2) == i1*i2, 'The function is not multiplying correctly.'\n",
    "assert use_global_scope(1.45,6739) == None, 'If multiply_by is not an integer, the function should return None.'\n",
    "\n",
    "print('Very good, your answer is correct!')"
   ]
  },
  {
   "cell_type": "markdown",
   "id": "13a551e6",
   "metadata": {
    "nbgrader": {
     "grade": false,
     "grade_id": "cell-b83ac1824fa58e81",
     "locked": true,
     "schema_version": 3,
     "solution": false,
     "task": false
    }
   },
   "source": [
    "### Exercise 6.2 \n",
    "Now use the function you've defined in 6.1:\n",
    "- Create a global variable called `a_number` and assign it the value of `2`.\n",
    "- Call the `use_global_scope` function, passing one positional and one keyword argument.\n",
    "- Use the global variable as the value of the `a_number` argument.\n",
    "- Use 14 as the value of the `multiply_by` argument."
   ]
  },
  {
   "cell_type": "code",
   "execution_count": 11,
   "id": "c5e11957",
   "metadata": {
    "nbgrader": {
     "grade": false,
     "grade_id": "cell-d77f348198eb2cd6",
     "locked": false,
     "schema_version": 3,
     "solution": true,
     "task": false
    }
   },
   "outputs": [
    {
     "data": {
      "text/plain": [
       "28"
      ]
     },
     "execution_count": 11,
     "metadata": {},
     "output_type": "execute_result"
    }
   ],
   "source": [
    "### BEGIN SOLUTION\n",
    "a_number = 2\n",
    "use_global_scope(14, a_number = a_number)\n",
    "### END SOLUTION"
   ]
  },
  {
   "cell_type": "code",
   "execution_count": 12,
   "id": "69394631",
   "metadata": {
    "nbgrader": {
     "grade": true,
     "grade_id": "cell-9ea37f9eaa3577b0",
     "locked": true,
     "points": 3,
     "schema_version": 3,
     "solution": false,
     "task": false
    }
   },
   "outputs": [
    {
     "name": "stdout",
     "output_type": "stream",
     "text": [
      "Very good, your answer is correct!\n"
     ]
    }
   ],
   "source": [
    "# check the a_number variable\n",
    "'a_number' in globals().keys(), 'The variable a_number does not exist.'\n",
    "assert a_number == 2, 'The value of a_number should be 2.'\n",
    "\n",
    "# check the function call\n",
    "keys_list=list(globals().keys())\n",
    "l_keys=len(keys_list)\n",
    "output=' '.join([str(globals()[keys_list[i]]) for i in range(l_keys-10,l_keys)])\n",
    "output_w_spaces=''.join(output.split())\n",
    "assert check_call(output_w_spaces), 'Are you calling the function as specified?'\n",
    "\n",
    "print('Very good, your answer is correct!')"
   ]
  },
  {
   "cell_type": "markdown",
   "id": "65c3432d",
   "metadata": {
    "nbgrader": {
     "grade": false,
     "grade_id": "cell-720550889d968379",
     "locked": true,
     "schema_version": 3,
     "solution": false,
     "task": false
    }
   },
   "source": [
    "### Exercise 7\n",
    "\n",
    "In this exercise, you will create a function that multiplies all the elements of a list\n",
    "by a given number.\n",
    "\n",
    "- Create a function named `multiply_list`.\n",
    "- The function should have two parameters, `my_list` and `multiply_by`.\n",
    "- The `my_list` parameter is a list.\n",
    "- The `multiply_by` parameter is a number and its default value is `2`.\n",
    "- The function should multiply all the elements of `my_list` by `multiply_by` and return the result (which will also be a list).\n",
    "- The function should not modify the input list."
   ]
  },
  {
   "cell_type": "code",
   "execution_count": 13,
   "id": "6a29453d",
   "metadata": {
    "nbgrader": {
     "grade": false,
     "grade_id": "cell-01eeb359131095df",
     "locked": false,
     "schema_version": 3,
     "solution": true,
     "task": false
    }
   },
   "outputs": [],
   "source": [
    "### BEGIN SOLUTION\n",
    "\n",
    "def multiply_list(my_list, multiply_by=2):\n",
    "    multiplied_by = []\n",
    "    for num in my_list:\n",
    "        multiplied_by.append(num * multiply_by)\n",
    "    return multiplied_by\n",
    "### END SOLUTION"
   ]
  },
  {
   "cell_type": "code",
   "execution_count": 14,
   "id": "6d1f5fb0",
   "metadata": {
    "nbgrader": {
     "grade": true,
     "grade_id": "cell-1816949c415ea5af",
     "locked": true,
     "points": 4,
     "schema_version": 3,
     "solution": false,
     "task": false
    }
   },
   "outputs": [
    {
     "name": "stdout",
     "output_type": "stream",
     "text": [
      "Very good, your answer is correct!\n"
     ]
    }
   ],
   "source": [
    "# check function source\n",
    "sig = inspect.signature(multiply_list)\n",
    "source = inspect.getsource(multiply_list)\n",
    "params = sig.parameters\n",
    "source_lines = source.split('\\n')\n",
    "\n",
    "# check function name\n",
    "assert ' '.join(source_lines[0].split('(')[0].split())=='def multiply_list', 'The function name is not correct.' \n",
    "\n",
    "# check function parameters\n",
    "assert len(params) == 2, 'The function should take two parameters.'\n",
    "assert 'my_list' in params, 'The function should a parameter called my_list.'\n",
    "assert 'multiply_by' in params, 'The function should have a parameter called multiply_by.'\n",
    "assert params['multiply_by'].default == 2, 'The multiply_by parameter should have a default value of 2.'\n",
    "\n",
    "# test function\n",
    "test_list=[randint(0,100) for i in range(randint(1,10))]\n",
    "sum_list=sum(test_list)\n",
    "result_list = multiply_list(my_list=test_list,multiply_by=13) \n",
    "assert sum_list == sum(test_list), 'The function should not modify the input list.'\n",
    "test_list=[randint(0,100) for i in range(randint(1,10))]\n",
    "result_list = multiply_list(test_list)\n",
    "assert sum(result_list) == sum(test_list)*2, 'The function is not multiplying correctly.'\n",
    "test_list=[randint(0,100) for i in range(randint(1,10))]\n",
    "result_list = multiply_list(my_list=test_list,multiply_by=12) \n",
    "assert sum(result_list) == sum(test_list)*12, 'The function is not multiplying correctly.'\n",
    "\n",
    "print('Very good, your answer is correct!')"
   ]
  },
  {
   "cell_type": "markdown",
   "id": "062eed1e",
   "metadata": {
    "nbgrader": {
     "grade": false,
     "grade_id": "cell-134126b2db568265",
     "locked": true,
     "schema_version": 3,
     "solution": false,
     "task": false
    }
   },
   "source": [
    "# Submit your work!\n",
    "\n",
    "To grade your exercise notebook and submit your work to the portal, [follow the instructions in the weekly workflow!](https://github.com/LDSSA/ds-prep-course-2023/blob/main/weekly-workflow.md#link-to-grading)"
   ]
  }
 ],
 "metadata": {
  "celltoolbar": "Create Assignment",
  "kernelspec": {
   "display_name": "Python 3 (ipykernel)",
   "language": "python",
   "name": "python3"
  },
  "language_info": {
   "codemirror_mode": {
    "name": "ipython",
    "version": 3
   },
   "file_extension": ".py",
   "mimetype": "text/x-python",
   "name": "python",
   "nbconvert_exporter": "python",
   "pygments_lexer": "ipython3",
   "version": "3.8.16"
  }
 },
 "nbformat": 4,
 "nbformat_minor": 5
}
