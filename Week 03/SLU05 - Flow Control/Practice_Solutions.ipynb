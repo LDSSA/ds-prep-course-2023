{
 "cells": [
  {
   "cell_type": "markdown",
   "id": "fc1a8838",
   "metadata": {},
   "source": [
    "# SLU05 - Python flow control - Practice - SOLUTIONS\n"
   ]
  },
  {
   "cell_type": "markdown",
   "id": "b7393b76",
   "metadata": {},
   "source": [
    "Welcome to Planet X\n",
    "\n",
    "Your spaceship has only just landed when you learn that on Planet X only beings with a minimum knowledge of flow control in Python are allowed to leave the station. \n",
    "You are guided to a tunnel that will either be the entry to the wondrous world of Planet X where you will be admitted as a spectator of the Games X or ... your end. "
   ]
  },
  {
   "cell_type": "markdown",
   "id": "26f20304",
   "metadata": {},
   "source": [
    "### *Only read on if you already went through the Practice Notebook, or if you do not intend to do so*"
   ]
  },
  {
   "cell_type": "code",
   "execution_count": 3,
   "id": "9909a2cb",
   "metadata": {},
   "outputs": [],
   "source": [
    "from solutions import solution1, solution2, solution3, solution4, solution5, solution6, solution7"
   ]
  },
  {
   "cell_type": "markdown",
   "id": "cbc8d44c",
   "metadata": {},
   "source": [
    "### Challenge 1"
   ]
  },
  {
   "cell_type": "markdown",
   "id": "fef8b2c5",
   "metadata": {},
   "source": [
    "Upon entering the tunnel you see a tile in the floor reading: *Which of the following statements will be True? Step on the correct answer to cross this tile!*\n",
    "\n",
    "A:  3 < 2\n",
    "\n",
    "B:  A==a\n",
    "\n",
    "C:  3!=3\n",
    "\n",
    "D:  23<=23\n",
    "\n",
    "Which is the answer to step on?"
   ]
  },
  {
   "cell_type": "code",
   "execution_count": 4,
   "id": "7e6c2894",
   "metadata": {},
   "outputs": [],
   "source": [
    "# Your answer here:\n",
    "# example:\n",
    "answer = \"D\""
   ]
  },
  {
   "cell_type": "code",
   "execution_count": 5,
   "id": "cbce0a13",
   "metadata": {},
   "outputs": [
    {
     "name": "stdout",
     "output_type": "stream",
     "text": [
      "Congratulations, you passed the tile\n"
     ]
    }
   ],
   "source": [
    "solution1(answer)"
   ]
  },
  {
   "cell_type": "markdown",
   "id": "44961909",
   "metadata": {},
   "source": [
    "### Challenge 2"
   ]
  },
  {
   "cell_type": "markdown",
   "id": "744ee1fa",
   "metadata": {},
   "source": [
    "You continue down the corridor. A screen appears in front of you and asks you to translate the follwing text into python code:\n",
    "- create two variables, a variable called \"a\" should be the integer 1 and a variable called \"b\" should be the integer ninety-nine\n",
    "- create a variable called \"expression1\", a boolean value, with value \"a is larger than b\"\n",
    "- create a variable called \"expression2\", a boolean value, with value \"a is smaller than b\"\n",
    "- create a variable called \"expression3\", a boolean value, with value \"at least one of the expressions expression1 or expression2 is true\"\n",
    "- create a variable called \"expression4\", a boolean value, with value \"both of the expressions expression1 and expression2 are true\"\n"
   ]
  },
  {
   "cell_type": "code",
   "execution_count": 6,
   "id": "c71feb78",
   "metadata": {},
   "outputs": [],
   "source": [
    "#Your answer here:\n",
    "a=1\n",
    "b=99\n",
    "expression1=a>b\n",
    "expression2=a<b\n",
    "expression3=expression1 or expression2\n",
    "expression4=expression1 and expression2"
   ]
  },
  {
   "cell_type": "code",
   "execution_count": 7,
   "id": "655e4a28",
   "metadata": {},
   "outputs": [
    {
     "name": "stdout",
     "output_type": "stream",
     "text": [
      "Your answers:\n",
      "a=1\n",
      "b=99\n",
      "expression1=False\n",
      "expression2=True\n",
      "expression3=True\n",
      "expression4=False\n",
      "The screen vanishes, you may pass!\n"
     ]
    }
   ],
   "source": [
    "solution2(a,b,expression1,expression2,expression3,expression4)"
   ]
  },
  {
   "cell_type": "markdown",
   "id": "bfaac799",
   "metadata": {},
   "source": [
    "### Challenge 3"
   ]
  },
  {
   "cell_type": "markdown",
   "id": "35ed9ac1",
   "metadata": {},
   "source": [
    "Just a few more steps down the corridor a robot rolls in your way and asks: \n",
    "\n",
    "*What text will the following code print?*\n",
    "<img src=\"./media/easy_if.PNG\" />\n"
   ]
  },
  {
   "cell_type": "code",
   "execution_count": 8,
   "id": "61d60b51",
   "metadata": {},
   "outputs": [],
   "source": [
    "answer=\"B\""
   ]
  },
  {
   "cell_type": "code",
   "execution_count": 9,
   "id": "9306032c",
   "metadata": {},
   "outputs": [
    {
     "name": "stdout",
     "output_type": "stream",
     "text": [
      "The robot deactivates and you pass.\n"
     ]
    }
   ],
   "source": [
    "solution3(answer)"
   ]
  },
  {
   "cell_type": "markdown",
   "id": "e0c6b637",
   "metadata": {},
   "source": [
    "### Challenge 4 "
   ]
  },
  {
   "cell_type": "markdown",
   "id": "d517f4d3",
   "metadata": {},
   "source": [
    "You continue down the corridor and around a corner where you find a table with an elderly lady sitting next to it, knitting. She asks you to use a for loop to loop over a range of all whole numbers from 1 to 10 and append each number to a list \"var\"."
   ]
  },
  {
   "cell_type": "code",
   "execution_count": 10,
   "id": "3a7e0c36",
   "metadata": {},
   "outputs": [],
   "source": [
    "var=[]\n",
    "for i in range(1,11):\n",
    "    var.append(i)"
   ]
  },
  {
   "cell_type": "code",
   "execution_count": 11,
   "id": "1e4c2dff",
   "metadata": {},
   "outputs": [
    {
     "name": "stdout",
     "output_type": "stream",
     "text": [
      "[1, 2, 3, 4, 5, 6, 7, 8, 9, 10]\n",
      "The lady nods and says 'lets take this up a notch, shall we?'\n"
     ]
    }
   ],
   "source": [
    "print(var)\n",
    "solution4(var)"
   ]
  },
  {
   "cell_type": "markdown",
   "id": "7ec1787b",
   "metadata": {},
   "source": [
    "### Challenge 5"
   ]
  },
  {
   "cell_type": "markdown",
   "id": "17f5e149",
   "metadata": {},
   "source": [
    "She tilts her head to the side... You did not think passing me was that easy, did you? Use  a while loop to loop over the string \"EMIT DRAWER\" and put all its characters in a list, but backwards!"
   ]
  },
  {
   "cell_type": "code",
   "execution_count": 12,
   "id": "b7d710ed",
   "metadata": {},
   "outputs": [],
   "source": [
    "#while\n",
    "string=\"EMIT DRAWER\"\n",
    "answer=[]\n",
    "\n",
    "i=len(string)\n",
    "while (i>0):\n",
    "    i=i-1\n",
    "    answer.append(string[i])\n",
    "    "
   ]
  },
  {
   "cell_type": "code",
   "execution_count": 13,
   "id": "160e0c59",
   "metadata": {},
   "outputs": [
    {
     "name": "stdout",
     "output_type": "stream",
     "text": [
      "['R', 'E', 'W', 'A', 'R', 'D', ' ', 'T', 'I', 'M', 'E']\n",
      "Well done, not much more and you shall be free. While you walk down the corridor you feel the ladys eyes in your back.\n"
     ]
    }
   ],
   "source": [
    "print(answer)\n",
    "solution5(answer)"
   ]
  },
  {
   "cell_type": "markdown",
   "id": "13e5b47e",
   "metadata": {},
   "source": [
    "### Challenge 6"
   ]
  },
  {
   "cell_type": "markdown",
   "id": "980883a8",
   "metadata": {},
   "source": [
    "You arrive at a wall that appears to be the end of the corridor. On the wall you discover letters with yet another task:\n",
    "\n",
    "From the string below extract the letters in the indices given in the list:\n",
    "\n",
    "- string = \"You are weirdly most welcome to Planet X!\"\n",
    "- solution_index = [4,8,9,18,25,26,27]\n"
   ]
  },
  {
   "cell_type": "code",
   "execution_count": 14,
   "id": "c10a601d",
   "metadata": {},
   "outputs": [],
   "source": [
    "string =\"You are weirdly most welcome to Planet X\"\n",
    "solution_index=[4,8,9,18,25,26,27]\n",
    "answer=[]\n",
    "for i in solution_index:\n",
    "    answer.append(string[i])"
   ]
  },
  {
   "cell_type": "code",
   "execution_count": 15,
   "id": "77c507f7",
   "metadata": {},
   "outputs": [
    {
     "name": "stdout",
     "output_type": "stream",
     "text": [
      "['a', 'w', 'e', 's', 'o', 'm', 'e']\n",
      "The wall vanishes and you blink as your eyes adjust to the sunshine of Planet X\n"
     ]
    }
   ],
   "source": [
    "print(answer)\n",
    "solution6(answer)"
   ]
  },
  {
   "cell_type": "markdown",
   "id": "e41690f1",
   "metadata": {},
   "source": [
    "### Challenge 7"
   ]
  },
  {
   "cell_type": "markdown",
   "id": "3714b508",
   "metadata": {},
   "source": [
    "Outside you meet an inhabitant of Planet X. They suggest you could win a special spectator seat for the Games X if you manage to solve the exercise in just one line using list comprehension! Sounds great!\n",
    "\n",
    "From a range of numbers from 1 to 77 find the ones that are divisible without rest by 2 and 3 and 7 and put them in a list!"
   ]
  },
  {
   "cell_type": "code",
   "execution_count": 16,
   "id": "9a64f781",
   "metadata": {},
   "outputs": [],
   "source": [
    "answer=[i for i in range (1,78) if i%2==0 and i%3==0 and i%7==0]\n",
    "        "
   ]
  },
  {
   "cell_type": "code",
   "execution_count": null,
   "id": "2b9cf3ba",
   "metadata": {},
   "outputs": [],
   "source": [
    "print(answer)\n",
    "solution7(answer)"
   ]
  },
  {
   "cell_type": "code",
   "execution_count": null,
   "id": "5aa3c75f",
   "metadata": {},
   "outputs": [],
   "source": []
  }
 ],
 "metadata": {
  "kernelspec": {
   "display_name": "Python 3 (ipykernel)",
   "language": "python",
   "name": "python3"
  },
  "language_info": {
   "codemirror_mode": {
    "name": "ipython",
    "version": 3
   },
   "file_extension": ".py",
   "mimetype": "text/x-python",
   "name": "python",
   "nbconvert_exporter": "python",
   "pygments_lexer": "ipython3",
   "version": "3.8.10"
  }
 },
 "nbformat": 4,
 "nbformat_minor": 5
}
