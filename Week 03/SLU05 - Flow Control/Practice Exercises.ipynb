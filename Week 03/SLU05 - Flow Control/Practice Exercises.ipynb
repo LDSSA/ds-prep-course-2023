{
 "cells": [
  {
   "cell_type": "markdown",
   "id": "fc1a8838",
   "metadata": {},
   "source": [
    "# SLU05 - Python flow control - Practice\n"
   ]
  },
  {
   "cell_type": "markdown",
   "id": "b7393b76",
   "metadata": {},
   "source": [
    "Welcome to Planet X\n",
    "\n",
    "Your spaceship has only just landed when you learn that on Planet X only beings with a minimum knowledge of flow control in Python are allowed to leave the station. \n",
    "You are guided to a tunnel that will either be the entry to the wondrous world of Planet X where you will be admitted as a spectator of the Games X or ... your end. "
   ]
  },
  {
   "cell_type": "markdown",
   "id": "76f847fe",
   "metadata": {},
   "source": [
    "*We created this notebook for those that would like to practice their new flow control skills a bit before starting on the Exercise Notebook. Feel free to play around here as much as you like, it is ungraded and there are no points given for the solution of the exercises - after going through this notebook you can also check the Notebook Practice_Solutions*\n",
    "\n",
    "**Hint:** Should you by any accident or intention create an infinite loop (you were duly warned about those in the Learning Notebooks) try interrupting the Kernel, for example by clicking on Kernel in the menu, then on Interrupt!"
   ]
  },
  {
   "cell_type": "code",
   "execution_count": null,
   "id": "9909a2cb",
   "metadata": {},
   "outputs": [],
   "source": [
    "from solutions import solution1, solution2, solution3, solution4, solution5, solution6, solution7"
   ]
  },
  {
   "cell_type": "markdown",
   "id": "cbc8d44c",
   "metadata": {},
   "source": [
    "### Challenge 1"
   ]
  },
  {
   "cell_type": "markdown",
   "id": "fef8b2c5",
   "metadata": {},
   "source": [
    "Upon entering the tunnel you see a tile in the floor reading: *Which of the following statements will be True? Step on the correct answer to cross this tile!*\n",
    "\n",
    "A:  3 < 2\n",
    "\n",
    "B:  A==a\n",
    "\n",
    "C:  3!=3\n",
    "\n",
    "D:  23<=23\n",
    "\n",
    "Which is the answer to step on?"
   ]
  },
  {
   "cell_type": "code",
   "execution_count": null,
   "id": "7e6c2894",
   "metadata": {},
   "outputs": [],
   "source": [
    "# Your answer here:\n",
    "# example:\n",
    "answer = \"E\""
   ]
  },
  {
   "cell_type": "code",
   "execution_count": null,
   "id": "cbce0a13",
   "metadata": {},
   "outputs": [],
   "source": [
    "solution1(answer)"
   ]
  },
  {
   "cell_type": "markdown",
   "id": "44961909",
   "metadata": {},
   "source": [
    "### Challenge 2"
   ]
  },
  {
   "cell_type": "markdown",
   "id": "744ee1fa",
   "metadata": {},
   "source": [
    "You continue down the corridor. A screen appears in front of you and asks you to translate the follwing text into python code:\n",
    "- create two variables, a variable called \"a\" should be the integer 1 and a variable called \"b\" should be the integer ninety-nine\n",
    "- create a variable called \"expression1\", a boolean value, with value \"a is larger than b\"\n",
    "- create a variable called \"expression2\", a boolean value, with value \"a is smaller than b\"\n",
    "- create a variable called \"expression3\", a boolean value, with value \"at least one of the expressions expression1 or expression2 is true\"\n",
    "- create a variable called \"expression4\", a boolean value, with value \"both of the expressions expression1 and expression2 are true\"\n"
   ]
  },
  {
   "cell_type": "code",
   "execution_count": null,
   "id": "c71feb78",
   "metadata": {},
   "outputs": [],
   "source": [
    "#Your answer here:\n",
    "#a=\n",
    "#b=\n",
    "#expression1=\n",
    "#expression2=\n",
    "#expression3=\n",
    "#expression4="
   ]
  },
  {
   "cell_type": "code",
   "execution_count": null,
   "id": "655e4a28",
   "metadata": {},
   "outputs": [],
   "source": [
    "solution2(a,b,expression1,expression2,expression3,expression4)"
   ]
  },
  {
   "cell_type": "markdown",
   "id": "bfaac799",
   "metadata": {},
   "source": [
    "### Challenge 3"
   ]
  },
  {
   "cell_type": "markdown",
   "id": "35ed9ac1",
   "metadata": {},
   "source": [
    "Just a few more steps down the corridor a robot rolls in your way and asks: \n",
    "\n",
    "*What text will the following code print?*\n",
    "<img src=\"./media/easy_if.PNG\" />\n"
   ]
  },
  {
   "cell_type": "code",
   "execution_count": null,
   "id": "61d60b51",
   "metadata": {},
   "outputs": [],
   "source": [
    "answer=\"E\""
   ]
  },
  {
   "cell_type": "code",
   "execution_count": null,
   "id": "9306032c",
   "metadata": {},
   "outputs": [],
   "source": [
    "solution3(answer)"
   ]
  },
  {
   "cell_type": "markdown",
   "id": "e0c6b637",
   "metadata": {},
   "source": [
    "### Challenge 4 "
   ]
  },
  {
   "cell_type": "markdown",
   "id": "d517f4d3",
   "metadata": {},
   "source": [
    "You continue down the corridor and around a corner where you find a table with an elderly lady sitting next to it, knitting. She asks you to use a for loop to loop over a range of all whole numbers from 1 to 10 and append each number to a list \"var\"."
   ]
  },
  {
   "cell_type": "code",
   "execution_count": null,
   "id": "3a7e0c36",
   "metadata": {},
   "outputs": [],
   "source": [
    "var=[]"
   ]
  },
  {
   "cell_type": "code",
   "execution_count": null,
   "id": "1d565122",
   "metadata": {},
   "outputs": [],
   "source": [
    "print(var)\n",
    "solution4(var)"
   ]
  },
  {
   "cell_type": "markdown",
   "id": "7ec1787b",
   "metadata": {},
   "source": [
    "### Challenge 5"
   ]
  },
  {
   "cell_type": "markdown",
   "id": "17f5e149",
   "metadata": {},
   "source": [
    "She tilts her head to the side... You did not think passing me was that easy, did you? Use  a while loop to loop over the string \"EMIT DRAWER\" and put all its characters in a list, but backwards!"
   ]
  },
  {
   "cell_type": "code",
   "execution_count": null,
   "id": "b7d710ed",
   "metadata": {},
   "outputs": [],
   "source": [
    "#while\n",
    "string=\"EMIT DRAWER\"\n",
    "answer=[]\n",
    "\n",
    "    "
   ]
  },
  {
   "cell_type": "code",
   "execution_count": null,
   "id": "160e0c59",
   "metadata": {},
   "outputs": [],
   "source": [
    "print(answer)\n",
    "solution5(answer)"
   ]
  },
  {
   "cell_type": "markdown",
   "id": "13e5b47e",
   "metadata": {},
   "source": [
    "### Challenge 6"
   ]
  },
  {
   "cell_type": "markdown",
   "id": "980883a8",
   "metadata": {},
   "source": [
    "You arrive at a wall that appears to be the end of the corridor. On the wall you discover letters with yet another task:\n",
    "\n",
    "From the string below extract the letters in the indices given in the list:\n",
    "\n",
    "- string = \"You are weirdly most welcome to Planet X!\"\n",
    "- solution_index = [4,8,9,18,25,26,27]\n"
   ]
  },
  {
   "cell_type": "code",
   "execution_count": null,
   "id": "c10a601d",
   "metadata": {},
   "outputs": [],
   "source": [
    "string =\"You are weirdly most welcome to Planet X\"\n",
    "solution_index=[4,8,9,18,25,26,27]\n",
    "answer=[]\n"
   ]
  },
  {
   "cell_type": "code",
   "execution_count": null,
   "id": "77c507f7",
   "metadata": {},
   "outputs": [],
   "source": [
    "print(answer)\n",
    "solution6(answer)"
   ]
  },
  {
   "cell_type": "markdown",
   "id": "e41690f1",
   "metadata": {},
   "source": [
    "### Challenge 7"
   ]
  },
  {
   "cell_type": "markdown",
   "id": "3714b508",
   "metadata": {},
   "source": [
    "Outside you meet an inhabitant of Planet X. They suggest you could win a special spectator seat for the Games X if you manage to solve the exercise in just one line using list comprehension! Sounds great!\n",
    "\n",
    "From a range of numbers from 1 to 77 find the ones that are divisible without rest by 2 and 3 and 7 and put them in a list!"
   ]
  },
  {
   "cell_type": "code",
   "execution_count": null,
   "id": "9a64f781",
   "metadata": {},
   "outputs": [],
   "source": [
    "answer=[]\n",
    "        "
   ]
  },
  {
   "cell_type": "code",
   "execution_count": null,
   "id": "950aef9c",
   "metadata": {},
   "outputs": [],
   "source": [
    "print(answer)\n",
    "solution7(answer)"
   ]
  }
 ],
 "metadata": {
  "kernelspec": {
   "display_name": "Python 3 (ipykernel)",
   "language": "python",
   "name": "python3"
  },
  "language_info": {
   "codemirror_mode": {
    "name": "ipython",
    "version": 3
   },
   "file_extension": ".py",
   "mimetype": "text/x-python",
   "name": "python",
   "nbconvert_exporter": "python",
   "pygments_lexer": "ipython3",
   "version": "3.8.10"
  }
 },
 "nbformat": 4,
 "nbformat_minor": 5
}
