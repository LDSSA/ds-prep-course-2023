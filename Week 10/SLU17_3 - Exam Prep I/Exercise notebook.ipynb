{
 "cells": [
  {
   "cell_type": "code",
   "execution_count": null,
   "metadata": {
    "deletable": false,
    "editable": false,
    "nbgrader": {
     "grade": false,
     "grade_id": "cell-528ea9078565a6e1",
     "locked": true,
     "schema_version": 3,
     "solution": false,
     "task": false
    }
   },
   "outputs": [],
   "source": [
    "import csv\n",
    "import statistics\n",
    "import warnings\n",
    "import numpy as np"
   ]
  },
  {
   "cell_type": "markdown",
   "metadata": {
    "deletable": false,
    "editable": false,
    "nbgrader": {
     "grade": false,
     "grade_id": "cell-3d902feca785df1d",
     "locked": true,
     "schema_version": 3,
     "solution": false,
     "task": false
    }
   },
   "source": [
    "## SLU 17_3 - Exam Prep I\n",
    "\n",
    "### Batch 6 - Wave 2 Python Exam\n",
    "\n",
    "This is the wave 2 Python admission exam from the Lisbon Data Science Starters Academy - Batch 6. The allocated time for this exam was 3 hours. If you plan to take the admission exam this year, it's a good idea to measure the time you need to solve this notebook. You can see how far you get in 3 hours and also how much time you need to complete the notebook. At the same time, it's a good idea to not rush through the exercises and rather concentrate on working thoroughly.\n",
    "\n",
    "This notebook has 4 exercises, some of which are divided in different parts. Each part is evaluated independently, so if you are stuck or cannot solve a given part, you can move on to the next one.\n",
    "\n",
    "Note that the last exercise is multiple choice and is only included here so you can review these topics. This year's admission exam will not feature an exercise with this structure.\n",
    "\n",
    "At the end, you submit the notebook to the portal as usual. You can submit as many times as you like."
   ]
  },
  {
   "cell_type": "markdown",
   "metadata": {
    "deletable": false,
    "editable": false,
    "nbgrader": {
     "grade": false,
     "grade_id": "cell-bc7df0ba9c5df93a",
     "locked": true,
     "schema_version": 3,
     "solution": false,
     "task": false
    }
   },
   "source": [
    "## Exercise 1 (6 points)\n",
    "\n",
    "Consider a csv file that stores information about football matches played in the 2015-16 edition of [UEFA Champions League](https://en.wikipedia.org/wiki/UEFA_Champions_League), an annual competition played by the best clubs in Europe. This file has five columns:\n",
    "* `stage`: stage of the competition in which the match was played;\n",
    "* `date`: the date of the match;\n",
    "* `team_1`: name of the home team;\n",
    "* `ft`: score at the end of regular time, given in format \"X-Y\", where X and Y are the number of goals scored by the home (`team_1`) and away (`team_2`) teams, respectively;\n",
    "* `team_2`: name of the away team.\n",
    "\n",
    "File `champions_league_15_16.csv` is an example of such file. You can preview it using some command line instructions."
   ]
  },
  {
   "cell_type": "markdown",
   "metadata": {
    "deletable": false,
    "editable": false,
    "nbgrader": {
     "grade": false,
     "grade_id": "cell-8589bdd23fda251c",
     "locked": true,
     "schema_version": 3,
     "solution": false,
     "task": false
    }
   },
   "source": [
    "### Part I (2 points)\n",
    "\n",
    "Implement a function that reads a file with the same format as the `champions_league_15_16.csv` file, and stores the data in a list of dictionaries with the following structure:\n",
    "\n",
    "```\n",
    "[\n",
    "    {\n",
    "        \"stage\": stage of the competition in which the match was played (type: str),\n",
    "        \"date\": date of the match (type: str),\n",
    "        \"team_1\": name of the home team (type: str),\n",
    "        \"team_2\": name of the away team (type: str),\n",
    "        \"ft\": score at the end of regular time (type: str),\n",
    "    },\n",
    "]\n",
    "\n",
    "```\n",
    "\n",
    "The function should:\n",
    "1. be called `read_matches`;\n",
    "2. receive an argument called `file_path`, the path to the file that the function should read the data from;\n",
    "3. read data from each match in the same format as read from the file;\n",
    "4. return the list that was created.\n",
    "\n",
    "Remember to inspect the contents of the file before writing the function, as it may contain header information that should be skipped.\n",
    "\n",
    "To read the csv file, you shall use Python's [`csv`](https://docs.python.org/3/library/csv.html) module, which we already imported at the top of the Notebook. **Do not use [pandas](https://pandas.pydata.org/) or any other library not included in the coding test requirements file**."
   ]
  },
  {
   "cell_type": "code",
   "execution_count": null,
   "metadata": {
    "deletable": false,
    "nbgrader": {
     "grade": false,
     "grade_id": "cell-622c6adc26159244",
     "locked": false,
     "schema_version": 3,
     "solution": true,
     "task": false
    }
   },
   "outputs": [],
   "source": [
    "def read_matches(file_path):\n",
    "    \"\"\"\n",
    "    Reads the file in file_path, parses it and returns the data in a list of dictionaries.\n",
    "\n",
    "    Parameters:\n",
    "    file_path (str): Path to the input file to be parsed.\n",
    "\n",
    "    Returns:\n",
    "    matches_parsed_data (list): Matches dataset stored as a list of dictionaries.\n",
    "    \"\"\"\n",
    "    \n",
    "    # YOUR CODE HERE\n",
    "    raise NotImplementedError()"
   ]
  },
  {
   "cell_type": "code",
   "execution_count": null,
   "metadata": {
    "deletable": false,
    "editable": false,
    "nbgrader": {
     "grade": true,
     "grade_id": "cell-6c24a4ad6f30ce55",
     "locked": true,
     "points": 2,
     "schema_version": 3,
     "solution": false,
     "task": false
    }
   },
   "outputs": [],
   "source": [
    "matches_data = read_matches(\"champions_league_15_16.csv\")\n",
    "\n",
    "assert isinstance(matches_data, list)\n",
    "assert all(isinstance(match_data, dict) for match_data in matches_data)\n",
    "assert len(matches_data) == 10\n",
    "\n",
    "match_data = matches_data[2]\n",
    "assert match_data[\"stage\"] == \"Group\"\n",
    "assert match_data[\"date\"] == \"9 Dec 2015\"\n",
    "assert match_data[\"team_1\"] == \"Chelsea FC\"\n",
    "assert match_data[\"team_2\"] == \"FC Porto\"\n",
    "assert match_data[\"ft\"] == \"2-0\"\n",
    "\n",
    "from more_tests import test_exercise_2_part_I\n",
    "test_exercise_2_part_I(read_matches)"
   ]
  },
  {
   "cell_type": "markdown",
   "metadata": {
    "deletable": false,
    "editable": false,
    "nbgrader": {
     "grade": false,
     "grade_id": "cell-84df9405332848ae",
     "locked": true,
     "schema_version": 3,
     "solution": false,
     "task": false
    }
   },
   "source": [
    "### Part II a (2 points)\n",
    "\n",
    "Consider now that we want to use our dataset to compute some statistics about number of goals scored in matches of the 15-16 UEFA Champions League.\n",
    "\n",
    "Start by implementing a function called `get_goals_from_ft` that:\n",
    "1. receives as input a list like the one we created in Part I of this exercise;\n",
    "2. parses the value associated with the key \"ft\" of each dictionary to obtain the total number of goals in each match as an integer;\n",
    "3. returns a list with the total number of goals in each match (the list indexing must match that of the input list)."
   ]
  },
  {
   "cell_type": "code",
   "execution_count": null,
   "metadata": {
    "deletable": false,
    "nbgrader": {
     "grade": false,
     "grade_id": "cell-7854488ee93d67b6",
     "locked": false,
     "schema_version": 3,
     "solution": true,
     "task": false
    }
   },
   "outputs": [],
   "source": [
    "def get_goals_from_ft(matches_data):\n",
    "    \"\"\"\n",
    "    Computes the total number of goals in each match of the dataset.\n",
    "\n",
    "    Parameters:\n",
    "    matches_data (list): List with the matches dataset.\n",
    "\n",
    "    Returns:\n",
    "    matches_goals (list): List with the total number of goals in each match of the dataset.\n",
    "    \"\"\"\n",
    "    \n",
    "    # YOUR CODE HERE\n",
    "    raise NotImplementedError()"
   ]
  },
  {
   "cell_type": "code",
   "execution_count": null,
   "metadata": {
    "deletable": false,
    "editable": false,
    "nbgrader": {
     "grade": true,
     "grade_id": "cell-56eb4a74f3544d03",
     "locked": true,
     "points": 2,
     "schema_version": 3,
     "solution": false,
     "task": false
    }
   },
   "outputs": [],
   "source": [
    "matches_data = [\n",
    "    {\"stage\": \"Group\", \"date\": \"9 Dec 2015\", \"team_1\": \"KAA Gent\", \"team_2\": \"Zenit St. Petersburg\", \"ft\": \"2-1\"}, \n",
    "    {\"stage\": \"Group\", \"date\": \"9 Dec 2015\", \"team_1\": \"Valencia CF\", \"team_2\": \"Olympique Lyon\", \"ft\": \"0-2\"},\n",
    "    {\"stage\": \"Knockout\", \"date\": \"26 Apr 2016\", \"team_1\": \"Manchester City FC\", \"team_2\": \"Real Madrid CF\", \"ft\": \"0-0\"},\n",
    "    {\"stage\": \"Knockout\", \"date\": \"27 Apr 2016\", \"team_1\": \"Atletico Madrid\", \"team_2\": \"Bayern München\", \"ft\": \"1-0\"},\n",
    "]\n",
    "\n",
    "\n",
    "matches_goals = get_goals_from_ft(matches_data)\n",
    "assert isinstance(matches_goals, list)\n",
    "assert all(isinstance(match_goals, int) for match_goals in matches_goals)\n",
    "assert len(matches_goals) == len(matches_data)\n",
    "assert matches_goals == [3, 2, 0, 1]\n",
    "\n",
    "from more_tests import test_exercise_2_part_II_a\n",
    "test_exercise_2_part_II_a(get_goals_from_ft)"
   ]
  },
  {
   "cell_type": "markdown",
   "metadata": {
    "deletable": false,
    "editable": false,
    "nbgrader": {
     "grade": false,
     "grade_id": "cell-3c64c6b238378ed5",
     "locked": true,
     "schema_version": 3,
     "solution": false,
     "task": false
    }
   },
   "source": [
    "### Part II b (2 points)\n",
    "\n",
    "Consider now that you are given a list with the number of goals scored in each match like that obtained in the previous exercise, e.g. `[2, 0, 3, 0]`.\n",
    "\n",
    "Create a function called `get_goals_stats` that computes:\n",
    "* the average number of goals per match, as a float, rounded to one (1) decimal place\n",
    "* the most common number of goals in a match as an integer (*i.e.*, the [mode](https://en.wikipedia.org/wiki/Mode_(statistics)) of the set of goals)\n",
    "\n",
    "This function should:\n",
    "1. receive as input a list like the one we created in Part II a of this exercise;\n",
    "2. return a tuple with the average and most common number of goals in a match of in the first and second elements, respectively.\n",
    "\n",
    "You can (and are encouraged to) use the Python's [`statistics`](https://docs.python.org/3/library/statistics.html) module, which we already imported at the top of the Notebook."
   ]
  },
  {
   "cell_type": "code",
   "execution_count": null,
   "metadata": {
    "deletable": false,
    "nbgrader": {
     "grade": false,
     "grade_id": "cell-909dc68555453eea",
     "locked": false,
     "schema_version": 3,
     "solution": true,
     "task": false
    }
   },
   "outputs": [],
   "source": [
    "def get_goals_stats(goals_list):\n",
    "    \"\"\"\n",
    "    Computes statistics (mean.\n",
    "\n",
    "    Parameters:\n",
    "    goals_list (list): List with number of goals in a set of football matches.\n",
    "\n",
    "    Returns:\n",
    "    goals_average (float): Average number of goals per match.\n",
    "    goals_mode (int): Most common number of goals in a match.\n",
    "    \"\"\"\n",
    "    \n",
    "    # YOUR CODE HERE\n",
    "    raise NotImplementedError()"
   ]
  },
  {
   "cell_type": "code",
   "execution_count": null,
   "metadata": {
    "deletable": false,
    "editable": false,
    "nbgrader": {
     "grade": true,
     "grade_id": "cell-8b56f5a17ceb13b6",
     "locked": true,
     "points": 2,
     "schema_version": 3,
     "solution": false,
     "task": false
    }
   },
   "outputs": [],
   "source": [
    "goals_list = [2, 0, 3, 0]\n",
    "\n",
    "goals_stats = get_goals_stats(goals_list)\n",
    "assert isinstance(goals_stats, tuple)\n",
    "assert len(goals_stats) == 2\n",
    "\n",
    "goals_average, goals_mode = goals_stats\n",
    "assert isinstance(goals_average, float)\n",
    "assert isinstance(goals_mode, int)\n",
    "np.testing.assert_almost_equal(goals_average, 1.3, decimal=1)\n",
    "assert goals_mode == 0\n",
    "\n",
    "from more_tests import test_exercise_2_part_II_b\n",
    "test_exercise_2_part_II_b(get_goals_stats)"
   ]
  },
  {
   "cell_type": "markdown",
   "metadata": {
    "deletable": false,
    "editable": false,
    "nbgrader": {
     "grade": false,
     "grade_id": "cell-17a275d699bf540a",
     "locked": true,
     "schema_version": 3,
     "solution": false,
     "task": false
    }
   },
   "source": [
    "## Exercise 2 (4 points)\n",
    "\n",
    "It's almost vacations time &mdash; a.k.a. [vacay](https://en.wiktionary.org/wiki/vacay) &mdash; and you are preparing a road trip with friends. During the trip, you can pick up or drop passengers, as well as change the volume of carried luggage.\n",
    "\n",
    "![Packed car trunk](images/car-packed.jpg)\n",
    "\n",
    "In this exercise, you'll use object oriented programming concepts to model the car used in this road trip.\n",
    "\n",
    "The model of the car should store information about the number of passengers and the volume of luggage carried by the car."
   ]
  },
  {
   "cell_type": "markdown",
   "metadata": {
    "deletable": false,
    "editable": false,
    "nbgrader": {
     "grade": false,
     "grade_id": "cell-1f2611d8d0e9a610",
     "locked": true,
     "schema_version": 3,
     "solution": false,
     "task": false
    }
   },
   "source": [
    "### Class and methods\n",
    "\n",
    "Implement a class to represent a vacay car, `VacayCar`. In this class, you'll need to store the following information:\n",
    "* `num_passenger_seats` (type: int): the total number of passenger seats in the car;\n",
    "* `num_passengers` (type: int): the current number of passengers in the car;\n",
    "* `trunk_volume` (type: float): the total volume available to store luggage in the car;\n",
    "* `luggage_volume` (type: float): the current volume of luggage in the car.\n",
    "\n",
    "At **initialization (1 point)**, instances of `VacayCar` should:\n",
    "* be specified a total number of passenger seats and a total volume available to store luggage;\n",
    "* be specified an initial volume of luggage, corresponding to the driver's luggage.\n",
    "* always have zero passengers;\n",
    "\n",
    "Additionally, `VacayCar` should have two methods, described below:\n",
    "\n",
    "* **`update_passengers_and_luggage` (2 points)**:\n",
    "\n",
    "  This method updates the current number of passengers and luggage volume in the car. It should:\n",
    "\n",
    "  1. receive as arguments the increment / decrement in number of passengers (type: int) and luggage volume (type: float), `num_passengers_diff` and `luggage_volume_diff`, respectively. For example, `num_passengers_diff = 1` and `luggage_volume_diff = -30` means that the number of passengers increases by 1 and the volume of luggage decreases by 30;\n",
    "  2. update the current number of passengers and luggage volume in the car *only if* the required update is valid (*i.e.*, if the updated number of passengers and luggage volume are *both* nonnegative and do not exceed the capacity of the car);\n",
    "  3. issue a warning with the message \"Could not update passengers and luggage.\" if the update is invalid. To issue this warning, you should use the [`warnings.warn`](https://docs.python.org/3/library/warnings.html#warnings.warn) method (note that we have already imported the `warnings` module for you).\n",
    "\n",
    "\n",
    "* **`estimate_cost` (1 point)**:\n",
    "  \n",
    "  This method estimates the cost of travelling a given distance with the car in the current status. It should:\n",
    "  \n",
    "  1. receive as argument a distance, `distance` (type: float);\n",
    "  2. estimate the cost according to the formula:\n",
    "     $$ \\rm{cost} (d, P, V) = 0.12 \\times d + 0.03 \\times d \\times P + 0.01 \\times d \\times V \\rm{\\ ,}$$\n",
    "     where $d$ is the distance to be travelled, $P$ is the number of passengers in the car and $V$ is its volume of luggage;\n",
    "  3. return the estimated cost."
   ]
  },
  {
   "cell_type": "code",
   "execution_count": null,
   "metadata": {
    "deletable": false,
    "nbgrader": {
     "grade": false,
     "grade_id": "cell-25e4812b96a967d8",
     "locked": false,
     "schema_version": 3,
     "solution": true,
     "task": false
    }
   },
   "outputs": [],
   "source": [
    "# YOUR CODE HERE\n",
    "raise NotImplementedError()"
   ]
  },
  {
   "cell_type": "code",
   "execution_count": null,
   "metadata": {
    "deletable": false,
    "editable": false,
    "nbgrader": {
     "grade": true,
     "grade_id": "cell-92c4e256e70cfb10",
     "locked": true,
     "points": 4,
     "schema_version": 3,
     "solution": false,
     "task": false
    }
   },
   "outputs": [],
   "source": [
    "score = 0\n",
    "\n",
    "try:\n",
    "    vacay_car = VacayCar(num_passenger_seats=4, trunk_volume=300., luggage_volume=20.)\n",
    "    assert vacay_car.num_passenger_seats == 4, \"The number of passenger seats of `vacay_car` is wrong.\"\n",
    "    assert vacay_car.num_passengers == 0, \"The number of passengers of `vacay_car` is wrong.\"\n",
    "    \n",
    "    np.testing.assert_almost_equal(vacay_car.trunk_volume, 300., decimal=0, err_msg=\"The trunk volume of `vacay_car` is wrong.\")\n",
    "    np.testing.assert_almost_equal(vacay_car.luggage_volume, 20., decimal=0, err_msg=\"The luggage volume of `vacay_car` is wrong.\")\n",
    "except AssertionError as e:\n",
    "    print(e)\n",
    "    pass\n",
    "else:\n",
    "    score += 1\n",
    "\n",
    "try:\n",
    "    # valid updates\n",
    "    vacay_car = VacayCar(num_passenger_seats=4, trunk_volume=300., luggage_volume=20.)\n",
    "    \n",
    "    for (\n",
    "        num_passenger_diff, \n",
    "        luggage_volume_diff, \n",
    "        updated_num_passengers, \n",
    "        updated_luggage_volume,\n",
    "    ) in zip(\n",
    "        [1, 0, 2, -3], \n",
    "        [0., 10., 20., -30.],\n",
    "        [1, 1, 3, 0],\n",
    "        [20., 30., 50., 20.],\n",
    "    ):\n",
    "        with warnings.catch_warnings(record=True) as w:    \n",
    "            vacay_car.update_passengers_and_luggage(num_passenger_diff, luggage_volume_diff)\n",
    "            assert vacay_car.num_passengers == updated_num_passengers, \"The number of passengers of `vacay_car` is wrong.\"\n",
    "            assert vacay_car.num_passenger_seats == 4, \"The number of passenger seats of `vacay_car` is wrong.\"\n",
    "            np.testing.assert_almost_equal(vacay_car.luggage_volume, updated_luggage_volume, decimal=0, err_msg=\"The luggage volume of `vacay_car` is wrong.\")\n",
    "            np.testing.assert_almost_equal(vacay_car.trunk_volume, 300., decimal=0, err_msg=\"The trunk volume of `vacay_car` is wrong.\")\n",
    "            assert len(w) == 0, \"Warning is incorrectly raised, the new number of passengers and luggage volume are valid.\"\n",
    "    \n",
    "    # invalid updates\n",
    "    vacay_car = VacayCar(num_passenger_seats=4, trunk_volume=300., luggage_volume=20.)\n",
    "    \n",
    "    for (\n",
    "        num_passenger_diff, \n",
    "        luggage_volume_diff,\n",
    "    ) in zip(\n",
    "        [5, 0, -1, 2, -5], \n",
    "        [0., 300., 10., -30., -100.],\n",
    "    ):\n",
    "        with warnings.catch_warnings(record=True) as w:    \n",
    "            vacay_car.update_passengers_and_luggage(num_passenger_diff, luggage_volume_diff)\n",
    "            assert vacay_car.num_passengers == 0, \"The number of passengers of `vacay_car` is wrong.\"\n",
    "            assert vacay_car.num_passenger_seats == 4, \"The number of passenger seats of `vacay_car` is wrong.\"\n",
    "            np.testing.assert_almost_equal(vacay_car.luggage_volume, 20., decimal=0, err_msg=\"The luggage volume of `vacay_car` is wrong.\")\n",
    "            np.testing.assert_almost_equal(vacay_car.trunk_volume, 300., decimal=0, err_msg=\"The trunk volume of `vacay_car` is wrong.\")\n",
    "            assert len(w) == 1, \"A warning was not raised with an invalid new number of passengers or luggage volume.\"\n",
    "        \n",
    "except AssertionError as e:\n",
    "    print(e)\n",
    "    pass\n",
    "else:\n",
    "    score += 2\n",
    "\n",
    "try:\n",
    "    vacay_car = VacayCar(num_passenger_seats=4, trunk_volume=300., luggage_volume=200.)\n",
    "    \n",
    "    cost_200 = vacay_car.estimate_cost(200.)\n",
    "    np.testing.assert_almost_equal(cost_200, 424., decimal=0, err_msg=\"The estimated cost of a travel with `vacay_car` is wrong.\")\n",
    "    \n",
    "    \n",
    "    # force vacay_car update\n",
    "    vacay_car.num_passengers=2\n",
    "    vacay_car.luggage_volume=150.\n",
    "    \n",
    "    cost_150 = vacay_car.estimate_cost(150.)\n",
    "    np.testing.assert_almost_equal(cost_150, 252., decimal=0, err_msg=\"The estimated cost of a travel with `vacay_car` is wrong.\")\n",
    "    \n",
    "except AssertionError as e:\n",
    "    print(e)\n",
    "    pass\n",
    "else:\n",
    "    score += 1\n",
    "\n",
    "if score == 0:\n",
    "    raise AssertionError(\"Not enough correct answers to score points.\")\n",
    "\n",
    "print(f\"Your score is {score} / 4 in Exercise 3.\")\n",
    "\n",
    "score"
   ]
  },
  {
   "cell_type": "markdown",
   "metadata": {
    "deletable": false,
    "editable": false,
    "nbgrader": {
     "grade": false,
     "grade_id": "cell-3deddd603f411b0a",
     "locked": true,
     "schema_version": 3,
     "solution": false,
     "task": false
    }
   },
   "source": [
    "## Exercise 3 (4 points)\n",
    "\n",
    "Consider square matrices (*i.e.*, matrices with the same number of rows and columns) whose entries are either `0` or `1`. An example of such matrix is shown below.\n",
    "\n",
    "<code>\n",
    "[[1, 0, 0],\n",
    " [0, 1, 0],\n",
    " [1, 1, 0]]\n",
    "</code>\n",
    "\n",
    "This type of matrices can be used to represent connections between items in a collection, labeled by the row and column indices. More specifically, if items `i` and `j` are connected, then the entry of row `i`, column `j` of the matrix is `1`. This could be used, for example, to express that cities `i` and `j` have a flight connection."
   ]
  },
  {
   "cell_type": "markdown",
   "metadata": {
    "deletable": false,
    "editable": false,
    "nbgrader": {
     "grade": false,
     "grade_id": "cell-6e2fc2c48412f29d",
     "locked": true,
     "schema_version": 3,
     "solution": false,
     "task": false
    }
   },
   "source": [
    "### Part I (2 points)\n",
    "\n",
    "Write a function, named `count_nonzero_entries` that receives as argument a numpy array representing a matrix such as those described above, and returns an integer indicating the number of nonzero entries of that matrix.\n",
    "\n",
    "**Hint:** the numpy functions `np.sum` may be useful in this exercise."
   ]
  },
  {
   "cell_type": "code",
   "execution_count": null,
   "metadata": {
    "deletable": false,
    "nbgrader": {
     "grade": false,
     "grade_id": "cell-5a7eaacbb7097d35",
     "locked": false,
     "schema_version": 3,
     "solution": true,
     "task": false
    }
   },
   "outputs": [],
   "source": [
    "def count_nonzero_entries(matrix):\n",
    "    \"\"\"\n",
    "    Counts nonzero entries in a matrix of zeros and ones.\n",
    "\n",
    "    Parameters:\n",
    "    matrix (np.ndarray): Matrix of zeros and ones.\n",
    "\n",
    "    Returns:\n",
    "    num_nonzero_entries (int): Number of nonzero entries in the input matrix.\n",
    "    \"\"\"\n",
    "    \n",
    "    # YOUR CODE HERE\n",
    "    raise NotImplementedError()"
   ]
  },
  {
   "cell_type": "code",
   "execution_count": null,
   "metadata": {
    "deletable": false,
    "editable": false,
    "nbgrader": {
     "grade": true,
     "grade_id": "cell-2eb102f666a51257",
     "locked": true,
     "points": 2,
     "schema_version": 3,
     "solution": false,
     "task": false
    }
   },
   "outputs": [],
   "source": [
    "matrix = np.array([\n",
    "    [1, 0, 0],\n",
    "    [0, 1, 0],\n",
    "    [1, 1, 0]\n",
    "])\n",
    "\n",
    "num_nonzero_entries = count_nonzero_entries(matrix)\n",
    "assert isinstance(num_nonzero_entries, (int, np.integer))\n",
    "assert num_nonzero_entries == 4"
   ]
  },
  {
   "cell_type": "markdown",
   "metadata": {
    "deletable": false,
    "editable": false,
    "nbgrader": {
     "grade": false,
     "grade_id": "cell-e993a913ed9ef489",
     "locked": true,
     "schema_version": 3,
     "solution": false,
     "task": false
    }
   },
   "source": [
    "### Part II (2 point)\n",
    "\n",
    "Implement a function called `get_nonzero_entries_indices` that, given a matrix such as those described above, returns an array with the indices of the nonzero entries of that matrix.\n",
    "\n",
    "The return array should have shape `(num_nonzero_entries, 2)`, where `num_nonzero_entries` is the number of nonzero entries of the input matrix. The elements of this array along the second dimension should correspond to the row and column indices of each nonzero entry, respectively.\n",
    "\n",
    "For example, the matrix shown in the description of this exercise has ones in entries `[0, 1]`, `[1, 1]`, `[2, 0]` and `[2, 1]`, so `get_nonzero_entries_indices` should return the numpy array corresponding to\n",
    "\n",
    "<code>\n",
    "[[0, 0],\n",
    " [1, 1],\n",
    " [2, 0],\n",
    " [2, 1]]\n",
    "</code>\n",
    "\n",
    "\n",
    "**Note:** The order in which the nonzero entries are presented in the output array is irrelevant. For example, given the [identity matrix](https://en.wikipedia.org/wiki/Identity_matrix) of size 2 as input to `get_nonzero_entries_indices`, both `[[0, 0], [1, 1]]` and `[[1, 1], [0, 0]]` are considered as correct returns."
   ]
  },
  {
   "cell_type": "code",
   "execution_count": null,
   "metadata": {
    "deletable": false,
    "nbgrader": {
     "grade": false,
     "grade_id": "cell-d2b1996422298e46",
     "locked": false,
     "schema_version": 3,
     "solution": true,
     "task": false
    }
   },
   "outputs": [],
   "source": [
    "def get_nonzero_entries_indices(matrix):\n",
    "    \"\"\"\n",
    "    Determines the indices of the nonzero entries in a matrix of zeros and ones.\n",
    "\n",
    "    Parameters:\n",
    "    matrix (np.ndarray): Matrix of zeros and ones.\n",
    "\n",
    "    Returns:\n",
    "    nonzero_entries_indices (np.ndarray): Array with indices of nonzero entries of the input matrix.\n",
    "      Has shape `(num_nonzero_entries, 2)`, where `num_nonzero_entries` is the number of nonzero\n",
    "      entries of the input matrix.\n",
    "    \"\"\"\n",
    "    \n",
    "    # YOUR CODE HERE\n",
    "    raise NotImplementedError()"
   ]
  },
  {
   "cell_type": "code",
   "execution_count": null,
   "metadata": {
    "deletable": false,
    "editable": false,
    "nbgrader": {
     "grade": true,
     "grade_id": "cell-8da0084a934a316d",
     "locked": true,
     "points": 2,
     "schema_version": 3,
     "solution": false,
     "task": false
    }
   },
   "outputs": [],
   "source": [
    "matrix = np.array([\n",
    "    [1, 0, 0],\n",
    "    [0, 1, 0],\n",
    "    [1, 1, 0]\n",
    "])\n",
    "\n",
    "nonzero_entries_indices = get_nonzero_entries_indices(matrix)\n",
    "assert isinstance(nonzero_entries_indices, np.ndarray)\n",
    "assert nonzero_entries_indices.ndim == 2\n",
    "assert nonzero_entries_indices.shape == (4, 2)\n",
    "\n",
    "for correct_row in [\n",
    "    [0, 0],\n",
    "    [1, 1],\n",
    "    [2, 0],\n",
    "    [2, 1],\n",
    "]:\n",
    "    assert any([np.array_equal(nonzero_entries_indices_row, correct_row) for nonzero_entries_indices_row in nonzero_entries_indices])"
   ]
  },
  {
   "cell_type": "markdown",
   "metadata": {
    "deletable": false,
    "editable": false,
    "nbgrader": {
     "grade": false,
     "grade_id": "cell-2f73855a3cbbf843",
     "locked": true,
     "schema_version": 3,
     "solution": false,
     "task": false
    }
   },
   "source": [
    "## Exercise 4 (6 points)\n",
    "\n",
    "This exercise is a quiz with 12 multiple choice questions. Note that this year's admission exam will not feature an exercise with this structure.\n",
    "\n",
    "In the cell below, we've declared a dictionary called `answers`.\n",
    "\n",
    "You should fill in that dictionary with your answers, using as keys the question numbers, like `question_x`, and as values the numbers from `1` to `4` that correspond to the right answer.\n",
    "For each question, you should provide only one answer, *i.e.*, the dict values should have type **int**.\n",
    "\n",
    "For example, if you want to answer Question 1 with choice number 2, then you do:\n",
    "```\n",
    "answers[\"question_1\"] = 2\n",
    "```"
   ]
  },
  {
   "cell_type": "code",
   "execution_count": null,
   "metadata": {
    "deletable": false,
    "editable": false,
    "nbgrader": {
     "grade": false,
     "grade_id": "cell-845a4d3a7c6fd757",
     "locked": true,
     "schema_version": 3,
     "solution": false,
     "task": false
    }
   },
   "outputs": [],
   "source": [
    "answers = {}"
   ]
  },
  {
   "cell_type": "markdown",
   "metadata": {
    "deletable": false,
    "editable": false,
    "nbgrader": {
     "grade": false,
     "grade_id": "cell-089b4a8d6758eccd",
     "locked": true,
     "schema_version": 3,
     "solution": false,
     "task": false
    }
   },
   "source": [
    "### Part I (questions 1-5)\n",
    "\n",
    "Imagine that you are using a Unix based machine, and that you have a terminal with the working directory `/users/mary`. This directory has in it:\n",
    "- a file named `example_data.csv`;\n",
    "- a directory named `documents` which contains some files.\n",
    "\n",
    "The file tree below illustrates the contents and structure of `/users/mary`, **that should be considered to answer Questions 1-5**.\n",
    "\n",
    "\n",
    "```text\n",
    "/users/mary\n",
    "├── example_data.csv\n",
    "└── documents\n",
    "    ├── profile_picture.png\n",
    "    ├── notes.txt\n",
    "    └── .gitignore\n",
    "```"
   ]
  },
  {
   "cell_type": "markdown",
   "metadata": {
    "deletable": false,
    "editable": false,
    "nbgrader": {
     "grade": false,
     "grade_id": "cell-4fee136a9be985d7",
     "locked": true,
     "schema_version": 3,
     "solution": false,
     "task": false
    }
   },
   "source": [
    "#### Question 1\n",
    "Which command would you use to print the current working directory?\n",
    "1. `pwd`\n",
    "2. `cd .`\n",
    "3. `ls ..`\n",
    "4. `ls .`"
   ]
  },
  {
   "cell_type": "code",
   "execution_count": null,
   "metadata": {
    "deletable": false,
    "nbgrader": {
     "grade": false,
     "grade_id": "cell-98b6eeed9f5eb544",
     "locked": false,
     "schema_version": 3,
     "solution": true,
     "task": false
    }
   },
   "outputs": [],
   "source": [
    "# YOUR CODE HERE\n",
    "raise NotImplementedError()\n",
    "\n",
    "# answers[\"question_1\"] = ..."
   ]
  },
  {
   "cell_type": "markdown",
   "metadata": {
    "deletable": false,
    "editable": false,
    "nbgrader": {
     "grade": false,
     "grade_id": "cell-844accc86543007c",
     "locked": true,
     "schema_version": 3,
     "solution": false,
     "task": false
    }
   },
   "source": [
    "#### Question 2\n",
    "Which command would you use to see the first 10 lines of `example_data.csv`?\n",
    "1. `head -10 example_data.csv`\n",
    "2. `cat example_data.csv`\n",
    "3. `head -10 documents/example_data.csv`\n",
    "4. `cat documents/example_data.csv`"
   ]
  },
  {
   "cell_type": "code",
   "execution_count": null,
   "metadata": {
    "deletable": false,
    "nbgrader": {
     "grade": false,
     "grade_id": "cell-f75169d418f280ba",
     "locked": false,
     "schema_version": 3,
     "solution": true,
     "task": false
    }
   },
   "outputs": [],
   "source": [
    "# YOUR CODE HERE\n",
    "raise NotImplementedError()\n",
    "\n",
    "# answers[\"question_2\"] = ..."
   ]
  },
  {
   "cell_type": "markdown",
   "metadata": {
    "deletable": false,
    "editable": false,
    "nbgrader": {
     "grade": false,
     "grade_id": "cell-740c06fb3ff91e5a",
     "locked": true,
     "schema_version": 3,
     "solution": false,
     "task": false
    }
   },
   "source": [
    "#### Question 3\n",
    "After running one of the following commands, there will be 2 files in the `documents` directory. Which command is it?\n",
    "1. `cp notes.txt documents`\n",
    "2. `mv notes.txt documents`\n",
    "3. `cp documents/notes.txt .`\n",
    "4. `mv documents/notes.txt .`"
   ]
  },
  {
   "cell_type": "code",
   "execution_count": null,
   "metadata": {
    "deletable": false,
    "nbgrader": {
     "grade": false,
     "grade_id": "cell-d0ee1b32bb06368b",
     "locked": false,
     "schema_version": 3,
     "solution": true,
     "task": false
    }
   },
   "outputs": [],
   "source": [
    "# YOUR CODE HERE\n",
    "raise NotImplementedError()\n",
    "\n",
    "# answers[\"question_3\"] = ..."
   ]
  },
  {
   "cell_type": "markdown",
   "metadata": {
    "deletable": false,
    "editable": false,
    "nbgrader": {
     "grade": false,
     "grade_id": "cell-d057502c6df7557e",
     "locked": true,
     "schema_version": 3,
     "solution": false,
     "task": false
    }
   },
   "source": [
    "#### Question 4\n",
    "The command `rm documents/profile-picture.png`\n",
    "1. Creates a new file in the `documents` directory\n",
    "2. Removes a file from the `documents` directory\n",
    "3. Removes the entire `documents` directory\n",
    "4. Raises an error"
   ]
  },
  {
   "cell_type": "code",
   "execution_count": null,
   "metadata": {
    "deletable": false,
    "nbgrader": {
     "grade": false,
     "grade_id": "cell-b48ab5ac85e1bf69",
     "locked": false,
     "schema_version": 3,
     "solution": true,
     "task": false
    }
   },
   "outputs": [],
   "source": [
    "# YOUR CODE HERE\n",
    "raise NotImplementedError()\n",
    "\n",
    "# answers[\"question_4\"] = ..."
   ]
  },
  {
   "cell_type": "markdown",
   "metadata": {
    "deletable": false,
    "editable": false,
    "nbgrader": {
     "grade": false,
     "grade_id": "cell-091fe9ea7062af04",
     "locked": true,
     "schema_version": 3,
     "solution": false,
     "task": false
    }
   },
   "source": [
    "#### Question 5\n",
    "Based on the structure of `/users/mary` and its subdirectories, which folder is likely to be using git to version control its contents? \n",
    "1. `/users/mary`\n",
    "2. `/users/mary/documents`\n",
    "3. Both of the above\n",
    "4. None of the above"
   ]
  },
  {
   "cell_type": "code",
   "execution_count": null,
   "metadata": {
    "deletable": false,
    "nbgrader": {
     "grade": false,
     "grade_id": "cell-d53190f9ce4dedbe",
     "locked": false,
     "schema_version": 3,
     "solution": true,
     "task": false
    }
   },
   "outputs": [],
   "source": [
    "# YOUR CODE HERE\n",
    "raise NotImplementedError()\n",
    "\n",
    "# answers[\"question_5\"] = ..."
   ]
  },
  {
   "cell_type": "markdown",
   "metadata": {
    "deletable": false,
    "editable": false,
    "nbgrader": {
     "grade": false,
     "grade_id": "cell-60c4bf940afb6ab4",
     "locked": true,
     "schema_version": 3,
     "solution": false,
     "task": false
    }
   },
   "source": [
    "### Part II (questions 6-12)\n",
    "\n",
    "Answer the following questions about git and Python programming."
   ]
  },
  {
   "cell_type": "markdown",
   "metadata": {
    "deletable": false,
    "editable": false,
    "nbgrader": {
     "grade": false,
     "grade_id": "cell-efd153569f17eddc",
     "locked": true,
     "schema_version": 3,
     "solution": false,
     "task": false
    }
   },
   "source": [
    "#### Question 6\n",
    "Consider that `numbers` is a list of integers. Which of the following instructions builds a list where each element is the square root of an element of `numbers`? \n",
    "1. `[abs(number) for number in numbers]`\n",
    "2. `(abs(number) for number in numbers)`\n",
    "3. `[sqrt(number) for number in numbers]`\n",
    "4. `(sqrt(number) for number in numbers)`"
   ]
  },
  {
   "cell_type": "code",
   "execution_count": null,
   "metadata": {
    "deletable": false,
    "nbgrader": {
     "grade": false,
     "grade_id": "cell-44e7a38840f54f6c",
     "locked": false,
     "schema_version": 3,
     "solution": true,
     "task": false
    }
   },
   "outputs": [],
   "source": [
    "# YOUR CODE HERE\n",
    "raise NotImplementedError()\n",
    "\n",
    "# answers[\"question_6\"] = ..."
   ]
  },
  {
   "cell_type": "markdown",
   "metadata": {
    "deletable": false,
    "editable": false,
    "nbgrader": {
     "grade": false,
     "grade_id": "cell-c6c87fce1a31df28",
     "locked": true,
     "schema_version": 3,
     "solution": false,
     "task": false
    }
   },
   "source": [
    "#### Question 7\n",
    "Which of the following sentences is false?\n",
    "\n",
    "1. Dictionaries can have integers as keys.\n",
    "2. Dictionaries can have floats as keys.\n",
    "3. Dictionaries can have lists as keys.\n",
    "4. Dictionaries can have tuples of integers as keys."
   ]
  },
  {
   "cell_type": "code",
   "execution_count": null,
   "metadata": {
    "deletable": false,
    "nbgrader": {
     "grade": false,
     "grade_id": "cell-8f6345404f52ff67",
     "locked": false,
     "schema_version": 3,
     "solution": true,
     "task": false
    }
   },
   "outputs": [],
   "source": [
    "# YOUR CODE HERE\n",
    "raise NotImplementedError()\n",
    "\n",
    "# answers[\"question_7\"] = ..."
   ]
  },
  {
   "cell_type": "markdown",
   "metadata": {
    "deletable": false,
    "editable": false,
    "nbgrader": {
     "grade": false,
     "grade_id": "cell-789c29332373bbf7",
     "locked": true,
     "schema_version": 3,
     "solution": false,
     "task": false
    }
   },
   "source": [
    "#### Question 8\n",
    "How do you import function `my_function` from module `my_module`?\n",
    "\n",
    "1. `import my_function`\n",
    "2. `import my_module`\n",
    "3. `from my_function import my_module`\n",
    "4. `from my_module import my_function`"
   ]
  },
  {
   "cell_type": "code",
   "execution_count": null,
   "metadata": {
    "deletable": false,
    "nbgrader": {
     "grade": false,
     "grade_id": "cell-fd120313a3617c0f",
     "locked": false,
     "schema_version": 3,
     "solution": true,
     "task": false
    }
   },
   "outputs": [],
   "source": [
    "# YOUR CODE HERE\n",
    "raise NotImplementedError()\n",
    "\n",
    "# answers[\"question_8\"] = ..."
   ]
  },
  {
   "cell_type": "markdown",
   "metadata": {
    "deletable": false,
    "editable": false,
    "nbgrader": {
     "grade": false,
     "grade_id": "cell-dc30f487d5bed6b9",
     "locked": true,
     "schema_version": 3,
     "solution": false,
     "task": false
    }
   },
   "source": [
    "#### Question 9\n",
    "Consider that the variable `a` stores the float `5.0`. Which of the following instructions would return `10.`?\n",
    "1. `a * a`\n",
    "2. `a / a`\n",
    "3. `a * 2`\n",
    "4. `a *= 2.`"
   ]
  },
  {
   "cell_type": "code",
   "execution_count": null,
   "metadata": {
    "deletable": false,
    "nbgrader": {
     "grade": false,
     "grade_id": "cell-03d49ee095b85596",
     "locked": false,
     "schema_version": 3,
     "solution": true,
     "task": false
    }
   },
   "outputs": [],
   "source": [
    "# YOUR CODE HERE\n",
    "raise NotImplementedError()\n",
    "\n",
    "# answers[\"question_9\"] = ..."
   ]
  },
  {
   "cell_type": "markdown",
   "metadata": {
    "deletable": false,
    "editable": false,
    "nbgrader": {
     "grade": false,
     "grade_id": "cell-503c9d621ac0ac61",
     "locked": true,
     "schema_version": 3,
     "solution": false,
     "task": false
    }
   },
   "source": [
    "#### Question 10\n",
    "You are working on a project that uses git for version control. How do you create a new branch named `feature_dev` to work on a new feature?\n",
    "\n",
    "1. `git checkout main`\n",
    "2. `git checkout -b main`\n",
    "3. `git checkout -b feature_dev`\n",
    "4. `git checkout feature_dev`"
   ]
  },
  {
   "cell_type": "code",
   "execution_count": null,
   "metadata": {
    "deletable": false,
    "nbgrader": {
     "grade": false,
     "grade_id": "cell-e53c8f889ffe422e",
     "locked": false,
     "schema_version": 3,
     "solution": true,
     "task": false
    }
   },
   "outputs": [],
   "source": [
    "# YOUR CODE HERE\n",
    "raise NotImplementedError()\n",
    "\n",
    "# answers[\"question_10\"] = ..."
   ]
  },
  {
   "cell_type": "markdown",
   "metadata": {
    "deletable": false,
    "editable": false,
    "nbgrader": {
     "grade": false,
     "grade_id": "cell-cdbe5a53419ea07e",
     "locked": true,
     "schema_version": 3,
     "solution": false,
     "task": false
    }
   },
   "source": [
    "#### Question 11\n",
    "While working on a new git branch, you created a file `script.py`. How do you commit your changes to a local branch?\n",
    "\n",
    "1. `git add script.py & git commit -m \"creates a cool script file\"`\n",
    "2. `git status & git commit -m \"creates a cool script file\"`\n",
    "3. `git status & git push`\n",
    "4. `git add script.py & git push`"
   ]
  },
  {
   "cell_type": "code",
   "execution_count": null,
   "metadata": {
    "deletable": false,
    "nbgrader": {
     "grade": false,
     "grade_id": "cell-ed677b808aa5d167",
     "locked": false,
     "schema_version": 3,
     "solution": true,
     "task": false
    }
   },
   "outputs": [],
   "source": [
    "# YOUR CODE HERE\n",
    "raise NotImplementedError()\n",
    "\n",
    "# answers[\"question_11\"] = ..."
   ]
  },
  {
   "cell_type": "markdown",
   "metadata": {
    "deletable": false,
    "editable": false,
    "nbgrader": {
     "grade": false,
     "grade_id": "cell-f285344e3e316cce",
     "locked": true,
     "schema_version": 3,
     "solution": false,
     "task": false
    }
   },
   "source": [
    "#### Question 12\n",
    "How do you upload changes done on a local repository content to a remote repository?\n",
    "\n",
    "1. `git pull`\n",
    "2. `git status`\n",
    "3. `git push`\n",
    "4. `git reset`"
   ]
  },
  {
   "cell_type": "code",
   "execution_count": null,
   "metadata": {
    "deletable": false,
    "nbgrader": {
     "grade": false,
     "grade_id": "cell-04ac7aac12e51403",
     "locked": false,
     "schema_version": 3,
     "solution": true,
     "task": false
    }
   },
   "outputs": [],
   "source": [
    "# YOUR CODE HERE\n",
    "raise NotImplementedError()\n",
    "\n",
    "# answers[\"question_12\"] = ..."
   ]
  },
  {
   "cell_type": "code",
   "execution_count": null,
   "metadata": {
    "deletable": false,
    "editable": false,
    "nbgrader": {
     "grade": true,
     "grade_id": "cell-1daf63702b1b0228",
     "locked": true,
     "points": 6,
     "schema_version": 3,
     "solution": false,
     "task": false
    }
   },
   "outputs": [],
   "source": [
    "from hidden_tests import test_exercise_1\n",
    "test_exercise_1(answers)\n"
   ]
  },
  {
   "cell_type": "markdown",
   "metadata": {
    "deletable": false,
    "editable": false,
    "nbgrader": {
     "grade": false,
     "grade_id": "cell-11ad011ecd15fd1b",
     "locked": true,
     "schema_version": 3,
     "solution": false,
     "task": false
    }
   },
   "source": [
    "### Submit your work!\n",
    "\n",
    "To submit your work, [follow the steps here, in the step \\\"Grading the Exercise Notebook\\\"!](https://github.com/LDSSA/ds-prep-course-2023/blob/main/weekly-workflow.md#link-to-grading)"
   ]
  }
 ],
 "metadata": {
  "kernelspec": {
   "display_name": "Python 3 (ipykernel)",
   "language": "python",
   "name": "python3"
  },
  "language_info": {
   "codemirror_mode": {
    "name": "ipython",
    "version": 3
   },
   "file_extension": ".py",
   "mimetype": "text/x-python",
   "name": "python",
   "nbconvert_exporter": "python",
   "pygments_lexer": "ipython3",
   "version": "3.8.17"
  }
 },
 "nbformat": 4,
 "nbformat_minor": 2
}
