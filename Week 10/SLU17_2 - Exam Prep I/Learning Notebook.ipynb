{
 "cells": [
  {
   "cell_type": "markdown",
   "metadata": {},
   "source": [
    "# SLU 17_2 - Exam Prep I\n",
    "\n",
    "The main goal of this SLU is for you to do these exercises as if they were the entry exam to the Lisbon Data Science Starters Academy. So set a timer, place your pets and children at a safe distance and get started!\n",
    "\n",
    "Some tips:\n",
    "\n",
    "- Read the instructions carefully. Understand what the expected input and output are.\n",
    "- Use the debugging techniques that you learned. If the workflow has many steps, validate your code as you construct it by printing the partial results. This makes the debugging much easier.\n",
    "- The exercises are solvable using the knowledge taught in the prep course. As long as you've studied the learning materials and solved the exercise notebooks, you should be able to complete this training exam.\n",
    "- That said, you may have forgotten something you learned. That's ok - you can use a search engine to find a particular topic instead of searching in the SLUs.\n",
    "- Stay calm. Focus on each exercise and remember what you learned on the prep course.\n",
    "- Sometimes nerves hit hard. If you get overwhelmed, look out of the window and take four slow deep breaths.\n",
    "- After completing each exercise notebook, review any topic that seemed more difficult. \n",
    "\n",
    "As always, you can ask questions on Slack.\n",
    "\n",
    "Happy testing!"
   ]
  }
 ],
 "metadata": {
  "kernelspec": {
   "display_name": "Python 3",
   "language": "python",
   "name": "python3"
  },
  "language_info": {
   "codemirror_mode": {
    "name": "ipython",
    "version": 3
   },
   "file_extension": ".py",
   "mimetype": "text/x-python",
   "name": "python",
   "nbconvert_exporter": "python",
   "pygments_lexer": "ipython3",
   "version": "3.7.3"
  }
 },
 "nbformat": 4,
 "nbformat_minor": 5
}
