{
 "cells": [
  {
   "cell_type": "markdown",
   "id": "11748863",
   "metadata": {},
   "source": [
    "# SLU 18 - Exam Prep II\n",
    "\n",
    "The main goal of this SLU is for you to do these exercises as if they were the entry exam to the Lisbon data science starters academy. So set a timer, place your pets and children at a safe distance, take a breath, and get started!\n",
    "\n",
    "Some tips:\n",
    "\n",
    "- Read the instructions carefully. Understand what is the expected input and output.\n",
    "- Use the debugging techniques that you learned. If necessary, break your code into smaller chunks.\n",
    "- The exercises are solvable using the knowledge taught in the prep course. As long as you've studied the learning materials and solved the exercise notebooks, you should be able to complete this training exam.\n",
    "- That said, you may have forgotten something you learned. That's ok - you can use a search engine to find a particular topic instead of searching in the SLUs.\n",
    "- Stay calm. Sometimes nerves hit hard. Focus on each exercise and remember what you learned in the prep course.\n",
    "- After completing the exercise notebook, review any topic that seemed more difficult.\n",
    "\n",
    "As always, you can ask questions on Slack.\n",
    "\n",
    "Happy coding!"
   ]
  }
 ],
 "metadata": {
  "kernelspec": {
   "display_name": "Python 3 (ipykernel)",
   "language": "python",
   "name": "python3"
  },
  "language_info": {
   "codemirror_mode": {
    "name": "ipython",
    "version": 3
   },
   "file_extension": ".py",
   "mimetype": "text/x-python",
   "name": "python",
   "nbconvert_exporter": "python",
   "pygments_lexer": "ipython3",
   "version": "3.8.16"
  }
 },
 "nbformat": 4,
 "nbformat_minor": 5
}
