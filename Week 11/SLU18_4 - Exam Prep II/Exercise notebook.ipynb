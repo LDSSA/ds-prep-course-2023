{
 "cells": [
  {
   "cell_type": "markdown",
   "metadata": {},
   "source": [
    "# SLU18 - Exam preparation II\n",
    "\n",
    "This is the wave 1 Python admission exam from the Lisbon Data Science Starters Academy batch 6. The allocated time for this exam was 3 hours. If you plan to take the admission exam this year, it's a good idea to measure the time you need to solve this notebook. You can see how far you get in 3 hours and also how much time you need to complete the notebook. At the same time, it's a good idea to not rush through the exercises and rather concentrate on working thoroughly.\n",
    "\n",
    "At the end, you submit the notebook to the portal as usual. You can submit as many times as you like."
   ]
  },
  {
   "cell_type": "code",
   "execution_count": null,
   "metadata": {
    "deletable": false,
    "editable": false,
    "nbgrader": {
     "grade": false,
     "grade_id": "cell-528ea9078565a6e1",
     "locked": true,
     "schema_version": 3,
     "solution": false,
     "task": false
    }
   },
   "outputs": [],
   "source": [
    "import csv\n",
    "import numpy as np\n",
    "import inspect"
   ]
  },
  {
   "cell_type": "markdown",
   "metadata": {
    "deletable": false,
    "editable": false,
    "nbgrader": {
     "grade": false,
     "grade_id": "cell-2f73855a3cbbf843",
     "locked": true,
     "schema_version": 3,
     "solution": false,
     "task": false
    }
   },
   "source": [
    "## Exercise 1 (5 points)\n",
    "\n",
    "This exercise is a quiz with 10 multiple choice questions.\n",
    "In the cell below, we've declared a dictionary called `answers`.\n",
    "\n",
    "You should fill in that dictionary with your answers, using as keys the question numbers, like `question_x`, and as values the numbers from `1` to `10` that correspond to the right answer.\n",
    "For each question, you should provide only one answer, *i.e.*, the dict values should have type **int**.\n",
    "\n",
    "For example, if you want to answer Question 1 with choice number 2, then you do:\n",
    "```\n",
    "answers[\"question_1\"] = 2\n",
    "```"
   ]
  },
  {
   "cell_type": "code",
   "execution_count": null,
   "metadata": {
    "deletable": false,
    "editable": false,
    "nbgrader": {
     "grade": false,
     "grade_id": "cell-845a4d3a7c6fd757",
     "locked": true,
     "schema_version": 3,
     "solution": false,
     "task": false
    }
   },
   "outputs": [],
   "source": [
    "answers = {}"
   ]
  },
  {
   "cell_type": "markdown",
   "metadata": {
    "deletable": false,
    "editable": false,
    "nbgrader": {
     "grade": false,
     "grade_id": "cell-089b4a8d6758eccd",
     "locked": true,
     "schema_version": 3,
     "solution": false,
     "task": false
    }
   },
   "source": [
    "### Part I (questions 1-5)\n",
    "\n",
    "Imagine that you are using a Unix based machine, and that you have a terminal with the working directory `/users/john`. This directory has in it:\n",
    "- a file named `example_data.csv`;\n",
    "- two directories, `documents` and `ldsa`, containing some files.\n",
    "\n",
    "The file tree below illustrates the contents and structure of `/users/john`, **that should be considered to answer Questions 1-5**.\n",
    "\n",
    "\n",
    "```text\n",
    "/users/john\n",
    "├── example_data.csv\n",
    "├── documents\n",
    "│   ├── awesome_profile_picture.png\n",
    "│   ├── cv.pdf\n",
    "│   └── todo.txt\n",
    "└── ldsa\n",
    "    ├── example.py\n",
    "    ├── notes.txt\n",
    "    └── .gitignore\n",
    "```"
   ]
  },
  {
   "cell_type": "markdown",
   "metadata": {
    "deletable": false,
    "editable": false,
    "nbgrader": {
     "grade": false,
     "grade_id": "cell-4fee136a9be985d7",
     "locked": true,
     "schema_version": 3,
     "solution": false,
     "task": false
    }
   },
   "source": [
    "#### Question 1\n",
    "How would you list the contents of the current working directory?\n",
    "1. `pwd`\n",
    "2. `cd .`\n",
    "3. `ls documents`\n",
    "4. `ls .`"
   ]
  },
  {
   "cell_type": "code",
   "execution_count": null,
   "metadata": {
    "deletable": false,
    "nbgrader": {
     "grade": false,
     "grade_id": "cell-98b6eeed9f5eb544",
     "locked": false,
     "schema_version": 3,
     "solution": true,
     "task": false
    }
   },
   "outputs": [],
   "source": [
    "# YOUR CODE HERE\n",
    "raise NotImplementedError()\n",
    "\n",
    "# answers[\"question_1\"] = ..."
   ]
  },
  {
   "cell_type": "markdown",
   "metadata": {
    "deletable": false,
    "editable": false,
    "nbgrader": {
     "grade": false,
     "grade_id": "cell-844accc86543007c",
     "locked": true,
     "schema_version": 3,
     "solution": false,
     "task": false
    }
   },
   "source": [
    "#### Question 2\n",
    "Which command would you use to see the entire content of `example_data.csv`?\n",
    "1. `head -5 example_data.csv`\n",
    "2. `cat example_data.csv`\n",
    "3. `head -5 documents/example_data.csv`\n",
    "4. `cat documents/example_data.csv`"
   ]
  },
  {
   "cell_type": "code",
   "execution_count": null,
   "metadata": {
    "deletable": false,
    "nbgrader": {
     "grade": false,
     "grade_id": "cell-f75169d418f280ba",
     "locked": false,
     "schema_version": 3,
     "solution": true,
     "task": false
    }
   },
   "outputs": [],
   "source": [
    "# YOUR CODE HERE\n",
    "raise NotImplementedError()\n",
    "\n",
    "# answers[\"question_2\"] = ..."
   ]
  },
  {
   "cell_type": "markdown",
   "metadata": {
    "deletable": false,
    "editable": false,
    "nbgrader": {
     "grade": false,
     "grade_id": "cell-740c06fb3ff91e5a",
     "locked": true,
     "schema_version": 3,
     "solution": false,
     "task": false
    }
   },
   "source": [
    "#### Question 3\n",
    "After running one of the following commands, there will be 4 files in the `ldsa` directory. Which command is it?\n",
    "1. `cp example_data.csv ldsa`\n",
    "2. `rm -r example_data.csv ldsa`\n",
    "3. `touch example_data.csv`\n",
    "4. `cp ldsa example_data.csv`"
   ]
  },
  {
   "cell_type": "code",
   "execution_count": null,
   "metadata": {
    "deletable": false,
    "nbgrader": {
     "grade": false,
     "grade_id": "cell-d0ee1b32bb06368b",
     "locked": false,
     "schema_version": 3,
     "solution": true,
     "task": false
    }
   },
   "outputs": [],
   "source": [
    "# YOUR CODE HERE\n",
    "raise NotImplementedError()\n",
    "\n",
    "# answers[\"question_3\"] = ..."
   ]
  },
  {
   "cell_type": "markdown",
   "metadata": {
    "deletable": false,
    "editable": false,
    "nbgrader": {
     "grade": false,
     "grade_id": "cell-d057502c6df7557e",
     "locked": true,
     "schema_version": 3,
     "solution": false,
     "task": false
    }
   },
   "source": [
    "#### Question 4\n",
    "The command `rm documents/awesome.png`\n",
    "1. Creates a new file in the `documents` directory\n",
    "2. Removes a file from the `documents` directory\n",
    "3. Removes the entire `documents` directory\n",
    "4. Raises an error"
   ]
  },
  {
   "cell_type": "code",
   "execution_count": null,
   "metadata": {
    "deletable": false,
    "nbgrader": {
     "grade": false,
     "grade_id": "cell-b48ab5ac85e1bf69",
     "locked": false,
     "schema_version": 3,
     "solution": true,
     "task": false
    }
   },
   "outputs": [],
   "source": [
    "# YOUR CODE HERE\n",
    "raise NotImplementedError()\n",
    "\n",
    "# answers[\"question_4\"] = ..."
   ]
  },
  {
   "cell_type": "markdown",
   "metadata": {
    "deletable": false,
    "editable": false,
    "nbgrader": {
     "grade": false,
     "grade_id": "cell-091fe9ea7062af04",
     "locked": true,
     "schema_version": 3,
     "solution": false,
     "task": false
    }
   },
   "source": [
    "#### Question 5\n",
    "Based on the structure of `/users/john` and its subdirectories, which folder is likely to be using git to version control its contents? \n",
    "1. `/users/john`\n",
    "2. `/users/john/documents`\n",
    "3. `/users/john/ldsa`\n",
    "4. None of the above"
   ]
  },
  {
   "cell_type": "code",
   "execution_count": null,
   "metadata": {
    "deletable": false,
    "nbgrader": {
     "grade": false,
     "grade_id": "cell-d53190f9ce4dedbe",
     "locked": false,
     "schema_version": 3,
     "solution": true,
     "task": false
    }
   },
   "outputs": [],
   "source": [
    "# YOUR CODE HERE\n",
    "raise NotImplementedError()\n",
    "\n",
    "# answers[\"question_5\"] = ..."
   ]
  },
  {
   "cell_type": "markdown",
   "metadata": {
    "deletable": false,
    "editable": false,
    "nbgrader": {
     "grade": false,
     "grade_id": "cell-60c4bf940afb6ab4",
     "locked": true,
     "schema_version": 3,
     "solution": false,
     "task": false
    }
   },
   "source": [
    "### Part II (questions 6-10)\n",
    "\n",
    "Answer the following questions about git and Python programming."
   ]
  },
  {
   "cell_type": "markdown",
   "metadata": {
    "deletable": false,
    "editable": false,
    "nbgrader": {
     "grade": false,
     "grade_id": "cell-efd153569f17eddc",
     "locked": true,
     "schema_version": 3,
     "solution": false,
     "task": false
    }
   },
   "source": [
    "#### Question 6\n",
    "Consider the following git commands: `add`, `commit`, `status`, `pull`, `push`. Which is the most natural order to use them?\n",
    "1. `pull` > `status` > `add` > `commit` > `push`\n",
    "2. `status` > `commit` > `add` > `push` > `pull`\n",
    "3. `push` > `add` > `status` > `commit` > `pull`\n",
    "4. `pull` > `push` > `status` > `add` > `commit`"
   ]
  },
  {
   "cell_type": "code",
   "execution_count": null,
   "metadata": {
    "deletable": false,
    "nbgrader": {
     "grade": false,
     "grade_id": "cell-44e7a38840f54f6c",
     "locked": false,
     "schema_version": 3,
     "solution": true,
     "task": false
    }
   },
   "outputs": [],
   "source": [
    "# YOUR CODE HERE\n",
    "raise NotImplementedError()\n",
    "\n",
    "# answers[\"question_6\"] = ..."
   ]
  },
  {
   "cell_type": "markdown",
   "metadata": {
    "deletable": false,
    "editable": false,
    "nbgrader": {
     "grade": false,
     "grade_id": "cell-c6c87fce1a31df28",
     "locked": true,
     "schema_version": 3,
     "solution": false,
     "task": false
    }
   },
   "source": [
    "#### Question 7\n",
    "Which one of the following sentences is true?\n",
    "\n",
    "1. Dictionaries can have duplicated keys.\n",
    "2. Dictionaries can have lists as keys.\n",
    "3. Lists can have duplicated elements.\n",
    "4. Tuple elements can be updated."
   ]
  },
  {
   "cell_type": "code",
   "execution_count": null,
   "metadata": {
    "deletable": false,
    "nbgrader": {
     "grade": false,
     "grade_id": "cell-8f6345404f52ff67",
     "locked": false,
     "schema_version": 3,
     "solution": true,
     "task": false
    }
   },
   "outputs": [],
   "source": [
    "# YOUR CODE HERE\n",
    "raise NotImplementedError()\n",
    "\n",
    "# answers[\"question_7\"] = ..."
   ]
  },
  {
   "cell_type": "markdown",
   "metadata": {
    "deletable": false,
    "editable": false,
    "nbgrader": {
     "grade": false,
     "grade_id": "cell-400e482351eb011b",
     "locked": true,
     "schema_version": 3,
     "solution": false,
     "task": false
    }
   },
   "source": [
    "#### Question 8\n",
    "Consider that `people` is a list of instances of a class `Person`. Which of the following instructions builds a list of the attributes `x` of those instances? \n",
    "1. `[person[\"x\"] for person in people]`\n",
    "2. `(person[\"x\"] for person in people)`\n",
    "3. `[person.x for person in people]`\n",
    "4. `(person.x for person in people)`"
   ]
  },
  {
   "cell_type": "code",
   "execution_count": null,
   "metadata": {
    "deletable": false,
    "nbgrader": {
     "grade": false,
     "grade_id": "cell-67e3948e70b7e795",
     "locked": false,
     "schema_version": 3,
     "solution": true,
     "task": false
    }
   },
   "outputs": [],
   "source": [
    "# YOUR CODE HERE\n",
    "raise NotImplementedError()\n",
    "\n",
    "# answers[\"question_8\"] = ..."
   ]
  },
  {
   "cell_type": "markdown",
   "metadata": {
    "deletable": false,
    "editable": false,
    "nbgrader": {
     "grade": false,
     "grade_id": "cell-789c29332373bbf7",
     "locked": true,
     "schema_version": 3,
     "solution": false,
     "task": false
    }
   },
   "source": [
    "#### Question 9\n",
    "A module `my_module` has a function `my_function`. Which sequence of commands allows you to use `my_function` from a file in the same directory as `my_module.py`?\n",
    "\n",
    "1. `import my_function` and `y = my_module()`\n",
    "2. `import my_module` and `y = my_function()`\n",
    "3. `from my_function import my_module` and `y = my_module()`\n",
    "4. `from my_module import my_function` and `y = my_function()`"
   ]
  },
  {
   "cell_type": "code",
   "execution_count": null,
   "metadata": {
    "deletable": false,
    "nbgrader": {
     "grade": false,
     "grade_id": "cell-fd120313a3617c0f",
     "locked": false,
     "schema_version": 3,
     "solution": true,
     "task": false
    }
   },
   "outputs": [],
   "source": [
    "# YOUR CODE HERE\n",
    "raise NotImplementedError()\n",
    "\n",
    "# answers[\"question_9\"] = ..."
   ]
  },
  {
   "cell_type": "markdown",
   "metadata": {
    "deletable": false,
    "editable": false,
    "nbgrader": {
     "grade": false,
     "grade_id": "cell-dc30f487d5bed6b9",
     "locked": true,
     "schema_version": 3,
     "solution": false,
     "task": false
    }
   },
   "source": [
    "#### Question 10\n",
    "Consider that the variable `a` stores the float `2.0`. After which of the following operations does the assert `a == 4.` fail?\n",
    "1. `a = a * a`\n",
    "2. `a += 2.`\n",
    "3. `a *= 2.`\n",
    "4. `a /= 2.`"
   ]
  },
  {
   "cell_type": "code",
   "execution_count": null,
   "metadata": {
    "deletable": false,
    "nbgrader": {
     "grade": false,
     "grade_id": "cell-03d49ee095b85596",
     "locked": false,
     "schema_version": 3,
     "solution": true,
     "task": false
    }
   },
   "outputs": [],
   "source": [
    "# YOUR CODE HERE\n",
    "raise NotImplementedError()\n",
    "\n",
    "# answers[\"question_10\"] = ..."
   ]
  },
  {
   "cell_type": "code",
   "execution_count": null,
   "metadata": {
    "deletable": false,
    "editable": false,
    "nbgrader": {
     "grade": true,
     "grade_id": "cell-1daf63702b1b0228",
     "locked": true,
     "points": 5,
     "schema_version": 3,
     "solution": false,
     "task": false
    }
   },
   "outputs": [],
   "source": [
    "from hidden_tests import test_exercise_1\n",
    "test_exercise_1(answers)"
   ]
  },
  {
   "cell_type": "markdown",
   "metadata": {
    "deletable": false,
    "editable": false,
    "nbgrader": {
     "grade": false,
     "grade_id": "cell-bc7df0ba9c5df93a",
     "locked": true,
     "schema_version": 3,
     "solution": false,
     "task": false
    }
   },
   "source": [
    "## Exercise 2\n",
    "\n",
    "Consider a csv file that stores information about popular movies. This file has four columns: `imdb_id`, `title`, `year`, `rating`.\n",
    "\n",
    "File `movies.csv` is an example of such a file. You can preview it using some command line instructions."
   ]
  },
  {
   "cell_type": "markdown",
   "metadata": {
    "deletable": false,
    "editable": false,
    "nbgrader": {
     "grade": false,
     "grade_id": "cell-8589bdd23fda251c",
     "locked": true,
     "schema_version": 3,
     "solution": false,
     "task": false
    }
   },
   "source": [
    "### Part I (2 points)\n",
    "\n",
    "Implement a function that reads a file with the same format as the `movies.csv` file, and stores the data in a dictionary with the following structure:\n",
    "\n",
    "```\n",
    "{\n",
    "    imdb_id: {\n",
    "        \"title\": movie title (type: str),\n",
    "        \"year\": release year of the movie (type: int),\n",
    "        \"rating\": number between 0 and 10 representing the current movie rating (type: float)\n",
    "    },\n",
    "}\n",
    "\n",
    "```\n",
    "\n",
    "The function should:\n",
    "1. be called `read_movies`;\n",
    "2. receive an argument called `file_path`, the path to the file that the function should read the data from;\n",
    "3. return the dictionary that was created.\n",
    "\n",
    "You should use Python's [`csv`](https://docs.python.org/3/library/csv.html) module to read the csv file. The module was already imported at the top of the Notebook."
   ]
  },
  {
   "cell_type": "code",
   "execution_count": null,
   "metadata": {
    "deletable": false,
    "nbgrader": {
     "grade": false,
     "grade_id": "cell-622c6adc26159244",
     "locked": false,
     "schema_version": 3,
     "solution": true,
     "task": false
    }
   },
   "outputs": [],
   "source": [
    "def read_movies(file_path):\n",
    "    \"\"\"\n",
    "    Reads the file in file_path, parses it and returns the data in a dictionary.\n",
    "\n",
    "    Parameters:\n",
    "    file_path (str): Path to the input file to be parsed.\n",
    "\n",
    "    Returns:\n",
    "    movies_parsed_data (dict): Movies dataset stored as a dictionary, where the keys are IMDb IDs\n",
    "        and the values are data about the movie.\n",
    "    \"\"\"\n",
    "    \n",
    "    # YOUR CODE HERE\n",
    "    raise NotImplementedError()"
   ]
  },
  {
   "cell_type": "code",
   "execution_count": null,
   "metadata": {
    "deletable": false,
    "editable": false,
    "nbgrader": {
     "grade": true,
     "grade_id": "cell-6c24a4ad6f30ce55",
     "locked": true,
     "points": 2,
     "schema_version": 3,
     "solution": false,
     "task": false
    }
   },
   "outputs": [],
   "source": [
    "movies_data = read_movies(\"movies.csv\")\n",
    "\n",
    "source = inspect.getsource(read_movies)\n",
    "assert 'csv.reader(' in source, 'You should use the csv module to read the file.'\n",
    "\n",
    "assert isinstance(movies_data, dict)\n",
    "assert len(movies_data) == 20\n",
    "\n",
    "assert \"tt0082971\" in movies_data\n",
    "indiana_jones = movies_data[\"tt0082971\"]\n",
    "assert indiana_jones[\"title\"] == \"Indiana Jones and the Raiders of the Lost Ark\"\n",
    "assert indiana_jones[\"year\"] == 1981\n",
    "np.testing.assert_almost_equal(indiana_jones[\"rating\"], 8.4, decimal=1)\n",
    "\n",
    "\n",
    "from more_tests import test_exercise_2_part_I\n",
    "test_exercise_2_part_I(read_movies)\n",
    "\n",
    "print('All asserts passed.')"
   ]
  },
  {
   "cell_type": "markdown",
   "metadata": {
    "deletable": false,
    "editable": false,
    "nbgrader": {
     "grade": false,
     "grade_id": "cell-84df9405332848ae",
     "locked": true,
     "schema_version": 3,
     "solution": false,
     "task": false
    }
   },
   "source": [
    "### Part II (2 points)\n",
    "\n",
    "Consider now that we want to use our dataset to compute the average rating of all movies released in a given year. \n",
    "\n",
    "Implement a function called `average_movie_rating` that:\n",
    "1. receives as input\n",
    "   - a dictionary, like the dictionary returned in Part I of this exercise; \n",
    "   - an integer representing the release year;\n",
    "2. returns the average rating of all movies released in a given year.\n",
    "\n",
    "If the release year provided as input does not exist in the dataset, the function should return `-1.`."
   ]
  },
  {
   "cell_type": "code",
   "execution_count": null,
   "metadata": {
    "deletable": false,
    "nbgrader": {
     "grade": false,
     "grade_id": "cell-7854488ee93d67b6",
     "locked": false,
     "schema_version": 3,
     "solution": true,
     "task": false
    }
   },
   "outputs": [],
   "source": [
    "def average_movie_rating(movies_data, year):\n",
    "    \"\"\"\n",
    "    Computes the average rating of all movies released in a given year.\n",
    "\n",
    "    Parameters:\n",
    "    movies_data (dict): Dictionary with the movies dataset.\n",
    "    year (int): Release year.\n",
    "\n",
    "    Returns:\n",
    "    average_movie_rating (float): Average rating of all movies released in a given year.\n",
    "    \"\"\"\n",
    "    \n",
    "    # YOUR CODE HERE\n",
    "    raise NotImplementedError()"
   ]
  },
  {
   "cell_type": "code",
   "execution_count": null,
   "metadata": {
    "deletable": false,
    "editable": false,
    "nbgrader": {
     "grade": true,
     "grade_id": "cell-56eb4a74f3544d03",
     "locked": true,
     "points": 2,
     "schema_version": 3,
     "solution": false,
     "task": false
    }
   },
   "outputs": [],
   "source": [
    "movies_data = {\n",
    "    \"tt0087843\": {\"title\": \"Once Upon a Time in America\", \"year\": 1984, \"rating\": 8.3},\n",
    "    \"tt0066921\": {\"title\": \"A Clockwork Orange\", \"year\": 1971, \"rating\": 8.3},\n",
    "    \"tt0435761\": {\"title\": \"Toy Story 3\", \"year\": 2010, \"rating\": 8.3},\n",
    "    \"tt0084302\": {\"title\": \"The Marathon Family\", \"year\": 1982, \"rating\": 8.9},\n",
    "    \"tt0080684\": {\"title\": \"Star Wars: Episode V - The Empire Strikes Back\", \"year\": 1980, \"rating\": 8.7},\n",
    "    \"tt0086879\": {\"title\": \"Amadeus\", \"year\": 1984, \"rating\": 8.4},\n",
    "}\n",
    "\n",
    "\n",
    "average_movie_rating_1980 = average_movie_rating(movies_data, 1980)\n",
    "assert isinstance(average_movie_rating_1980, float)  \n",
    "np.testing.assert_almost_equal(average_movie_rating_1980, 8.7, decimal=2)\n",
    "\n",
    "average_movie_rating_1984 = average_movie_rating(movies_data, 1984)\n",
    "assert isinstance(average_movie_rating_1984, float)  \n",
    "np.testing.assert_almost_equal(average_movie_rating_1984, 8.35, decimal=2)\n",
    "\n",
    "average_movie_rating_1992 = average_movie_rating(movies_data, 1992)\n",
    "assert isinstance(average_movie_rating_1992, float)  \n",
    "np.testing.assert_almost_equal(average_movie_rating_1992, -1., decimal=2)\n",
    "\n",
    "from more_tests import test_exercise_2_part_II\n",
    "test_exercise_2_part_II(average_movie_rating)\n",
    "\n",
    "print('All asserts passed.')"
   ]
  },
  {
   "cell_type": "markdown",
   "metadata": {
    "deletable": false,
    "editable": false,
    "nbgrader": {
     "grade": false,
     "grade_id": "cell-3c64c6b238378ed5",
     "locked": true,
     "schema_version": 3,
     "solution": false,
     "task": false
    }
   },
   "source": [
    "### Part III (2 points)\n",
    "\n",
    "Consider now that we want to investigate whether old movies tend to be better rated than recent ones.\n",
    "\n",
    "To do that, we shall compute [Pearson's correlation coefficient](https://en.wikipedia.org/wiki/Pearson_correlation_coefficient) between the movies' release year and rating. This coefficient measures the strength of the linear relationship between two sets of data, *i.e.*, their linear correlation.\n",
    "\n",
    "Create a function called `pearson_correlation_year_rating` that computes Pearson's correlation coefficient between the year and rating of all movies in our dataset. You may (and are strongly encouraged to) use the [`pearsonr`](https://docs.scipy.org/doc/scipy/reference/generated/scipy.stats.pearsonr.html) function from the Python package [`scipy`](https://docs.scipy.org/doc/scipy).\n",
    "\n",
    "This function should:\n",
    "1. receive as input a dictionary like the one we created in the Part I of this exercise;\n",
    "2. return the Pearson's correlation coefficient between the year and rating of all movies in our dataset."
   ]
  },
  {
   "cell_type": "code",
   "execution_count": null,
   "metadata": {
    "deletable": false,
    "nbgrader": {
     "grade": false,
     "grade_id": "cell-909dc68555453eea",
     "locked": false,
     "schema_version": 3,
     "solution": true,
     "task": false
    }
   },
   "outputs": [],
   "source": [
    "def pearson_correlation_year_rating(movies_data):\n",
    "    \"\"\"\n",
    "    Computes Pearson's correlation coefficient between movies' release years and ratings.\n",
    "\n",
    "    Parameters:\n",
    "    movies_data (dict): Dictionary with the movies dataset.\n",
    "\n",
    "    Returns:\n",
    "    pearson_correlation (float): Pearson's correlation coefficient.\n",
    "    \"\"\"\n",
    "    \n",
    "    # YOUR CODE HERE\n",
    "    raise NotImplementedError()"
   ]
  },
  {
   "cell_type": "code",
   "execution_count": null,
   "metadata": {
    "deletable": false,
    "editable": false,
    "nbgrader": {
     "grade": true,
     "grade_id": "cell-8b56f5a17ceb13b6",
     "locked": true,
     "points": 2,
     "schema_version": 3,
     "solution": false,
     "task": false
    }
   },
   "outputs": [],
   "source": [
    "movies_data = {\n",
    "    \"tt0087843\": {\"title\": \"Once Upon a Time in America\", \"year\": 1984, \"rating\": 8.3},\n",
    "    \"tt0066921\": {\"title\": \"A Clockwork Orange\", \"year\": 1971, \"rating\": 8.3},\n",
    "    \"tt0435761\": {\"title\": \"Toy Story 3\", \"year\": 2010, \"rating\": 8.3},\n",
    "    \"tt0084302\": {\"title\": \"The Marathon Family\", \"year\": 1982, \"rating\": 8.9},\n",
    "    \"tt0080684\": {\"title\": \"Star Wars: Episode V - The Empire Strikes Back\", \"year\": 1980, \"rating\": 8.7},\n",
    "    \"tt0086879\": {\"title\": \"Amadeus\", \"year\": 1984, \"rating\": 8.4},\n",
    "}\n",
    "\n",
    "pearson_correlation = pearson_correlation_year_rating(movies_data)\n",
    "assert isinstance(pearson_correlation, float)\n",
    "np.testing.assert_almost_equal(pearson_correlation, -0.243, decimal=3)\n",
    "\n",
    "from more_tests import test_exercise_2_part_III\n",
    "test_exercise_2_part_III(pearson_correlation_year_rating)\n",
    "\n",
    "print('All asserts passed.')"
   ]
  },
  {
   "cell_type": "markdown",
   "metadata": {
    "deletable": false,
    "editable": false,
    "nbgrader": {
     "grade": false,
     "grade_id": "cell-17a275d699bf540a",
     "locked": true,
     "schema_version": 3,
     "solution": false,
     "task": false
    }
   },
   "source": [
    "## Exercise 3 (5 points)\n",
    "\n",
    "In this exercise, we'll use object oriented programming concepts to model a human train, a dance choreography typical of Portuguese popular music &mdash; and one very much practiced in the recent [Santo António festivities in Lisbon](https://www.culturanarua.pt/en/program/lisbon-festivities/)! 🥳\n",
    "\n",
    "In this choreography, there is one person leading the train, deciding its direction at all times. The second person on the train follows immediately behind the leader, the third person follows behind the second person, and so forth. During the choreography, people can join the train by following the last person in it.\n",
    "\n",
    "The choreography is such that each person on the train immitates the trajectory of the person ahead of them, which is ultimately the trajectory of the train leader as well.\n",
    "\n",
    "See [this video](https://www.youtube.com/watch?v=C1pB9pUQ3pQ) for an example of this choreography."
   ]
  },
  {
   "cell_type": "markdown",
   "metadata": {
    "deletable": false,
    "editable": false,
    "nbgrader": {
     "grade": false,
     "grade_id": "cell-4a5eafecd700780c",
     "locked": true,
     "schema_version": 3,
     "solution": false,
     "task": false
    }
   },
   "source": [
    "### Human train model\n",
    "\n",
    "We shall assume that the train moves in a square grid. It can take one step at a time &mdash; forward, left or right. It cannot collide with itself.\n",
    "\n",
    "\n",
    "When viewed from overhead, this movement can be described in a grid, of axes `x` and `y`. The position of a person on the train with label `i` is thus given by two coordinates, `[x_i, y_i]`, where `x_i` and `y_i` are integer numbers.\n",
    "\n",
    "<img src=\"images/train_definition.png\" alt=\"Human train definition\" width=\"350\"/>\n",
    "\n",
    "\n",
    "We shall model this train as a sequence of people of which we track the positions `[x_i, y_i]`. An example of this model is illustrated in the figure above. The train leader is the first person in this sequence (`i=0`, highlighted in red) and is followed by all other people on the train `i=1, ..., N - 1`, where `N` is the total number of people on the train. In the current position, the train would be able to move up, left or right, but not down.\n",
    "\n",
    "Each step of the train can be though of as a step of the leader plus a movement of the rest of the train to the previous position of the person immediately ahead of them on the train.\n",
    "\n",
    "In this model, a new person can only join the train if they are in a valid position relative to the last person on the train. Valid positions are those adjacent to the last person on the train and that allow it to move according to the rules above. See the figure below for an example of valid positions to join the train (highlighted in green) at a given time.\n",
    "\n",
    "\n",
    "<img src=\"images/train_add_person.png\" alt=\"Human train definition\" width=\"350\"/>"
   ]
  },
  {
   "cell_type": "markdown",
   "metadata": {
    "deletable": false,
    "editable": false,
    "nbgrader": {
     "grade": false,
     "grade_id": "cell-1f2611d8d0e9a610",
     "locked": true,
     "schema_version": 3,
     "solution": false,
     "task": false
    }
   },
   "source": [
    "### Classes and methods\n",
    "\n",
    "Implement two classes to represent a person (`Person`) and a train (`Train`).\n",
    "\n",
    "#### `Person` class (1 point)\n",
    "\n",
    "In `Person`, you'll need to store the following information:\n",
    "* `x`: the person's x coordinate;\n",
    "* `y`: the person's y coordinate.\n",
    "\n",
    "This class should have two methods, described below:\n",
    "\n",
    "* Method **`is_at_position`** should:\n",
    "  1. receive as arguments a pair of coordinates, `x` and `y`;\n",
    "  2. check if the person's position matches that of the input;\n",
    "  3. return a boolean.\n",
    "\n",
    "* Method **`move_to_position`** should:\n",
    "  1. receive as arguments a pair of coordinates, `x` and `y`;\n",
    "  2. set the person's position to that of the input.\n",
    "\n",
    "#### `Train` class\n",
    "\n",
    "In `Train`, you'll need to store the following information:\n",
    "* `people`: a list of the people on the train (which you may assume is always non-empty).\n",
    "\n",
    "The `Train` class should have three methods, described below:\n",
    "\n",
    "* Method **`is_at_position` (1 point)** should:\n",
    "  1. receive as arguments a pair of coordinates, `x` and `y`;\n",
    "  2. check if any of the people on the train has a position that matches that of the input;\n",
    "  3. return a boolean.\n",
    "  \n",
    "  You may (and are strongly encouraged to) use the method `is_at_position` of each `Person` on the train.\n",
    "\n",
    "\n",
    "* Method **`move` (2 points)** should:\n",
    "  1. receive as argument a string identifying the direction to move &mdash; `\"u\"`, `\"d\"`, `\"l\"` or `\"r\"`, corresponding to a movement up, down, left or right, respectively;\n",
    "  2. move the train in the desired direction, if possible; this operation should move each person on the train, *i.e.*, update their positions;\n",
    "  3. return a boolean, which should be `True` if the movement was possible or `False` if it wasn't.\n",
    "  \n",
    "  You may (and are strongly enouraged to) use the method `move_to_position` of each `Person` on the train, as well as the method `is_at_position` of the `Train` class.\n",
    "\n",
    "\n",
    "* Method **`add_person` (1 point)** should:\n",
    "  1. receive as argument a `Person` object representing a person that wishes to join the train;\n",
    "  2. add the person **to the end of the train**, if possible;\n",
    "  3. return a boolean, which should be `True` if the input person could be added to the train or `False` if it couldn't."
   ]
  },
  {
   "cell_type": "code",
   "execution_count": null,
   "metadata": {
    "deletable": false,
    "nbgrader": {
     "grade": false,
     "grade_id": "cell-25e4812b96a967d8",
     "locked": false,
     "schema_version": 3,
     "solution": true,
     "task": false
    }
   },
   "outputs": [],
   "source": [
    "# YOUR CODE HERE\n",
    "raise NotImplementedError()"
   ]
  },
  {
   "cell_type": "code",
   "execution_count": null,
   "metadata": {
    "deletable": false,
    "editable": false,
    "nbgrader": {
     "grade": true,
     "grade_id": "cell-92c4e256e70cfb10",
     "locked": true,
     "points": 5,
     "schema_version": 3,
     "solution": false,
     "task": false
    }
   },
   "outputs": [],
   "source": [
    "score = 0\n",
    "\n",
    "try:\n",
    "    person = Person(x=0, y=0)\n",
    "    assert (person.x, person.y) == (0, 0), \"The position of `person` is wrong.\"\n",
    "    \n",
    "    is_person_at_00 = person.is_at_position(0, 0)\n",
    "    assert is_person_at_00 is True, \"The verification of `person`'s position is wrong.\"\n",
    "    \n",
    "    is_person_at_10 = person.is_at_position(1, 0)\n",
    "    assert is_person_at_10 is False, \"The verification of `person`'s position is wrong.\"\n",
    "    \n",
    "    is_person_at_01 = person.is_at_position(0, 1)\n",
    "    assert is_person_at_01 is False, \"The verification of `person`'s position is wrong.\"\n",
    "    \n",
    "    person.move_to_position(x=2, y=-3)\n",
    "    assert (person.x, person.y) == (2, -3), \"The position of `person` after a movement is wrong.\"\n",
    "except AssertionError as e:\n",
    "    print(e)\n",
    "    pass\n",
    "else:\n",
    "    score += 1\n",
    "\n",
    "try:\n",
    "    train = Train(people=[Person(0, 0), Person(1, 0)])\n",
    "    \n",
    "    assert isinstance(train.people, list), \"The list of people in `train` has an incorrrect type.\"\n",
    "    assert all([isinstance(person, Person) for person in train.people]), \"The list of people in `train` should contain only instances of `Person`.\"\n",
    "    assert len(train.people) == 2, \"The list of people in `train` has an incorrect length.\"\n",
    "    \n",
    "    assert train.is_at_position(0, 0) is True, \"The verification of `train`'s position is wrong.\"\n",
    "    assert train.is_at_position(1, 0) is True, \"The verification of `train`'s position is wrong.\"\n",
    "    assert train.is_at_position(0, 1) is False, \"The verification of `train`'s position is wrong.\"\n",
    "except AssertionError as e:\n",
    "    print(e)\n",
    "    pass\n",
    "else:\n",
    "    score += 1\n",
    "\n",
    "try:\n",
    "    person_0, person_1 = Person(0, 0), Person(1, 0)\n",
    "    train = Train(people=[person_0, person_1])\n",
    "    \n",
    "    move_return = train.move(\"u\")\n",
    "    assert move_return is True, \"A valid movement of `train` has not been allowed.\"\n",
    "    assert (train.people[0].x, train.people[0].y) == (0, 1), \"The position of a person on the train is wrong.\"\n",
    "    assert (train.people[1].x, train.people[1].y) == (0, 0), \"The position of a person on the train is wrong.\"\n",
    "    assert id(person_0) == id(train.people[0]), \"`Person` objects should not be created / deleted when the train moves.\"\n",
    "    assert id(person_1) == id(train.people[1]), \"`Person` objects should not be created / deleted when the train moves.\"\n",
    "    \n",
    "    move_return = train.move(\"u\")\n",
    "    assert move_return is True, \"A valid movement of `train` has not been allowed.\"\n",
    "    assert (train.people[0].x, train.people[0].y) == (0, 2), \"The position of a person on the train is wrong.\"\n",
    "    assert (train.people[1].x, train.people[1].y) == (0, 1), \"The position of a person on the train is wrong.\"\n",
    "    assert id(person_0) == id(train.people[0]), \"`Person` objects should not be created / deleted when the train moves.\"\n",
    "    assert id(person_1) == id(train.people[1]), \"`Person` objects should not be created / deleted when the train moves.\"\n",
    "    \n",
    "    move_return = train.move(\"l\")\n",
    "    assert move_return is True, \"A valid movement of `train` has not been allowed.\"\n",
    "    assert (train.people[0].x, train.people[0].y) == (-1, 2), \"The position of a person on the train is wrong.\"\n",
    "    assert (train.people[1].x, train.people[1].y) == (0, 2), \"The position of a person on the train is wrong.\"\n",
    "    assert id(person_0) == id(train.people[0]), \"`Person` objects should not be created / deleted when the train moves.\"\n",
    "    assert id(person_1) == id(train.people[1]), \"`Person` objects should not be created / deleted when the train moves.\"\n",
    "    \n",
    "    move_return = train.move(\"r\")\n",
    "    assert move_return is False, \"An invalid movement of `train` has been incorrectly allowed.\"\n",
    "    assert (train.people[0].x, train.people[0].y) == (-1, 2), \"The position of a person on the train is wrong.\"\n",
    "    assert (train.people[1].x, train.people[1].y) == (0, 2), \"The position of a person on the train is wrong.\"\n",
    "    assert id(person_0) == id(train.people[0]), \"`Person` objects should not be created / deleted when the train moves.\"\n",
    "    assert id(person_1) == id(train.people[1]), \"`Person` objects should not be created / deleted when the train moves.\"\n",
    "    \n",
    "    train = Train(people=[Person(0, 1), Person(0, 0), Person(1, 0), Person(1, 1), Person(1, 2)])\n",
    "    move_return = train.move(\"r\")\n",
    "    assert move_return is False, \"An invalid movement of `train` has been incorrectly allowed.\"\n",
    "    \n",
    "    \n",
    "except AssertionError as e:\n",
    "    print(e)\n",
    "    pass\n",
    "else:\n",
    "    score += 2\n",
    "\n",
    "try:\n",
    "    person_0, person_1 = Person(-1, 2), Person(0, 2)\n",
    "    train = Train(people=[person_0, person_1])\n",
    "    \n",
    "    person_2 = Person(0, 1)\n",
    "    add_return = train.add_person(person_2)\n",
    "    assert add_return is True, \"A person in a valid position could not be added to `train`.\"\n",
    "    assert len(train.people) == 3, \"The length of `train` after a person was added to it is wrong.\"\n",
    "    assert (train.people[0].x, train.people[0].y) == (-1, 2), \"The position of a person on the train is wrong.\"\n",
    "    assert (train.people[1].x, train.people[1].y) == (0, 2), \"The position of a person on the train is wrong.\"\n",
    "    assert (train.people[2].x, train.people[2].y) == (0, 1), \"The position of the person added to the train is wrong.\"\n",
    "    assert id(person_0) == id(train.people[0]), \"Only one `Person` objects should not be created when a person joins the train.\"\n",
    "    assert id(person_1) == id(train.people[1]), \"Only one `Person` objects should not be created when a person joins the train.\"\n",
    "    \n",
    "    add_return = train.add_person(Person(0, 1))\n",
    "    assert add_return is False, \"An invalid addition of a person to `train` has been incorrectly allowed.\"\n",
    "    assert len(train.people) == 3, \"The length of `train` after an invalid addition of a person to it is wrong.\"\n",
    "    \n",
    "    add_return = train.add_person(Person(0, 2))\n",
    "    assert add_return is False, \"An invalid addition of a person to `train` has been incorrectly allowed.\"\n",
    "    assert len(train.people) == 3, \"The length of `train` after an invalid addition of a person to it is wrong.\"\n",
    "    \n",
    "except AssertionError as e:\n",
    "    print(e)\n",
    "    pass\n",
    "else:\n",
    "    score += 1\n",
    "\n",
    "if score == 0:\n",
    "    raise AssertionError(\"Not enough correct answers to score points.\")\n",
    "\n",
    "print(f\"Your score is {score} / 5 in Exercise 3.\")\n",
    "\n",
    "score"
   ]
  },
  {
   "cell_type": "markdown",
   "metadata": {
    "deletable": false,
    "editable": false,
    "nbgrader": {
     "grade": false,
     "grade_id": "cell-3deddd603f411b0a",
     "locked": true,
     "schema_version": 3,
     "solution": false,
     "task": false
    }
   },
   "source": [
    "### Exercise 4\n",
    "\n",
    "Consider that you have a 3 x 3 matrix that represents a completed game of [Tic-tac-toe](https://en.wikipedia.org/wiki/Tic-tac-toe), where players O and X attempt to place three marks in a horizontal, vertical or diagonal row.\n",
    "\n",
    "Each element of this matrix should be labeled with `\"circle\"` or `\"cross\"`, depending on whether they were played by players O and X, respectively, or `\"none\"` if the element has not been chosen by either player. An example of such matrix is shown below.\n",
    "\n",
    "<code>\n",
    "[[\"circle\", \"none\", \"cross\"],\n",
    " [\"none\", \"circle\", \"circle\"],\n",
    " [\"cross\", \"cross\", \"cross\"]]\n",
    "</code>"
   ]
  },
  {
   "cell_type": "markdown",
   "metadata": {
    "deletable": false,
    "editable": false,
    "nbgrader": {
     "grade": false,
     "grade_id": "cell-6e2fc2c48412f29d",
     "locked": true,
     "schema_version": 3,
     "solution": false,
     "task": false
    }
   },
   "source": [
    "#### Part I (2 points)\n",
    "\n",
    "Consider that the matrix described above is corrupted, such that each element may contain labels with mixed upper and lower case characters and spaces and/or underscores (`\"_\"`) before and/or after the corresponding string.\n",
    "\n",
    "For example, the matrix shown above could have been corrupted to become\n",
    "\n",
    "<code>\n",
    "[[\"CIRcle\", \"_none\", \"cross\"],\n",
    " [\"NONE\", \" cIrcle\", \"circle\"],\n",
    " [\"crOSS\", \"cRoss_\", \" cross\"]]\n",
    "</code>\n",
    "\n",
    "Write a function, named `clean_ttt_matrix` that receives as argument a numpy matrix that represents a **corrupted Tic-tac-toe** game, and returns a clean version of that game."
   ]
  },
  {
   "cell_type": "code",
   "execution_count": null,
   "metadata": {
    "deletable": false,
    "nbgrader": {
     "grade": false,
     "grade_id": "cell-5a7eaacbb7097d35",
     "locked": false,
     "schema_version": 3,
     "solution": true,
     "task": false
    }
   },
   "outputs": [],
   "source": [
    "def clean_ttt_matrix(corrupted_matrix):\n",
    "    \"\"\"\n",
    "    Cleans a matrix representing a corrupted Tic-tac-toe game.\n",
    "\n",
    "    Parameters:\n",
    "    corrupted_matrix (np.ndarray): Corrupted matrix.\n",
    "\n",
    "    Returns:\n",
    "    uncorrupted_matrix (np.ndarray): Uncorrupted version of the input corrupted matrix.\n",
    "    \"\"\"\n",
    "    \n",
    "    # YOUR CODE HERE\n",
    "    raise NotImplementedError()"
   ]
  },
  {
   "cell_type": "code",
   "execution_count": null,
   "metadata": {
    "deletable": false,
    "editable": false,
    "nbgrader": {
     "grade": true,
     "grade_id": "cell-2eb102f666a51257",
     "locked": true,
     "points": 2,
     "schema_version": 3,
     "solution": false,
     "task": false
    }
   },
   "outputs": [],
   "source": [
    "corrupted_matrix = np.array([\n",
    "    [\"CIRcle\", \"_none\", \"cross\"],\n",
    "    [\"NONE\", \" cIrcle\", \"circle\"],\n",
    "    [\"crOSS\", \"cRoss_\", \" cross\"]\n",
    "])\n",
    "\n",
    "uncorrupted_matrix = clean_ttt_matrix(corrupted_matrix)\n",
    "assert isinstance(uncorrupted_matrix, np.ndarray)\n",
    "assert uncorrupted_matrix.shape == (3, 3)\n",
    "assert uncorrupted_matrix[0, 0] == \"circle\"\n",
    "assert uncorrupted_matrix[0, 1] == \"none\"\n",
    "assert uncorrupted_matrix[1, 0] == \"none\"\n",
    "assert uncorrupted_matrix[2, 1] == \"cross\"\n",
    "assert uncorrupted_matrix[2, 2] == \"cross\"\n",
    "\n",
    "print('All asserts passed.')"
   ]
  },
  {
   "cell_type": "markdown",
   "metadata": {
    "deletable": false,
    "editable": false,
    "nbgrader": {
     "grade": false,
     "grade_id": "cell-e993a913ed9ef489",
     "locked": true,
     "schema_version": 3,
     "solution": false,
     "task": false
    }
   },
   "source": [
    "#### Part II (2 point)\n",
    "\n",
    "Implement a function called `determine_ttt_winner` that, given a clean matrix representing a Tic-tac-toe game, determines who won the game.\n",
    "\n",
    "The function should return `\"O\"` or `\"X\"` if player O or X won the game, respectively, or `None` if there are no winners.\n",
    "\n",
    "**Hint:** the numpy functions `np.all`, `np.diagonal` and `np.fliplr` may be useful in this exercise. "
   ]
  },
  {
   "cell_type": "code",
   "execution_count": null,
   "metadata": {
    "deletable": false,
    "nbgrader": {
     "grade": false,
     "grade_id": "cell-d2b1996422298e46",
     "locked": false,
     "schema_version": 3,
     "solution": true,
     "task": false
    }
   },
   "outputs": [],
   "source": [
    "def determine_ttt_winner(ttt_game):\n",
    "    \"\"\"\n",
    "    Determines the winner of a completed Tic-tac-toe game.\n",
    "\n",
    "    Parameters:\n",
    "    ttt_game (np.array): Matrix representing the game.\n",
    "\n",
    "    Returns:\n",
    "    winner (str or None): The winner of the game (\"O\" or \"X\") or `None` if there are no winners.\n",
    "    \"\"\"\n",
    "    \n",
    "    # YOUR CODE HERE\n",
    "    raise NotImplementedError()"
   ]
  },
  {
   "cell_type": "code",
   "execution_count": null,
   "metadata": {
    "deletable": false,
    "editable": false,
    "nbgrader": {
     "grade": true,
     "grade_id": "cell-8da0084a934a316d",
     "locked": true,
     "points": 2,
     "schema_version": 3,
     "solution": false,
     "task": false
    }
   },
   "outputs": [],
   "source": [
    "ttt_game_0 = np.array([\n",
    "    [\"circle\", \"none\", \"cross\"],\n",
    "    [\"none\", \"circle\", \"circle\"],\n",
    "    [\"cross\", \"cross\", \"cross\"]\n",
    "])\n",
    "\n",
    "winner_0 = determine_ttt_winner(ttt_game_0)\n",
    "assert winner_0 == \"X\"\n",
    "\n",
    "ttt_game_1 = np.array([\n",
    "    [\"none\", \"none\", \"circle\"],\n",
    "    [\"cross\", \"cross\", \"circle\"],\n",
    "    [\"circle\", \"cross\", \"circle\"]\n",
    "])\n",
    "\n",
    "winner_1 = determine_ttt_winner(ttt_game_1)\n",
    "assert winner_1 == \"O\"\n",
    "\n",
    "ttt_game_2 = np.array([\n",
    "    [\"circle\", \"cross\", \"cross\"],\n",
    "    [\"cross\", \"circle\", \"circle\"],\n",
    "    [\"cross\", \"circle\", \"circle\"]\n",
    "])\n",
    "\n",
    "winner_2 = determine_ttt_winner(ttt_game_2)\n",
    "assert winner_2 == \"O\"\n",
    "\n",
    "ttt_game_3 = np.array([\n",
    "    [\"circle\", \"none\", \"cross\"],\n",
    "    [\"none\", \"cross\", \"circle\"],\n",
    "    [\"cross\", \"circle\", \"none\"]\n",
    "])\n",
    "\n",
    "winner_3 = determine_ttt_winner(ttt_game_3)\n",
    "assert winner_3 == \"X\"\n",
    "\n",
    "ttt_game_4 = np.array([\n",
    "    [\"cross\", \"circle\", \"circle\"],\n",
    "    [\"circle\", \"cross\", \"cross\"],\n",
    "    [\"cross\", \"circle\", \"circle\"]\n",
    "])\n",
    "\n",
    "winner_4 = determine_ttt_winner(ttt_game_4)\n",
    "assert winner_4 is None\n",
    "\n",
    "print('All asserts passed.')"
   ]
  },
  {
   "cell_type": "markdown",
   "metadata": {
    "deletable": false,
    "editable": false,
    "nbgrader": {
     "grade": false,
     "grade_id": "cell-ae0b30a9a3ebc65d",
     "locked": true,
     "schema_version": 3,
     "solution": false,
     "task": false
    }
   },
   "source": [
    "# Submit your work!\n",
    "\n",
    "To grade your exercise notebook and submit your work to the portal, [follow the instructions in the weekly workflow!](https://github.com/LDSSA/ds-prep-course-2023/blob/main/weekly-workflow.md#link-to-grading)"
   ]
  }
 ],
 "metadata": {
  "kernelspec": {
   "display_name": "Python 3 (ipykernel)",
   "language": "python",
   "name": "python3"
  },
  "language_info": {
   "codemirror_mode": {
    "name": "ipython",
    "version": 3
   },
   "file_extension": ".py",
   "mimetype": "text/x-python",
   "name": "python",
   "nbconvert_exporter": "python",
   "pygments_lexer": "ipython3",
   "version": "3.8.17"
  }
 },
 "nbformat": 4,
 "nbformat_minor": 2
}
