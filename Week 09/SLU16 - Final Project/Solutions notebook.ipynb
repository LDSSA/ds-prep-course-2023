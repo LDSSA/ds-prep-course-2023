{
 "cells": [
  {
   "attachments": {},
   "cell_type": "markdown",
   "metadata": {
    "nbgrader": {
     "grade": false,
     "grade_id": "cell-ab49f1d2cd5ec95b",
     "locked": true,
     "schema_version": 3,
     "solution": false,
     "task": false
    }
   },
   "source": [
    "# Final Project - Minesweeper"
   ]
  },
  {
   "attachments": {},
   "cell_type": "markdown",
   "metadata": {
    "nbgrader": {
     "grade": false,
     "grade_id": "cell-6cfba1955dd1be1a",
     "locked": true,
     "schema_version": 3,
     "solution": false,
     "task": false
    }
   },
   "source": [
    "Open the file `mines.py`.Here will be the class with the Minesweeper game Class.\n",
    "\n",
    "Here are the exercises for this SLU16:\n",
    "\n",
    "    * Create the method `check_if_mine`\n",
    "    * Create the method `count_mines_around`\n",
    "    * Create the method `click_around`\n",
    "\n",
    "Each exercise will guide you to each of these methods. The expected behavior is described on the methods docstring. If you have some doubts, please refer to the Learning Notebook"
   ]
  },
  {
   "attachments": {},
   "cell_type": "markdown",
   "metadata": {
    "nbgrader": {
     "grade": false,
     "grade_id": "cell-1e7dda79ba44898f",
     "locked": true,
     "schema_version": 3,
     "solution": false,
     "task": false
    }
   },
   "source": [
    "## Exercise 1\n",
    "Look for the method `check_if_mine`. On this exercise you will need to implement this method. The expected behavior is described on the methods docstring. If you have some doubts, please refer to the Learning Notebook\n",
    "\n",
    "Once you are done, please run the cell below and make sure that the tests pass. If you prefer you can run the tests by navigating to the root folder of your project and then run the command `pytest tests.py::test_click_mine`."
   ]
  },
  {
   "cell_type": "code",
   "execution_count": 1,
   "metadata": {},
   "outputs": [
    {
     "name": "stdout",
     "output_type": "stream",
     "text": [
      "\u001b[1m============================= test session starts ==============================\u001b[0m\n",
      "platform darwin -- Python 3.8.16, pytest-7.1.2, pluggy-1.0.0\n",
      "rootdir: /Users/gustavo-sf/Documents/Repositories/LDSA/ds-prep-course-instructors-2023/Week 09/SLU16 - Final Project\n",
      "plugins: anyio-3.6.2\n",
      "collected 1 item                                                               \u001b[0m\n",
      "\n",
      "tests.py \u001b[31mF\u001b[0m\u001b[31m                                                               [100%]\u001b[0m\n",
      "\n",
      "=================================== FAILURES ===================================\n",
      "\u001b[31m\u001b[1m_______________________________ test_click_mine ________________________________\u001b[0m\n",
      "\n",
      "mines = <mines.MinesweeperGame object at 0x10827a2e0>\n",
      "\n",
      "    \u001b[94mdef\u001b[39;49;00m \u001b[92mtest_click_mine\u001b[39;49;00m(mines: MinesweeperGame):\u001b[90m\u001b[39;49;00m\n",
      "        mines.click(\u001b[94m2\u001b[39;49;00m,\u001b[94m1\u001b[39;49;00m)\u001b[90m\u001b[39;49;00m\n",
      ">       \u001b[94massert\u001b[39;49;00m (mines.revealed[\u001b[94m2\u001b[39;49;00m][\u001b[94m1\u001b[39;49;00m] == Square.MINE)\u001b[90m\u001b[39;49;00m\n",
      "\u001b[1m\u001b[31mE       assert <Square.EMPTY: <Surface(32x32x32 SW)>> == <Square.MINE: <Surface(32x32x32 SW)>>\u001b[0m\n",
      "\u001b[1m\u001b[31mE        +  where <Square.MINE: <Surface(32x32x32 SW)>> = Square.MINE\u001b[0m\n",
      "\n",
      "\u001b[1m\u001b[31mtests.py\u001b[0m:25: AssertionError\n",
      "=========================== short test summary info ============================\n",
      "FAILED tests.py::test_click_mine - assert <Square.EMPTY: <Surface(32x32x32 SW...\n",
      "\u001b[31m============================== \u001b[31m\u001b[1m1 failed\u001b[0m\u001b[31m in 0.18s\u001b[0m\u001b[31m ===============================\u001b[0m\n"
     ]
    }
   ],
   "source": [
    "!pytest tests.py::test_click_mine"
   ]
  },
  {
   "attachments": {},
   "cell_type": "markdown",
   "metadata": {
    "nbgrader": {
     "grade": false,
     "grade_id": "cell-84bba7638c640827",
     "locked": true,
     "schema_version": 3,
     "solution": false,
     "task": false
    }
   },
   "source": [
    "## Exercise 2\n",
    "Look for the method `count_mines_around`. On this exercise you will need to implement this method. The expected behavior is described on the method docstring.\n",
    "\n",
    "Once you are done, please run the cell below and make sure that the tests pass. If you prefer you can run the tests by navigating to the root folder of your project and then run the command `pytest tests.py::test_click_empty`."
   ]
  },
  {
   "cell_type": "code",
   "execution_count": 2,
   "metadata": {},
   "outputs": [
    {
     "name": "stdout",
     "output_type": "stream",
     "text": [
      "\u001b[1m============================= test session starts ==============================\u001b[0m\n",
      "platform darwin -- Python 3.8.16, pytest-7.1.2, pluggy-1.0.0\n",
      "rootdir: /Users/gustavo-sf/Documents/Repositories/LDSA/ds-prep-course-instructors-2023/Week 09/SLU16 - Final Project\n",
      "plugins: anyio-3.6.2\n",
      "collected 3 items                                                              \u001b[0m\n",
      "\n",
      "tests.py \u001b[32m.\u001b[0m\u001b[31mF\u001b[0m\u001b[31mF\u001b[0m\u001b[31m                                                             [100%]\u001b[0m\n",
      "\n",
      "=================================== FAILURES ===================================\n",
      "\u001b[31m\u001b[1m_______________________ test_click_empty[2-0-Square.TWO] _______________________\u001b[0m\n",
      "\n",
      "mines = <mines.MinesweeperGame object at 0x102ab4c40>, x = 2, y = 0\n",
      "result = <Square.TWO: <Surface(32x32x32 SW)>>\n",
      "\n",
      "    \u001b[37m@pytest\u001b[39;49;00m.mark.parametrize(\u001b[90m\u001b[39;49;00m\n",
      "        \u001b[33m\"\u001b[39;49;00m\u001b[33mx,y,result\u001b[39;49;00m\u001b[33m\"\u001b[39;49;00m,\u001b[90m\u001b[39;49;00m\n",
      "        [(\u001b[94m0\u001b[39;49;00m,\u001b[94m0\u001b[39;49;00m,Square.EMPTY), (\u001b[94m2\u001b[39;49;00m,\u001b[94m0\u001b[39;49;00m, Square.TWO), (\u001b[94m3\u001b[39;49;00m,\u001b[94m3\u001b[39;49;00m,Square.ONE)])\u001b[90m\u001b[39;49;00m\n",
      "    \u001b[94mdef\u001b[39;49;00m \u001b[92mtest_click_empty\u001b[39;49;00m(mines: MinesweeperGame, x: \u001b[96mint\u001b[39;49;00m, y: \u001b[96mint\u001b[39;49;00m, result: Square):\u001b[90m\u001b[39;49;00m\n",
      "        mines.click(x,y)\u001b[90m\u001b[39;49;00m\n",
      ">       \u001b[94massert\u001b[39;49;00m (mines.revealed[x][y] == result)\u001b[90m\u001b[39;49;00m\n",
      "\u001b[1m\u001b[31mE       assert <Square.EMPTY: <Surface(32x32x32 SW)>> == <Square.TWO: <Surface(32x32x32 SW)>>\u001b[0m\n",
      "\n",
      "\u001b[1m\u001b[31mtests.py\u001b[0m:32: AssertionError\n",
      "\u001b[31m\u001b[1m_______________________ test_click_empty[3-3-Square.ONE] _______________________\u001b[0m\n",
      "\n",
      "mines = <mines.MinesweeperGame object at 0x104021520>, x = 3, y = 3\n",
      "result = <Square.ONE: <Surface(32x32x32 SW)>>\n",
      "\n",
      "    \u001b[37m@pytest\u001b[39;49;00m.mark.parametrize(\u001b[90m\u001b[39;49;00m\n",
      "        \u001b[33m\"\u001b[39;49;00m\u001b[33mx,y,result\u001b[39;49;00m\u001b[33m\"\u001b[39;49;00m,\u001b[90m\u001b[39;49;00m\n",
      "        [(\u001b[94m0\u001b[39;49;00m,\u001b[94m0\u001b[39;49;00m,Square.EMPTY), (\u001b[94m2\u001b[39;49;00m,\u001b[94m0\u001b[39;49;00m, Square.TWO), (\u001b[94m3\u001b[39;49;00m,\u001b[94m3\u001b[39;49;00m,Square.ONE)])\u001b[90m\u001b[39;49;00m\n",
      "    \u001b[94mdef\u001b[39;49;00m \u001b[92mtest_click_empty\u001b[39;49;00m(mines: MinesweeperGame, x: \u001b[96mint\u001b[39;49;00m, y: \u001b[96mint\u001b[39;49;00m, result: Square):\u001b[90m\u001b[39;49;00m\n",
      "        mines.click(x,y)\u001b[90m\u001b[39;49;00m\n",
      ">       \u001b[94massert\u001b[39;49;00m (mines.revealed[x][y] == result)\u001b[90m\u001b[39;49;00m\n",
      "\u001b[1m\u001b[31mE       assert <Square.EMPTY: <Surface(32x32x32 SW)>> == <Square.ONE: <Surface(32x32x32 SW)>>\u001b[0m\n",
      "\n",
      "\u001b[1m\u001b[31mtests.py\u001b[0m:32: AssertionError\n",
      "=========================== short test summary info ============================\n",
      "FAILED tests.py::test_click_empty[2-0-Square.TWO] - assert <Square.EMPTY: <Su...\n",
      "FAILED tests.py::test_click_empty[3-3-Square.ONE] - assert <Square.EMPTY: <Su...\n",
      "\u001b[31m========================= \u001b[31m\u001b[1m2 failed\u001b[0m, \u001b[32m1 passed\u001b[0m\u001b[31m in 0.21s\u001b[0m\u001b[31m ==========================\u001b[0m\n"
     ]
    }
   ],
   "source": [
    "!pytest tests.py::test_click_empty"
   ]
  },
  {
   "attachments": {},
   "cell_type": "markdown",
   "metadata": {
    "nbgrader": {
     "grade": false,
     "grade_id": "cell-30c1269c591734ec",
     "locked": true,
     "schema_version": 3,
     "solution": false,
     "task": false
    }
   },
   "source": [
    "## Exercise 3\n",
    "Look for the method `click_around`. On this exercise you will need to implement this method. The expected behavior is described on the method docstring.\n",
    "\n",
    "Once you are done, please run the cell below and make sure that the tests pass. If you prefer you can run the tests by navigating to the root folder of your project and then run the command `pytest tests.py::test_area_revealed`."
   ]
  },
  {
   "cell_type": "code",
   "execution_count": 3,
   "metadata": {},
   "outputs": [
    {
     "name": "stdout",
     "output_type": "stream",
     "text": [
      "\u001b[1m============================= test session starts ==============================\u001b[0m\n",
      "platform darwin -- Python 3.8.16, pytest-7.1.2, pluggy-1.0.0\n",
      "rootdir: /Users/gustavo-sf/Documents/Repositories/LDSA/ds-prep-course-instructors-2023/Week 09/SLU16 - Final Project\n",
      "plugins: anyio-3.6.2\n",
      "collected 1 item                                                               \u001b[0m\n",
      "\n",
      "tests.py \u001b[31mF\u001b[0m\u001b[31m                                                               [100%]\u001b[0m\n",
      "\n",
      "=================================== FAILURES ===================================\n",
      "\u001b[31m\u001b[1m______________________________ test_area_revealed ______________________________\u001b[0m\n",
      "\n",
      "mines = <mines.MinesweeperGame object at 0x108b05340>\n",
      "\n",
      "    \u001b[94mdef\u001b[39;49;00m \u001b[92mtest_area_revealed\u001b[39;49;00m(mines: MinesweeperGame):\u001b[90m\u001b[39;49;00m\n",
      "        revealed = [\u001b[90m\u001b[39;49;00m\n",
      "            [Square.EMPTY, Square.EMPTY, Square.EMPTY, Square.EMPTY],\u001b[90m\u001b[39;49;00m\n",
      "            [Square.ONE, Square.ONE, Square.TWO, Square.ONE],\u001b[90m\u001b[39;49;00m\n",
      "            [Square.UNKNOWN, Square.UNKNOWN, Square.UNKNOWN, Square.UNKNOWN],\u001b[90m\u001b[39;49;00m\n",
      "            [Square.UNKNOWN, Square.UNKNOWN, Square.UNKNOWN, Square.UNKNOWN],\u001b[90m\u001b[39;49;00m\n",
      "        ]\u001b[90m\u001b[39;49;00m\n",
      "        mines.click(\u001b[94m0\u001b[39;49;00m,\u001b[94m0\u001b[39;49;00m)\u001b[90m\u001b[39;49;00m\n",
      ">       \u001b[94massert\u001b[39;49;00m (mines.revealed == revealed)\u001b[90m\u001b[39;49;00m\n",
      "\u001b[1m\u001b[31mE       assert [[<Square.EMP...x32x32 SW)>>]] == [[<Square.EMP...x32x32 SW)>>]]\u001b[0m\n",
      "\u001b[1m\u001b[31mE         At index 0 diff: [<Square.EMPTY: <Surface(32x32x32 SW)>>, <Square.UNKNOWN: <Surface(32x32x32 SW)>>, <Square.UNKNOWN: <Surface(32x32x32 SW)>>, <Square.UNKNOWN: <Surface(32x32x32 SW)>>] != [<Square.EMPTY: <Surface(32x32x32 SW)>>, <Square.EMPTY: <Surface(32x32x32 SW)>>, <Square.EMPTY: <Surface(32x32x32 SW)>>, <Square.EMPTY: <Surface(32x32x32 SW)>>]\u001b[0m\n",
      "\u001b[1m\u001b[31mE         Use -v to get more diff\u001b[0m\n",
      "\n",
      "\u001b[1m\u001b[31mtests.py\u001b[0m:43: AssertionError\n",
      "=========================== short test summary info ============================\n",
      "FAILED tests.py::test_area_revealed - assert [[<Square.EMP...x32x32 SW)>>]] =...\n",
      "\u001b[31m============================== \u001b[31m\u001b[1m1 failed\u001b[0m\u001b[31m in 0.20s\u001b[0m\u001b[31m ===============================\u001b[0m\n"
     ]
    }
   ],
   "source": [
    "!pytest tests.py::test_area_revealed"
   ]
  },
  {
   "attachments": {},
   "cell_type": "markdown",
   "metadata": {
    "nbgrader": {
     "grade": false,
     "grade_id": "cell-1bca62991221106b",
     "locked": true,
     "schema_version": 3,
     "solution": false,
     "task": false
    }
   },
   "source": [
    "## Run all the tests"
   ]
  },
  {
   "attachments": {},
   "cell_type": "markdown",
   "metadata": {
    "nbgrader": {
     "grade": false,
     "grade_id": "cell-279ae0eb7d603056",
     "locked": true,
     "schema_version": 3,
     "solution": false,
     "task": false
    }
   },
   "source": [
    "Now you can run the tests all at once by running the cell below. "
   ]
  },
  {
   "cell_type": "code",
   "execution_count": 4,
   "metadata": {},
   "outputs": [
    {
     "name": "stdout",
     "output_type": "stream",
     "text": [
      "\u001b[1m============================= test session starts ==============================\u001b[0m\n",
      "platform darwin -- Python 3.8.16, pytest-7.1.2, pluggy-1.0.0\n",
      "rootdir: /Users/gustavo-sf/Documents/Repositories/LDSA/ds-prep-course-instructors-2023/Week 09/SLU16 - Final Project\n",
      "plugins: anyio-3.6.2\n",
      "collected 5 items                                                              \u001b[0m\n",
      "\n",
      "tests.py \u001b[31mF\u001b[0m\u001b[32m.\u001b[0m\u001b[31mF\u001b[0m\u001b[31mF\u001b[0m\u001b[31mF\u001b[0m\u001b[31m                                                           [100%]\u001b[0m\n",
      "\n",
      "=================================== FAILURES ===================================\n",
      "\u001b[31m\u001b[1m_______________________________ test_click_mine ________________________________\u001b[0m\n",
      "\n",
      "mines = <mines.MinesweeperGame object at 0x1036af340>\n",
      "\n",
      "    \u001b[94mdef\u001b[39;49;00m \u001b[92mtest_click_mine\u001b[39;49;00m(mines: MinesweeperGame):\u001b[90m\u001b[39;49;00m\n",
      "        mines.click(\u001b[94m2\u001b[39;49;00m,\u001b[94m1\u001b[39;49;00m)\u001b[90m\u001b[39;49;00m\n",
      ">       \u001b[94massert\u001b[39;49;00m (mines.revealed[\u001b[94m2\u001b[39;49;00m][\u001b[94m1\u001b[39;49;00m] == Square.MINE)\u001b[90m\u001b[39;49;00m\n",
      "\u001b[1m\u001b[31mE       assert <Square.EMPTY: <Surface(32x32x32 SW)>> == <Square.MINE: <Surface(32x32x32 SW)>>\u001b[0m\n",
      "\u001b[1m\u001b[31mE        +  where <Square.MINE: <Surface(32x32x32 SW)>> = Square.MINE\u001b[0m\n",
      "\n",
      "\u001b[1m\u001b[31mtests.py\u001b[0m:25: AssertionError\n",
      "\u001b[31m\u001b[1m_______________________ test_click_empty[2-0-Square.TWO] _______________________\u001b[0m\n",
      "\n",
      "mines = <mines.MinesweeperGame object at 0x1037d0fa0>, x = 2, y = 0\n",
      "result = <Square.TWO: <Surface(32x32x32 SW)>>\n",
      "\n",
      "    \u001b[37m@pytest\u001b[39;49;00m.mark.parametrize(\u001b[90m\u001b[39;49;00m\n",
      "        \u001b[33m\"\u001b[39;49;00m\u001b[33mx,y,result\u001b[39;49;00m\u001b[33m\"\u001b[39;49;00m,\u001b[90m\u001b[39;49;00m\n",
      "        [(\u001b[94m0\u001b[39;49;00m,\u001b[94m0\u001b[39;49;00m,Square.EMPTY), (\u001b[94m2\u001b[39;49;00m,\u001b[94m0\u001b[39;49;00m, Square.TWO), (\u001b[94m3\u001b[39;49;00m,\u001b[94m3\u001b[39;49;00m,Square.ONE)])\u001b[90m\u001b[39;49;00m\n",
      "    \u001b[94mdef\u001b[39;49;00m \u001b[92mtest_click_empty\u001b[39;49;00m(mines: MinesweeperGame, x: \u001b[96mint\u001b[39;49;00m, y: \u001b[96mint\u001b[39;49;00m, result: Square):\u001b[90m\u001b[39;49;00m\n",
      "        mines.click(x,y)\u001b[90m\u001b[39;49;00m\n",
      ">       \u001b[94massert\u001b[39;49;00m (mines.revealed[x][y] == result)\u001b[90m\u001b[39;49;00m\n",
      "\u001b[1m\u001b[31mE       assert <Square.EMPTY: <Surface(32x32x32 SW)>> == <Square.TWO: <Surface(32x32x32 SW)>>\u001b[0m\n",
      "\n",
      "\u001b[1m\u001b[31mtests.py\u001b[0m:32: AssertionError\n",
      "\u001b[31m\u001b[1m_______________________ test_click_empty[3-3-Square.ONE] _______________________\u001b[0m\n",
      "\n",
      "mines = <mines.MinesweeperGame object at 0x1036afb20>, x = 3, y = 3\n",
      "result = <Square.ONE: <Surface(32x32x32 SW)>>\n",
      "\n",
      "    \u001b[37m@pytest\u001b[39;49;00m.mark.parametrize(\u001b[90m\u001b[39;49;00m\n",
      "        \u001b[33m\"\u001b[39;49;00m\u001b[33mx,y,result\u001b[39;49;00m\u001b[33m\"\u001b[39;49;00m,\u001b[90m\u001b[39;49;00m\n",
      "        [(\u001b[94m0\u001b[39;49;00m,\u001b[94m0\u001b[39;49;00m,Square.EMPTY), (\u001b[94m2\u001b[39;49;00m,\u001b[94m0\u001b[39;49;00m, Square.TWO), (\u001b[94m3\u001b[39;49;00m,\u001b[94m3\u001b[39;49;00m,Square.ONE)])\u001b[90m\u001b[39;49;00m\n",
      "    \u001b[94mdef\u001b[39;49;00m \u001b[92mtest_click_empty\u001b[39;49;00m(mines: MinesweeperGame, x: \u001b[96mint\u001b[39;49;00m, y: \u001b[96mint\u001b[39;49;00m, result: Square):\u001b[90m\u001b[39;49;00m\n",
      "        mines.click(x,y)\u001b[90m\u001b[39;49;00m\n",
      ">       \u001b[94massert\u001b[39;49;00m (mines.revealed[x][y] == result)\u001b[90m\u001b[39;49;00m\n",
      "\u001b[1m\u001b[31mE       assert <Square.EMPTY: <Surface(32x32x32 SW)>> == <Square.ONE: <Surface(32x32x32 SW)>>\u001b[0m\n",
      "\n",
      "\u001b[1m\u001b[31mtests.py\u001b[0m:32: AssertionError\n",
      "\u001b[31m\u001b[1m______________________________ test_area_revealed ______________________________\u001b[0m\n",
      "\n",
      "mines = <mines.MinesweeperGame object at 0x1036af9a0>\n",
      "\n",
      "    \u001b[94mdef\u001b[39;49;00m \u001b[92mtest_area_revealed\u001b[39;49;00m(mines: MinesweeperGame):\u001b[90m\u001b[39;49;00m\n",
      "        revealed = [\u001b[90m\u001b[39;49;00m\n",
      "            [Square.EMPTY, Square.EMPTY, Square.EMPTY, Square.EMPTY],\u001b[90m\u001b[39;49;00m\n",
      "            [Square.ONE, Square.ONE, Square.TWO, Square.ONE],\u001b[90m\u001b[39;49;00m\n",
      "            [Square.UNKNOWN, Square.UNKNOWN, Square.UNKNOWN, Square.UNKNOWN],\u001b[90m\u001b[39;49;00m\n",
      "            [Square.UNKNOWN, Square.UNKNOWN, Square.UNKNOWN, Square.UNKNOWN],\u001b[90m\u001b[39;49;00m\n",
      "        ]\u001b[90m\u001b[39;49;00m\n",
      "        mines.click(\u001b[94m0\u001b[39;49;00m,\u001b[94m0\u001b[39;49;00m)\u001b[90m\u001b[39;49;00m\n",
      ">       \u001b[94massert\u001b[39;49;00m (mines.revealed == revealed)\u001b[90m\u001b[39;49;00m\n",
      "\u001b[1m\u001b[31mE       assert [[<Square.EMP...x32x32 SW)>>]] == [[<Square.EMP...x32x32 SW)>>]]\u001b[0m\n",
      "\u001b[1m\u001b[31mE         At index 0 diff: [<Square.EMPTY: <Surface(32x32x32 SW)>>, <Square.UNKNOWN: <Surface(32x32x32 SW)>>, <Square.UNKNOWN: <Surface(32x32x32 SW)>>, <Square.UNKNOWN: <Surface(32x32x32 SW)>>] != [<Square.EMPTY: <Surface(32x32x32 SW)>>, <Square.EMPTY: <Surface(32x32x32 SW)>>, <Square.EMPTY: <Surface(32x32x32 SW)>>, <Square.EMPTY: <Surface(32x32x32 SW)>>]\u001b[0m\n",
      "\u001b[1m\u001b[31mE         Use -v to get more diff\u001b[0m\n",
      "\n",
      "\u001b[1m\u001b[31mtests.py\u001b[0m:43: AssertionError\n",
      "=========================== short test summary info ============================\n",
      "FAILED tests.py::test_click_mine - assert <Square.EMPTY: <Surface(32x32x32 SW...\n",
      "FAILED tests.py::test_click_empty[2-0-Square.TWO] - assert <Square.EMPTY: <Su...\n",
      "FAILED tests.py::test_click_empty[3-3-Square.ONE] - assert <Square.EMPTY: <Su...\n",
      "FAILED tests.py::test_area_revealed - assert [[<Square.EMP...x32x32 SW)>>]] =...\n",
      "\u001b[31m========================= \u001b[31m\u001b[1m4 failed\u001b[0m, \u001b[32m1 passed\u001b[0m\u001b[31m in 0.30s\u001b[0m\u001b[31m ==========================\u001b[0m\n"
     ]
    }
   ],
   "source": [
    "!pytest tests.py"
   ]
  },
  {
   "attachments": {},
   "cell_type": "markdown",
   "metadata": {
    "nbgrader": {
     "grade": false,
     "grade_id": "cell-eb809c44475b3da8",
     "locked": true,
     "schema_version": 3,
     "solution": false,
     "task": false
    }
   },
   "source": [
    "# Help us to improve the course!\n",
    "Please help us to provide a even better experience for next year students by filling up this form\n",
    "https://forms.gle/GZPZvN9fR5fJ2z2a7"
   ]
  },
  {
   "attachments": {},
   "cell_type": "markdown",
   "metadata": {
    "nbgrader": {
     "grade": false,
     "grade_id": "cell-f90b1d12b5e9a467",
     "locked": true,
     "schema_version": 3,
     "solution": false,
     "task": false
    }
   },
   "source": [
    "If you have reached this cell without seeing any error, congratulations, your game is now fully functional. Run your game and give it a play.\n",
    "\n",
    "Go to your terminal, navigate to the root folder of the project `~/projects/ds-prep-workspace/Week 09/SUL16 - Final Project` and then type `python main.py`. \n",
    "\n",
    "If you are on WSL, **please start xlaunch** (refer to the WSL requirements of the learning notebook), and run `export DISPLAY=localhost:0.0 && python main.py`"
   ]
  },
  {
   "attachments": {},
   "cell_type": "markdown",
   "metadata": {
    "nbgrader": {
     "grade": false,
     "grade_id": "cell-d5060328f1ce1781",
     "locked": true,
     "schema_version": 3,
     "solution": false,
     "task": false
    }
   },
   "source": [
    "## Next Steps\n",
    "If you think that it was too easy, we have some suggestion of improvements to do on the project.\n",
    "\n",
    "- Add some additional key shortcuts. Q will exit the Game, P will pause the game.\n",
    "- Show all the hidden mines when game finishes, both flagged and unflagged.\n",
    "- Restart the game if a given key is pressed \n",
    "- Change the design of the game, create your own design"
   ]
  },
  {
   "attachments": {},
   "cell_type": "markdown",
   "metadata": {
    "nbgrader": {
     "grade": false,
     "grade_id": "cell-77a90a24ef766d2e",
     "locked": true,
     "schema_version": 3,
     "solution": false,
     "task": false
    }
   },
   "source": [
    "# Submit your work!\n",
    "\n",
    "To submit your work, [follow the steps here, in the step \"Grading the Exercise Notebook\"!](https://github.com/LDSSA/ds-prep-course-2023/blob/main/weekly-workflow.md#link-to-grading)"
   ]
  }
 ],
 "metadata": {
  "celltoolbar": "Create Assignment",
  "kernelspec": {
   "display_name": "Python 3 (ipykernel)",
   "language": "python",
   "name": "python3"
  },
  "language_info": {
   "codemirror_mode": {
    "name": "ipython",
    "version": 3
   },
   "file_extension": ".py",
   "mimetype": "text/x-python",
   "name": "python",
   "nbconvert_exporter": "python",
   "pygments_lexer": "ipython3",
   "version": "3.8.16"
  }
 },
 "nbformat": 4,
 "nbformat_minor": 4
}
