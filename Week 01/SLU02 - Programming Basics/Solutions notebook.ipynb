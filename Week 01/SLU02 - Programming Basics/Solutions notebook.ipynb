{
 "cells": [
  {
   "cell_type": "markdown",
   "metadata": {
    "nbgrader": {
     "grade": false,
     "grade_id": "cell-5b6b029f0ce1dd2e",
     "locked": true,
     "schema_version": 3,
     "solution": false
    }
   },
   "source": [
    "# SLU02 - Exercise notebook"
   ]
  },
  {
   "cell_type": "markdown",
   "metadata": {
    "nbgrader": {
     "grade": false,
     "grade_id": "cell-49f2f0f2fc298a46",
     "locked": true,
     "schema_version": 3,
     "solution": false
    }
   },
   "source": [
    "## Start by importing this package"
   ]
  },
  {
   "cell_type": "code",
   "execution_count": 1,
   "metadata": {
    "nbgrader": {
     "grade": false,
     "grade_id": "cell-7dd7bfe836b5d985",
     "locked": true,
     "schema_version": 3,
     "solution": false
    }
   },
   "outputs": [],
   "source": [
    "# Just for evaluating the results.\n",
    "import math\n",
    "import hashlib"
   ]
  },
  {
   "cell_type": "markdown",
   "metadata": {
    "nbgrader": {
     "grade": false,
     "grade_id": "cell-25a5f67d60c2dfed",
     "locked": true,
     "schema_version": 3,
     "solution": false
    }
   },
   "source": [
    "## Exercise 1: Data Types"
   ]
  },
  {
   "cell_type": "markdown",
   "metadata": {
    "nbgrader": {
     "grade": false,
     "grade_id": "cell-34bb7be0434b5ade",
     "locked": true,
     "schema_version": 3,
     "solution": false
    }
   },
   "source": [
    "## 1.1) Scientific notation"
   ]
  },
  {
   "cell_type": "code",
   "execution_count": 2,
   "metadata": {
    "nbgrader": {
     "grade": false,
     "grade_id": "cell-a5bd49d98abf2410",
     "locked": false,
     "schema_version": 3,
     "solution": true
    }
   },
   "outputs": [],
   "source": [
    "# Assign the speed of light (2.99*10^8 m/s) to the variable speed_light.\n",
    "# Use the scientific notation and 2 decimal places.\n",
    "\n",
    "# speed_light = ...\n",
    "### BEGIN SOLUTION\n",
    "\n",
    "# Here is the actual solution\n",
    "speed_light = 2.99E8\n",
    "\n",
    "### END SOLUTION\n",
    "\n",
    "# Calculate the distance (in meters) that a light particle travels in 15 seconds.\n",
    "# Assign the distance travelled by the particle (in meters) to the variable distance_travelled.\n",
    "\n",
    "# distance_travelled = \n",
    "### BEGIN SOLUTION\n",
    "\n",
    "# Here is the actual solution\n",
    "distance_travelled = speed_light * 15\n",
    "\n",
    "### END SOLUTION"
   ]
  },
  {
   "cell_type": "code",
   "execution_count": 3,
   "metadata": {
    "nbgrader": {
     "grade": true,
     "grade_id": "cell-6b465d1d500666a0",
     "locked": true,
     "points": 2,
     "schema_version": 3,
     "solution": false
    }
   },
   "outputs": [
    {
     "name": "stdout",
     "output_type": "stream",
     "text": [
      "Nicely done!\n"
     ]
    }
   ],
   "source": [
    "assert isinstance(speed_light, float), \"Review the data type of speed_light.\"\n",
    "assert math.isclose(speed_light,2.99E8,abs_tol=1E5), \"Check your speed!\"\n",
    "assert isinstance(distance_travelled, float), \"Review the data type of distance_travelled.\"\n",
    "assert math.isclose(distance_travelled,4.485E9,abs_tol=1E5), \"Did you use the correct time in the calculation?\"\n",
    "print('Nicely done!')"
   ]
  },
  {
   "cell_type": "markdown",
   "metadata": {
    "nbgrader": {
     "grade": false,
     "grade_id": "cell-835bf362a6f3296d",
     "locked": true,
     "schema_version": 3,
     "solution": false
    }
   },
   "source": [
    "## 1.2) Data type conversion\n",
    "\n",
    "The data types of several variables got mixed up. Convert them to the target type.\n",
    "\n",
    "**Do not change** the values of the original variables."
   ]
  },
  {
   "cell_type": "markdown",
   "metadata": {
    "nbgrader": {
     "grade": false,
     "grade_id": "cell-2a04cb85a0ca2893",
     "locked": true,
     "schema_version": 3,
     "solution": false
    }
   },
   "source": [
    "### 1.2.1) To string"
   ]
  },
  {
   "cell_type": "code",
   "execution_count": 4,
   "metadata": {
    "nbgrader": {
     "grade": false,
     "grade_id": "cell-cf0b9cd761180962",
     "locked": false,
     "schema_version": 3,
     "solution": true
    }
   },
   "outputs": [
    {
     "name": "stdout",
     "output_type": "stream",
     "text": [
      "The size string: 5d48c7c6dce082d397fecf99b8f1ac7fa7adf02bd38fcbb1f7f9f13fba7a2d45\n"
     ]
    }
   ],
   "source": [
    "# Assign the value of the variable size converted into a string to the variable size_string.\n",
    "size = 1.78\n",
    "\n",
    "# size_string = ...\n",
    "### BEGIN SOLUTION\n",
    "\n",
    "# Here is the actual solution\n",
    "size_string = str(size)\n",
    "\n",
    "# Hash something that checks some subset of the answer.\n",
    "# In this example, it is checking the first element.\n",
    "# This can help check subsets of the student answer in order\n",
    "# to give more granular feedback.\n",
    "print(\n",
    "    'The size string:',\n",
    "    hashlib.sha256(\n",
    "        bytes(size_string, encoding='utf8')\n",
    "    ).hexdigest()\n",
    ")\n",
    "\n",
    "### END SOLUTION"
   ]
  },
  {
   "cell_type": "code",
   "execution_count": 5,
   "metadata": {
    "nbgrader": {
     "grade": true,
     "grade_id": "cell-ac16bba863ed00af",
     "locked": true,
     "points": 2,
     "schema_version": 3,
     "solution": false
    }
   },
   "outputs": [
    {
     "name": "stdout",
     "output_type": "stream",
     "text": [
      "Nicely done!\n"
     ]
    }
   ],
   "source": [
    "size_string_hash = '5d48c7c6dce082d397fecf99b8f1ac7fa7adf02bd38fcbb1f7f9f13fba7a2d45'\n",
    "assert isinstance(size_string, str), \"Review the data type of size_string.\"\n",
    "assert size_string_hash == hashlib.sha256(bytes(size_string, encoding='utf8')).hexdigest(), \"The value of size_string is incorrect.\"\n",
    "print('Nicely done!')"
   ]
  },
  {
   "cell_type": "markdown",
   "metadata": {
    "nbgrader": {
     "grade": false,
     "grade_id": "cell-f053bd824f139d2f",
     "locked": true,
     "schema_version": 3,
     "solution": false
    }
   },
   "source": [
    "### 1.2.2)  To integer"
   ]
  },
  {
   "cell_type": "code",
   "execution_count": 6,
   "metadata": {
    "nbgrader": {
     "grade": false,
     "grade_id": "cell-ca00a15a43742c1c",
     "locked": false,
     "schema_version": 3,
     "solution": true
    }
   },
   "outputs": [],
   "source": [
    "# Assign to variable age_int the value of variable age converted into an integer. \n",
    "age = \"38\"\n",
    "\n",
    "# age_int = ...\n",
    "### BEGIN SOLUTION\n",
    "\n",
    "# Here is the actual solution\n",
    "age_int = int(age)\n",
    "\n",
    "### END SOLUTION"
   ]
  },
  {
   "cell_type": "code",
   "execution_count": 7,
   "metadata": {
    "nbgrader": {
     "grade": true,
     "grade_id": "cell-43f5849625865cc0",
     "locked": true,
     "points": 2,
     "schema_version": 3,
     "solution": false
    }
   },
   "outputs": [
    {
     "name": "stdout",
     "output_type": "stream",
     "text": [
      "Nicely done!\n"
     ]
    }
   ],
   "source": [
    "assert isinstance(age_int, int), \"Review the data type of age_int.\"\n",
    "assert math.isclose(age_int, 38, abs_tol=0.1), \"The value of age_int is incorrect.\"\n",
    "print('Nicely done!')"
   ]
  },
  {
   "cell_type": "markdown",
   "metadata": {
    "nbgrader": {
     "grade": false,
     "grade_id": "cell-7ffe99898d22f7c4",
     "locked": true,
     "schema_version": 3,
     "solution": false
    }
   },
   "source": [
    "### 1.2.3)  To float"
   ]
  },
  {
   "cell_type": "code",
   "execution_count": 8,
   "metadata": {
    "nbgrader": {
     "grade": false,
     "grade_id": "cell-cce49b7314add616",
     "locked": false,
     "schema_version": 3,
     "solution": true
    }
   },
   "outputs": [],
   "source": [
    "# Assign to the variable weight_float the value of the variable weight converted into a float. \n",
    "weight = \"77.4\"\n",
    "\n",
    "# weight_float = ...\n",
    "### BEGIN SOLUTION\n",
    "\n",
    "# Here is the actual solution\n",
    "weight_float = float(weight)\n",
    "\n",
    "### END SOLUTION"
   ]
  },
  {
   "cell_type": "code",
   "execution_count": 9,
   "metadata": {
    "nbgrader": {
     "grade": true,
     "grade_id": "cell-97305f11f776d1a5",
     "locked": true,
     "points": 2,
     "schema_version": 3,
     "solution": false
    }
   },
   "outputs": [
    {
     "name": "stdout",
     "output_type": "stream",
     "text": [
      "Nicely done!\n"
     ]
    }
   ],
   "source": [
    "assert isinstance(weight_float, float), \"Review the data type of weight_float.\"\n",
    "assert math.isclose(weight_float, 77.4, abs_tol=0.01), \"The value of weight_float is incorrect.\"\n",
    "print('Nicely done!')"
   ]
  },
  {
   "cell_type": "markdown",
   "metadata": {
    "nbgrader": {
     "grade": false,
     "grade_id": "cell-d5767ea19f9b5d23",
     "locked": true,
     "schema_version": 3,
     "solution": false
    }
   },
   "source": [
    "# Exercise 2: Operations"
   ]
  },
  {
   "cell_type": "markdown",
   "metadata": {
    "nbgrader": {
     "grade": false,
     "grade_id": "cell-05f72c7dbabe8d3d",
     "locked": true,
     "schema_version": 3,
     "solution": false
    }
   },
   "source": [
    "## 2.1) Arithmetic operations\n",
    "\n",
    "Solve the math problems and assign the results to the variables.\n",
    "\n",
    "Use arithmetic operations in your solutions.\n",
    "\n",
    "If the answer has no decimal part, assign it as an **integer**. Otherwise leave it as a **float**."
   ]
  },
  {
   "cell_type": "markdown",
   "metadata": {
    "nbgrader": {
     "grade": false,
     "grade_id": "cell-bab6bbe7353769e1",
     "locked": true,
     "schema_version": 3,
     "solution": false
    }
   },
   "source": [
    "### 2.1.1)  Basic arithmetics"
   ]
  },
  {
   "cell_type": "code",
   "execution_count": 10,
   "metadata": {
    "nbgrader": {
     "grade": false,
     "grade_id": "cell-68e58a91a765c6cb",
     "locked": false,
     "schema_version": 3,
     "solution": true
    }
   },
   "outputs": [],
   "source": [
    "# To study Data Science, Jane read 2 books. \n",
    "# She read the first one in one week, reading 27 pages everyday. \n",
    "# She read the second book in 11 days, reading 24 pages everyday. \n",
    "# What is the total number of pages that Jane read? \n",
    "\n",
    "# pages_read = ...\n",
    "### BEGIN SOLUTION\n",
    "\n",
    "# Here is the actual solution\n",
    "pages_read = 7 * 27 + 11 * 24\n",
    "\n",
    "### END SOLUTION"
   ]
  },
  {
   "cell_type": "code",
   "execution_count": 11,
   "metadata": {
    "nbgrader": {
     "grade": true,
     "grade_id": "cell-b09b6a3df43346e0",
     "locked": true,
     "points": 2,
     "schema_version": 3,
     "solution": false
    }
   },
   "outputs": [
    {
     "name": "stdout",
     "output_type": "stream",
     "text": [
      "Nicely done!\n"
     ]
    }
   ],
   "source": [
    "assert isinstance(pages_read, int), \"Review the data type of pages_read.\"\n",
    "assert math.isclose(pages_read, 453, abs_tol=0.001), \"The value of pages_read is incorrect.\"\n",
    "print('Nicely done!')"
   ]
  },
  {
   "cell_type": "markdown",
   "metadata": {
    "nbgrader": {
     "grade": false,
     "grade_id": "cell-6e4ded96b9d50af0",
     "locked": true,
     "schema_version": 3,
     "solution": false
    }
   },
   "source": [
    "### 2.1.2) More basic arithmetics"
   ]
  },
  {
   "cell_type": "code",
   "execution_count": 12,
   "metadata": {
    "nbgrader": {
     "grade": false,
     "grade_id": "cell-0f95f2283fa7b5ed",
     "locked": false,
     "schema_version": 3,
     "solution": true
    }
   },
   "outputs": [],
   "source": [
    "# Steve used his savings of 2500 euros to do some purchases.\n",
    "# He spent 3/4 of his savings on furniture. \n",
    "# He then spent 1/2 of his remaining savings on a fridge. \n",
    "# How much money had Steve left from his savings after the purchases?\n",
    "\n",
    "#savings_left =\n",
    "### BEGIN SOLUTION\n",
    "\n",
    "# Here is the actual solution\n",
    "savings_left = (2500 * 1 / 4) / 2\n",
    "\n",
    "### END SOLUTION"
   ]
  },
  {
   "cell_type": "code",
   "execution_count": 13,
   "metadata": {
    "nbgrader": {
     "grade": true,
     "grade_id": "cell-b15473e30437404d",
     "locked": true,
     "points": 2,
     "schema_version": 3,
     "solution": false
    }
   },
   "outputs": [
    {
     "name": "stdout",
     "output_type": "stream",
     "text": [
      "Nicely done!\n"
     ]
    }
   ],
   "source": [
    "assert isinstance(savings_left, float), \"Review the data type of savings_left.\"\n",
    "assert math.isclose(savings_left, 312.5, abs_tol=0.2), \"The value of savings_left is incorrect.\"\n",
    "print('Nicely done!')"
   ]
  },
  {
   "cell_type": "markdown",
   "metadata": {
    "nbgrader": {
     "grade": false,
     "grade_id": "cell-fe75c04bf71cac61",
     "locked": true,
     "schema_version": 3,
     "solution": false
    }
   },
   "source": [
    "### 2.1.3) Even more arithmetics"
   ]
  },
  {
   "cell_type": "code",
   "execution_count": 14,
   "metadata": {
    "nbgrader": {
     "grade": false,
     "grade_id": "cell-4a8b61ca7fd9597b",
     "locked": false,
     "schema_version": 3,
     "solution": true
    }
   },
   "outputs": [],
   "source": [
    "# John, Mary, Louis and Silvia have 177 cards to use in a game. \n",
    "# They want to share them equally. \n",
    "# How many cards should each one take and how many cards will be left in the deck?\n",
    "\n",
    "# cards_per_player = ...\n",
    "# cards_left = \n",
    "### BEGIN SOLUTION\n",
    "\n",
    "# Here is the actual solution\n",
    "cards_per_player = 177 // 4\n",
    "cards_left = 177 % 4\n",
    "\n",
    "### END SOLUTION"
   ]
  },
  {
   "cell_type": "code",
   "execution_count": 15,
   "metadata": {
    "nbgrader": {
     "grade": true,
     "grade_id": "cell-80de177e3edd27bc",
     "locked": true,
     "points": 2,
     "schema_version": 3,
     "solution": false
    }
   },
   "outputs": [
    {
     "name": "stdout",
     "output_type": "stream",
     "text": [
      "Nicely done!\n"
     ]
    }
   ],
   "source": [
    "assert isinstance(cards_per_player, int), \"Review the data type of cards_per_player.\"\n",
    "assert math.isclose(cards_per_player, 44, abs_tol=0.001), \"The value of cards_per_player is incorrect.\"\n",
    "assert isinstance(cards_left, int), \"Review the data type of cards_left.\"\n",
    "assert math.isclose(cards_left, 1, abs_tol=0.001), \"The value of cards_left is incorrect.\"\n",
    "print('Nicely done!')"
   ]
  },
  {
   "cell_type": "markdown",
   "metadata": {
    "nbgrader": {
     "grade": false,
     "grade_id": "cell-3364086ed1b77398",
     "locked": true,
     "schema_version": 3,
     "solution": false
    }
   },
   "source": [
    "### 2.1.4) Shortcut arithmetic operators"
   ]
  },
  {
   "cell_type": "code",
   "execution_count": 16,
   "metadata": {
    "nbgrader": {
     "grade": false,
     "grade_id": "cell-ca40d76b6b0fd084",
     "locked": false,
     "schema_version": 3,
     "solution": true
    }
   },
   "outputs": [],
   "source": [
    "# Louis has invested 2700 euros in a savings account. \n",
    "# The investment gives returns of 5% of the value invested every year.\n",
    "# Louis reinvests all the returns into the same savings account.\n",
    "# How much money is there in the savings account at the end of the 3rd year?\n",
    "\n",
    "\n",
    "# TIP: you can use as many auxiliary variables as you need. \n",
    "# Or change the value of a variable after the initial assignment.\n",
    "\n",
    "# final_savings =\n",
    "### BEGIN SOLUTION\n",
    "\n",
    "# Here is the actual solution\n",
    "final_savings = 2700\n",
    "final_savings *= 1.05\n",
    "final_savings *= 1.05\n",
    "final_savings *= 1.05\n",
    "\n",
    "### END SOLUTION"
   ]
  },
  {
   "cell_type": "code",
   "execution_count": 17,
   "metadata": {
    "nbgrader": {
     "grade": true,
     "grade_id": "cell-822b5ec7dfe02776",
     "locked": true,
     "points": 2,
     "schema_version": 3,
     "solution": false
    }
   },
   "outputs": [
    {
     "name": "stdout",
     "output_type": "stream",
     "text": [
      "Nicely done!\n"
     ]
    }
   ],
   "source": [
    "assert isinstance(final_savings, float), \"Review the data type of final_savings.\"\n",
    "assert math.isclose(final_savings, 3125.5875, abs_tol=0.1), \"The value of final_savings is incorrect.\"\n",
    "print('Nicely done!')"
   ]
  },
  {
   "cell_type": "markdown",
   "metadata": {
    "nbgrader": {
     "grade": false,
     "grade_id": "cell-234d2320f3bc45d9",
     "locked": true,
     "schema_version": 3,
     "solution": false
    }
   },
   "source": [
    "## 2.2) String operations"
   ]
  },
  {
   "cell_type": "markdown",
   "metadata": {
    "nbgrader": {
     "grade": false,
     "grade_id": "cell-07fb5a6bd4774e7b",
     "locked": true,
     "schema_version": 3,
     "solution": false
    }
   },
   "source": [
    "### 2.2.1) Concatenation"
   ]
  },
  {
   "cell_type": "code",
   "execution_count": 18,
   "metadata": {
    "nbgrader": {
     "grade": false,
     "grade_id": "cell-0a458560de5f3c4e",
     "locked": false,
     "schema_version": 3,
     "solution": true
    }
   },
   "outputs": [
    {
     "name": "stdout",
     "output_type": "stream",
     "text": [
      "The size string: 3b544b8a3e3c38076931e145008372476700160b6c106dea0aede521192a5a88\n"
     ]
    }
   ],
   "source": [
    "# Concatenate the joke variable with 3 times the response variable, leaving a space between each string.\n",
    "# The result should be: \"How does Darth Vader like his toast? On the dark side. Ha Ha Ha\"\n",
    "joke = \"How does Darth Vader like his toast? On the dark side.\"\n",
    "response = \"Ha\"\n",
    "# joke_reception = ...\n",
    "\n",
    "### BEGIN SOLUTION\n",
    "\n",
    "# Here is the actual solution\n",
    "joke_reception = joke + 3 * (\" \" + response)\n",
    "\n",
    "# Hash something that checks some subset of the answer.\n",
    "# In this example, it is checking the first element.\n",
    "# This can help check subsets of the student answer in order\n",
    "# to give more granular feedback.\n",
    "print(\n",
    "    'The size string:',\n",
    "    hashlib.sha256(\n",
    "        bytes(joke_reception, encoding='utf8')\n",
    "    ).hexdigest()\n",
    ")\n",
    "\n",
    "### END SOLUTION"
   ]
  },
  {
   "cell_type": "code",
   "execution_count": 19,
   "metadata": {
    "nbgrader": {
     "grade": true,
     "grade_id": "cell-65f0dc204b4b0812",
     "locked": true,
     "points": 2,
     "schema_version": 3,
     "solution": false
    }
   },
   "outputs": [
    {
     "name": "stdout",
     "output_type": "stream",
     "text": [
      "Nicely done!\n"
     ]
    }
   ],
   "source": [
    "joke_reception_hash = '3b544b8a3e3c38076931e145008372476700160b6c106dea0aede521192a5a88'\n",
    "assert isinstance(joke_reception, str), \"Review the data type of joke_reception.\"\n",
    "assert joke_reception_hash == hashlib.sha256(bytes(joke_reception, encoding='utf8')).hexdigest(), \"The value of joke_reception is incorrect.\"\n",
    "print('Nicely done!')"
   ]
  },
  {
   "cell_type": "markdown",
   "metadata": {
    "nbgrader": {
     "grade": false,
     "grade_id": "cell-c1645d4608319a91",
     "locked": true,
     "schema_version": 3,
     "solution": false
    }
   },
   "source": [
    "### 2.2.2) String formatting"
   ]
  },
  {
   "cell_type": "code",
   "execution_count": 20,
   "metadata": {
    "nbgrader": {
     "grade": false,
     "grade_id": "cell-d2b9abfbcaf35a41",
     "locked": false,
     "schema_version": 3,
     "solution": true
    }
   },
   "outputs": [
    {
     "name": "stdout",
     "output_type": "stream",
     "text": [
      "The size string: d48f0e70729026e365046f03606e62d2dfab6b3b1102300e38efbeae63ce156d\n"
     ]
    }
   ],
   "source": [
    "# Use one of the string formatting methods to insert the values of the variables into a string.\n",
    "# Write the string in a single statement but DO NOT write the quantities \"by hand\" and DO NOT use concatenation.\n",
    "# The result should be: \"In the fridge there are 12 yogurts, 0.5 liters of milk and 8 eggs.\"\n",
    "yogurt = 12\n",
    "milk = 0.5\n",
    "eggs = 8\n",
    "\n",
    "# inventory = \"In the fridge (...)\"\n",
    "\n",
    "### BEGIN SOLUTION\n",
    "\n",
    "# Here is the actual solution\n",
    "inventory = f\"In the fridge there are {yogurt} yogurts, {milk} liters of milk and {eggs} eggs.\"\n",
    "\n",
    "# Hash something that checks some subset of the answer.\n",
    "# In this example, it is checking the first element.\n",
    "# This can help check subsets of the student answer in order\n",
    "# to give more granular feedback.\n",
    "print(\n",
    "    'The size string:',\n",
    "    hashlib.sha256(\n",
    "        bytes(inventory, encoding='utf8')\n",
    "    ).hexdigest()\n",
    ")\n",
    "\n",
    "### END SOLUTION"
   ]
  },
  {
   "cell_type": "code",
   "execution_count": 21,
   "metadata": {
    "nbgrader": {
     "grade": true,
     "grade_id": "cell-9f9722689d8a954e",
     "locked": true,
     "points": 2,
     "schema_version": 3,
     "solution": false
    }
   },
   "outputs": [
    {
     "name": "stdout",
     "output_type": "stream",
     "text": [
      "Nicely done!\n"
     ]
    }
   ],
   "source": [
    "inventory_hash = 'd48f0e70729026e365046f03606e62d2dfab6b3b1102300e38efbeae63ce156d'\n",
    "assert isinstance(inventory, str), \"Review the data type of inventory.\"\n",
    "assert inventory_hash == hashlib.sha256(bytes(inventory, encoding='utf8')).hexdigest(), \"The value of inventory is incorrect.\"\n",
    "print('Nicely done!')"
   ]
  },
  {
   "cell_type": "markdown",
   "metadata": {
    "nbgrader": {
     "grade": false,
     "grade_id": "cell-09266738d89b72ac",
     "locked": true,
     "schema_version": 3,
     "solution": false,
     "task": false
    }
   },
   "source": [
    "# Submit your work!\n",
    "\n",
    "To grade your exercise notebook and submit your work to the portal, [follow the instructions in the weekly workflow!](https://github.com/LDSSA/ds-prep-course-2023/blob/main/weekly-workflow.md#link-to-grading)"
   ]
  }
 ],
 "metadata": {
  "celltoolbar": "Create Assignment",
  "kernelspec": {
   "display_name": "Python 3 (ipykernel)",
   "language": "python",
   "name": "python3"
  },
  "language_info": {
   "codemirror_mode": {
    "name": "ipython",
    "version": 3
   },
   "file_extension": ".py",
   "mimetype": "text/x-python",
   "name": "python",
   "nbconvert_exporter": "python",
   "pygments_lexer": "ipython3",
   "version": "3.8.15"
  }
 },
 "nbformat": 4,
 "nbformat_minor": 2
}
