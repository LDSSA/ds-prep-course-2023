{
 "cells": [
  {
   "cell_type": "markdown",
   "metadata": {},
   "source": [
    "# SLU02 - Programming Basics - Learning notebook 2"
   ]
  },
  {
   "cell_type": "markdown",
   "metadata": {},
   "source": [
    "### Table of contents\n",
    "[1. Basic data types](#1.-Basic-data-types)   \n",
    "&emsp;[1.1 Integers](#1.1-Integers)   \n",
    "&emsp;[1.2 Floats](#1.2-Floats)   \n",
    "&emsp;[1.3 Strings](#1.3-Strings)   \n",
    "&emsp;[1.4 Booleans](#1.4-Booleans)   \n",
    "&emsp;[1.5 None](#1.5-None)   \n",
    "&emsp;[1.6 The `type()` function](#1.6-The-type()-function)   \n",
    "[2. Converting between basic data types using `int()`, `float()`, `str()` and `bool()` functions](#2.-Converting-between-basic-data-types-using-int(),-float(),-str()-and-bool()-functions)   \n",
    "&emsp;[2.1 The `ValueError`](#2.1-The-ValueError)   \n",
    "[3. Basic arithmetic operations](#3.-Basic-arithmetic-operations)   \n",
    "&emsp;[3.1 The `ZeroDivisionError`](#3.1-The-ZeroDivisionError)   \n",
    "[4. Operator precedence](#4.-Operator-precedence)   \n",
    "[5. String concatenation and formatting](#5.-String-concatenation-and-formatting)   \n",
    "&emsp;[5.1 String formatting](#5.1-String-formatting)   \n",
    "[6. Introduction to variables](#6.-Introduction-to-variables)   \n",
    "&emsp;[6.1 The `NameError`](#6.1-The-NameError)   \n",
    "[7. Constants](#7.-Constants)   \n",
    "[8. Debugging using `print()` - part 2](#8.-Debugging-using-print()---part-2)"
   ]
  },
  {
   "cell_type": "markdown",
   "metadata": {},
   "source": [
    "Welcome back! In this notebook, you will learn about data types, variables, constants, and a few error types that you will most likely meet during your learning journey."
   ]
  },
  {
   "cell_type": "markdown",
   "metadata": {},
   "source": [
    "## 1. Basic data types"
   ]
  },
  {
   "cell_type": "markdown",
   "metadata": {},
   "source": [
    "Not all data are created equal. Different types of data were developed for specific purposes. We've already seen strings, integers and floats but here we are going to discuss them with a bit more detail."
   ]
  },
  {
   "cell_type": "markdown",
   "metadata": {},
   "source": [
    "<img src=\"./media/letters.gif\"/>"
   ]
  },
  {
   "cell_type": "markdown",
   "metadata": {},
   "source": [
    "### 1.1 Integers"
   ]
  },
  {
   "cell_type": "markdown",
   "metadata": {},
   "source": [
    "**Integers are numbers that do not have a fractional part.** Negative integers are preceded by a minus sign `-`."
   ]
  },
  {
   "cell_type": "code",
   "execution_count": 1,
   "metadata": {},
   "outputs": [
    {
     "name": "stdout",
     "output_type": "stream",
     "text": [
      "-12\n"
     ]
    }
   ],
   "source": [
    "print(-12)"
   ]
  },
  {
   "cell_type": "markdown",
   "metadata": {},
   "source": [
    "Positive integers are not required to have a preceding plus sign `+` but you can include it if you want."
   ]
  },
  {
   "cell_type": "code",
   "execution_count": 2,
   "metadata": {},
   "outputs": [
    {
     "name": "stdout",
     "output_type": "stream",
     "text": [
      "12\n"
     ]
    }
   ],
   "source": [
    "print(+12)"
   ]
  },
  {
   "cell_type": "markdown",
   "metadata": {},
   "source": [
    "### 1.2 Floats"
   ]
  },
  {
   "cell_type": "markdown",
   "metadata": {},
   "source": [
    "Floating-point numbers (commonly called floats) are **numbers that have a fractional part.** The integer part is separated from the fractional part by a decimal point `.`."
   ]
  },
  {
   "cell_type": "code",
   "execution_count": 3,
   "metadata": {},
   "outputs": [
    {
     "name": "stdout",
     "output_type": "stream",
     "text": [
      "42.12\n"
     ]
    }
   ],
   "source": [
    "#Printing float 42.12\n",
    "print(42.12)\n",
    "#      ^  ^\n",
    "#      |  |\n",
    "#      |  Decimal part\n",
    "#      Integer part"
   ]
  },
  {
   "cell_type": "markdown",
   "metadata": {},
   "source": [
    "Even though the comma `,` is used in some languages to separate the integer part from the fractional part, in Python it's always a **single** decimal point `.`. The comma sign has other purposes and **cannot** be used to write a float number. Using it results in errors or unwanted outcomes."
   ]
  },
  {
   "cell_type": "code",
   "execution_count": 4,
   "metadata": {
    "scrolled": true
   },
   "outputs": [
    {
     "name": "stdout",
     "output_type": "stream",
     "text": [
      "42 12\n",
      "42.12\n"
     ]
    }
   ],
   "source": [
    "#In this case, using the comma creates two arguments for the print function.\n",
    "print(42,12) #This prints the integer 42, a whitespace, and the integer 12.\n",
    "print(42.12) #This prints the float 42.12"
   ]
  },
  {
   "cell_type": "markdown",
   "metadata": {},
   "source": [
    "If more than a single decimal point is used, the interpreter will return a **syntax error** (that you have already met in the learning notebook 1 :) )."
   ]
  },
  {
   "cell_type": "code",
   "execution_count": 5,
   "metadata": {
    "scrolled": true
   },
   "outputs": [
    {
     "ename": "SyntaxError",
     "evalue": "invalid syntax (65659858.py, line 1)",
     "output_type": "error",
     "traceback": [
      "\u001b[0;36m  Input \u001b[0;32mIn [5]\u001b[0;36m\u001b[0m\n\u001b[0;31m    print(42.000.000)\u001b[0m\n\u001b[0m                ^\u001b[0m\n\u001b[0;31mSyntaxError\u001b[0m\u001b[0;31m:\u001b[0m invalid syntax\n"
     ]
    }
   ],
   "source": [
    "print(42.000.000)"
   ]
  },
  {
   "cell_type": "markdown",
   "metadata": {},
   "source": [
    "You can omit the zero if it is the only digit before or after the decimal point."
   ]
  },
  {
   "cell_type": "code",
   "execution_count": 6,
   "metadata": {},
   "outputs": [
    {
     "name": "stdout",
     "output_type": "stream",
     "text": [
      "0.4\n",
      "0.4\n"
     ]
    }
   ],
   "source": [
    "print(.4)\n",
    "print(0.4) #Equivalent"
   ]
  },
  {
   "cell_type": "code",
   "execution_count": 7,
   "metadata": {},
   "outputs": [
    {
     "name": "stdout",
     "output_type": "stream",
     "text": [
      "5.0\n",
      "5.0\n"
     ]
    }
   ],
   "source": [
    "print(5.)\n",
    "print(5.0) #Equivalent"
   ]
  },
  {
   "cell_type": "markdown",
   "metadata": {},
   "source": [
    "One might think that `5.0` and `5` are the exact same thing; for Python these are different numbers:\n",
    "- `5` is an integer\n",
    "- `5.0` is a float\n",
    "\n",
    "**It is the decimal point that defines a float.** Another way to define a float, especially if very large or very small, is to use the scientific notation. In the **scientific notation**, numbers with a lot of zeros can be shortened. For example, the number $ 300000000$ can be written in scientific notation as $ 3 \\times 10^8$, thus avoiding to write all the zeros. Try writing $1 \\times 10^{50}$ without using the scientific notation. 🙅‍♂️\n",
    "\n",
    "In Python, you can write in the scientific notation with the letter `E` (`e` also works). The letter `E` can be translated as \"times ten to the power of\". "
   ]
  },
  {
   "cell_type": "code",
   "execution_count": 8,
   "metadata": {},
   "outputs": [
    {
     "name": "stdout",
     "output_type": "stream",
     "text": [
      "300.0\n",
      "0.00012\n",
      "1200.0\n",
      "1e+50\n"
     ]
    }
   ],
   "source": [
    "print(3E2) #This is equivalent to 3.0 * (10 ** 2). \n",
    "#Even though both base and exponent are integers, the result is a float.\n",
    "\n",
    "print(1.2e-4) #This is equivalent to 1.2 * (10 ** -4)\n",
    "print(1.2e3) #This is equivalent to 1.2 * (10 ** 3)\n",
    "print(1E50) #This is equivalent to 1. * (10 ** 50)"
   ]
  },
  {
   "cell_type": "markdown",
   "metadata": {},
   "source": [
    "Note that the exponent (the value after `E`) **has to be an integer**. The base (the value before `E`) **may be an integer or a float**. Additionally, the result of using the scientific notation **is always a float** even if the base and exponent are both integers."
   ]
  },
  {
   "cell_type": "markdown",
   "metadata": {},
   "source": [
    "As with integers, a float can be negative."
   ]
  },
  {
   "cell_type": "code",
   "execution_count": 9,
   "metadata": {},
   "outputs": [
    {
     "name": "stdout",
     "output_type": "stream",
     "text": [
      "-12.45\n",
      "-28600.0\n"
     ]
    }
   ],
   "source": [
    "print(-12.45)\n",
    "print(-2.86e4)"
   ]
  },
  {
   "cell_type": "markdown",
   "metadata": {},
   "source": [
    "Python will use the most economical form for representing a number when outputting that number. The value that Python returns to you may have a different representation, but it is still the same number."
   ]
  },
  {
   "cell_type": "code",
   "execution_count": 10,
   "metadata": {},
   "outputs": [
    {
     "name": "stdout",
     "output_type": "stream",
     "text": [
      "1e-15\n"
     ]
    }
   ],
   "source": [
    "print(0.000000000000001)"
   ]
  },
  {
   "cell_type": "markdown",
   "metadata": {},
   "source": [
    "### 1.3 Strings"
   ]
  },
  {
   "cell_type": "markdown",
   "metadata": {},
   "source": [
    "**Strings are what we colloquially call text.** They can be enclosed in quotes `\"This is a string.\"` or apostrophes `'This is also a string.'`. When printing, the quotation marks are not shown."
   ]
  },
  {
   "cell_type": "code",
   "execution_count": 11,
   "metadata": {},
   "outputs": [
    {
     "name": "stdout",
     "output_type": "stream",
     "text": [
      "This is a string.\n",
      "This is also a string.\n"
     ]
    }
   ],
   "source": [
    "print(\"This is a string.\")\n",
    "print('This is also a string.')"
   ]
  },
  {
   "cell_type": "markdown",
   "metadata": {},
   "source": [
    "Using a single quote or apostrophe creates a string that has no end. Python will not be able to find the end of the string and will return a **syntax error**:"
   ]
  },
  {
   "cell_type": "code",
   "execution_count": 12,
   "metadata": {
    "scrolled": true
   },
   "outputs": [
    {
     "ename": "SyntaxError",
     "evalue": "EOL while scanning string literal (2811667135.py, line 2)",
     "output_type": "error",
     "traceback": [
      "\u001b[0;36m  Input \u001b[0;32mIn [12]\u001b[0;36m\u001b[0m\n\u001b[0;31m    print(\"This is a )\u001b[0m\n\u001b[0m                      ^\u001b[0m\n\u001b[0;31mSyntaxError\u001b[0m\u001b[0;31m:\u001b[0m EOL while scanning string literal\n"
     ]
    }
   ],
   "source": [
    "#The ) is considered a part of the string\n",
    "print(\"This is a )"
   ]
  },
  {
   "cell_type": "markdown",
   "metadata": {},
   "source": [
    "*What if you want to include a quote inside a string that is delimited by quotes? Or an apostrophe inside a string delimited by apostrophes?* There are two options:\n",
    "\n",
    "- Use a backslash before the quote/apostrophe to create an escaped character."
   ]
  },
  {
   "cell_type": "code",
   "execution_count": 13,
   "metadata": {},
   "outputs": [
    {
     "name": "stdout",
     "output_type": "stream",
     "text": [
      "\"An investment in knowledge always pays the best interest.\" - Benjamin Franklin\n",
      "'Everything you can imagine is real.' - Pablo Picasso\n"
     ]
    }
   ],
   "source": [
    "print(\"\\\"An investment in knowledge always pays the best interest.\\\" - Benjamin Franklin\")\n",
    "print('\\'Everything you can imagine is real.\\' - Pablo Picasso')"
   ]
  },
  {
   "cell_type": "markdown",
   "metadata": {},
   "source": [
    "- Use apostrophes inside two quotes or quotes inside two apostrophes."
   ]
  },
  {
   "cell_type": "code",
   "execution_count": 14,
   "metadata": {},
   "outputs": [
    {
     "name": "stdout",
     "output_type": "stream",
     "text": [
      "'Imagination is more important than knowledge...' - Albert Einstein\n",
      "\"There is no harm in doubt and skepticism, for it is through these that new discoveries are made.\" - Richard Feynman\n"
     ]
    }
   ],
   "source": [
    "print(\"'Imagination is more important than knowledge...' - Albert Einstein\")\n",
    "print('\"There is no harm in doubt and skepticism, for it is through these that new discoveries are made.\" - Richard Feynman')"
   ]
  },
  {
   "cell_type": "markdown",
   "metadata": {},
   "source": [
    "Including a quote inside two quotes without escaping it creates a smaller string and leaves a leading quote without a closing one which produces a **syntax error** as can be seen below."
   ]
  },
  {
   "cell_type": "code",
   "execution_count": 15,
   "metadata": {
    "scrolled": false
   },
   "outputs": [
    {
     "ename": "SyntaxError",
     "evalue": "EOL while scanning string literal (64466035.py, line 1)",
     "output_type": "error",
     "traceback": [
      "\u001b[0;36m  Input \u001b[0;32mIn [15]\u001b[0;36m\u001b[0m\n\u001b[0;31m    print(\"This is a string\" \" )\u001b[0m\n\u001b[0m                                ^\u001b[0m\n\u001b[0;31mSyntaxError\u001b[0m\u001b[0;31m:\u001b[0m EOL while scanning string literal\n"
     ]
    }
   ],
   "source": [
    "print(\"This is a string\" \" )"
   ]
  },
  {
   "cell_type": "markdown",
   "metadata": {},
   "source": [
    "Strings can extend to **more than a single line**. There are two ways to achieve this:\n",
    "- Use the newline character `\\n` to introduce a new line."
   ]
  },
  {
   "cell_type": "code",
   "execution_count": 16,
   "metadata": {},
   "outputs": [
    {
     "name": "stdout",
     "output_type": "stream",
     "text": [
      "old pond\n",
      "frog leaps in\n",
      "water's sound\n",
      "- Translated Bashō's \"old pond\"\n"
     ]
    }
   ],
   "source": [
    "print(\"old pond\\nfrog leaps in\\nwater's sound\\n- Translated Bashō's \\\"old pond\\\"\")\n",
    "#Any space around \\n is also part of the string. Try adding a space after \\n to see the difference."
   ]
  },
  {
   "cell_type": "markdown",
   "metadata": {},
   "source": [
    "- Enclose the string in triple quotes `\"\"\"`. The ends of lines are automatically included in the string. This can be prevented by adding a `\\` at the end of the line."
   ]
  },
  {
   "cell_type": "code",
   "execution_count": 17,
   "metadata": {},
   "outputs": [
    {
     "name": "stdout",
     "output_type": "stream",
     "text": [
      "A Silly Poem by Spike Milligan\n",
      "\n",
      "Said Hamlet to Ophelia,\n",
      "I'll draw a sketch of thee,\n",
      "What kind of pencil shall I use?\n",
      "2B or not 2B?\n",
      "\n"
     ]
    }
   ],
   "source": [
    "#The \\ prevents the name of the poem to be separated from the author. Delete it to see the difference.\n",
    "print(\"\"\"A Silly Poem \\\n",
    "by Spike Milligan\n",
    "\n",
    "Said Hamlet to Ophelia,\n",
    "I'll draw a sketch of thee,\n",
    "What kind of pencil shall I use?\n",
    "2B or not 2B?\n",
    "\"\"\"\n",
    ")"
   ]
  },
  {
   "cell_type": "markdown",
   "metadata": {},
   "source": [
    "A string can also be **empty**."
   ]
  },
  {
   "cell_type": "code",
   "execution_count": 18,
   "metadata": {},
   "outputs": [
    {
     "name": "stdout",
     "output_type": "stream",
     "text": [
      "First empty string:\n",
      "\n",
      "Second empty string:\n",
      "\n"
     ]
    }
   ],
   "source": [
    "print('First empty string:')\n",
    "print(\"\")\n",
    "print('Second empty string:')\n",
    "print('')"
   ]
  },
  {
   "cell_type": "markdown",
   "metadata": {},
   "source": [
    "### 1.4 Booleans\n",
    "\n",
    "Booleans are a bit more abstract than the above mentioned data types. **They represent the value of truthfulness.** When asking to check if a number is greater than another, for instance, Python returns a boolean value to indicate if it is **true** or **false**."
   ]
  },
  {
   "cell_type": "code",
   "execution_count": 19,
   "metadata": {},
   "outputs": [
    {
     "name": "stdout",
     "output_type": "stream",
     "text": [
      "Is 2 larger than 1? True\n",
      "Is 2 smaller than 1? False\n"
     ]
    }
   ],
   "source": [
    "print(\"Is 2 larger than 1?\", 2 > 1)\n",
    "print(\"Is 2 smaller than 1?\", 2 < 1)"
   ]
  },
  {
   "cell_type": "markdown",
   "metadata": {},
   "source": [
    "Booleans can only have these two values, `True` or `False`. They are mainly used to make decisions about how to proceed during code execution, e.g. if to continue/stop the execution or which one out of the various available routes to take. This is called flow control and you'll learn about it in great detail in SLU05 - Flow Control.\n",
    "\n",
    "In Python, `True` is equivalent to the integer `1` and `False` is equivalent to `0`. The distinction was created for clarity (extra fact: the boolean class is a subclass of integers as explained in [PEP285](https://docs.python.org/3/whatsnew/2.3.html#pep-285-a-boolean-type)). Operations that can be done with `0` and `1` can also be performed with `True` and `False`."
   ]
  },
  {
   "cell_type": "code",
   "execution_count": 20,
   "metadata": {},
   "outputs": [
    {
     "name": "stdout",
     "output_type": "stream",
     "text": [
      "True\n",
      "False\n",
      "True\n"
     ]
    }
   ],
   "source": [
    "print(1 == True) # 1 is the same as True, so it returns \"True\"\n",
    "print(1 == False) # 1 is not the same as False, so it returns \"False\"\n",
    "print(0 == False) # 0 is the same as False, so it returns \"True\""
   ]
  },
  {
   "cell_type": "markdown",
   "metadata": {},
   "source": [
    "The boolean values **are not equivalent** to the strings `\"True\"` and `\"False\"`, even though they look the same when printing."
   ]
  },
  {
   "cell_type": "code",
   "execution_count": 21,
   "metadata": {},
   "outputs": [
    {
     "name": "stdout",
     "output_type": "stream",
     "text": [
      "True\n",
      "True\n"
     ]
    }
   ],
   "source": [
    "#These are not the same.\n",
    "print(True) # <- this is a boolean\n",
    "print(\"True\") # <- this is a string"
   ]
  },
  {
   "cell_type": "markdown",
   "metadata": {},
   "source": [
    "### 1.5 None\n",
    "\n",
    "Frequently, programming languages have a specific value that means *'empty'* or *'there is no value here'*. In Python that value is `None`. You will see later that a function which does not explicitly return a value will return `None`."
   ]
  },
  {
   "cell_type": "code",
   "execution_count": 22,
   "metadata": {},
   "outputs": [
    {
     "name": "stdout",
     "output_type": "stream",
     "text": [
      "None\n"
     ]
    }
   ],
   "source": [
    "print(None)"
   ]
  },
  {
   "cell_type": "markdown",
   "metadata": {},
   "source": [
    "### 1.6 The `type()` function\n",
    "\n",
    "When unsure about the data type of a particular value, the function `type()` can be used to [determine the data type](https://docs.python.org/3/library/functions.html#type). "
   ]
  },
  {
   "cell_type": "code",
   "execution_count": 23,
   "metadata": {},
   "outputs": [
    {
     "name": "stdout",
     "output_type": "stream",
     "text": [
      "The data type of 1 is <class 'int'>\n",
      "The data type of 1. is <class 'float'>\n",
      "The data type of -3E2 is <class 'float'>\n",
      "The data type of 'This is a string.' is <class 'str'>\n",
      "The data type of 'True': <class 'str'> is not the same as the data type of True: <class 'bool'>\n",
      "The data type of None is <class 'NoneType'>\n"
     ]
    }
   ],
   "source": [
    "#Don't worry about what class means for now. The data type is shortened and within apostrophes.\n",
    "print(\"The data type of 1 is\",type(1))\n",
    "print(\"The data type of 1. is\",type(1.))\n",
    "print(\"The data type of -3E2 is\",type(-3E2))\n",
    "print(\"The data type of 'This is a string.' is\",type('This is a string.'))\n",
    "print(\"The data type of 'True':\",type('True'), \"is not the same as the data type of True:\", type(True))\n",
    "print(\"The data type of None is\",type(None))"
   ]
  },
  {
   "cell_type": "markdown",
   "metadata": {},
   "source": [
    "## 2. Converting between basic data types using `int()`, `float()`, `str()` and `bool()` functions\n",
    "\n",
    "It is sometimes convenient to transform a value from one data type to another. These conversions can be achieved with the functions `int()`, `float()`, `str()` and `bool()`.\n",
    "\n",
    "The `int()` function converts its argument into an integer. The decimal part of floats is **removed**. Notice that this is not the same as rounding the float."
   ]
  },
  {
   "cell_type": "code",
   "execution_count": 24,
   "metadata": {},
   "outputs": [
    {
     "name": "stdout",
     "output_type": "stream",
     "text": [
      "The result of int(\"4\") is 4 and the data type is <class 'int'>\n",
      "The result of int(2.8) is 2 and the data type is <class 'int'>\n",
      "The result of int(True) is 1 and the data type is <class 'int'>\n"
     ]
    }
   ],
   "source": [
    "print(\"The result of int(\\\"4\\\") is\" ,int(\"4\") ,\"and the data type is\",type(int(\"4\")))\n",
    "print(\"The result of int(2.8) is\" ,int(2.8) ,\"and the data type is\",type(int(2.8)))\n",
    "print(\"The result of int(True) is\" ,int(True) ,\"and the data type is\",type(int(True)))"
   ]
  },
  {
   "cell_type": "markdown",
   "metadata": {},
   "source": [
    "Some values are not suitable to be converted into an integer and a value error is returned if `int()` is used."
   ]
  },
  {
   "cell_type": "code",
   "execution_count": 25,
   "metadata": {},
   "outputs": [
    {
     "ename": "ValueError",
     "evalue": "invalid literal for int() with base 10: 'This is not an integer!'",
     "output_type": "error",
     "traceback": [
      "\u001b[0;31m---------------------------------------------------------------------------\u001b[0m",
      "\u001b[0;31mValueError\u001b[0m                                Traceback (most recent call last)",
      "Input \u001b[0;32mIn [25]\u001b[0m, in \u001b[0;36m<cell line: 1>\u001b[0;34m()\u001b[0m\n\u001b[0;32m----> 1\u001b[0m \u001b[38;5;28mprint\u001b[39m(\u001b[38;5;28;43mint\u001b[39;49m\u001b[43m(\u001b[49m\u001b[38;5;124;43m\"\u001b[39;49m\u001b[38;5;124;43mThis is not an integer!\u001b[39;49m\u001b[38;5;124;43m\"\u001b[39;49m\u001b[43m)\u001b[49m)\n",
      "\u001b[0;31mValueError\u001b[0m: invalid literal for int() with base 10: 'This is not an integer!'"
     ]
    }
   ],
   "source": [
    "print(int(\"This is not an integer!\"))"
   ]
  },
  {
   "cell_type": "markdown",
   "metadata": {},
   "source": [
    "The `float()` function converts its argument into a float."
   ]
  },
  {
   "cell_type": "code",
   "execution_count": 26,
   "metadata": {},
   "outputs": [
    {
     "name": "stdout",
     "output_type": "stream",
     "text": [
      "The result of float(\"4\") is 4.0 and the data type is <class 'float'>\n",
      "The result of float(2) is 2.0 and the data type is <class 'float'>\n",
      "The result of float(\"3E4\") is 30000.0 and the data type is <class 'float'>\n",
      "The result of float(True) is 1.0 and the data type is <class 'float'>\n"
     ]
    }
   ],
   "source": [
    "print(\"The result of float(\\\"4\\\") is\" ,float(\"4\") ,\"and the data type is\",type(float(\"4\")))\n",
    "print(\"The result of float(2) is\" ,float(2) ,\"and the data type is\",type(float(2)))\n",
    "print(\"The result of float(\\\"3E4\\\") is\" ,float(\"3E4\") ,\"and the data type is\",type(float(\"3E4\")))\n",
    "print(\"The result of float(True) is\" ,float(True) ,\"and the data type is\",type(float(True)))"
   ]
  },
  {
   "cell_type": "markdown",
   "metadata": {},
   "source": [
    "As with `int()`, `float()` returns an error if it cannot convert the argument into a float."
   ]
  },
  {
   "cell_type": "code",
   "execution_count": 27,
   "metadata": {},
   "outputs": [
    {
     "ename": "ValueError",
     "evalue": "could not convert string to float: 'This is not a float!'",
     "output_type": "error",
     "traceback": [
      "\u001b[0;31m---------------------------------------------------------------------------\u001b[0m",
      "\u001b[0;31mValueError\u001b[0m                                Traceback (most recent call last)",
      "Input \u001b[0;32mIn [27]\u001b[0m, in \u001b[0;36m<cell line: 1>\u001b[0;34m()\u001b[0m\n\u001b[0;32m----> 1\u001b[0m \u001b[38;5;28mprint\u001b[39m(\u001b[38;5;28;43mfloat\u001b[39;49m\u001b[43m(\u001b[49m\u001b[38;5;124;43m\"\u001b[39;49m\u001b[38;5;124;43mThis is not a float!\u001b[39;49m\u001b[38;5;124;43m\"\u001b[39;49m\u001b[43m)\u001b[49m)\n",
      "\u001b[0;31mValueError\u001b[0m: could not convert string to float: 'This is not a float!'"
     ]
    }
   ],
   "source": [
    "print(float(\"This is not a float!\"))"
   ]
  },
  {
   "cell_type": "markdown",
   "metadata": {},
   "source": [
    "The `str()` function converts its argument into a string. Contrary to `int()` and `float()`, `str()` can convert any of the discussed data types into strings."
   ]
  },
  {
   "cell_type": "code",
   "execution_count": 28,
   "metadata": {},
   "outputs": [
    {
     "name": "stdout",
     "output_type": "stream",
     "text": [
      "The result of str(\"4\") is 4 and the data type is <class 'str'>\n",
      "The result of str(2.3) is 2.3 and the data type is <class 'str'>\n",
      "The result of str(\"3E4\") is 3E4 and the data type is <class 'str'>\n",
      "The result of str(True) is True and the data type is <class 'str'>\n"
     ]
    }
   ],
   "source": [
    "print(\"The result of str(\\\"4\\\") is\" ,str(\"4\") ,\"and the data type is\",type(str(\"4\")))\n",
    "print(\"The result of str(2.3) is\" ,str(2.3) ,\"and the data type is\",type(str(2.3)))\n",
    "print(\"The result of str(\\\"3E4\\\") is\" ,str(\"3E4\") ,\"and the data type is\",type(str(\"3E4\")))\n",
    "print(\"The result of str(True) is\" ,str(True) ,\"and the data type is\",type(str(True)))"
   ]
  },
  {
   "cell_type": "markdown",
   "metadata": {},
   "source": [
    "The `bool()` function converts its argument into a boolean. It uses the [truth testing procedure](https://docs.python.org/3.8/library/stdtypes.html#truth-value-testing) to define what is converted to `False` or `True`.\n",
    "The following cases are converted to **`False`**:\n",
    "- `None` and `False`\n",
    "- Zero in any numeric type: `0`, `0.0`, ...\n",
    "- Empty sequences or collections (we will see them in more detail later): `''`, `()`, `[]`, `{}`, ...\n",
    "\n",
    "Anything else is converted to `True`."
   ]
  },
  {
   "cell_type": "code",
   "execution_count": 29,
   "metadata": {},
   "outputs": [
    {
     "name": "stdout",
     "output_type": "stream",
     "text": [
      "The result of bool(1) is True\n",
      "The result of bool(0) is False\n",
      "The result of bool(2.1) is True\n",
      "The result of bool(0.0) is False\n",
      "The result of bool('0') is True\n",
      "The result of bool() is False\n",
      "The result of bool() is True\n"
     ]
    }
   ],
   "source": [
    "print(\"The result of bool(1) is\", bool(1))\n",
    "print(\"The result of bool(0) is\", bool(0))\n",
    "print(\"The result of bool(2.1) is\", bool(2.1))\n",
    "print(\"The result of bool(0.0) is\", bool(0.0))\n",
    "print(\"The result of bool('0') is\", bool('0'))\n",
    "print(\"The result of bool(\"\") is\", bool(\"\"))\n",
    "print(\"The result of bool(\" \") is\", bool(\" \"))"
   ]
  },
  {
   "cell_type": "markdown",
   "metadata": {},
   "source": [
    "## 3. Basic arithmetic operations"
   ]
  },
  {
   "cell_type": "markdown",
   "metadata": {},
   "source": [
    "You can write an **arithmetic expression** in a code cell and Python returns the result, just like a calculator!"
   ]
  },
  {
   "cell_type": "code",
   "execution_count": 30,
   "metadata": {},
   "outputs": [
    {
     "name": "stdout",
     "output_type": "stream",
     "text": [
      "4\n"
     ]
    }
   ],
   "source": [
    "print(2 + 2)"
   ]
  },
  {
   "cell_type": "markdown",
   "metadata": {},
   "source": [
    "<img src=\"./media/TomsMindBlown.gif\"/>"
   ]
  },
  {
   "cell_type": "markdown",
   "metadata": {},
   "source": [
    "Some of the operations that can be performed with Python are:\n",
    "- Addition (`+`)\n",
    "- Subtraction (`-`)\n",
    "- Multiplication (`*`)\n",
    "- Division (`/`)\n",
    "- Exponentiation or power (`**`)\n",
    "- Integer division (`//`)\n",
    "- Remainder (`%`)\n",
    "\n",
    "All these operations are **binary** because they operate over two values at a time. The negative and positive signs are **unary** because they only operate over a single value."
   ]
  },
  {
   "cell_type": "markdown",
   "metadata": {},
   "source": [
    "The plus sign `+` adds up the value of two numbers."
   ]
  },
  {
   "cell_type": "code",
   "execution_count": 31,
   "metadata": {},
   "outputs": [
    {
     "name": "stdout",
     "output_type": "stream",
     "text": [
      "5\n",
      "5.0\n",
      "5.0\n",
      "5.0\n"
     ]
    }
   ],
   "source": [
    "print(2 + 3)\n",
    "print(2. + 3)\n",
    "print(2 + 3.)\n",
    "print(2. + 3.)"
   ]
  },
  {
   "cell_type": "markdown",
   "metadata": {},
   "source": [
    "Pay attention to the data type of the input numbers and the result of the addition. When adding **two integers** the result is **an integer**. If **at least one of the numbers is a float**, then the result is **a float**. We'll call this the *integer vs float* rule.\n",
    "\n",
    "It is good practice to [leave spaces around binary operators](https://www.python.org/dev/peps/pep-0008/#other-recommendations) to improve the readability of the code."
   ]
  },
  {
   "cell_type": "markdown",
   "metadata": {},
   "source": [
    "The minus sign `-` can be used to subtract two numbers. The *integer vs float* rule also applies."
   ]
  },
  {
   "cell_type": "code",
   "execution_count": 32,
   "metadata": {},
   "outputs": [
    {
     "name": "stdout",
     "output_type": "stream",
     "text": [
      "-1\n",
      "-1.0\n",
      "-1.0\n",
      "-1.0\n"
     ]
    }
   ],
   "source": [
    "print(2 - 3)\n",
    "print(2. - 3)\n",
    "print(2 - 3.)\n",
    "print(2. - 3.)"
   ]
  },
  {
   "cell_type": "markdown",
   "metadata": {},
   "source": [
    "It is possible to substract a negative number."
   ]
  },
  {
   "cell_type": "code",
   "execution_count": 33,
   "metadata": {},
   "outputs": [
    {
     "name": "stdout",
     "output_type": "stream",
     "text": [
      "7\n"
     ]
    }
   ],
   "source": [
    "print(2 - -5)"
   ]
  },
  {
   "cell_type": "markdown",
   "metadata": {},
   "source": [
    "The asterisk sign `*` is used to multiply two numbers. The *integer vs float* rule also applies."
   ]
  },
  {
   "cell_type": "code",
   "execution_count": 34,
   "metadata": {},
   "outputs": [
    {
     "name": "stdout",
     "output_type": "stream",
     "text": [
      "6\n",
      "6.0\n",
      "6.0\n",
      "6.0\n"
     ]
    }
   ],
   "source": [
    "print(2 * 3)\n",
    "print(2. * 3)\n",
    "print(2 * 3.)\n",
    "print(2. * 3.)"
   ]
  },
  {
   "cell_type": "markdown",
   "metadata": {},
   "source": [
    "The slash sign `/` is used to divide one number by another."
   ]
  },
  {
   "cell_type": "code",
   "execution_count": 35,
   "metadata": {},
   "outputs": [
    {
     "name": "stdout",
     "output_type": "stream",
     "text": [
      "0.6666666666666666\n",
      "0.6666666666666666\n",
      "0.6666666666666666\n",
      "0.6666666666666666\n"
     ]
    }
   ],
   "source": [
    "print(2 / 3)\n",
    "print(2. / 3)\n",
    "print(2 / 3.)\n",
    "print(2. / 3.)"
   ]
  },
  {
   "cell_type": "markdown",
   "metadata": {},
   "source": [
    "Here the previous *integer vs float* rule does **not** apply. The result of a division is **always a float** even if both numbers are integers and the result could be represented as an integer."
   ]
  },
  {
   "cell_type": "code",
   "execution_count": 36,
   "metadata": {},
   "outputs": [
    {
     "name": "stdout",
     "output_type": "stream",
     "text": [
      "2.0\n"
     ]
    }
   ],
   "source": [
    "print(12 / 6)"
   ]
  },
  {
   "cell_type": "markdown",
   "metadata": {},
   "source": [
    "The double asterisk sign `**` is used to raise a number to the power of another number (exponentiation). The *integer vs float* rule applies."
   ]
  },
  {
   "cell_type": "code",
   "execution_count": 37,
   "metadata": {},
   "outputs": [
    {
     "name": "stdout",
     "output_type": "stream",
     "text": [
      "8\n",
      "8.0\n",
      "8.0\n",
      "8.0\n"
     ]
    }
   ],
   "source": [
    "print(2 ** 3)\n",
    "print(2. ** 3)\n",
    "print(2 ** 3.)\n",
    "print(2. ** 3.)"
   ]
  },
  {
   "cell_type": "markdown",
   "metadata": {},
   "source": [
    "The double slash sign `//` is used to perform an integer division of one number by another. It has two main differences from a division:\n",
    "- The result has no fractional part. It is **rounded to the nearest integer** value that is **less** than the not rounded result.\n",
    "- The *integer vs float* rule applies."
   ]
  },
  {
   "cell_type": "code",
   "execution_count": 38,
   "metadata": {},
   "outputs": [
    {
     "name": "stdout",
     "output_type": "stream",
     "text": [
      "1\n",
      "-2\n",
      "1.0\n",
      "1.0\n"
     ]
    }
   ],
   "source": [
    "print(6 // 4)\n",
    "print(-6 // 4)\n",
    "print(6 // 4.)\n",
    "print(6. // 4.)"
   ]
  },
  {
   "cell_type": "markdown",
   "metadata": {},
   "source": [
    "If the division operator was used instead, the result would be `1.5`."
   ]
  },
  {
   "cell_type": "code",
   "execution_count": 39,
   "metadata": {},
   "outputs": [
    {
     "name": "stdout",
     "output_type": "stream",
     "text": [
      "1.5\n"
     ]
    }
   ],
   "source": [
    "print(6 / 4)"
   ]
  },
  {
   "cell_type": "markdown",
   "metadata": {},
   "source": [
    "Note that for negative numbers, the result is still rounded to the nearest **lesser** integer."
   ]
  },
  {
   "cell_type": "code",
   "execution_count": 40,
   "metadata": {},
   "outputs": [
    {
     "name": "stdout",
     "output_type": "stream",
     "text": [
      "-2\n",
      "-2.0\n"
     ]
    }
   ],
   "source": [
    "#One might think that the result will be -1 or -1.0.\n",
    "print(-6 // 4) \n",
    "print(6 // -4.)"
   ]
  },
  {
   "cell_type": "markdown",
   "metadata": {},
   "source": [
    "The percent sign `%` is used to calculate the value left over after an integer division (remainder). The *integer vs float* rule applies."
   ]
  },
  {
   "cell_type": "code",
   "execution_count": 41,
   "metadata": {},
   "outputs": [
    {
     "name": "stdout",
     "output_type": "stream",
     "text": [
      "2\n",
      "2.0\n",
      "2.0\n",
      "2.0\n"
     ]
    }
   ],
   "source": [
    "print(14 % 3)\n",
    "print(14. % 3)\n",
    "print(14 % 3.)\n",
    "print(14. % 3.)"
   ]
  },
  {
   "cell_type": "markdown",
   "metadata": {},
   "source": [
    "This result was obtained by following this sequence of operations:\n",
    "- Perform an integer division `14 // 3 = 4`\n",
    "- Multiply the result by the divisor `4 * 3 = 12`\n",
    "- Subtract the result from the dividend `14 - 12 = 2` "
   ]
  },
  {
   "cell_type": "markdown",
   "metadata": {},
   "source": [
    "### 3.1 The `ZeroDivisionError`\n",
    "Performing a division, integer division or finding the remainder of a division by 0 results in the *ZeroDivisionError* and should be avoided."
   ]
  },
  {
   "cell_type": "code",
   "execution_count": 42,
   "metadata": {},
   "outputs": [
    {
     "ename": "ZeroDivisionError",
     "evalue": "integer division or modulo by zero",
     "output_type": "error",
     "traceback": [
      "\u001b[0;31m---------------------------------------------------------------------------\u001b[0m",
      "\u001b[0;31mZeroDivisionError\u001b[0m                         Traceback (most recent call last)",
      "Input \u001b[0;32mIn [42]\u001b[0m, in \u001b[0;36m<cell line: 1>\u001b[0;34m()\u001b[0m\n\u001b[0;32m----> 1\u001b[0m \u001b[38;5;28mprint\u001b[39m(\u001b[38;5;241;43m2\u001b[39;49m\u001b[43m \u001b[49m\u001b[38;5;241;43m/\u001b[39;49m\u001b[38;5;241;43m/\u001b[39;49m\u001b[43m \u001b[49m\u001b[38;5;241;43m0\u001b[39;49m)\n",
      "\u001b[0;31mZeroDivisionError\u001b[0m: integer division or modulo by zero"
     ]
    }
   ],
   "source": [
    "print(2 // 0)"
   ]
  },
  {
   "cell_type": "markdown",
   "metadata": {},
   "source": [
    "## 4. Operator precedence"
   ]
  },
  {
   "cell_type": "markdown",
   "metadata": {},
   "source": [
    "We have dealt with each operator in isolation but what happens when we use them in the same expression? In expressions with multiple operations, it is vital to take into account the priority of each operation. You probably remember from school that multiplications precede additions and that you have to use brackets to change the order of operations. The order in which operations are performed is called *operator precedence* and can be thought of as a hierarchy of priorities.\n",
    "\n",
    "- Operations with **higher** priority (called precedence or binding in Python) are performed **before** operations with **lower** priority. \n",
    "- When two operations have the same priority, it is the **grouping** that determines which is executed first. Most operations in Python have **left-sided grouping**. This means that the operations are performed from **left** to **right**.\n",
    "\n",
    "The *operator precedence* table for arithmetic operators is:\n",
    "\n",
    "<table style='font-family:\"Courier New\", Courier, monospace; font-size:110% ; border: 1px solid black; '>\n",
    "   <tr style='border: 1px solid black;'>\n",
    "      <th style='text-align: left;'>Operations</th>\n",
    "      <th style='border: 1px solid black; text-align: left;'>Type</th>\n",
    "      <th style='text-align: left;'>Grouping</th>\n",
    "      <th style='border: 1px solid black; text-align: left;'>Binding/Priority</th>  \n",
    "   </tr>\n",
    "   <tr style='border: 1px solid black;'>  \n",
    "      <td style='border: 1px solid black; text-align: left;'>()</td>\n",
    "      <td style='text-align: left;'>Subexpression</td>\n",
    "      <td style='border: 1px solid black;'></td>\n",
    "      <td style='text-align: left;'>Highest</td>  \n",
    "   </tr>\n",
    "   <tr style='border: 1px solid black;'>\n",
    "      <td style='border: 1px solid black;text-align: left;'>**</td>  \n",
    "      <td style='text-align: left;'>Binary</td>\n",
    "      <td style='border: 1px solid black;text-align: left;'>Right-sided</td>\n",
    "      <td></td>\n",
    "   </tr>    \n",
    "   <tr style='border: 1px solid black;'>\n",
    "      <td style='border: 1px solid black;'>+-</td>  \n",
    "      <td style='text-align: left;'>Unary</td>\n",
    "      <td style='border: 1px solid black;'></td>\n",
    "      <td></td>\n",
    "   </tr>    \n",
    "   <tr style='border: 1px solid black;'>\n",
    "      <td style='border: 1px solid black;text-align: left;'>* / %</td>  \n",
    "      <td style='text-align: left;'>Binary</td>\n",
    "      <td style='border: 1px solid black;text-align: left;'>Left-sided</td>\n",
    "      <td></td>\n",
    "   </tr>    \n",
    "   <tr style='border: 1px solid black;'>\n",
    "      <td style='border: 1px solid black;text-align: left;'>+ -</td>  \n",
    "      <td style='text-align: left;'>Binary</td>\n",
    "      <td style='border: 1px solid black;text-align: left;'>Left-sided</td>\n",
    "      <td style='text-align: left;'>Lowest</td>\n",
    "   </tr>            \n",
    "</table>"
   ]
  },
  {
   "cell_type": "markdown",
   "metadata": {},
   "source": [
    "Notice that if you need to change the default order of operations, you need to use brackets. There are additional operations that we'll explore in SLU05 - Flow Control. For more information and the complete *operator precedence* list check [here](https://docs.python.org/3/reference/expressions.html#operator-precedence).\n",
    "\n",
    "Consider the examples:"
   ]
  },
  {
   "cell_type": "code",
   "execution_count": 43,
   "metadata": {},
   "outputs": [
    {
     "name": "stdout",
     "output_type": "stream",
     "text": [
      "8\n"
     ]
    }
   ],
   "source": [
    "#The first operation performed: 2 * 3 = 6\n",
    "#The second operation performed: 2 + 6 = 8\n",
    "print(2 + 2 * 3)"
   ]
  },
  {
   "cell_type": "code",
   "execution_count": 44,
   "metadata": {},
   "outputs": [
    {
     "name": "stdout",
     "output_type": "stream",
     "text": [
      "2\n",
      "12\n"
     ]
    }
   ],
   "source": [
    "#First operation performed: 12 // 3 = 4\n",
    "#Second operation performed: 4 // 2 = 2\n",
    "#Left-sided grouping\n",
    "print(12 // 3 // 2)\n",
    "\n",
    "#Introducing parenthesis (highest priority) to force the right operation to be performed first.\n",
    "#First operation performed: 3 // 2 = 1\n",
    "#Second operation performed: 12 // 1 = 12\n",
    "print(12 // (3 // 2))"
   ]
  },
  {
   "cell_type": "code",
   "execution_count": 45,
   "metadata": {},
   "outputs": [
    {
     "name": "stdout",
     "output_type": "stream",
     "text": [
      "0\n",
      "2\n"
     ]
    }
   ],
   "source": [
    "#// and * have the same priority and both have left-sided grouping.\n",
    "#The first operation performed: 2 // 3 = 0\n",
    "#The second operation performed: 0 * 3 = 0\n",
    "print(2 // 3 * 3)\n",
    "\n",
    "#The first operation performed: 3 * 2 = 6\n",
    "#The second operation performed: 6 // 3 = 2\n",
    "print(3 * 2 // 3 )"
   ]
  },
  {
   "cell_type": "markdown",
   "metadata": {},
   "source": [
    "As you can see, the integer division and multiplication have **left-sided grouping**, so the operations are performed from left to right. Changing the order of execution of the operations with parenthesis will (in 99.(9)% of the cases) produce **different results**. \n",
    "\n",
    "**TIP:** If your calculations are returning the wrong results, make sure that *the order of the operations is defined as wanted* and *the parenthesis are well placed*."
   ]
  },
  {
   "cell_type": "markdown",
   "metadata": {},
   "source": [
    "One operation that has **right-sided grouping** is the exponentiation:"
   ]
  },
  {
   "cell_type": "code",
   "execution_count": 46,
   "metadata": {},
   "outputs": [
    {
     "name": "stdout",
     "output_type": "stream",
     "text": [
      "256\n",
      "64\n"
     ]
    }
   ],
   "source": [
    "#First operation performed: 2 ** 3 = 8\n",
    "#Second operation performed: 2 ** 8 = 256\n",
    "#Right-sided grouping\n",
    "print(2 ** 2 ** 3)\n",
    "\n",
    "#Introducing parenthesis (highest priority) to force the left operation to be performed first.\n",
    "#First operation performed: 2 ** 2 = 4\n",
    "#Second operation performed: 4 ** 3 = 64\n",
    "print((2 ** 2) ** 3)"
   ]
  },
  {
   "cell_type": "markdown",
   "metadata": {},
   "source": [
    "NOTE: There is an exception for the exponentiation where the positive and negative signs have higher priority if on the right side of `**`."
   ]
  },
  {
   "cell_type": "code",
   "execution_count": 47,
   "metadata": {},
   "outputs": [
    {
     "name": "stdout",
     "output_type": "stream",
     "text": [
      "-4\n",
      "-4\n",
      "0.25\n",
      "0.25\n"
     ]
    }
   ],
   "source": [
    "#Here the exponentiation has higher priority than the negative sign, so it is performed first.\n",
    "print(-2 ** 2)\n",
    "#Equivalent to\n",
    "print(- (2 ** 2))\n",
    "\n",
    "#Here the negative sign is on the right side and has higher priority than the exponentiation, so it is performed first.\n",
    "print(2 ** -2)\n",
    "#Equivalent to \n",
    "print(2 ** (-2))"
   ]
  },
  {
   "cell_type": "markdown",
   "metadata": {},
   "source": [
    "## 5. String concatenation and formatting\n",
    "\n",
    "Operations are not limited to numbers. It is possible to manipulate text with Python.\n",
    "\n",
    "One such operation is called *string concatenation*. String concatenation combines two strings and merges them into one string. To concatenate two strings in Python, the plus sign `+` is used."
   ]
  },
  {
   "cell_type": "code",
   "execution_count": 48,
   "metadata": {},
   "outputs": [
    {
     "name": "stdout",
     "output_type": "stream",
     "text": [
      "Hello there.\n"
     ]
    }
   ],
   "source": [
    "#The string \"Hello \" is merged with the string \"there.\"\n",
    "print(\"Hello \" + \"there.\")"
   ]
  },
  {
   "cell_type": "code",
   "execution_count": 49,
   "metadata": {},
   "outputs": [
    {
     "name": "stdout",
     "output_type": "stream",
     "text": [
      "You can merge as many strings in a row as you like.\n"
     ]
    }
   ],
   "source": [
    "print(\"You \" + \"can \" + \"merge \" + \"as \" + \"many \" + \"strings \" + \"in \" + \"a \" + \"row \" + \"as \" + \"you \"+ \"like.\")"
   ]
  },
  {
   "cell_type": "code",
   "execution_count": 50,
   "metadata": {},
   "outputs": [
    {
     "name": "stdout",
     "output_type": "stream",
     "text": [
      "The order of the characters is preserved in the resulting string.\n",
      "String 1 String 2 String 3\n"
     ]
    }
   ],
   "source": [
    "print(\"The order of the characters \" + \"is preserved in the resulting string.\")\n",
    "print(\"String 1 \" + \"String 2 \" + \"String 3\")"
   ]
  },
  {
   "cell_type": "markdown",
   "metadata": {},
   "source": [
    "You can repeat the same string multiple times with an asterisk sign `*` and an integer number."
   ]
  },
  {
   "cell_type": "code",
   "execution_count": 51,
   "metadata": {},
   "outputs": [
    {
     "name": "stdout",
     "output_type": "stream",
     "text": [
      "Multiplying one integer with a string produces a string that is the concatenation of the string repeated by the value of that integer.\n",
      "For example: 4 * \"ABC\" results in ABCABCABCABC\n"
     ]
    }
   ],
   "source": [
    "print(\"\"\"Multiplying one integer with a string produces a string that is the concatenation \\\n",
    "of the string repeated by the value of that integer.\n",
    "For example: 4 * \\\"ABC\\\" results in \"\"\" + 4 * \"ABC\")"
   ]
  },
  {
   "cell_type": "markdown",
   "metadata": {},
   "source": [
    "### 5.1 String formatting\n",
    "\n",
    "How can we include numbers into a string? Can you concatenate them just like that?"
   ]
  },
  {
   "cell_type": "code",
   "execution_count": 52,
   "metadata": {},
   "outputs": [
    {
     "ename": "TypeError",
     "evalue": "can only concatenate str (not \"int\") to str",
     "output_type": "error",
     "traceback": [
      "\u001b[0;31m---------------------------------------------------------------------------\u001b[0m",
      "\u001b[0;31mTypeError\u001b[0m                                 Traceback (most recent call last)",
      "Input \u001b[0;32mIn [52]\u001b[0m, in \u001b[0;36m<cell line: 1>\u001b[0;34m()\u001b[0m\n\u001b[0;32m----> 1\u001b[0m \u001b[38;5;28mprint\u001b[39m(\u001b[38;5;124;43m\"\u001b[39;49m\u001b[38;5;124;43mThere are \u001b[39;49m\u001b[38;5;124;43m\"\u001b[39;49m\u001b[43m \u001b[49m\u001b[38;5;241;43m+\u001b[39;49m\u001b[43m \u001b[49m\u001b[38;5;241;43m123\u001b[39;49m \u001b[38;5;241m+\u001b[39m \u001b[38;5;124m\"\u001b[39m\u001b[38;5;124m boxes of sweets in a store. There are \u001b[39m\u001b[38;5;124m\"\u001b[39m \u001b[38;5;241m+\u001b[39m \u001b[38;5;241m25\u001b[39m\n\u001b[1;32m      2\u001b[0m       \u001b[38;5;241m+\u001b[39m \u001b[38;5;124m\"\u001b[39m\u001b[38;5;124m sweets in each box.\u001b[39m\u001b[38;5;130;01m\\n\u001b[39;00m\u001b[38;5;124mHow many sweets are there in the store? \u001b[39m\u001b[38;5;124m\"\u001b[39m \u001b[38;5;241m+\u001b[39m \u001b[38;5;241m123\u001b[39m \u001b[38;5;241m*\u001b[39m \u001b[38;5;241m25\u001b[39m)\n",
      "\u001b[0;31mTypeError\u001b[0m: can only concatenate str (not \"int\") to str"
     ]
    }
   ],
   "source": [
    "print(\"There are \" + 123 + \" boxes of sweets in a store. There are \" + 25\n",
    "      + \" sweets in each box.\\nHow many sweets are there in the store? \" + 123 * 25)"
   ]
  },
  {
   "cell_type": "markdown",
   "metadata": {},
   "source": [
    "Uhm, you can't :) Strings cannot be concatenated with numbers. First we have to convert the numbers to strings:"
   ]
  },
  {
   "cell_type": "code",
   "execution_count": 53,
   "metadata": {},
   "outputs": [
    {
     "name": "stdout",
     "output_type": "stream",
     "text": [
      "There are 123 boxes of sweets in a store. There are 25 sweets in each box.\n",
      "How many sweets are there in the store? 3075\n"
     ]
    }
   ],
   "source": [
    "print(\"There are \" + str(123) + \" boxes of sweets in a store. There are \" + str(25)\n",
    "      + \" sweets in each box.\\nHow many sweets are there in the store? \" + str(123 * 25))"
   ]
  },
  {
   "cell_type": "markdown",
   "metadata": {},
   "source": [
    "It's quite cumbersome to have to split the string into pieces and concatenate the converted values. There are [several methods to simplify this process](https://www.python.org/dev/peps/pep-3101/#format-strings). These will become very useful once you'll want to print numerical variables. We will explore the two most used methods:"
   ]
  },
  {
   "cell_type": "markdown",
   "metadata": {},
   "source": [
    "1. The `.format()` method. Strings have the method `.format()` where the arguments are \"inserted\" inside the string. You can use positional arguments (the order of the argument in the string) or keyword arguments (the name of the argument in the string). I recommend going [here](https://docs.python.org/3/library/string.html#formatstrings) for additional examples of the capabilities of `.format()`."
   ]
  },
  {
   "cell_type": "code",
   "execution_count": 54,
   "metadata": {},
   "outputs": [
    {
     "name": "stdout",
     "output_type": "stream",
     "text": [
      "There are 123 boxes of sweets in a store. There are 25 sweets in each box.\n",
      "How many sweets are there in the store? 3075\n"
     ]
    }
   ],
   "source": [
    "print(\"\"\"There are {0} boxes of sweets in a store. There are {1} \\\n",
    "sweets in each box.\\nHow many sweets are there in the store? {result}\"\"\".format(123, 25, result=123 * 25))"
   ]
  },
  {
   "cell_type": "markdown",
   "metadata": {},
   "source": [
    "2. Using [formatted strings](https://www.python.org/dev/peps/pep-0498/) aka f-strings. f-strings are strings that are prefaced with the letter `f`. In these strings, expressions can be introduced using curly braces `{}`. You can see that the expressions have a different color than the string. The notebook takes into account that it is a f-string and automatically shows every expression as code, improving readability. This does not happen with `.format()`."
   ]
  },
  {
   "cell_type": "code",
   "execution_count": 55,
   "metadata": {},
   "outputs": [
    {
     "name": "stdout",
     "output_type": "stream",
     "text": [
      "There are 123 boxes of sweets in a store. There are 25 sweets in each box. How many sweets are in the store? 3075\n"
     ]
    }
   ],
   "source": [
    "print(f\"\"\"There are {123} boxes of sweets in a store. There are {25} \\\n",
    "sweets in each box. How many sweets are in the store? {123 * 25}\"\"\")"
   ]
  },
  {
   "cell_type": "markdown",
   "metadata": {},
   "source": [
    "For each case, you should use the method that is simpler to read."
   ]
  },
  {
   "cell_type": "markdown",
   "metadata": {},
   "source": [
    "## 6. Introduction to variables\n",
    "\n",
    "We performed a lot of arithmetical and string operations in this notebook, but we cannot use the results further. The values were calculated and printed to the screen, but not stored for later usage. How can we store values? In variables!\n",
    "\n",
    "*Variables* are **containers** that allow to **store the values of calculations** and use these values in subsequent operations. A variable is defined by its **name** and its **value**.\n",
    "\n",
    "To create a variable, the programmer must first name it. Variable naming has some rules that have to be followed:\n",
    "\n",
    "- the name of the variable can **only** be composed of **upper- and lower-case letters**, **digits** and the underscore character `_`. The characters are not required to be Latin letters.\n",
    "- the name has to **start with a letter**.\n",
    "- the **underscore is considered a letter**.\n",
    "- the upper- and lower-case letters are considered to be different. `POTATOES` and `potatoes` are two distinct variables.\n",
    "- the name cannot be one of Python's reserved keywords or [built-in functions](https://docs.python.org/3/library/functions.html#built-in-functions). This rule can \"technically\" be broken but **shouldn't**. You can, for instance, replace the `print()` function with a variable called `print`. Python forgets what `print()` does and all examples in the notebook start producing errors. You'll need to restart the Kernel (top of the notebook: Kernel > Restart) for the `print()` function to be available again.\n",
    "\n",
    "The reserved keywords are names that have specific purposes in the Python language and **should not be used for naming**. They can be accessed with `help('keywords')`.\n",
    "\n",
    "There are several [naming conventions](https://www.python.org/dev/peps/pep-0008/#naming-conventions) that you can follow to help you name variables."
   ]
  },
  {
   "cell_type": "code",
   "execution_count": 56,
   "metadata": {},
   "outputs": [
    {
     "name": "stdout",
     "output_type": "stream",
     "text": [
      "\n",
      "Here is a list of the Python keywords.  Enter any keyword to get more help.\n",
      "\n",
      "False               class               from                or\n",
      "None                continue            global              pass\n",
      "True                def                 if                  raise\n",
      "and                 del                 import              return\n",
      "as                  elif                in                  try\n",
      "assert              else                is                  while\n",
      "async               except              lambda              with\n",
      "await               finally             nonlocal            yield\n",
      "break               for                 not                 \n",
      "\n"
     ]
    }
   ],
   "source": [
    "help('keywords')"
   ]
  },
  {
   "cell_type": "markdown",
   "metadata": {},
   "source": [
    "Here are some examples of names that can be used for variables:\n",
    "\n",
    "`FirstVariable`\n",
    "\n",
    "`j`\n",
    "\n",
    "`v23`\n",
    "\n",
    "`counter`\n",
    "\n",
    "`_max_position_`\n",
    "\n",
    "`index`\n",
    "\n",
    "`An_Extremely_Long_Variable_Name_That_You_Are_Definitely_Never_Going_To_Misspell`\n",
    "\n",
    "`Ovo_da_Páscoa_Abaixo` (use of accented letters)\n",
    "\n",
    "`古池や蛙飛び込む水の音` (use of non latin characters)"
   ]
  },
  {
   "cell_type": "markdown",
   "metadata": {},
   "source": [
    "A variable can store any value of the data types above but also many more that we haven't seen yet. The stored value is called the **value of the variable** and it can change at any given time. Not only can the value change within the same data type but the data type can also change. For instance, a variable can have an integer value and later a float value.\n",
    "\n",
    "A variable is created when a value is **assigned** to it. If a value is assigned to a variable that does not exist, the variable is created **automatically**.\n",
    "\n",
    "To create a variable, write the **name of the variable**, the **equal sign** `=`, and then the **value** that you want to put into the variable. We call this process **variable assignment**. The equal sign `=` is **not** treated as *equal to*, but instead assigns the **right value** to the **left variable** (*equal to* is this `==`)."
   ]
  },
  {
   "cell_type": "code",
   "execution_count": 57,
   "metadata": {},
   "outputs": [],
   "source": [
    "variable_name = 3"
   ]
  },
  {
   "cell_type": "markdown",
   "metadata": {},
   "source": [
    "The expression above did not produce an output, but created the variable `variable_name` with the integer value `3`. To verify the value of the variable, you can use the `print()` function."
   ]
  },
  {
   "cell_type": "code",
   "execution_count": 58,
   "metadata": {},
   "outputs": [
    {
     "name": "stdout",
     "output_type": "stream",
     "text": [
      "3\n"
     ]
    }
   ],
   "source": [
    "print(variable_name)"
   ]
  },
  {
   "cell_type": "markdown",
   "metadata": {},
   "source": [
    "The value `3` is stored inside `variable_name` and can be used in later calculations and cells. You can use as many variables as needed to perform the intended tasks."
   ]
  },
  {
   "cell_type": "code",
   "execution_count": 59,
   "metadata": {},
   "outputs": [
    {
     "name": "stdout",
     "output_type": "stream",
     "text": [
      "1 2.0 This is a string.\n"
     ]
    }
   ],
   "source": [
    "a = 1\n",
    "b = 2.\n",
    "c = \"This is a string.\"\n",
    "print(a,b,c)"
   ]
  },
  {
   "cell_type": "markdown",
   "metadata": {},
   "source": [
    "### 6.1 The `NameError`\n",
    "You cannot use a variable that was not previously assigned. Doing so results in a *NameError*."
   ]
  },
  {
   "cell_type": "code",
   "execution_count": 60,
   "metadata": {},
   "outputs": [
    {
     "ename": "NameError",
     "evalue": "name 'A' is not defined",
     "output_type": "error",
     "traceback": [
      "\u001b[0;31m---------------------------------------------------------------------------\u001b[0m",
      "\u001b[0;31mNameError\u001b[0m                                 Traceback (most recent call last)",
      "Input \u001b[0;32mIn [60]\u001b[0m, in \u001b[0;36m<cell line: 1>\u001b[0;34m()\u001b[0m\n\u001b[0;32m----> 1\u001b[0m \u001b[38;5;28mprint\u001b[39m(\u001b[43mA\u001b[49m)\n",
      "\u001b[0;31mNameError\u001b[0m: name 'A' is not defined"
     ]
    }
   ],
   "source": [
    "print(A)"
   ]
  },
  {
   "cell_type": "markdown",
   "metadata": {},
   "source": [
    "The value of a variable can be changed by assigning a new value to the variable."
   ]
  },
  {
   "cell_type": "code",
   "execution_count": 61,
   "metadata": {},
   "outputs": [
    {
     "name": "stdout",
     "output_type": "stream",
     "text": [
      "2\n"
     ]
    }
   ],
   "source": [
    "a = 2\n",
    "#Variable `a` had value 1 before and now it has value 2.\n",
    "print(a)"
   ]
  },
  {
   "cell_type": "markdown",
   "metadata": {},
   "source": [
    "The right argument of the assignment (after the `=` sign) can be any valid expression that we talked about before. The equal sign `=` has lower priority than the above mentioned operators, so it is executed last."
   ]
  },
  {
   "cell_type": "code",
   "execution_count": 62,
   "metadata": {},
   "outputs": [
    {
     "name": "stdout",
     "output_type": "stream",
     "text": [
      "First part, second part.\n"
     ]
    }
   ],
   "source": [
    "e = \"First part,\"\n",
    "f = \" second part.\"\n",
    "g = e + f\n",
    "print(g)"
   ]
  },
  {
   "cell_type": "markdown",
   "metadata": {},
   "source": [
    "Sometimes we want to use the same variable on both sides of the `=` operator to update the value of this variable."
   ]
  },
  {
   "cell_type": "code",
   "execution_count": 63,
   "metadata": {},
   "outputs": [
    {
     "name": "stdout",
     "output_type": "stream",
     "text": [
      "2\n"
     ]
    }
   ],
   "source": [
    "d = 1\n",
    "d = d + 1\n",
    "print(d)"
   ]
  },
  {
   "cell_type": "markdown",
   "metadata": {},
   "source": [
    "This expression can be simplified using **shortcut operators**. Shortcut operators allow to write expression like `variable = variable + expression` as `variable += expression`. This is valid for the binary operators that we discussed earlier."
   ]
  },
  {
   "cell_type": "code",
   "execution_count": 64,
   "metadata": {},
   "outputs": [
    {
     "name": "stdout",
     "output_type": "stream",
     "text": [
      "2\n"
     ]
    }
   ],
   "source": [
    "counter = 1\n",
    "counter += 1\n",
    "print(counter)"
   ]
  },
  {
   "cell_type": "code",
   "execution_count": 65,
   "metadata": {},
   "outputs": [
    {
     "name": "stdout",
     "output_type": "stream",
     "text": [
      "128.0\n"
     ]
    }
   ],
   "source": [
    "fraction = 256\n",
    "fraction /= 2 #Equivalent to fraction = fraction / 2\n",
    "print(fraction)"
   ]
  },
  {
   "cell_type": "code",
   "execution_count": 66,
   "metadata": {},
   "outputs": [
    {
     "name": "stdout",
     "output_type": "stream",
     "text": [
      "950.0\n"
     ]
    }
   ],
   "source": [
    "money = 1000\n",
    "tax = 0.05\n",
    "money *= (1 - tax) #Equivalent to money = money * (1 - tax)\n",
    "print(money)"
   ]
  },
  {
   "cell_type": "markdown",
   "metadata": {},
   "source": [
    "## 7. Constants"
   ]
  },
  {
   "cell_type": "markdown",
   "metadata": {},
   "source": [
    "When reviewing code from other programmers or when using modules, you might encounter variables with names written in all capital letters with underscores separating words. This is a [convention](https://www.python.org/dev/peps/pep-0008/#constants) to define that variable as a **constant**. You should **avoid** changing the value of constants that you didn't define yourself. You can also use this convention for the same purpose, especially when writing modules."
   ]
  },
  {
   "cell_type": "code",
   "execution_count": 67,
   "metadata": {},
   "outputs": [],
   "source": [
    "GRAVITY_EARTH = 9.81\n",
    "PI = 3.14159"
   ]
  },
  {
   "cell_type": "markdown",
   "metadata": {},
   "source": [
    "## 8. Debugging using `print()` - part 2 \n",
    "\n",
    "As your code uses more and more operations, it can get hard to follow what is happening under the hood. This will be evident when you stumble upon an error and you do not know the cause, like in the example below. Consider the case where we want to divide a number by `2` many times."
   ]
  },
  {
   "cell_type": "code",
   "execution_count": 68,
   "metadata": {},
   "outputs": [],
   "source": [
    "# You will learn a better way to do this later\n",
    "a = 20\n",
    "a //= 2\n",
    "a //= 2\n",
    "a //= 2\n",
    "a //= 2\n",
    "a //= 2\n",
    "a //= 2\n",
    "a //= 2"
   ]
  },
  {
   "cell_type": "markdown",
   "metadata": {},
   "source": [
    "Executing the code does not provide any indication on how the value of `a` changes over the performed operations. What is the final value of `a`?"
   ]
  },
  {
   "cell_type": "code",
   "execution_count": 69,
   "metadata": {},
   "outputs": [
    {
     "name": "stdout",
     "output_type": "stream",
     "text": [
      "0\n"
     ]
    }
   ],
   "source": [
    "print(a)"
   ]
  },
  {
   "cell_type": "markdown",
   "metadata": {},
   "source": [
    "Why is the value of `a` zero? Let's use the `print()` function in the intermediate operations, so we can check how the value of `a` changes and get clues on what is happening."
   ]
  },
  {
   "cell_type": "code",
   "execution_count": 70,
   "metadata": {},
   "outputs": [
    {
     "name": "stdout",
     "output_type": "stream",
     "text": [
      "10\n",
      "5\n",
      "2\n",
      "1\n",
      "0\n",
      "0\n",
      "0\n"
     ]
    }
   ],
   "source": [
    "a = 20\n",
    "a //= 2\n",
    "print(a)\n",
    "a //= 2\n",
    "print(a)\n",
    "a //= 2\n",
    "print(a)\n",
    "a //= 2\n",
    "print(a)\n",
    "a //= 2\n",
    "print(a)\n",
    "a //= 2\n",
    "print(a)\n",
    "a //= 2\n",
    "print(a)"
   ]
  },
  {
   "cell_type": "markdown",
   "metadata": {},
   "source": [
    "Why is `5/2` equal to `2`? Oh, it seems that we have used the integer division instead of the regular division. How silly. Now that we have identified the problem, we can fix it."
   ]
  },
  {
   "cell_type": "code",
   "execution_count": 71,
   "metadata": {},
   "outputs": [
    {
     "name": "stdout",
     "output_type": "stream",
     "text": [
      "0.15625\n"
     ]
    }
   ],
   "source": [
    "a = 20\n",
    "a /= 2\n",
    "a /= 2\n",
    "a /= 2\n",
    "a /= 2\n",
    "a /= 2\n",
    "a /= 2\n",
    "a /= 2\n",
    "print(a)"
   ]
  },
  {
   "cell_type": "markdown",
   "metadata": {},
   "source": [
    "Fixed! When you have a problem with your code, either an error or a strange result, try to use `print()` to see what your code is doing."
   ]
  },
  {
   "cell_type": "markdown",
   "metadata": {},
   "source": [
    "## Recap"
   ]
  },
  {
   "cell_type": "markdown",
   "metadata": {},
   "source": [
    "- You can use different types of data and operations to get the results you want.\n",
    "- If your calculations are giving unexpected results, check the **operator precedence**.\n",
    "- If you don't want to lose the results, you can **assign them to variables** to use later.\n",
    "- Use the `print()` function to inspect your code, specially when you get errors or wrong results. "
   ]
  }
 ],
 "metadata": {
  "kernelspec": {
   "display_name": "Python 3 (ipykernel)",
   "language": "python",
   "name": "python3"
  },
  "language_info": {
   "codemirror_mode": {
    "name": "ipython",
    "version": 3
   },
   "file_extension": ".py",
   "mimetype": "text/x-python",
   "name": "python",
   "nbconvert_exporter": "python",
   "pygments_lexer": "ipython3",
   "version": "3.8.15"
  }
 },
 "nbformat": 4,
 "nbformat_minor": 2
}
