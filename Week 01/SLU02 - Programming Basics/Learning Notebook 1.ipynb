{
 "cells": [
  {
   "cell_type": "markdown",
   "metadata": {},
   "source": [
    "# SLU02 - Programming Basics - Learning notebook 1"
   ]
  },
  {
   "cell_type": "markdown",
   "metadata": {},
   "source": [
    "### Table of contents\n",
    "[1. Introduction to Python](#1.-Introduction-to-Python)   \n",
    "[2. How to get help](#2.-How-to-get-help)   \n",
    "[3. The `print()` function and its parameters; The `SyntaxError`](#3.-The-print()-function-and-its-parameters;-The-SyntaxError)   \n",
    "&emsp;[3.1 Debugging with `print()`](#3.1-Debugging-with-print())   \n",
    "[4. How to comment your code](#4.-How-to-comment-your-code)   \n",
    "&emsp;[4.1 Debugging using comments](#4.1-Debugging-using-comments)   "
   ]
  },
  {
   "cell_type": "markdown",
   "metadata": {},
   "source": [
    "## 1. Introduction to Python\n",
    "\n",
    "Programming is the process of writing instructions (code) to be executed by a computer in order to perform specific tasks. It's almost like teaching someone how to ride a bicycle or bake a cake. You break the process into individual steps and explain how each step should be performed in order to complete the task successfully. \n",
    "\n",
    "Take a look at this [chocolate cake recipe](https://www.thespruceeats.com/classic-and-easy-chocolate-cake-recipe-995137), re-written below by a programmer:"
   ]
  },
  {
   "cell_type": "markdown",
   "metadata": {},
   "source": [
    "<img src=\"./media/recipe2.jpg\"/>"
   ]
  },
  {
   "cell_type": "markdown",
   "metadata": {},
   "source": [
    "In this recipe, we have a set of ingredients that are **processed, combined, and baked** into a cake. The process is broken into **16 distinct steps with specific instructions** on how to prepare the ingredients for the next step. If you give this recipe to an English speaking person, they can follow the steps and bake a delicious chocolate cake. **In the same way, if you give the computer a recipe (code) written in a language it can understand, the computer can execute the recipe and return the expected result.**\n",
    "\n",
    "You can think of programming as *the act of writing code that a computer can follow to perform a task*. The computer simply follows the instructions provided by you without critical thinking and returns the results to you. If the recipe is well written then the computer returns what you expected. But if the recipe is badly written, the computer [will follow your instructions](https://www.youtube.com/watch?v=cDA3_5982h8) but return something different than you expected or say that there was a problem while following the instructions. **It is up to you to make sure that the code is well written.**"
   ]
  },
  {
   "cell_type": "markdown",
   "metadata": {},
   "source": [
    "<img src=\"media/code_execute_small.jpg\"/>"
   ]
  },
  {
   "cell_type": "markdown",
   "metadata": {},
   "source": [
    "If you have read the recipe above with the utmost attention, you might have noticed that some parts are highlighted with colors: 😄\n",
    "- The blue parts represent actions/**operations** that the reader should perform.\n",
    "- The orange parts represent **objects** that can hold the ingredients, like containers. They might be empty, filled with some ingredients or more ingredients may be added to them.\n",
    "- The yellow parts represent instructions on **how** and/or **when** certain actions/**operations** should be performed. These instructions can be explicitly established by the writer (e.g. `For 10 minutes`) or left for the reader to decide based on certain conditions (e.g. `If cake is cool`).\n",
    "\n",
    "Basically, most recipes tell you how to process and store the ingredients and provide information on how to control the execution of the dish. Code is similar."
   ]
  },
  {
   "cell_type": "markdown",
   "metadata": {},
   "source": [
    "Languages that a computer can read and execute are called **programming languages**. There is an indefinite number of programming languages, each with a different purpose, syntax, and philosophy. **One such language is Python.**\n",
    "[Python](https://en.wikipedia.org/wiki/Python_(programming_language)) is a general-purpose programming language created by Guido van Rossum and released in 1991. It was designed to have a solid set of basic built-in functionalities and to be highly expandable with the usage of modules and packages, encouraging code re-usage. *The Python interpreter and the extensive standard library are freely distributed. Python's design philosophy emphasizes code readability.* For these and other reasons, it became a wildly popular language."
   ]
  },
  {
   "cell_type": "markdown",
   "metadata": {},
   "source": [
    "## 2. How to get help"
   ]
  },
  {
   "cell_type": "markdown",
   "metadata": {},
   "source": [
    "While writing code it is natural to encounter pesky errors messages that won't disappear, use modules that are not familiar or outright not knowing how to perform some tasks.\n",
    "Over the years, the Python community has grown significantly. There is a lot of people that collaborate to maintain and improve the Python core, develop new modules to expand the Python functionalities, but are also **available to help each other solving issues and answering questions**.\n",
    "\n",
    "In this section, we'll show you some of the resources available out there where you can search for help and information during your programming and debugging endeavours."
   ]
  },
  {
   "cell_type": "markdown",
   "metadata": {},
   "source": [
    "<img src=\"./media/99bugs_small.jpg\"/>\n",
    "\n",
    "[\"A software bug is an error, flaw or fault in a computer program or system that causes it to produce an incorrect or unexpected result (...)\"](https://en.wikipedia.org/wiki/Software_bug)"
   ]
  },
  {
   "cell_type": "markdown",
   "metadata": {},
   "source": [
    "The one most important resource is the **documentation** of the [Python language](https://docs.python.org/3/).\n",
    "You can access tutorials, the Python Language Reference and other materials. Choose the Python version that you are using. You might find it difficult to digest at first, but you will get used to it with practice.\n",
    "\n",
    "To complement the SLUs you can go to this [wiki](https://wiki.python.org/moin/BeginnersGuide/NonProgrammers) for tons of resources to learn the basics of Python.\n",
    "\n",
    "**If you have specific issues that the documentation does not clarify, you can ask the community for help.** You can ask questions on the [official Python forum](https://python-forum.io/index.php) or on [Stack Overflow](https://stackoverflow.com/). Stack Overflow is a pretty popular website with Q&A on a lot of programming languages. When searching for a question in the question bar, you can use a Python tag [Python] or [python-3.x] to avoid similar questions about another language. If a question was answered many years ago, it might be about Python 2 which is now discontinued. Try to confirm that the answers are related to **Python 3** and not Python 2.\n",
    "\n",
    "In SLU12 and SLU13 - Linear Algebra & NumPy, you will be using the [NumPy package](https://numpy.org/). As most popular packages, NumPy has a dedicated documentation page, a getting started page, an examples page, and community links. You can use these resources to learn more about the package that you are using. You don't need to study this page now, take it just as an example of package documentation.\n",
    "\n",
    "**If everything else fails you can always use a search engine to find help.** Start your searches with the word \"python\" to filter out similar questions from other programming languages. If you are encountering an error message, try searching for it in a succint but detailed way. Be as specific as you can.\n",
    "\n",
    "Another resource that you can use are the *Python Enhancement Proposals* (PEPs), especially [PEP8](https://www.python.org/dev/peps/pep-0008/). PEP8 contains a series of recommendations on the style of Python code. It's a great resource to learn how to improve the readability of your code. [PEP20](https://www.python.org/dev/peps/pep-0020/) aka *The Zen of Python* is a document with guidelines used in designing the Python language and that you can apply to your code too. The guidelines are explained [here](https://inventwithpython.com/blog/2018/08/17/the-zen-of-python-explained/). Don't worry if you don't understand everything in these documents. Some topics are a bit advanced.\n",
    "\n",
    "With that out of the way, let's get coding! "
   ]
  },
  {
   "cell_type": "markdown",
   "metadata": {},
   "source": [
    "<img src=\"./media/cracking.gif\"/>"
   ]
  },
  {
   "cell_type": "markdown",
   "metadata": {},
   "source": [
    "## 3. The `print()` function and its parameters; The `SyntaxError`"
   ]
  },
  {
   "cell_type": "markdown",
   "metadata": {},
   "source": [
    "The first built-in function that most programmers learn is the `print()` [function](https://docs.python.org/3.7/library/functions.html#print). Besides allowing you to say `Hello`, it has an important role in debugging."
   ]
  },
  {
   "cell_type": "code",
   "execution_count": 1,
   "metadata": {},
   "outputs": [
    {
     "name": "stdout",
     "output_type": "stream",
     "text": [
      "Hello, World!\n"
     ]
    }
   ],
   "source": [
    "print(\"Hello, World!\")"
   ]
  },
  {
   "cell_type": "markdown",
   "metadata": {},
   "source": [
    "The `print()` function **sends the argument data to the output cell**. In this case, the argument `\"Hello, World!\"` is a string. Strings are just text, they are delimited with quotation marks or apostrophes and the computer will consider them literally and not as code. The `print()` function can output virtually all types of data provided by Python, such as integers or floats."
   ]
  },
  {
   "cell_type": "code",
   "execution_count": 2,
   "metadata": {},
   "outputs": [
    {
     "name": "stdout",
     "output_type": "stream",
     "text": [
      "10\n"
     ]
    }
   ],
   "source": [
    "print(10)"
   ]
  },
  {
   "cell_type": "code",
   "execution_count": 3,
   "metadata": {},
   "outputs": [
    {
     "name": "stdout",
     "output_type": "stream",
     "text": [
      "2.3\n"
     ]
    }
   ],
   "source": [
    "print(2.3)"
   ]
  },
  {
   "cell_type": "markdown",
   "metadata": {},
   "source": [
    "If you want to call the `print()` function more than once, you **should** put each call in a separate line. While you can write *Compound statements* (having multiple statements in the same line separated by a semicolon `;`), this is [discouraged](https://www.python.org/dev/peps/pep-0008/#other-recommendations).\n",
    "\n",
    "It is advisable to only write **one instruction per line**. Lines can be empty though, i.e. without any instructions. Writing multiple instructions on the same line (without `;`) results in a syntax error as shown below."
   ]
  },
  {
   "cell_type": "code",
   "execution_count": 4,
   "metadata": {},
   "outputs": [
    {
     "ename": "SyntaxError",
     "evalue": "invalid syntax (3529195832.py, line 1)",
     "output_type": "error",
     "traceback": [
      "\u001b[0;36m  Input \u001b[0;32mIn [4]\u001b[0;36m\u001b[0m\n\u001b[0;31m    print(10) print(2.3)\u001b[0m\n\u001b[0m              ^\u001b[0m\n\u001b[0;31mSyntaxError\u001b[0m\u001b[0;31m:\u001b[0m invalid syntax\n"
     ]
    }
   ],
   "source": [
    "print(10) print(2.3)"
   ]
  },
  {
   "cell_type": "markdown",
   "metadata": {},
   "source": [
    "A **syntax error** occurs when the instructions do not follow the rules defined by the language and therefore the Python interpreter is unable to understand the line of code. This is similar to human languages - it's hard to understand phrases that are not well formed. Notice that the exact place where the error occured is indicated with `^`.\n",
    "\n",
    "Programming syntax errors are **frequently due to typos, incorrect indentation or incorrect arguments.** Before executing the code, the interpreter verifies the syntax of the code and if there is an error in the syntax, no code is executed."
   ]
  },
  {
   "cell_type": "markdown",
   "metadata": {},
   "source": [
    "<img src=\"./media/hurt_small.png\"/>"
   ]
  },
  {
   "cell_type": "markdown",
   "metadata": {},
   "source": [
    "The instructions are performed in the order that they are written in the code. The `print` statements from above can all be written in the same cell and executed one after the other:"
   ]
  },
  {
   "cell_type": "code",
   "execution_count": 5,
   "metadata": {},
   "outputs": [
    {
     "name": "stdout",
     "output_type": "stream",
     "text": [
      "Hello, World!\n",
      "10\n",
      "2.3\n"
     ]
    }
   ],
   "source": [
    "print(\"Hello, World!\")\n",
    "print(10)\n",
    "print(2.3)"
   ]
  },
  {
   "cell_type": "markdown",
   "metadata": {},
   "source": [
    "The `print()` function accepts more than one argument. You can write several values separated by commas `,` inside the `print()` function."
   ]
  },
  {
   "cell_type": "code",
   "execution_count": 6,
   "metadata": {
    "scrolled": true
   },
   "outputs": [
    {
     "name": "stdout",
     "output_type": "stream",
     "text": [
      "There are 5 continents in the World, according to the UN.\n"
     ]
    }
   ],
   "source": [
    "print(\"There are\", 5, \"continents in the World, according to the UN.\")"
   ]
  },
  {
   "cell_type": "markdown",
   "metadata": {},
   "source": [
    "The `print()` function prints the arguments separated with white spaces by default (`sep=\" \"`). You can change the separation between argument(s) with the `sep` keyword. **After** the arguments that you want to print, add `sep=` and the separator that you want. The separator must be a **string**."
   ]
  },
  {
   "cell_type": "code",
   "execution_count": 7,
   "metadata": {},
   "outputs": [
    {
     "name": "stdout",
     "output_type": "stream",
     "text": [
      "There are!5!continents in the World, according to the UN.\n"
     ]
    }
   ],
   "source": [
    "print(\"There are\", 5, \"continents in the World, according to the UN.\",sep=\"!\")"
   ]
  },
  {
   "cell_type": "markdown",
   "metadata": {},
   "source": [
    "Each `print()` call ends with the newline character `\\n` (`end=\"\\n\"`). This character indicates that a new line is to be started at that point. You can replace this character with the `end` keyword. **After** the argument(s) that you want to print, add `end=` and the ending that you want. The ending must be a **string**."
   ]
  },
  {
   "cell_type": "code",
   "execution_count": 8,
   "metadata": {},
   "outputs": [
    {
     "name": "stdout",
     "output_type": "stream",
     "text": [
      "Hello, World! 10 2.3 "
     ]
    }
   ],
   "source": [
    "print(\"Hello, World!\", end=\" \")\n",
    "print(10, end=\" \")\n",
    "print(2.3, end=\" \")"
   ]
  },
  {
   "cell_type": "markdown",
   "metadata": {},
   "source": [
    "Instead of each `print()` starting in a new line, there are now spaces in between. You can change both `sep=` and `end=` if you need. You'll see later that some arguments have default values that are always used unless **explicitly** changed by the programmer.\n",
    "\n",
    "We will use the `print()` function frequently to check the value of variables during the code execution and to help debugging (finding errors in) the code. \n",
    "\n",
    "One additional point regarding the `print()` function. Execute the following two cells and observe what happens."
   ]
  },
  {
   "cell_type": "code",
   "execution_count": 9,
   "metadata": {
    "scrolled": true
   },
   "outputs": [
    {
     "name": "stdout",
     "output_type": "stream",
     "text": [
      "10\n"
     ]
    }
   ],
   "source": [
    "print(10)"
   ]
  },
  {
   "cell_type": "code",
   "execution_count": 10,
   "metadata": {
    "scrolled": true
   },
   "outputs": [
    {
     "data": {
      "text/plain": [
       "10"
      ]
     },
     "execution_count": 10,
     "metadata": {},
     "output_type": "execute_result"
    }
   ],
   "source": [
    "10"
   ]
  },
  {
   "cell_type": "markdown",
   "metadata": {},
   "source": [
    "Can you see the difference? Both cells have the word `In` meaning `Input` on the left and both printed `10`. The second cell, though, has the word `Out` meaning `Output` next to the output cell. Yes, there is another cell below the input cell. You can see it when you hover with you mouse over the space below `In`.\n",
    "\n",
    "Generally, executing a cell produces an output or result, but the result can also be empty (`None` in Python). In the first case, `print(10)` printed the value of its argument, `10`, to the *Standard Output*, which in jupyter notebooks is the space below the input cell. Because the `print()` function returns `None` or nothing at all, the output cell is empty."
   ]
  },
  {
   "cell_type": "code",
   "execution_count": 11,
   "metadata": {},
   "outputs": [
    {
     "name": "stdout",
     "output_type": "stream",
     "text": [
      "print() returns the None value. Therefore the printed value is not present in the output cell.\n"
     ]
    }
   ],
   "source": [
    "print(\"print() returns the None value. Therefore the printed value is not present in the output cell.\")"
   ]
  },
  {
   "cell_type": "markdown",
   "metadata": {},
   "source": [
    "Check out the next cell to see the difference between the *Standard output* and the output cell."
   ]
  },
  {
   "cell_type": "code",
   "execution_count": 12,
   "metadata": {},
   "outputs": [
    {
     "name": "stdout",
     "output_type": "stream",
     "text": [
      "10\n"
     ]
    },
    {
     "data": {
      "text/plain": [
       "10"
      ]
     },
     "execution_count": 12,
     "metadata": {},
     "output_type": "execute_result"
    }
   ],
   "source": [
    "print(10)\n",
    "10"
   ]
  },
  {
   "cell_type": "markdown",
   "metadata": {},
   "source": [
    "Now why does the next cell print only one `10`?"
   ]
  },
  {
   "cell_type": "code",
   "execution_count": 13,
   "metadata": {},
   "outputs": [
    {
     "name": "stdout",
     "output_type": "stream",
     "text": [
      "10\n"
     ]
    }
   ],
   "source": [
    "10\n",
    "print(10)"
   ]
  },
  {
   "cell_type": "markdown",
   "metadata": {},
   "source": [
    "Because only the results of the **last statement of an input cell** are shown in the respective output cell. This is the default behaviour of jupyter notebooks. You can change it, but this is outside the scope of this lesson.\n",
    "\n",
    "In this SLU, all the results that we want to see are explicitly printed with the `print()` function. Other instructors might use the last statement of the cell to show the results. Both are valid approaches that you are now aware of."
   ]
  },
  {
   "cell_type": "markdown",
   "metadata": {},
   "source": [
    "### 3.1 Debugging with `print()`\n",
    "Now we show you how to use the `print()` function to debug your code. Imagine that you write code with a long complicated calculation with several steps, e.g. summing the first 5 integers. You then print the result and see it's wrong!"
   ]
  },
  {
   "cell_type": "code",
   "execution_count": 14,
   "metadata": {},
   "outputs": [
    {
     "data": {
      "text/plain": [
       "14"
      ]
     },
     "execution_count": 14,
     "metadata": {},
     "output_type": "execute_result"
    }
   ],
   "source": [
    "# we are using the variable sum to store the result\n",
    "sum = 1\n",
    "sum = sum + 2\n",
    "sum = sum + 3\n",
    "sum = sum + 3\n",
    "sum = sum + 5\n",
    "sum"
   ]
  },
  {
   "cell_type": "markdown",
   "metadata": {},
   "source": [
    "Where does the error come from? You can find out if you print the partial results after each step:"
   ]
  },
  {
   "cell_type": "code",
   "execution_count": 15,
   "metadata": {},
   "outputs": [
    {
     "name": "stdout",
     "output_type": "stream",
     "text": [
      "1\n",
      "3\n",
      "6\n",
      "9\n"
     ]
    },
    {
     "data": {
      "text/plain": [
       "14"
      ]
     },
     "execution_count": 15,
     "metadata": {},
     "output_type": "execute_result"
    }
   ],
   "source": [
    "sum = 1\n",
    "print(sum)\n",
    "sum = sum + 2\n",
    "print(sum)\n",
    "sum = sum + 3\n",
    "print(sum)\n",
    "sum = sum + 3\n",
    "print(sum)\n",
    "sum = sum + 5\n",
    "sum"
   ]
  },
  {
   "cell_type": "markdown",
   "metadata": {},
   "source": [
    "Check out another more interesting example in notebook no. 2."
   ]
  },
  {
   "cell_type": "markdown",
   "metadata": {},
   "source": [
    "## 4. How to comment your code"
   ]
  },
  {
   "cell_type": "markdown",
   "metadata": {},
   "source": [
    "As the programmer writes more and more code, the code complexity can increase significantly."
   ]
  },
  {
   "cell_type": "markdown",
   "metadata": {},
   "source": [
    "<img src=\"./media/escalated_quickly_small.png\"/>"
   ]
  },
  {
   "cell_type": "markdown",
   "metadata": {},
   "source": [
    "To relieve some of the complexity, **we can use comments to document the code**. Comments make the code more readable for humans and are **ignored by the Python interpreter**. They allow to detail what certain pieces of code are for so that other programmers (and yourself some time later) understand the thought process when you wrote the code. It is unnecessarily time-consuming to review code that has little comments; good programmers use comments as much as possible.\n",
    "\n",
    "Comments in Python start with the hash character `#` and everything written afterwards in the same line is ignored."
   ]
  },
  {
   "cell_type": "code",
   "execution_count": 16,
   "metadata": {},
   "outputs": [
    {
     "name": "stdout",
     "output_type": "stream",
     "text": [
      "Hello, World!\n"
     ]
    }
   ],
   "source": [
    "#This is a comment.\n",
    "print(\"Hello, World!\")"
   ]
  },
  {
   "cell_type": "markdown",
   "metadata": {},
   "source": [
    "The comment can be inserted at the end of a line and everything right of `#` is ignored."
   ]
  },
  {
   "cell_type": "code",
   "execution_count": 17,
   "metadata": {},
   "outputs": [
    {
     "name": "stdout",
     "output_type": "stream",
     "text": [
      "Hello, World!\n"
     ]
    }
   ],
   "source": [
    "print(\"Hello, World!\") #Here the string is printed."
   ]
  },
  {
   "cell_type": "markdown",
   "metadata": {},
   "source": [
    "You can comment code that you don't want the interpreter to execute."
   ]
  },
  {
   "cell_type": "code",
   "execution_count": 18,
   "metadata": {
    "scrolled": true
   },
   "outputs": [
    {
     "name": "stdout",
     "output_type": "stream",
     "text": [
      "Hello, World!\n"
     ]
    }
   ],
   "source": [
    "print(\"Hello, World!\")\n",
    "#print(\"This is not going to be printed!\")"
   ]
  },
  {
   "cell_type": "markdown",
   "metadata": {},
   "source": [
    "Sometimes you need to write a looong comment and don't want to put a `#` on every line. You can use three apostrophes instead. This is often used in function definitions to describe what the function does and which parameters it takes."
   ]
  },
  {
   "cell_type": "code",
   "execution_count": 19,
   "metadata": {},
   "outputs": [
    {
     "data": {
      "text/plain": [
       "11"
      ]
     },
     "execution_count": 19,
     "metadata": {},
     "output_type": "execute_result"
    }
   ],
   "source": [
    "'''\n",
    "many\n",
    "lines\n",
    "of\n",
    "comments\n",
    "'''\n",
    "#now some code\n",
    "10 + 1"
   ]
  },
  {
   "cell_type": "markdown",
   "metadata": {},
   "source": [
    "### 4.1 Debugging using comments\n",
    "This is another great way to debug code - \"turning off\" certain lines of code without having to delete them. Coming back to the long complicated calculation from above, you could do:"
   ]
  },
  {
   "cell_type": "code",
   "execution_count": 20,
   "metadata": {},
   "outputs": [
    {
     "data": {
      "text/plain": [
       "3"
      ]
     },
     "execution_count": 20,
     "metadata": {},
     "output_type": "execute_result"
    }
   ],
   "source": [
    "# we are commenting out the last three lines to see the partial result\n",
    "sum = 1\n",
    "sum = sum + 2\n",
    "#sum = sum + 3\n",
    "#sum = sum + 3\n",
    "#sum = sum + 5\n",
    "sum"
   ]
  },
  {
   "cell_type": "markdown",
   "metadata": {},
   "source": [
    "## Recap"
   ]
  },
  {
   "cell_type": "markdown",
   "metadata": {},
   "source": [
    "- You now know that programming is like writing the recipe that the computer follows to accomplish a task. \n",
    "- Even if it seems complicated at first, there is a ton of resources available to help.\n",
    "- By printing or outputting your results and by commenting your code, you'll gradually write better and more complex code.\n",
    "- Use the `print()` function to inspect your code, especially when you get errors or wrong results. "
   ]
  }
 ],
 "metadata": {
  "kernelspec": {
   "display_name": "Python 3 (ipykernel)",
   "language": "python",
   "name": "python3"
  },
  "language_info": {
   "codemirror_mode": {
    "name": "ipython",
    "version": 3
   },
   "file_extension": ".py",
   "mimetype": "text/x-python",
   "name": "python",
   "nbconvert_exporter": "python",
   "pygments_lexer": "ipython3",
   "version": "3.8.15"
  }
 },
 "nbformat": 4,
 "nbformat_minor": 2
}
