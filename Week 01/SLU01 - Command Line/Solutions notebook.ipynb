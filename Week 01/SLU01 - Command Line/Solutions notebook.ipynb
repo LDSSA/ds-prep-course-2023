{
 "cells": [
  {
   "cell_type": "markdown",
   "metadata": {
    "nbgrader": {
     "grade": false,
     "grade_id": "cell-de96e4a5468707dc",
     "locked": true,
     "schema_version": 3,
     "solution": false,
     "task": false
    }
   },
   "source": [
    "# SLU01 Command Line - Exercise Notebook"
   ]
  },
  {
   "cell_type": "code",
   "execution_count": 1,
   "metadata": {
    "nbgrader": {
     "grade": false,
     "grade_id": "cell-b3b9d1ca4eb808a2",
     "locked": true,
     "schema_version": 3,
     "solution": false,
     "task": false
    }
   },
   "outputs": [],
   "source": [
    "# For evaluation purposes, please run this cell to import this package:\n",
    "import hashlib"
   ]
  },
  {
   "cell_type": "markdown",
   "metadata": {
    "nbgrader": {
     "grade": false,
     "grade_id": "cell-4f74f3bd997e8236",
     "locked": true,
     "schema_version": 3,
     "solution": false,
     "task": false
    }
   },
   "source": [
    "All the exercises in this notebook are multiple choice questions. The choices are numbered by letters from A to D. In your answer, indicate the letter of the correct option. Write your answers in this way, with the letter enclosed in apostrophes (example for answer to exercise 1):\n",
    "\n",
    "```Python\n",
    "exercise_1='A'\n",
    "```"
   ]
  },
  {
   "cell_type": "markdown",
   "metadata": {
    "nbgrader": {
     "grade": false,
     "grade_id": "cell-7010ce97e4828abc",
     "locked": true,
     "schema_version": 3,
     "solution": false,
     "task": false
    }
   },
   "source": [
    "### Exercise 1: Where is home?\n",
    "\n",
    "<img src=\"media/tortoise_home.png\" width=\"400\"/>\n",
    "\n",
    "Imagine that you have a Linux user called `tortoise`.What is the correct path to this user's home directory?\n",
    "\n",
    "&emsp;A: `/root`   \n",
    "&emsp;B: `/tortoise`   \n",
    "&emsp;C: `/root/tortoise`   \n",
    "&emsp;D: `/home/tortoise`"
   ]
  },
  {
   "cell_type": "code",
   "execution_count": 2,
   "metadata": {
    "nbgrader": {
     "grade": false,
     "grade_id": "cell-a894a58ceb39eaa2",
     "locked": false,
     "schema_version": 3,
     "solution": true,
     "task": false
    }
   },
   "outputs": [],
   "source": [
    "### BEGIN SOLUTION\n",
    "exercise_1 ='D'\n",
    "### END SOLUTION\n",
    "\n",
    "#exercise_1 ="
   ]
  },
  {
   "cell_type": "code",
   "execution_count": 3,
   "metadata": {
    "nbgrader": {
     "grade": true,
     "grade_id": "cell-5a2440598289b1e3",
     "locked": true,
     "points": 2,
     "schema_version": 3,
     "solution": false,
     "task": false
    }
   },
   "outputs": [
    {
     "name": "stdout",
     "output_type": "stream",
     "text": [
      "That's right, way to go!\n"
     ]
    }
   ],
   "source": [
    "ex_1 = '50c9e8d5fc98727b4bbc93cf5d64a68db647f04f'\n",
    "assert isinstance(exercise_1, str), \"The answer should be enclosed in quotes or apostrophes.\"\n",
    "assert ex_1 == hashlib.sha1(bytes(exercise_1, encoding='utf8')).hexdigest(), \"Not the correct option.\"\n",
    "print(\"That's right, way to go!\")"
   ]
  },
  {
   "cell_type": "markdown",
   "metadata": {
    "nbgrader": {
     "grade": false,
     "grade_id": "cell-231ba53cba89a279",
     "locked": true,
     "schema_version": 3,
     "solution": false,
     "task": false
    }
   },
   "source": [
    "### Exercise 2: Going home\n",
    "Now for the same `tortoise` user, if the current working directory is `/var/lib/systemd/`, how do we go to this user's home directory?\n",
    "\n",
    "&emsp;A: `pwd`   \n",
    "&emsp;B: `cd /home`   \n",
    "&emsp;C: `cd ~`   \n",
    "&emsp;D: `cd tortoise`"
   ]
  },
  {
   "cell_type": "code",
   "execution_count": 4,
   "metadata": {
    "nbgrader": {
     "grade": false,
     "grade_id": "cell-29db176b41ae1c07",
     "locked": false,
     "schema_version": 3,
     "solution": true,
     "task": false
    }
   },
   "outputs": [],
   "source": [
    "### BEGIN SOLUTION\n",
    "exercise_2 ='C'\n",
    "### END SOLUTION\n",
    "\n",
    "#exercise_2 ="
   ]
  },
  {
   "cell_type": "code",
   "execution_count": 5,
   "metadata": {
    "nbgrader": {
     "grade": true,
     "grade_id": "cell-e4ea53657d321c19",
     "locked": true,
     "points": 2,
     "schema_version": 3,
     "solution": false,
     "task": false
    }
   },
   "outputs": [
    {
     "name": "stdout",
     "output_type": "stream",
     "text": [
      "That's right, way to go!\n"
     ]
    }
   ],
   "source": [
    "ex_2 = '484d52691fcadbfabec5a318d1cf9692c7f293cbc8c1d5f22b2d839b'\n",
    "assert isinstance(exercise_2,str), \"The answer should be enclosed in quotes or apostrophes.\"\n",
    "assert ex_2 == hashlib.sha224(bytes(exercise_2, encoding='utf8')).hexdigest(), \"Not the correct option.\"\n",
    "print(\"That's right, way to go!\")"
   ]
  },
  {
   "cell_type": "markdown",
   "metadata": {
    "nbgrader": {
     "grade": false,
     "grade_id": "cell-56651d7a7764da8b",
     "locked": true,
     "schema_version": 3,
     "solution": false,
     "task": false
    }
   },
   "source": [
    "### Exercise 3: Going to places\n",
    "Now for the same `tortoise` user, if the current working directory is `/var/lib/systemd/` and we run `cd ~/../..`, what will be the new current working directory? \n",
    "\n",
    "&emsp;A: `/home/tortoise`   \n",
    "&emsp;B: `/home/tortoise/home/tortoise`   \n",
    "&emsp;C: `~`   \n",
    "&emsp;D: `/`"
   ]
  },
  {
   "cell_type": "code",
   "execution_count": 6,
   "metadata": {
    "nbgrader": {
     "grade": false,
     "grade_id": "cell-29db176b41ae1c00",
     "locked": false,
     "schema_version": 3,
     "solution": true,
     "task": false
    }
   },
   "outputs": [],
   "source": [
    "### BEGIN SOLUTION\n",
    "exercise_3 ='D'\n",
    "### END SOLUTION\n",
    "\n",
    "#exercise_3 ="
   ]
  },
  {
   "cell_type": "code",
   "execution_count": 7,
   "metadata": {
    "nbgrader": {
     "grade": true,
     "grade_id": "cell-e4ea55657d321c19",
     "locked": true,
     "points": 2,
     "schema_version": 3,
     "solution": false,
     "task": false
    }
   },
   "outputs": [
    {
     "name": "stdout",
     "output_type": "stream",
     "text": [
      "That's right, way to go!\n"
     ]
    }
   ],
   "source": [
    "ex_3 = '7497e88b8c64062edfb2f30b9c5f845552b841d1fbae97ab3f224f74'\n",
    "assert isinstance(exercise_3, str), \"The answer should be enclosed in quotes or apostrophes.\"\n",
    "assert ex_3 == hashlib.sha224(bytes(exercise_3, encoding='utf8')).hexdigest(), \"Not the correct option.\"\n",
    "print(\"That's right, way to go!\")"
   ]
  },
  {
   "cell_type": "markdown",
   "metadata": {
    "nbgrader": {
     "grade": false,
     "grade_id": "cell-758853e9e0f120d8",
     "locked": true,
     "schema_version": 3,
     "solution": false,
     "task": false
    }
   },
   "source": [
    "### Exercise 4: New name\n",
    "\n",
    "How do we rename a non empty folder from `tortoise` to `tortoise-new`?\n",
    "\n",
    "&emsp;A: `rename tortoise tortoise-new`   \n",
    "&emsp;B: `rn tortoise tortoise-new`   \n",
    "&emsp;C: `mv tortoise tortoise-new`   \n",
    "&emsp;D: `mv -r tortoise tortoise-new`"
   ]
  },
  {
   "cell_type": "code",
   "execution_count": 8,
   "metadata": {
    "nbgrader": {
     "grade": false,
     "grade_id": "cell-befccac89f6c99df",
     "locked": false,
     "schema_version": 3,
     "solution": true,
     "task": false
    }
   },
   "outputs": [],
   "source": [
    "### BEGIN SOLUTION\n",
    "exercise_4 ='C'\n",
    "### END SOLUTION\n",
    "\n",
    "#exercise_4 ="
   ]
  },
  {
   "cell_type": "code",
   "execution_count": 9,
   "metadata": {
    "nbgrader": {
     "grade": true,
     "grade_id": "cell-8e25f4730f887ad4",
     "locked": true,
     "points": 2,
     "schema_version": 3,
     "solution": false,
     "task": false
    }
   },
   "outputs": [
    {
     "name": "stdout",
     "output_type": "stream",
     "text": [
      "That's right, way to go!\n"
     ]
    }
   ],
   "source": [
    "ex_4 = '484d52691fcadbfabec5a318d1cf9692c7f293cbc8c1d5f22b2d839b'\n",
    "assert isinstance(exercise_4, str), \"The answer should be enclosed in quotes or apostrophes.\"\n",
    "assert ex_4 == hashlib.sha224(bytes(exercise_4, encoding='utf8')).hexdigest(), \"Not the correct option.\"\n",
    "print(\"That's right, way to go!\")"
   ]
  },
  {
   "cell_type": "markdown",
   "metadata": {
    "nbgrader": {
     "grade": false,
     "grade_id": "cell-bba6849cceca2ad3",
     "locked": true,
     "schema_version": 3,
     "solution": false,
     "task": false
    }
   },
   "source": [
    "### Exercise 5: Be fruitful and multiply\n",
    "`tortoise` is not happy. This user has two directories in the current working directory, `baby-tortoise` and `tortoise-family`. They need to copy the `baby-tortoise` directory into the `tortoise-family` directory. \n",
    "\n",
    "Which command should they use?\n",
    "\n",
    "&emsp;A: `mv baby-tortoise tortoise-family`   \n",
    "&emsp;B: `cp baby-tortoise tortoise-family`   \n",
    "&emsp;C: `cp -a baby-tortoise tortoise-family`   \n",
    "&emsp;D: `cp -r baby-tortoise tortoise-family`"
   ]
  },
  {
   "cell_type": "code",
   "execution_count": 10,
   "metadata": {
    "nbgrader": {
     "grade": false,
     "grade_id": "cell-d629c9437fa027f7",
     "locked": false,
     "schema_version": 3,
     "solution": true,
     "task": false
    }
   },
   "outputs": [],
   "source": [
    "### BEGIN SOLUTION\n",
    "exercise_5 ='D'\n",
    "### END SOLUTION\n",
    "\n",
    "#exercise_5 ="
   ]
  },
  {
   "cell_type": "code",
   "execution_count": 11,
   "metadata": {
    "nbgrader": {
     "grade": true,
     "grade_id": "cell-9b757ee86b6b31a4",
     "locked": true,
     "points": 2,
     "schema_version": 3,
     "solution": false,
     "task": false
    }
   },
   "outputs": [
    {
     "name": "stdout",
     "output_type": "stream",
     "text": [
      "That's right, way to go!\n"
     ]
    }
   ],
   "source": [
    "ex_5 = '7497e88b8c64062edfb2f30b9c5f845552b841d1fbae97ab3f224f74'\n",
    "assert isinstance(exercise_5, str), \"The answer should be enclosed in quotes or apostrophes.\"\n",
    "assert ex_5 == hashlib.sha224(bytes(exercise_5, encoding='utf8')).hexdigest(), \"Not the correct option.\"\n",
    "print(\"That's right, way to go!\")"
   ]
  },
  {
   "cell_type": "markdown",
   "metadata": {
    "nbgrader": {
     "grade": false,
     "grade_id": "cell-eec71e3a62478608",
     "locked": true,
     "schema_version": 3,
     "solution": false,
     "task": false
    }
   },
   "source": [
    "### Exercise 6: Build a house, plant a tree\n",
    "\n",
    "<img src=\"media/directories.png\" width=\"400\"/>\n",
    "\n",
    "Create the file system tree in the image above, with the indicated directories and files.\n",
    "\n",
    "Were you able to do it?\n",
    "\n",
    "&emsp;A: YES   \n",
    "&emsp;B: NO, and I'll ask some questions on Slack to help me figure this out!"
   ]
  },
  {
   "cell_type": "code",
   "execution_count": 12,
   "metadata": {
    "nbgrader": {
     "grade": false,
     "grade_id": "cell-d629c9437fa026f7",
     "locked": false,
     "schema_version": 3,
     "solution": true,
     "task": false
    }
   },
   "outputs": [],
   "source": [
    "### BEGIN SOLUTION\n",
    "exercise_6 ='A'\n",
    "### END SOLUTION\n",
    "\n",
    "#exercise_6 ="
   ]
  },
  {
   "cell_type": "code",
   "execution_count": 13,
   "metadata": {
    "nbgrader": {
     "grade": true,
     "grade_id": "cell-9b757ef86b6b31a4",
     "locked": true,
     "points": 2,
     "schema_version": 3,
     "solution": false,
     "task": false
    }
   },
   "outputs": [
    {
     "name": "stdout",
     "output_type": "stream",
     "text": [
      "That's right, way to go!\n"
     ]
    }
   ],
   "source": [
    "ex_6 = '5cfe2cddbb9940fb4d8505e25ea77e763a0077693dbb01b1a6aa94f2'\n",
    "assert isinstance(exercise_6, str), \"The answer should be enclosed in quotes or apostrophes.\"\n",
    "assert ex_6 == hashlib.sha224(bytes(exercise_6, encoding='utf8')).hexdigest(), \"Not the correct option.\"\n",
    "print(\"That's right, way to go!\")"
   ]
  },
  {
   "cell_type": "markdown",
   "metadata": {
    "nbgrader": {
     "grade": false,
     "grade_id": "cell-2071f628652bb47a",
     "locked": true,
     "schema_version": 3,
     "solution": false,
     "task": false
    }
   },
   "source": [
    "### Exercise 7: Remove all traces\n",
    "\n",
    "<img src=\"media/tortoise.jpg\" width=\"400\"/>\n",
    "\n",
    "Before you start questioning yourself whether you have a weird fixation over tortoises, you might want to remove some directories and files from the current working directory.\n",
    "\n",
    "What is the correct command to remove the `tortoisephilia` folder (which has some tortoise pictures)?\n",
    "\n",
    "&emsp;A: `drop tortoisephilia`   \n",
    "&emsp;B: `rm tortoisephilia/*`   \n",
    "&emsp;C: `remove tortoisephilia`   \n",
    "&emsp;D: `rm -r tortoisephilia`"
   ]
  },
  {
   "cell_type": "code",
   "execution_count": 14,
   "metadata": {
    "nbgrader": {
     "grade": false,
     "grade_id": "cell-d629c9437fa126f7",
     "locked": false,
     "schema_version": 3,
     "solution": true,
     "task": false
    }
   },
   "outputs": [],
   "source": [
    "### BEGIN SOLUTION\n",
    "exercise_7 ='D'\n",
    "### END SOLUTION\n",
    "\n",
    "#exercise_7 ="
   ]
  },
  {
   "cell_type": "code",
   "execution_count": 15,
   "metadata": {
    "nbgrader": {
     "grade": true,
     "grade_id": "cell-9b757ef81b6b31a4",
     "locked": true,
     "points": 2,
     "schema_version": 3,
     "solution": false,
     "task": false
    }
   },
   "outputs": [
    {
     "name": "stdout",
     "output_type": "stream",
     "text": [
      "That's right, way to go!\n"
     ]
    }
   ],
   "source": [
    "ex_7 = '7497e88b8c64062edfb2f30b9c5f845552b841d1fbae97ab3f224f74'\n",
    "assert isinstance(exercise_7, str), \"The answer should be enclosed in quotes or apostrophes.\"\n",
    "assert ex_7 == hashlib.sha224(bytes(exercise_7, encoding='utf8')).hexdigest(), \"Not the correct option.\"\n",
    "print(\"That's right, way to go!\")"
   ]
  },
  {
   "cell_type": "markdown",
   "metadata": {
    "nbgrader": {
     "grade": false,
     "grade_id": "cell-027850c3035dbca8",
     "locked": true,
     "schema_version": 3,
     "solution": false,
     "task": false
    }
   },
   "source": [
    "### Exercise 8: Sneak peak\n",
    "Our `tortoise` user created a `tortoise_codes.py` file with some Python code (as all good tortoises do), now they need to check what is stored in the file in a simple and easy way.\n",
    "\n",
    "What is the correct command for that procedure?\n",
    "\n",
    "&emsp;A: `cat tortoise_codes.py`   \n",
    "&emsp;B: `read tortoise_codes.py`   \n",
    "&emsp;C: `ls tortoise_codes.py`   \n",
    "&emsp;D: `touch tortoise_codes.py`"
   ]
  },
  {
   "cell_type": "code",
   "execution_count": 16,
   "metadata": {
    "nbgrader": {
     "grade": false,
     "grade_id": "cell-1792bbe6ebc8564d",
     "locked": false,
     "schema_version": 3,
     "solution": true,
     "task": false
    }
   },
   "outputs": [],
   "source": [
    "### BEGIN SOLUTION\n",
    "exercise_8 ='A'\n",
    "### END SOLUTION\n",
    "\n",
    "#exercise_8 ="
   ]
  },
  {
   "cell_type": "code",
   "execution_count": 17,
   "metadata": {
    "nbgrader": {
     "grade": true,
     "grade_id": "cell-d57ae086b71ffed4",
     "locked": true,
     "points": 2,
     "schema_version": 3,
     "solution": false,
     "task": false
    }
   },
   "outputs": [
    {
     "name": "stdout",
     "output_type": "stream",
     "text": [
      "That's right, way to go!\n"
     ]
    }
   ],
   "source": [
    "ex_8 = 'ad14aaf25020bef2fd4e3eb5ec0c50272cdfd66074b0ed037c9a11254321aac0729985374beeaa5b80a504d048be1864'\n",
    "assert isinstance(exercise_8,str), \"The answer should be enclosed in quotes or apostrophes.\"\n",
    "assert ex_8 == hashlib.sha384(bytes(exercise_8, encoding='utf8')).hexdigest(), \"Not the correct option.\"\n",
    "print(\"That's right, way to go!\")"
   ]
  },
  {
   "cell_type": "markdown",
   "metadata": {
    "nbgrader": {
     "grade": false,
     "grade_id": "cell-d5ca2231e52e2a23",
     "locked": true,
     "schema_version": 3,
     "solution": false,
     "task": false
    }
   },
   "source": [
    "### Exercise 9: Emil and the detectives\n",
    "\n",
    "This is the output of a certain bash command. From the following options, which one could it be?\n",
    "\n",
    "```bash\n",
    "-rw-rw-r-- 1 maria maria 10451 Apr  1 22:49 'Exercise notebook guide.ipynb'\n",
    "-rw-rw-r-- 1 maria maria 18943 Apr  2 00:24 'Exercise notebook.ipynb'\n",
    "-rw-rw-r-- 1 maria maria 25338 Apr  1 22:26 'Learning notebook.ipynb'\n",
    "drwxrwxr-x 2 maria maria  4096 Apr  1 21:00  media\n",
    "-rw-rw-r-- 1 maria maria  1252 Apr  1 21:27  README.md\n",
    "-rw-rw-r-- 1 maria maria  3338 Mär 21 20:03  submit.py\n",
    "```\n",
    "\n",
    "&emsp;A: `head ~/projects/ds-prep-course-2023/Week\\ 1/SLU01\\ - Command\\ Line`   \n",
    "&emsp;B: `cat ~/projects/ds-prep-course-2023/Week\\ 1/SLU01\\ - Command\\ Line`   \n",
    "&emsp;C: `ls -l`   \n",
    "&emsp;D: `ls -tl`"
   ]
  },
  {
   "cell_type": "code",
   "execution_count": 18,
   "metadata": {
    "nbgrader": {
     "grade": false,
     "grade_id": "cell-82043c053fb1c39d",
     "locked": false,
     "schema_version": 3,
     "solution": true,
     "task": false
    }
   },
   "outputs": [],
   "source": [
    "### BEGIN SOLUTION\n",
    "exercise_9 ='C'\n",
    "### END SOLUTION\n",
    "\n",
    "#exercise_9 ="
   ]
  },
  {
   "cell_type": "code",
   "execution_count": 19,
   "metadata": {
    "nbgrader": {
     "grade": true,
     "grade_id": "cell-fa61be6aa4097dad",
     "locked": true,
     "points": 2,
     "schema_version": 3,
     "solution": false,
     "task": false
    }
   },
   "outputs": [
    {
     "name": "stdout",
     "output_type": "stream",
     "text": [
      "That's right, way to go!\n"
     ]
    }
   ],
   "source": [
    "ex_9 = '6b23c0d5f35d1b11f9b683f0b0a617355deb11277d91ae091d399c655b87940d'\n",
    "assert isinstance(exercise_9,str), \"The variable should be a string.\"\n",
    "assert ex_9 == hashlib.sha256(bytes(exercise_9, encoding='utf8')).hexdigest(), \"Not the correct option.\"\n",
    "print(\"That's right, way to go!\")"
   ]
  },
  {
   "cell_type": "markdown",
   "metadata": {
    "nbgrader": {
     "grade": false,
     "grade_id": "cell-d952554f5227dfed",
     "locked": true,
     "schema_version": 3,
     "solution": false,
     "task": false
    }
   },
   "source": [
    "### Exercise 10: Count 'em all\n",
    "\n",
    "The `~/projects/ds-prep-course-2023/Week 01/SLU01 - Command Line` directory on your computer contains these files and directories:\n",
    "\n",
    "```bash\n",
    "Exercise notebook guide.ipynb\n",
    "Exercise notebook.ipynb\n",
    "Learning notebook.ipynb\n",
    "media\n",
    "README.md\n",
    "submit.py\n",
    "```\n",
    "\n",
    "How many of them are text files? Use a `bash` command to find out.\n",
    "\n",
    "&emsp;A: 1   \n",
    "&emsp;B: 2   \n",
    "&emsp;C: 3   \n",
    "&emsp;D: 5"
   ]
  },
  {
   "cell_type": "code",
   "execution_count": 20,
   "metadata": {
    "nbgrader": {
     "grade": false,
     "grade_id": "cell-8204dc053fb1c39d",
     "locked": false,
     "schema_version": 3,
     "solution": true,
     "task": false
    }
   },
   "outputs": [],
   "source": [
    "### BEGIN SOLUTION\n",
    "exercise_10 ='D'\n",
    "### END SOLUTION\n",
    "\n",
    "#exercise_10 ="
   ]
  },
  {
   "cell_type": "code",
   "execution_count": 21,
   "metadata": {
    "nbgrader": {
     "grade": true,
     "grade_id": "cell-fa61be6aa4d97dad",
     "locked": true,
     "points": 2,
     "schema_version": 3,
     "solution": false,
     "task": false
    }
   },
   "outputs": [
    {
     "name": "stdout",
     "output_type": "stream",
     "text": [
      "That's right, way to go!\n"
     ]
    }
   ],
   "source": [
    "ex_10 = '3f39d5c348e5b79d06e842c114e6cc571583bbf44e4b0ebfda1a01ec05745d43'\n",
    "assert isinstance(exercise_10,str), \"The answer should be enclosed in quotes or apostrophes.\"\n",
    "assert ex_10 == hashlib.sha256(bytes(exercise_10, encoding='utf8')).hexdigest(), \"Not the correct option.\"\n",
    "print(\"That's right, way to go!\")"
   ]
  },
  {
   "cell_type": "markdown",
   "metadata": {
    "nbgrader": {
     "grade": false,
     "grade_id": "cell-2f368820023de0ec",
     "locked": true,
     "schema_version": 3,
     "solution": false,
     "task": false
    }
   },
   "source": [
    "# Submit your work!\n",
    "\n",
    "To grade your exercise notebook and submit your work to the portal, [follow the instructions in the weekly workflow!](https://github.com/LDSSA/ds-prep-course-2023/blob/main/weekly-workflow.md#link-to-grading)"
   ]
  }
 ],
 "metadata": {
  "celltoolbar": "Create Assignment",
  "kernelspec": {
   "display_name": "Python 3 (ipykernel)",
   "language": "python",
   "name": "python3"
  },
  "language_info": {
   "codemirror_mode": {
    "name": "ipython",
    "version": 3
   },
   "file_extension": ".py",
   "mimetype": "text/x-python",
   "name": "python",
   "nbconvert_exporter": "python",
   "pygments_lexer": "ipython3",
   "version": "3.8.15"
  }
 },
 "nbformat": 4,
 "nbformat_minor": 4
}
