{
 "cells": [
  {
   "cell_type": "markdown",
   "metadata": {
    "nbgrader": {
     "grade": false,
     "grade_id": "cell-de96e4a5468707dc",
     "locked": true,
     "schema_version": 3,
     "solution": false,
     "task": false
    }
   },
   "source": [
    "# SLU01 Command Line - Guide to the Exercise Notebook"
   ]
  },
  {
   "cell_type": "code",
   "execution_count": 1,
   "metadata": {
    "nbgrader": {
     "grade": false,
     "grade_id": "cell-b3b9d1ca4eb808a2",
     "locked": true,
     "schema_version": 3,
     "solution": false,
     "task": false
    }
   },
   "outputs": [],
   "source": [
    "# For evaluation purposes, please run this cell to import this package:\n",
    "import hashlib"
   ]
  },
  {
   "cell_type": "markdown",
   "metadata": {
    "nbgrader": {
     "grade": false,
     "grade_id": "cell-0804f912abdcf364",
     "locked": true,
     "schema_version": 3,
     "solution": false,
     "task": false
    }
   },
   "source": [
    "# Exercise 0: Getting help"
   ]
  },
  {
   "cell_type": "markdown",
   "metadata": {
    "nbgrader": {
     "grade": false,
     "grade_id": "cell-f0d47adbd8750320",
     "locked": true,
     "schema_version": 3,
     "solution": false,
     "task": false
    }
   },
   "source": [
    "In this dummy exercise, we will explain how to use the Exercise notebook. Each exercise follows the same structure:\n",
    "- A markdown cell with the instructions for the problem - here it is explained what is the task to be performed and the expected result. Some necessary information might be displayed in the code cell as well.\n",
    "- A code cell - in this cell you are asked to write the solution for the exercise.\n",
    "- A cell with multiple `assert` statements (test cell) - this cell is used to test your solution.\n",
    "\n",
    "You can consider this cell to be the instructions cell of exercise 0.\n",
    "\n",
    "For each exercise you are expected to read the instructions, plan your solution, write the solution into the code cell, execute the code cell, and then execute the cell with the `assert` statements, **in this order.** Then:\n",
    "\n",
    "- If everything is correct, the solution executes without any issues, it is accepted by the test cell and no error message appears. ✔️\n",
    "\n",
    "- If you are shown an error message when **executing your code (on the code cell)**, it means that you made some **programming mistake(s)** that you should fix. ❌\n",
    "\n",
    "- If you are shown an error message when **executing the test cell**, it means that even if the **code is correctly executed** by Python, it **does not produce the results that were expected**. ❌\n",
    "\n",
    "Each `assert` tests a specific component of the solution. If a tests fails, an **AssertionError** message appears below the test cell that may provide some clues about what the issue might be. \n",
    "\n",
    "Below is an example where the second test failed, and the `assert` provides the hint \"Check your speed!\". The failed assert is indicated with an arrow. To solve this issue, you should read the hint and find out why your code is not producing the expected results. **After** making changes to the code, you execute the code cell again and **then** execute the test cell. You repeat this until you get the right solution."
   ]
  },
  {
   "cell_type": "markdown",
   "metadata": {
    "nbgrader": {
     "grade": false,
     "grade_id": "cell-9cec2a10f57b217e",
     "locked": true,
     "schema_version": 3,
     "solution": false,
     "task": false
    }
   },
   "source": [
    "<img src=\"media/assert_example.JPG\" >"
   ]
  },
  {
   "cell_type": "markdown",
   "metadata": {
    "nbgrader": {
     "grade": false,
     "grade_id": "cell-0ab95cb7a6efd130",
     "locked": true,
     "schema_version": 3,
     "solution": false,
     "task": false
    }
   },
   "source": [
    "In the code cell, the instructors might provide some guidance or create variables or functions to be used in the exercise. You **should not change or delete** this. If you do so by mistake, you might need to copy the original text from the repository.\n",
    "\n",
    "There are specific places for you to write your solutions. These places start with the comment \"YOUR CODE HERE\" and are followed by a `raise NotImplementedError()` statement as shown here:\n",
    "\n",
    "```python\n",
    "# YOUR CODE HERE\n",
    "raise NotImplementedError()\n",
    "```\n",
    "\n",
    "You have to **delete the `raise NotImplementedError()` statement** and write your solution after the comment. The solution may take as many lines as needed. You always write one statement per line.\n",
    "\n",
    "```python\n",
    "# YOUR CODE HERE\n",
    "a = 20\n",
    "b = 22\n",
    "solution = a + b\n",
    "```\n",
    "\n",
    "Be careful when writing your solution to not overwrite the instructor's text."
   ]
  },
  {
   "cell_type": "markdown",
   "metadata": {
    "nbgrader": {
     "grade": false,
     "grade_id": "cell-829fcab28b4f9c10",
     "locked": true,
     "schema_version": 3,
     "solution": false,
     "task": false
    }
   },
   "source": [
    "For this dummy exercise, the answers are provided. These answers are, however, **wrong**. They will produce programming errors or the tests will fail.\n",
    "\n",
    "The objective is for you to read the error message, review the code and fix the error(s).\n",
    "\n",
    "If you can't fix the issue or don't understand the error message you should:\n",
    "- Read the error message and see if it's an obvious mistake.\n",
    "- Review the code line by line to see if you can identify the error.\n",
    "- Follow the *How to get help* section of SLU02 (this section is about resolving programming errors, you will not need it here in SLU01)\n",
    "- Use a search engine to search for the error.\n",
    "- Then, if you put in significant effort but are still stuck, you can ask the instructors for help on Slack."
   ]
  },
  {
   "cell_type": "markdown",
   "metadata": {
    "nbgrader": {
     "grade": false,
     "grade_id": "cell-31b7968168cefebd",
     "locked": true,
     "schema_version": 3,
     "solution": false,
     "task": false
    }
   },
   "source": [
    "## 0.1) Fix this solution"
   ]
  },
  {
   "cell_type": "code",
   "execution_count": 2,
   "metadata": {
    "nbgrader": {
     "grade": false,
     "grade_id": "cell-f74fc8192524b04c",
     "locked": false,
     "schema_version": 3,
     "solution": true,
     "task": false
    }
   },
   "outputs": [],
   "source": [
    "# The task is:\n",
    "# Assign the integer value of 1731 to the variable radius.\n",
    "\n",
    "\n",
    "### BEGIN SOLUTION\n",
    "radius = 1731\n",
    "### END SOLUTION\n",
    "#This is where you put your solution. It is empty for the other exercises.\n",
    "#I have attempted to solve the exercise but I made some mistakes. Silly me.\n",
    "#Can you fix the following statement and perform the requested task?\n",
    "\n",
    "radis=1131"
   ]
  },
  {
   "cell_type": "code",
   "execution_count": 3,
   "metadata": {
    "nbgrader": {
     "grade": true,
     "grade_id": "cell-3195fd0ef8dd6f52",
     "locked": true,
     "points": 0,
     "schema_version": 3,
     "solution": false,
     "task": false
    }
   },
   "outputs": [],
   "source": [
    "radius_hash = '05758cd3875ad2171484c0026ccbb8adc210cd2d852407e3c7af1b751f35fdd6'\n",
    "assert isinstance(radius,int), \"The variable radius is not an integer. Re-read the task carefully.\"\n",
    "assert radius_hash == hashlib.sha256(bytes(str(radius), encoding='utf8')).hexdigest(), \"The value of radius is incorrect. Re-read the task carefully.\""
   ]
  },
  {
   "cell_type": "markdown",
   "metadata": {
    "nbgrader": {
     "grade": false,
     "grade_id": "cell-b8675fe4c886500f",
     "locked": true,
     "schema_version": 3,
     "solution": false,
     "task": false
    }
   },
   "source": [
    "## 0.2) Now fix this solution"
   ]
  },
  {
   "cell_type": "code",
   "execution_count": 4,
   "metadata": {
    "nbgrader": {
     "grade": false,
     "grade_id": "cell-518166189407dfd9",
     "locked": false,
     "schema_version": 3,
     "solution": true,
     "task": false
    }
   },
   "outputs": [
    {
     "ename": "TypeError",
     "evalue": "unsupported operand type(s) for +: 'int' and 'str'",
     "output_type": "error",
     "traceback": [
      "\u001b[0;31m---------------------------------------------------------------------------\u001b[0m",
      "\u001b[0;31mTypeError\u001b[0m                                 Traceback (most recent call last)",
      "Input \u001b[0;32mIn [4]\u001b[0m, in \u001b[0;36m<cell line: 11>\u001b[0;34m()\u001b[0m\n\u001b[1;32m      7\u001b[0m beetlejuice \u001b[38;5;241m=\u001b[39m \u001b[38;5;241m1337\u001b[39m \n\u001b[1;32m      8\u001b[0m \u001b[38;5;66;03m### END SOLUTION\u001b[39;00m\n\u001b[1;32m      9\u001b[0m \u001b[38;5;66;03m# Again, try to fix my solution.\u001b[39;00m\n\u001b[0;32m---> 11\u001b[0m ghosts \u001b[38;5;241m=\u001b[39m \u001b[38;5;241;43m3\u001b[39;49m\u001b[43m \u001b[49m\u001b[38;5;241;43m+\u001b[39;49m\u001b[43m \u001b[49m\u001b[38;5;124;43m\"\u001b[39;49m\u001b[38;5;124;43mbeetlejuice\u001b[39;49m\u001b[38;5;124;43m\"\u001b[39;49m\n\u001b[1;32m     14\u001b[0m \u001b[38;5;66;03m#Additional text that the instructor might include. DO NOT DELETE ME!\u001b[39;00m\n",
      "\u001b[0;31mTypeError\u001b[0m: unsupported operand type(s) for +: 'int' and 'str'"
     ]
    }
   ],
   "source": [
    "# Assign the string \"Beetlejuice!Beetlejuice!Beetlejuice!\" to the variable ghost.\n",
    "\n",
    "### BEGIN SOLUTION\n",
    "ghost = 3 * \"Beetlejuice!\"\n",
    "\n",
    "#Just for the passing the CircleCI test. The student won't have variable beetlejuice assigned.\n",
    "beetlejuice = 1337 \n",
    "### END SOLUTION\n",
    "# Again, try to fix my solution.\n",
    "\n",
    "ghosts = 3 + \"beetlejuice\"\n",
    "\n",
    "\n",
    "# Additional text that the instructor might include. DO NOT DELETE ME!"
   ]
  },
  {
   "cell_type": "code",
   "execution_count": null,
   "metadata": {
    "nbgrader": {
     "grade": true,
     "grade_id": "cell-bffeb92aae7d2585",
     "locked": true,
     "points": 0,
     "schema_version": 3,
     "solution": false,
     "task": false
    }
   },
   "outputs": [],
   "source": [
    "ghost_hash = '5c2da3f9fb9ef74b5fe884c41977af0b1f29a5a0209d77cb2f313869ab8ab8fa'\n",
    "assert 'ghost' in globals(), \"There is no variable ghost. Review the code.\"\n",
    "assert isinstance(ghost, str), \"ghost is not a string. Review the code.\"\n",
    "assert ghost_hash == hashlib.sha256(bytes(ghost, encoding='utf8')).hexdigest(), \"ghost is a string but has the wrong value. Which function can you use to show values on the screen?\""
   ]
  },
  {
   "cell_type": "markdown",
   "metadata": {
    "nbgrader": {
     "grade": false,
     "grade_id": "cell-2f368820023de0ec",
     "locked": true,
     "schema_version": 3,
     "solution": false,
     "task": false
    }
   },
   "source": [
    "Now that you know how to go about the Exercise notebook, it's time to tackle the exercises. Good luck! 🍀"
   ]
  }
 ],
 "metadata": {
  "celltoolbar": "Create Assignment",
  "kernelspec": {
   "display_name": "Python 3 (ipykernel)",
   "language": "python",
   "name": "python3"
  },
  "language_info": {
   "codemirror_mode": {
    "name": "ipython",
    "version": 3
   },
   "file_extension": ".py",
   "mimetype": "text/x-python",
   "name": "python",
   "nbconvert_exporter": "python",
   "pygments_lexer": "ipython3",
   "version": "3.8.15"
  }
 },
 "nbformat": 4,
 "nbformat_minor": 4
}
